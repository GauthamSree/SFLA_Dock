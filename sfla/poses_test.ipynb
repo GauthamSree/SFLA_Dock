{
 "cells": [
  {
   "cell_type": "code",
   "execution_count": 1,
   "metadata": {},
   "outputs": [],
   "source": [
    "%reload_ext autoreload\n",
    "%autoreload 2"
   ]
  },
  {
   "cell_type": "code",
   "execution_count": 64,
   "metadata": {},
   "outputs": [],
   "source": [
    "from utils import poses"
   ]
  },
  {
   "cell_type": "code",
   "execution_count": 154,
   "metadata": {},
   "outputs": [],
   "source": [
    "def clip_the_point_max_step(worst_frog_pos, best_frog_pos):\n",
    "    t = 10/np.linalg.norm(worst_frog_pos - best_frog_pos)\n",
    "    new_change = (1 - t)*worst_frog_pos + t*best_frog_pos\n",
    "    return new_change"
   ]
  },
  {
   "cell_type": "code",
   "execution_count": 164,
   "metadata": {},
   "outputs": [],
   "source": [
    "sfla_1.memeplexes = sfla_1.sort_frog()"
   ]
  },
  {
   "cell_type": "code",
   "execution_count": 191,
   "metadata": {},
   "outputs": [],
   "source": [
    "new_q, new_t = sfla_1.new_step(sfla_1.structinfo[5][1], sfla_1.structinfo[5][2], sfla_1.structinfo[9][1], sfla_1.structinfo[9][2])"
   ]
  },
  {
   "cell_type": "code",
   "execution_count": 192,
   "metadata": {},
   "outputs": [],
   "source": [
    "new_q_1, new_t_1 = sfla_1.new_step_test(sfla_1.structinfo[5][1], sfla_1.structinfo[5][2], sfla_1.structinfo[9][1], sfla_1.structinfo[9][2])"
   ]
  },
  {
   "cell_type": "code",
   "execution_count": null,
   "metadata": {},
   "outputs": [],
   "source": []
  },
  {
   "cell_type": "code",
   "execution_count": null,
   "metadata": {},
   "outputs": [],
   "source": []
  },
  {
   "cell_type": "code",
   "execution_count": 1,
   "metadata": {},
   "outputs": [],
   "source": [
    "%reload_ext autoreload\n",
    "%autoreload 2"
   ]
  },
  {
   "cell_type": "code",
   "execution_count": 1,
   "metadata": {},
   "outputs": [],
   "source": [
    "from sfla import SFLA "
   ]
  },
  {
   "cell_type": "code",
   "execution_count": 2,
   "metadata": {},
   "outputs": [],
   "source": [
    "model = SFLA(frogs=50, mplx_no=10, no_of_iteration=2, no_of_mutation=2, q=4)"
   ]
  },
  {
   "cell_type": "code",
   "execution_count": 3,
   "metadata": {},
   "outputs": [
    {
     "name": "stdout",
     "output_type": "stream",
     "text": [
      "2021-06-28 11:06:49,712 [sfla: INFO] Starting SFLA algorithm\n",
      "2021-06-28 11:06:52,829 [sfla: INFO] Generating initial population (Number of frogs: 50)\n",
      "2021-06-28 11:07:02,887 [sfla: INFO] out39.pdb -- score = 0.000\n",
      "2021-06-28 11:07:13,382 [sfla: INFO] out4.pdb -- score = 0.000\n",
      "2021-06-28 11:07:13,410 [sfla: INFO] out1.pdb -- score = 0.000\n",
      "2021-06-28 11:07:14,650 [sfla: INFO] out2.pdb -- score = 0.000\n",
      "2021-06-28 11:07:14,997 [sfla: INFO] out6.pdb -- score = 0.000\n",
      "2021-06-28 11:07:16,389 [sfla: INFO] out5.pdb -- score = 19704289.106\n",
      "2021-06-28 11:07:16,803 [sfla: INFO] out10.pdb -- score = 3924011.986\n",
      "2021-06-28 11:07:17,004 [sfla: INFO] out36.pdb -- score = 0.000\n",
      "2021-06-28 11:07:17,256 [sfla: INFO] out25.pdb -- score = 31618718.291\n",
      "2021-06-28 11:07:17,791 [sfla: INFO] out0.pdb -- score = 1001851.241\n",
      "2021-06-28 11:07:17,892 [sfla: INFO] out20.pdb -- score = 5801502.661\n",
      "2021-06-28 11:07:17,915 [sfla: INFO] out21.pdb -- score = 25265.738\n",
      "2021-06-28 11:07:18,838 [sfla: INFO] out7.pdb -- score = 52397.057\n",
      "2021-06-28 11:07:18,873 [sfla: INFO] out32.pdb -- score = 2122310.800\n",
      "2021-06-28 11:07:19,220 [sfla: INFO] out9.pdb -- score = 9648.571\n",
      "2021-06-28 11:07:19,258 [sfla: INFO] out17.pdb -- score = 123927958.970\n",
      "2021-06-28 11:07:19,276 [sfla: INFO] out19.pdb -- score = 19273.389\n",
      "2021-06-28 11:07:19,356 [sfla: INFO] out18.pdb -- score = 3341041.081\n",
      "2021-06-28 11:07:19,512 [sfla: INFO] out11.pdb -- score = 2647707710.517\n",
      "2021-06-28 11:07:19,556 [sfla: INFO] out38.pdb -- score = 369418407.694\n",
      "2021-06-28 11:07:19,629 [sfla: INFO] out37.pdb -- score = 41020689.366\n",
      "2021-06-28 11:07:19,595 [sfla: INFO] out3.pdb -- score = -0.599\n",
      "2021-06-28 11:07:19,726 [sfla: INFO] out8.pdb -- score = 20599736013.579\n",
      "2021-06-28 11:07:19,827 [sfla: INFO] out28.pdb -- score = -2.263\n",
      "2021-06-28 11:07:19,911 [sfla: INFO] out12.pdb -- score = -21.111\n",
      "2021-06-28 11:07:19,920 [sfla: INFO] out15.pdb -- score = -76.182\n",
      "2021-06-28 11:07:20,040 [sfla: INFO] out22.pdb -- score = -0.431\n",
      "2021-06-28 11:07:20,171 [sfla: INFO] out14.pdb -- score = -1.772\n",
      "2021-06-28 11:07:20,257 [sfla: INFO] out13.pdb -- score = -16.190\n",
      "2021-06-28 11:07:20,263 [sfla: INFO] out23.pdb -- score = 2492428.948\n",
      "2021-06-28 11:07:20,412 [sfla: INFO] out16.pdb -- score = 10769220.265\n",
      "2021-06-28 11:07:20,668 [sfla: INFO] out26.pdb -- score = 14723.168\n",
      "2021-06-28 11:07:20,702 [sfla: INFO] out30.pdb -- score = -0.944\n",
      "2021-06-28 11:07:20,803 [sfla: INFO] out29.pdb -- score = -24.393\n",
      "2021-06-28 11:07:20,878 [sfla: INFO] out31.pdb -- score = 429.874\n",
      "2021-06-28 11:07:20,954 [sfla: INFO] out24.pdb -- score = 9723.356\n",
      "2021-06-28 11:07:21,036 [sfla: INFO] out27.pdb -- score = 0.000\n",
      "2021-06-28 11:07:21,385 [sfla: INFO] out35.pdb -- score = 2949831.258\n",
      "2021-06-28 11:07:22,030 [sfla: INFO] out33.pdb -- score = 41133854825.515\n",
      "2021-06-28 11:07:22,060 [sfla: INFO] out34.pdb -- score = -2.755\n",
      "2021-06-28 11:07:23,789 [sfla: INFO] out40.pdb -- score = -1.063\n",
      "2021-06-28 11:07:27,093 [sfla: INFO] out41.pdb -- score = 90210.371\n",
      "2021-06-28 11:07:27,340 [sfla: INFO] out42.pdb -- score = 2762665139.078\n",
      "2021-06-28 11:07:27,357 [sfla: INFO] out43.pdb -- score = 60733.282\n",
      "2021-06-28 11:07:28,276 [sfla: INFO] out49.pdb -- score = 1149321133084.872\n",
      "2021-06-28 11:07:28,829 [sfla: INFO] out44.pdb -- score = 6993.099\n",
      "2021-06-28 11:07:29,289 [sfla: INFO] out46.pdb -- score = 1945639.580\n",
      "2021-06-28 11:07:29,380 [sfla: INFO] out47.pdb -- score = -10.190\n",
      "2021-06-28 11:07:29,462 [sfla: INFO] out45.pdb -- score = 45956.310\n",
      "2021-06-28 11:07:29,741 [sfla: INFO] out48.pdb -- score = 301121.974\n",
      "2021-06-28 11:07:29,828 [sfla: INFO] Sorting the frogs and making 10 memeplexes with 50 frogs each\n"
     ]
    }
   ],
   "source": [
    "model.run_sfla_test(\"Data/4dn4_LH:M/\", \"4dn4\", \"LH\", \"M\")"
   ]
  },
  {
   "cell_type": "code",
   "execution_count": 4,
   "metadata": {},
   "outputs": [
    {
     "data": {
      "text/plain": [
       "array([[15.,  3., 44., 48.,  5.],\n",
       "       [29., 22.,  9.,  0., 25.],\n",
       "       [12.,  1., 24., 46., 37.],\n",
       "       [13.,  2., 26., 32., 17.],\n",
       "       [47.,  4., 19., 23., 38.],\n",
       "       [34.,  6., 21., 35., 11.],\n",
       "       [28., 27., 45., 18., 42.],\n",
       "       [14., 36.,  7., 10.,  8.],\n",
       "       [40., 39., 43., 20., 33.],\n",
       "       [30., 31., 41., 16., 49.]])"
      ]
     },
     "execution_count": 4,
     "metadata": {},
     "output_type": "execute_result"
    }
   ],
   "source": [
    "model.memeplexes"
   ]
  },
  {
   "cell_type": "code",
   "execution_count": 5,
   "metadata": {},
   "outputs": [
    {
     "data": {
      "text/plain": [
       "[-76.18173825324475,\n",
       " Quaternion(0.7566750526037491, 0.20182174219601048, -0.6086322311546324, 0.12758391882919481),\n",
       " array([-31.44959975, -22.07516527,  17.31679871])]"
      ]
     },
     "execution_count": 5,
     "metadata": {},
     "output_type": "execute_result"
    }
   ],
   "source": [
    "model.conformation_data[15]"
   ]
  },
  {
   "cell_type": "code",
   "execution_count": 6,
   "metadata": {},
   "outputs": [
    {
     "data": {
      "text/plain": [
       "[-24.39316901117409,\n",
       " Quaternion(0.48637570542402786, 0.804120104886761, 0.32360681410431974, 0.11003708445535995),\n",
       " array([-18.41405475,   3.98984686,  46.4517414 ])]"
      ]
     },
     "execution_count": 6,
     "metadata": {},
     "output_type": "execute_result"
    }
   ],
   "source": [
    "model.conformation_data[29]"
   ]
  },
  {
   "cell_type": "code",
   "execution_count": null,
   "metadata": {},
   "outputs": [],
   "source": [
    "model.run_remaining()"
   ]
  },
  {
   "cell_type": "code",
   "execution_count": 8,
   "metadata": {},
   "outputs": [
    {
     "data": {
      "text/plain": [
       "array([[15., 10., 40., 31., 45.],\n",
       "       [33.,  7., 30., 44., 18.],\n",
       "       [29., 24.,  3., 16., 41.],\n",
       "       [12.,  8., 22., 21.,  5.],\n",
       "       [13., 11., 36., 23.,  9.],\n",
       "       [47., 34., 39., 43., 19.],\n",
       "       [17., 28.,  1., 35., 46.],\n",
       "       [32., 27.,  2., 49., 26.],\n",
       "       [48., 14.,  4., 20., 38.],\n",
       "       [42.,  0.,  6., 25., 37.]])"
      ]
     },
     "execution_count": 8,
     "metadata": {},
     "output_type": "execute_result"
    }
   ],
   "source": [
    "model.memeplexes"
   ]
  },
  {
   "cell_type": "code",
   "execution_count": 9,
   "metadata": {},
   "outputs": [
    {
     "data": {
      "text/plain": [
       "[-76.18173825324475,\n",
       " Quaternion(0.7566750526037491, 0.20182174219601048, -0.6086322311546324, 0.12758391882919481),\n",
       " array([-31.44959975, -22.07516527,  17.31679871])]"
      ]
     },
     "execution_count": 9,
     "metadata": {},
     "output_type": "execute_result"
    }
   ],
   "source": [
    "model.conformation_data[15]"
   ]
  },
  {
   "cell_type": "code",
   "execution_count": 10,
   "metadata": {},
   "outputs": [
    {
     "data": {
      "text/plain": [
       "[-66.98321332084524,\n",
       " Quaternion(0.7688395928601863, 0.19299388730491027, -0.6003810575544001, 0.10574320613345517),\n",
       " array([-31.79994894, -21.36398122,  17.06493671])]"
      ]
     },
     "execution_count": 10,
     "metadata": {},
     "output_type": "execute_result"
    }
   ],
   "source": [
    "model.conformation_data[33]"
   ]
  },
  {
   "cell_type": "code",
   "execution_count": null,
   "metadata": {},
   "outputs": [],
   "source": [
    "model.run_remaining()"
   ]
  },
  {
   "cell_type": "code",
   "execution_count": 18,
   "metadata": {},
   "outputs": [],
   "source": [
    "directory = \"native_\" + \n",
    "final_path = os.path.join(\"./\", directory)\n",
    "os.mkdir(final_path)"
   ]
  },
  {
   "cell_type": "code",
   "execution_count": 20,
   "metadata": {},
   "outputs": [
    {
     "name": "stdout",
     "output_type": "stream",
     "text": [
      "2021-06-28 20:16:15,447 [__main__: INFO] Starting SFLA algorithm\n",
      "2021-06-28 20:16:18,667 [__main__: INFO] Generating initial population (Number of frogs: 50)\n",
      "2021-06-28 20:16:25,797 [__main__: INFO] out3.pdb -- score = 0.000\n",
      "2021-06-28 20:16:27,066 [__main__: INFO] out20.pdb -- score = 0.000\n",
      "2021-06-28 20:16:39,861 [__main__: INFO] out6.pdb -- score = 0.000\n",
      "2021-06-28 20:16:40,434 [__main__: INFO] out5.pdb -- score = 0.000\n",
      "2021-06-28 20:16:41,515 [__main__: INFO] out12.pdb -- score = 0.000\n",
      "2021-06-28 20:16:41,531 [__main__: INFO] out25.pdb -- score = 0.000\n",
      "2021-06-28 20:16:41,644 [__main__: INFO] out16.pdb -- score = 62510200.032\n",
      "2021-06-28 20:16:41,905 [__main__: INFO] out24.pdb -- score = 0.000\n",
      "2021-06-28 20:16:42,211 [__main__: INFO] out9.pdb -- score = 325242497.823\n",
      "2021-06-28 20:16:42,236 [__main__: INFO] out4.pdb -- score = 957986358.151\n",
      "2021-06-28 20:16:42,984 [__main__: INFO] out38.pdb -- score = 0.000\n",
      "2021-06-28 20:16:43,028 [__main__: INFO] out27.pdb -- score = 208260731.229\n",
      "2021-06-28 20:16:43,748 [__main__: INFO] out30.pdb -- score = 37402720.102\n",
      "2021-06-28 20:16:44,065 [__main__: INFO] out2.pdb -- score = 24750.977\n",
      "2021-06-28 20:16:44,090 [__main__: INFO] out22.pdb -- score = 6483545.503\n",
      "2021-06-28 20:16:44,108 [__main__: INFO] out14.pdb -- score = 2514106.064\n",
      "2021-06-28 20:16:44,274 [__main__: INFO] out17.pdb -- score = 799573754.424\n",
      "2021-06-28 20:16:44,871 [__main__: INFO] out1.pdb -- score = 1887.985\n",
      "2021-06-28 20:16:45,115 [__main__: INFO] out11.pdb -- score = 576053.367\n",
      "2021-06-28 20:16:45,170 [__main__: INFO] out35.pdb -- score = 6359827.915\n",
      "2021-06-28 20:16:45,197 [__main__: INFO] out28.pdb -- score = 8721.060\n",
      "2021-06-28 20:16:45,256 [__main__: INFO] out36.pdb -- score = 7690292375.344\n",
      "2021-06-28 20:16:45,347 [__main__: INFO] out31.pdb -- score = 826859.036\n",
      "2021-06-28 20:16:45,490 [__main__: INFO] out23.pdb -- score = -1.533\n",
      "2021-06-28 20:16:45,611 [__main__: INFO] out0.pdb -- score = 16023.598\n",
      "2021-06-28 20:16:45,767 [__main__: INFO] out49.pdb -- score = 0.000\n",
      "2021-06-28 20:16:45,952 [__main__: INFO] out19.pdb -- score = 261.332\n",
      "2021-06-28 20:16:46,051 [__main__: INFO] out7.pdb -- score = -13.634\n",
      "2021-06-28 20:16:46,093 [__main__: INFO] out26.pdb -- score = -20.941\n",
      "2021-06-28 20:16:46,142 [__main__: INFO] out10.pdb -- score = 4510898.429\n",
      "2021-06-28 20:16:46,151 [__main__: INFO] out21.pdb -- score = 0.000\n",
      "2021-06-28 20:16:46,199 [__main__: INFO] out8.pdb -- score = -12.094\n",
      "2021-06-28 20:16:46,204 [__main__: INFO] out15.pdb -- score = 27557.583\n",
      "2021-06-28 20:16:46,363 [__main__: INFO] out13.pdb -- score = 23696.790\n",
      "2021-06-28 20:16:46,414 [__main__: INFO] out37.pdb -- score = 616.543\n",
      "2021-06-28 20:16:46,502 [__main__: INFO] out18.pdb -- score = 498.104\n",
      "2021-06-28 20:16:46,855 [__main__: INFO] out29.pdb -- score = 0.000\n",
      "2021-06-28 20:16:47,265 [__main__: INFO] out39.pdb -- score = 367581.823\n",
      "2021-06-28 20:16:47,396 [__main__: INFO] out32.pdb -- score = 9660.094\n",
      "2021-06-28 20:16:47,434 [__main__: INFO] out33.pdb -- score = 161.062\n",
      "2021-06-28 20:16:47,459 [__main__: INFO] out34.pdb -- score = 53962.298\n",
      "2021-06-28 20:16:47,609 [__main__: INFO] out40.pdb -- score = 47549.969\n",
      "2021-06-28 20:16:48,587 [__main__: INFO] out41.pdb -- score = 51165.065\n",
      "2021-06-28 20:16:52,515 [__main__: INFO] out44.pdb -- score = -1.627\n",
      "2021-06-28 20:16:53,001 [__main__: INFO] out42.pdb -- score = 28805621.003\n",
      "2021-06-28 20:16:54,470 [__main__: INFO] out43.pdb -- score = 1685067.472\n",
      "2021-06-28 20:16:54,482 [__main__: INFO] out46.pdb -- score = 2093652.172\n",
      "2021-06-28 20:16:54,621 [__main__: INFO] out47.pdb -- score = -32.390\n",
      "2021-06-28 20:16:54,875 [__main__: INFO] out45.pdb -- score = -3.099\n",
      "2021-06-28 20:16:55,302 [__main__: INFO] out48.pdb -- score = -5.175\n",
      "2021-06-28 20:16:55,398 [__main__: INFO] Sorting the frogs and making 10 memeplexes with 50 frogs each\n",
      "2021-06-28 20:16:55,399 [__main__: INFO] Local Search: 0/1\n",
      "2021-06-28 20:16:55,489 [__main__: INFO] Local search of Memeplex 1: Mutation 0/2\n",
      "2021-06-28 20:16:55,491 [__main__: INFO] Memeplex 1(out51.pdb): Learn from local best Pb\n",
      "2021-06-28 20:16:55,539 [__main__: INFO] Local search of Memeplex 2: Mutation 0/2\n",
      "2021-06-28 20:16:55,540 [__main__: INFO] Memeplex 2(out52.pdb): Learn from local best Pb\n",
      "2021-06-28 20:16:55,588 [__main__: INFO] Local search of Memeplex 3: Mutation 0/2\n",
      "2021-06-28 20:16:55,589 [__main__: INFO] Memeplex 3(out53.pdb): Learn from local best Pb\n",
      "2021-06-28 20:16:55,634 [__main__: INFO] Local search of Memeplex 4: Mutation 0/2\n",
      "2021-06-28 20:16:55,635 [__main__: INFO] Memeplex 4(out54.pdb): Learn from local best Pb\n",
      "2021-06-28 20:16:55,683 [__main__: INFO] Local search of Memeplex 5: Mutation 0/2\n",
      "2021-06-28 20:16:55,685 [__main__: INFO] Memeplex 5(out55.pdb): Learn from local best Pb\n",
      "2021-06-28 20:16:55,732 [__main__: INFO] Local search of Memeplex 6: Mutation 0/2\n",
      "2021-06-28 20:16:55,733 [__main__: INFO] Memeplex 6(out56.pdb): Learn from local best Pb\n",
      "2021-06-28 20:16:55,779 [__main__: INFO] Local search of Memeplex 7: Mutation 0/2\n",
      "2021-06-28 20:16:55,781 [__main__: INFO] Memeplex 7(out57.pdb): Learn from local best Pb\n",
      "2021-06-28 20:16:55,854 [__main__: INFO] Local search of Memeplex 8: Mutation 0/2\n",
      "2021-06-28 20:16:55,856 [__main__: INFO] Memeplex 8(out58.pdb): Learn from local best Pb\n",
      "2021-06-28 20:16:55,866 [__main__: INFO] Local search of Memeplex 9: Mutation 0/2\n",
      "2021-06-28 20:16:55,867 [__main__: INFO] Memeplex 9(out59.pdb): Learn from local best Pb\n",
      "2021-06-28 20:16:55,899 [__main__: INFO] Local search of Memeplex 10: Mutation 0/2\n",
      "2021-06-28 20:16:55,900 [__main__: INFO] Memeplex 10(out60.pdb): Learn from local best Pb\n",
      "2021-06-28 20:17:05,118 [__main__: INFO] out56.pdb -- score = 372437683413902.875\n",
      "2021-06-28 20:17:05,119 [__main__: INFO] Memeplex 6(out56.pdb): score didn't improve... Learn from global best Pb\n",
      "2021-06-28 20:17:05,290 [__main__: INFO] out59.pdb -- score = 1067994365.222\n",
      "2021-06-28 20:17:05,290 [__main__: INFO] Memeplex 9(out59.pdb): score didn't improve... Learn from global best Pb\n",
      "2021-06-28 20:17:05,299 [__main__: INFO] out55.pdb -- score = 1922540421.024\n",
      "2021-06-28 20:17:05,300 [__main__: INFO] Memeplex 5(out55.pdb): score didn't improve... Learn from global best Pb\n",
      "2021-06-28 20:17:05,376 [__main__: INFO] out57.pdb -- score = 9433229.045\n",
      "2021-06-28 20:17:05,376 [__main__: INFO] Local search of Memeplex 7: Mutation 1/2 finished\n",
      "2021-06-28 20:17:05,377 [__main__: INFO] Local search of Memeplex 7: Mutation 1/2\n",
      "2021-06-28 20:17:05,377 [__main__: INFO] Memeplex 7(out57.pdb): Learn from local best Pb\n",
      "2021-06-28 20:17:05,396 [__main__: INFO] out60.pdb -- score = 2409746.194\n",
      "2021-06-28 20:17:05,397 [__main__: INFO] Local search of Memeplex 10: Mutation 1/2 finished\n",
      "2021-06-28 20:17:05,397 [__main__: INFO] Local search of Memeplex 10: Mutation 1/2\n",
      "2021-06-28 20:17:05,398 [__main__: INFO] Memeplex 10(out60.pdb): Learn from local best Pb\n",
      "2021-06-28 20:17:05,405 [__main__: INFO] out53.pdb -- score = 1549713055.833\n",
      "2021-06-28 20:17:05,405 [__main__: INFO] Memeplex 3(out53.pdb): score didn't improve... Learn from global best Pb\n",
      "2021-06-28 20:17:05,446 [__main__: INFO] out51.pdb -- score = 56843948.426\n",
      "2021-06-28 20:17:05,446 [__main__: INFO] Memeplex 1(out51.pdb): score didn't improve... Learn from global best Pb\n",
      "2021-06-28 20:17:05,840 [__main__: INFO] out54.pdb -- score = 3032734001.949\n",
      "2021-06-28 20:17:05,841 [__main__: INFO] Memeplex 4(out54.pdb): score didn't improve... Learn from global best Pb\n",
      "2021-06-28 20:17:06,163 [__main__: INFO] out58.pdb -- score = 19620.943\n",
      "2021-06-28 20:17:06,164 [__main__: INFO] Local search of Memeplex 8: Mutation 1/2 finished\n",
      "2021-06-28 20:17:06,164 [__main__: INFO] Local search of Memeplex 8: Mutation 1/2\n",
      "2021-06-28 20:17:06,164 [__main__: INFO] Memeplex 8(out58.pdb): Learn from local best Pb\n",
      "2021-06-28 20:17:06,247 [__main__: INFO] out52.pdb -- score = 47676999.858\n",
      "2021-06-28 20:17:06,248 [__main__: INFO] Memeplex 2(out52.pdb): score didn't improve... Learn from global best Pb\n",
      "2021-06-28 20:17:14,461 [__main__: INFO] out55.pdb -- score = 209332782520.484\n",
      "2021-06-28 20:17:14,461 [__main__: INFO] Memeplex 5(out55.pdb): score didn't improve... generating a new frog\n",
      "2021-06-28 20:17:14,684 [__main__: INFO] out56.pdb -- score = 33387733.948\n",
      "2021-06-28 20:17:14,684 [__main__: INFO] Local search of Memeplex 6: Mutation 1/2 finished\n",
      "2021-06-28 20:17:14,685 [__main__: INFO] Local search of Memeplex 6: Mutation 1/2\n",
      "2021-06-28 20:17:14,685 [__main__: INFO] Memeplex 6(out56.pdb): Learn from local best Pb\n",
      "2021-06-28 20:17:15,018 [__main__: INFO] out60.pdb -- score = 7826803945629.460\n",
      "2021-06-28 20:17:15,019 [__main__: INFO] Memeplex 10(out60.pdb): score didn't improve... Learn from global best Pb\n",
      "2021-06-28 20:17:15,031 [__main__: INFO] out53.pdb -- score = 836592.269\n",
      "2021-06-28 20:17:15,031 [__main__: INFO] Local search of Memeplex 3: Mutation 1/2 finished\n",
      "2021-06-28 20:17:15,031 [__main__: INFO] Local search of Memeplex 3: Mutation 1/2\n",
      "2021-06-28 20:17:15,032 [__main__: INFO] Memeplex 3(out53.pdb): Learn from local best Pb\n",
      "2021-06-28 20:17:15,130 [__main__: INFO] out59.pdb -- score = 41933543487.108\n",
      "2021-06-28 20:17:15,131 [__main__: INFO] Memeplex 9(out59.pdb): score didn't improve... generating a new frog\n",
      "2021-06-28 20:17:15,442 [__main__: INFO] out51.pdb -- score = 354304748.913\n",
      "2021-06-28 20:17:15,442 [__main__: INFO] Memeplex 1(out51.pdb): score didn't improve... generating a new frog\n",
      "2021-06-28 20:17:15,511 [__main__: INFO] out54.pdb -- score = 65375980.295\n",
      "2021-06-28 20:17:15,512 [__main__: INFO] Memeplex 4(out54.pdb): score didn't improve... generating a new frog\n",
      "2021-06-28 20:17:16,171 [__main__: INFO] out57.pdb -- score = 3231672.189\n",
      "2021-06-28 20:17:16,171 [__main__: INFO] Memeplex 7(out57.pdb): score didn't improve... Learn from global best Pb\n",
      "2021-06-28 20:17:16,629 [__main__: INFO] out52.pdb -- score = 3074856.515\n",
      "2021-06-28 20:17:16,630 [__main__: INFO] Local search of Memeplex 2: Mutation 1/2 finished\n",
      "2021-06-28 20:17:16,630 [__main__: INFO] Local search of Memeplex 2: Mutation 1/2\n",
      "2021-06-28 20:17:16,630 [__main__: INFO] Memeplex 2(out52.pdb): Learn from local best Pb\n",
      "2021-06-28 20:17:17,255 [__main__: INFO] out58.pdb -- score = 169619.362\n",
      "2021-06-28 20:17:17,256 [__main__: INFO] Memeplex 8(out58.pdb): score didn't improve... Learn from global best Pb\n",
      "2021-06-28 20:17:24,188 [__main__: INFO] out56.pdb -- score = 646206230347.182\n",
      "2021-06-28 20:17:24,188 [__main__: INFO] Memeplex 6(out56.pdb): score didn't improve... Learn from global best Pb\n",
      "2021-06-28 20:17:24,377 [__main__: INFO] out59.pdb -- score = 679929535.752\n",
      "2021-06-28 20:17:24,377 [__main__: INFO] Local search of Memeplex 9: Mutation 1/2 finished\n",
      "2021-06-28 20:17:24,378 [__main__: INFO] Local search of Memeplex 9: Mutation 1/2\n",
      "2021-06-28 20:17:24,378 [__main__: INFO] Memeplex 9(out59.pdb): Learn from local best Pb\n",
      "2021-06-28 20:17:24,524 [__main__: INFO] out60.pdb -- score = 6680491694.762\n",
      "2021-06-28 20:17:24,525 [__main__: INFO] Memeplex 10(out60.pdb): score didn't improve... generating a new frog\n",
      "2021-06-28 20:17:24,824 [__main__: INFO] out53.pdb -- score = 597848471.903\n",
      "2021-06-28 20:17:24,824 [__main__: INFO] Memeplex 3(out53.pdb): score didn't improve... Learn from global best Pb\n",
      "2021-06-28 20:17:25,078 [__main__: INFO] out54.pdb -- score = 542945675.815\n",
      "2021-06-28 20:17:25,079 [__main__: INFO] Local search of Memeplex 4: Mutation 1/2 finished\n",
      "2021-06-28 20:17:25,079 [__main__: INFO] Local search of Memeplex 4: Mutation 1/2\n",
      "2021-06-28 20:17:25,079 [__main__: INFO] Memeplex 4(out54.pdb): Learn from local best Pb\n",
      "2021-06-28 20:17:25,465 [__main__: INFO] out55.pdb -- score = 665750.118\n",
      "2021-06-28 20:17:25,465 [__main__: INFO] Local search of Memeplex 5: Mutation 1/2 finished\n",
      "2021-06-28 20:17:25,465 [__main__: INFO] Local search of Memeplex 5: Mutation 1/2\n",
      "2021-06-28 20:17:25,466 [__main__: INFO] Memeplex 5(out55.pdb): Learn from local best Pb\n",
      "2021-06-28 20:17:26,256 [__main__: INFO] out51.pdb -- score = 3721602.856\n",
      "2021-06-28 20:17:26,256 [__main__: INFO] Local search of Memeplex 1: Mutation 1/2 finished\n",
      "2021-06-28 20:17:26,256 [__main__: INFO] Local search of Memeplex 1: Mutation 1/2\n",
      "2021-06-28 20:17:26,257 [__main__: INFO] Memeplex 1(out51.pdb): Learn from local best Pb\n",
      "2021-06-28 20:17:27,147 [__main__: INFO] out52.pdb -- score = 64327.085\n",
      "2021-06-28 20:17:27,148 [__main__: INFO] Local search of Memeplex 2: Mutation 2/2 finished\n",
      "2021-06-28 20:17:27,333 [__main__: INFO] out57.pdb -- score = 2981432.894\n",
      "2021-06-28 20:17:27,334 [__main__: INFO] Memeplex 7(out57.pdb): score didn't improve... generating a new frog\n",
      "2021-06-28 20:17:28,632 [__main__: INFO] out58.pdb -- score = 29.069\n",
      "2021-06-28 20:17:28,633 [__main__: INFO] Local search of Memeplex 8: Mutation 2/2 finished\n",
      "2021-06-28 20:17:33,717 [__main__: INFO] out56.pdb -- score = 53246362.729\n",
      "2021-06-28 20:17:33,717 [__main__: INFO] Memeplex 6(out56.pdb): score didn't improve... generating a new frog\n",
      "2021-06-28 20:17:34,026 [__main__: INFO] out59.pdb -- score = 5178737771341.844\n",
      "2021-06-28 20:17:34,026 [__main__: INFO] Memeplex 9(out59.pdb): score didn't improve... Learn from global best Pb\n",
      "2021-06-28 20:17:34,116 [__main__: INFO] out53.pdb -- score = 25199728.657\n",
      "2021-06-28 20:17:34,116 [__main__: INFO] Memeplex 3(out53.pdb): score didn't improve... generating a new frog\n",
      "2021-06-28 20:17:34,220 [__main__: INFO] out54.pdb -- score = 11213580.562\n",
      "2021-06-28 20:17:34,220 [__main__: INFO] Local search of Memeplex 4: Mutation 2/2 finished\n",
      "2021-06-28 20:17:34,364 [__main__: INFO] out60.pdb -- score = 11545197186.474\n",
      "2021-06-28 20:17:34,364 [__main__: INFO] Local search of Memeplex 10: Mutation 2/2 finished\n",
      "2021-06-28 20:17:36,486 [__main__: INFO] out55.pdb -- score = -37.467\n",
      "2021-06-28 20:17:36,487 [__main__: INFO] Local search of Memeplex 5: Mutation 2/2 finished\n",
      "2021-06-28 20:17:36,729 [__main__: INFO] out51.pdb -- score = 13078136.024\n",
      "2021-06-28 20:17:36,729 [__main__: INFO] Memeplex 1(out51.pdb): score didn't improve... Learn from global best Pb\n",
      "2021-06-28 20:17:37,628 [__main__: INFO] out57.pdb -- score = 121708825034567.312\n",
      "2021-06-28 20:17:37,628 [__main__: INFO] Local search of Memeplex 7: Mutation 2/2 finished\n",
      "2021-06-28 20:17:42,980 [__main__: INFO] out59.pdb -- score = 65138245.750\n",
      "2021-06-28 20:17:42,980 [__main__: INFO] Local search of Memeplex 9: Mutation 2/2 finished\n",
      "2021-06-28 20:17:42,993 [__main__: INFO] out56.pdb -- score = 947166820.624\n",
      "2021-06-28 20:17:42,994 [__main__: INFO] Local search of Memeplex 6: Mutation 2/2 finished\n",
      "2021-06-28 20:17:44,464 [__main__: INFO] out53.pdb -- score = 5610959.198\n",
      "2021-06-28 20:17:44,464 [__main__: INFO] Local search of Memeplex 3: Mutation 2/2 finished\n",
      "2021-06-28 20:17:46,514 [__main__: INFO] out51.pdb -- score = 213942.444\n",
      "2021-06-28 20:17:46,514 [__main__: INFO] Local search of Memeplex 1: Mutation 2/2 finished\n",
      "2021-06-28 20:17:46,538 [__main__: INFO] Shuffling the memeplexes and sorting them\n",
      "2021-06-28 20:17:46,538 [__main__: INFO] Creating a new directory - ./native_4dn4\n",
      "2021-06-28 20:17:46,538 [__main__: INFO] Moving best frog from each memeplexes to the new directory - ./native_4dn4\n"
     ]
    }
   ],
   "source": [
    "!python sfla.py --pdb Data/4dn4_LH:M -n 1"
   ]
  },
  {
   "cell_type": "code",
   "execution_count": null,
   "metadata": {},
   "outputs": [],
   "source": [
    "!./sfladock.sh"
   ]
  }
 ],
 "metadata": {
  "interpreter": {
   "hash": "893ff73af0343fa8c074fd691fa7d354239cd6af6e64ae4bc39d961f124ac4c2"
  },
  "kernelspec": {
   "display_name": "Python 3",
   "language": "python",
   "name": "python3"
  },
  "language_info": {
   "codemirror_mode": {
    "name": "ipython",
    "version": 3
   },
   "file_extension": ".py",
   "mimetype": "text/x-python",
   "name": "python",
   "nbconvert_exporter": "python",
   "pygments_lexer": "ipython3",
   "version": "3.9.2"
  }
 },
 "nbformat": 4,
 "nbformat_minor": 4
}
