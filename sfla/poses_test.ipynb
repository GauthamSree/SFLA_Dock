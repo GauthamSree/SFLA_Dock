{
 "cells": [
  {
   "cell_type": "code",
   "execution_count": 1,
   "metadata": {},
   "outputs": [],
   "source": [
    "%reload_ext autoreload\n",
    "%autoreload 2"
   ]
  },
  {
   "cell_type": "code",
   "execution_count": 64,
   "metadata": {},
   "outputs": [],
   "source": [
    "from utils import poses"
   ]
  },
  {
   "cell_type": "code",
   "execution_count": 154,
   "metadata": {},
   "outputs": [],
   "source": [
    "def clip_the_point_max_step(worst_frog_pos, best_frog_pos):\n",
    "    t = 10/np.linalg.norm(worst_frog_pos - best_frog_pos)\n",
    "    new_change = (1 - t)*worst_frog_pos + t*best_frog_pos\n",
    "    return new_change"
   ]
  },
  {
   "cell_type": "code",
   "execution_count": 164,
   "metadata": {},
   "outputs": [],
   "source": [
    "sfla_1.memeplexes = sfla_1.sort_frog()"
   ]
  },
  {
   "cell_type": "code",
   "execution_count": 191,
   "metadata": {},
   "outputs": [],
   "source": [
    "new_q, new_t = sfla_1.new_step(sfla_1.structinfo[5][1], sfla_1.structinfo[5][2], sfla_1.structinfo[9][1], sfla_1.structinfo[9][2])"
   ]
  },
  {
   "cell_type": "code",
   "execution_count": 192,
   "metadata": {},
   "outputs": [],
   "source": [
    "new_q_1, new_t_1 = sfla_1.new_step_test(sfla_1.structinfo[5][1], sfla_1.structinfo[5][2], sfla_1.structinfo[9][1], sfla_1.structinfo[9][2])"
   ]
  },
  {
   "cell_type": "code",
   "execution_count": null,
   "metadata": {},
   "outputs": [],
   "source": []
  },
  {
   "cell_type": "code",
   "execution_count": null,
   "metadata": {},
   "outputs": [],
   "source": []
  },
  {
   "cell_type": "code",
   "execution_count": 1,
   "metadata": {},
   "outputs": [],
   "source": [
    "%reload_ext autoreload\n",
    "%autoreload 2"
   ]
  },
  {
   "cell_type": "code",
   "execution_count": 2,
   "metadata": {},
   "outputs": [],
   "source": [
    "from sfla import SFLA "
   ]
  },
  {
   "cell_type": "code",
   "execution_count": 3,
   "metadata": {},
   "outputs": [],
   "source": [
    "model = SFLA(frogs=50, mplx_no=10, no_of_iteration=2, no_of_mutation=2, q=4)"
   ]
  },
  {
   "cell_type": "code",
   "execution_count": 4,
   "metadata": {},
   "outputs": [
    {
     "name": "stdout",
     "output_type": "stream",
     "text": [
      "2021-06-30 09:43:25,643 [sfla: INFO] Starting SFLA algorithm\n",
      "2021-06-30 09:43:28,875 [sfla: INFO] Generating initial population (Number of frogs: 50)\n",
      "2021-06-30 09:43:34,923 [sfla: INFO] out1.pdb -- score = 0.000\n",
      "2021-06-30 09:43:34,999 [sfla: INFO] out2.pdb -- score = 0.000\n",
      "2021-06-30 09:43:35,382 [sfla: INFO] out8.pdb -- score = 0.000\n",
      "2021-06-30 09:43:35,558 [sfla: INFO] out13.pdb -- score = 0.000\n",
      "2021-06-30 09:43:35,805 [sfla: INFO] out6.pdb -- score = 0.000\n",
      "2021-06-30 09:43:35,892 [sfla: INFO] out10.pdb -- score = 0.000\n",
      "2021-06-30 09:43:35,903 [sfla: INFO] out9.pdb -- score = 0.000\n",
      "2021-06-30 09:43:36,940 [sfla: INFO] out19.pdb -- score = 0.000\n",
      "2021-06-30 09:43:37,071 [sfla: INFO] out20.pdb -- score = 0.000\n",
      "2021-06-30 09:43:37,381 [sfla: INFO] out21.pdb -- score = 0.000\n",
      "2021-06-30 09:43:37,536 [sfla: INFO] out26.pdb -- score = 0.000\n",
      "2021-06-30 09:43:38,548 [sfla: INFO] out38.pdb -- score = 0.000\n",
      "2021-06-30 09:43:41,081 [sfla: INFO] out45.pdb -- score = 0.000\n",
      "2021-06-30 09:43:44,897 [sfla: INFO] out24.pdb -- score = 0.000\n",
      "2021-06-30 09:43:48,692 [sfla: INFO] out29.pdb -- score = -30.317\n",
      "2021-06-30 09:43:48,675 [sfla: INFO] out3.pdb -- score = 1045067.317\n",
      "2021-06-30 09:43:49,866 [sfla: INFO] out33.pdb -- score = 0.000\n",
      "2021-06-30 09:43:50,411 [sfla: INFO] out48.pdb -- score = 0.000\n",
      "2021-06-30 09:43:50,596 [sfla: INFO] out31.pdb -- score = 0.000\n",
      "2021-06-30 09:43:50,595 [sfla: INFO] out4.pdb -- score = 336608053.152\n",
      "2021-06-30 09:43:51,183 [sfla: INFO] out12.pdb -- score = 0.000\n",
      "2021-06-30 09:43:51,161 [sfla: INFO] out34.pdb -- score = -14.148\n",
      "2021-06-30 09:43:51,503 [sfla: INFO] out17.pdb -- score = 0.000\n",
      "2021-06-30 09:43:51,593 [sfla: INFO] out22.pdb -- score = 0.000\n",
      "2021-06-30 09:43:51,790 [sfla: INFO] out15.pdb -- score = 4867683.693\n",
      "2021-06-30 09:43:52,052 [sfla: INFO] out35.pdb -- score = 0.000\n",
      "2021-06-30 09:43:52,223 [sfla: INFO] out37.pdb -- score = 0.000\n",
      "2021-06-30 09:43:52,593 [sfla: INFO] out23.pdb -- score = 122776341456.785\n",
      "2021-06-30 09:43:52,933 [sfla: INFO] out16.pdb -- score = 13007646655286.455\n",
      "2021-06-30 09:43:53,168 [sfla: INFO] out7.pdb -- score = 2263029.220\n",
      "2021-06-30 09:43:53,449 [sfla: INFO] out28.pdb -- score = 58387521.533\n",
      "2021-06-30 09:43:53,634 [sfla: INFO] out18.pdb -- score = 1317256.549\n",
      "2021-06-30 09:43:53,680 [sfla: INFO] out42.pdb -- score = 0.000\n",
      "2021-06-30 09:43:53,685 [sfla: INFO] out0.pdb -- score = 55723.204\n",
      "2021-06-30 09:43:53,717 [sfla: INFO] out43.pdb -- score = 806.656\n",
      "2021-06-30 09:43:53,720 [sfla: INFO] out27.pdb -- score = -19.374\n",
      "2021-06-30 09:43:53,773 [sfla: INFO] out25.pdb -- score = 13804886361.995\n",
      "2021-06-30 09:43:53,831 [sfla: INFO] out49.pdb -- score = 0.000\n",
      "2021-06-30 09:43:53,915 [sfla: INFO] out5.pdb -- score = 3536.780\n",
      "2021-06-30 09:43:53,956 [sfla: INFO] out14.pdb -- score = 25225863024.194\n",
      "2021-06-30 09:43:54,147 [sfla: INFO] out41.pdb -- score = -1.640\n",
      "2021-06-30 09:43:54,182 [sfla: INFO] out30.pdb -- score = -14.458\n",
      "2021-06-30 09:43:54,277 [sfla: INFO] out47.pdb -- score = 0.000\n",
      "2021-06-30 09:43:54,576 [sfla: INFO] out11.pdb -- score = 94.222\n",
      "2021-06-30 09:43:54,606 [sfla: INFO] out36.pdb -- score = 235.283\n",
      "2021-06-30 09:43:54,694 [sfla: INFO] out46.pdb -- score = -15.725\n",
      "2021-06-30 09:43:54,791 [sfla: INFO] out32.pdb -- score = 49.200\n",
      "2021-06-30 09:43:54,958 [sfla: INFO] out40.pdb -- score = -15.003\n",
      "2021-06-30 09:43:54,996 [sfla: INFO] out39.pdb -- score = 114.297\n",
      "2021-06-30 09:43:55,585 [sfla: INFO] out44.pdb -- score = 4363820673.585\n",
      "2021-06-30 09:43:55,667 [sfla: INFO] Sorting the frogs and making 10 memeplexes with 50 frogs each\n"
     ]
    }
   ],
   "source": [
    "model.run_sfla_test(\"Data/4dn4_LH:M/\", \"4dn4\", \"LH\", \"M\")"
   ]
  },
  {
   "cell_type": "code",
   "execution_count": 4,
   "metadata": {},
   "outputs": [
    {
     "data": {
      "text/plain": [
       "array([[15.,  3., 44., 48.,  5.],\n",
       "       [29., 22.,  9.,  0., 25.],\n",
       "       [12.,  1., 24., 46., 37.],\n",
       "       [13.,  2., 26., 32., 17.],\n",
       "       [47.,  4., 19., 23., 38.],\n",
       "       [34.,  6., 21., 35., 11.],\n",
       "       [28., 27., 45., 18., 42.],\n",
       "       [14., 36.,  7., 10.,  8.],\n",
       "       [40., 39., 43., 20., 33.],\n",
       "       [30., 31., 41., 16., 49.]])"
      ]
     },
     "execution_count": 4,
     "metadata": {},
     "output_type": "execute_result"
    }
   ],
   "source": [
    "model.memeplexes"
   ]
  },
  {
   "cell_type": "code",
   "execution_count": 5,
   "metadata": {},
   "outputs": [
    {
     "data": {
      "text/plain": [
       "[-76.18173825324475,\n",
       " Quaternion(0.7566750526037491, 0.20182174219601048, -0.6086322311546324, 0.12758391882919481),\n",
       " array([-31.44959975, -22.07516527,  17.31679871])]"
      ]
     },
     "execution_count": 5,
     "metadata": {},
     "output_type": "execute_result"
    }
   ],
   "source": [
    "model.conformation_data[15]"
   ]
  },
  {
   "cell_type": "code",
   "execution_count": 6,
   "metadata": {},
   "outputs": [
    {
     "data": {
      "text/plain": [
       "[-24.39316901117409,\n",
       " Quaternion(0.48637570542402786, 0.804120104886761, 0.32360681410431974, 0.11003708445535995),\n",
       " array([-18.41405475,   3.98984686,  46.4517414 ])]"
      ]
     },
     "execution_count": 6,
     "metadata": {},
     "output_type": "execute_result"
    }
   ],
   "source": [
    "model.conformation_data[29]"
   ]
  },
  {
   "cell_type": "code",
   "execution_count": null,
   "metadata": {},
   "outputs": [],
   "source": [
    "model.run_remaining()"
   ]
  },
  {
   "cell_type": "code",
   "execution_count": 8,
   "metadata": {},
   "outputs": [
    {
     "data": {
      "text/plain": [
       "array([[15., 10., 40., 31., 45.],\n",
       "       [33.,  7., 30., 44., 18.],\n",
       "       [29., 24.,  3., 16., 41.],\n",
       "       [12.,  8., 22., 21.,  5.],\n",
       "       [13., 11., 36., 23.,  9.],\n",
       "       [47., 34., 39., 43., 19.],\n",
       "       [17., 28.,  1., 35., 46.],\n",
       "       [32., 27.,  2., 49., 26.],\n",
       "       [48., 14.,  4., 20., 38.],\n",
       "       [42.,  0.,  6., 25., 37.]])"
      ]
     },
     "execution_count": 8,
     "metadata": {},
     "output_type": "execute_result"
    }
   ],
   "source": [
    "model.memeplexes"
   ]
  },
  {
   "cell_type": "code",
   "execution_count": 9,
   "metadata": {},
   "outputs": [
    {
     "data": {
      "text/plain": [
       "[-76.18173825324475,\n",
       " Quaternion(0.7566750526037491, 0.20182174219601048, -0.6086322311546324, 0.12758391882919481),\n",
       " array([-31.44959975, -22.07516527,  17.31679871])]"
      ]
     },
     "execution_count": 9,
     "metadata": {},
     "output_type": "execute_result"
    }
   ],
   "source": [
    "model.conformation_data[15]"
   ]
  },
  {
   "cell_type": "code",
   "execution_count": 10,
   "metadata": {},
   "outputs": [
    {
     "data": {
      "text/plain": [
       "[-66.98321332084524,\n",
       " Quaternion(0.7688395928601863, 0.19299388730491027, -0.6003810575544001, 0.10574320613345517),\n",
       " array([-31.79994894, -21.36398122,  17.06493671])]"
      ]
     },
     "execution_count": 10,
     "metadata": {},
     "output_type": "execute_result"
    }
   ],
   "source": [
    "model.conformation_data[33]"
   ]
  },
  {
   "cell_type": "code",
   "execution_count": null,
   "metadata": {},
   "outputs": [],
   "source": [
    "model.run_remaining()"
   ]
  },
  {
   "cell_type": "code",
   "execution_count": 18,
   "metadata": {},
   "outputs": [],
   "source": [
    "directory = \"native_\" + \n",
    "final_path = os.path.join(\"./\", directory)\n",
    "os.mkdir(final_path)"
   ]
  },
  {
   "cell_type": "code",
   "execution_count": 20,
   "metadata": {},
   "outputs": [
    {
     "name": "stdout",
     "output_type": "stream",
     "text": [
      "2021-06-28 20:16:15,447 [__main__: INFO] Starting SFLA algorithm\n",
      "2021-06-28 20:16:18,667 [__main__: INFO] Generating initial population (Number of frogs: 50)\n",
      "2021-06-28 20:16:25,797 [__main__: INFO] out3.pdb -- score = 0.000\n",
      "2021-06-28 20:16:27,066 [__main__: INFO] out20.pdb -- score = 0.000\n",
      "2021-06-28 20:16:39,861 [__main__: INFO] out6.pdb -- score = 0.000\n",
      "2021-06-28 20:16:40,434 [__main__: INFO] out5.pdb -- score = 0.000\n",
      "2021-06-28 20:16:41,515 [__main__: INFO] out12.pdb -- score = 0.000\n",
      "2021-06-28 20:16:41,531 [__main__: INFO] out25.pdb -- score = 0.000\n",
      "2021-06-28 20:16:41,644 [__main__: INFO] out16.pdb -- score = 62510200.032\n",
      "2021-06-28 20:16:41,905 [__main__: INFO] out24.pdb -- score = 0.000\n",
      "2021-06-28 20:16:42,211 [__main__: INFO] out9.pdb -- score = 325242497.823\n",
      "2021-06-28 20:16:42,236 [__main__: INFO] out4.pdb -- score = 957986358.151\n",
      "2021-06-28 20:16:42,984 [__main__: INFO] out38.pdb -- score = 0.000\n",
      "2021-06-28 20:16:43,028 [__main__: INFO] out27.pdb -- score = 208260731.229\n",
      "2021-06-28 20:16:43,748 [__main__: INFO] out30.pdb -- score = 37402720.102\n",
      "2021-06-28 20:16:44,065 [__main__: INFO] out2.pdb -- score = 24750.977\n",
      "2021-06-28 20:16:44,090 [__main__: INFO] out22.pdb -- score = 6483545.503\n",
      "2021-06-28 20:16:44,108 [__main__: INFO] out14.pdb -- score = 2514106.064\n",
      "2021-06-28 20:16:44,274 [__main__: INFO] out17.pdb -- score = 799573754.424\n",
      "2021-06-28 20:16:44,871 [__main__: INFO] out1.pdb -- score = 1887.985\n",
      "2021-06-28 20:16:45,115 [__main__: INFO] out11.pdb -- score = 576053.367\n",
      "2021-06-28 20:16:45,170 [__main__: INFO] out35.pdb -- score = 6359827.915\n",
      "2021-06-28 20:16:45,197 [__main__: INFO] out28.pdb -- score = 8721.060\n",
      "2021-06-28 20:16:45,256 [__main__: INFO] out36.pdb -- score = 7690292375.344\n",
      "2021-06-28 20:16:45,347 [__main__: INFO] out31.pdb -- score = 826859.036\n",
      "2021-06-28 20:16:45,490 [__main__: INFO] out23.pdb -- score = -1.533\n",
      "2021-06-28 20:16:45,611 [__main__: INFO] out0.pdb -- score = 16023.598\n",
      "2021-06-28 20:16:45,767 [__main__: INFO] out49.pdb -- score = 0.000\n",
      "2021-06-28 20:16:45,952 [__main__: INFO] out19.pdb -- score = 261.332\n",
      "2021-06-28 20:16:46,051 [__main__: INFO] out7.pdb -- score = -13.634\n",
      "2021-06-28 20:16:46,093 [__main__: INFO] out26.pdb -- score = -20.941\n",
      "2021-06-28 20:16:46,142 [__main__: INFO] out10.pdb -- score = 4510898.429\n",
      "2021-06-28 20:16:46,151 [__main__: INFO] out21.pdb -- score = 0.000\n",
      "2021-06-28 20:16:46,199 [__main__: INFO] out8.pdb -- score = -12.094\n",
      "2021-06-28 20:16:46,204 [__main__: INFO] out15.pdb -- score = 27557.583\n",
      "2021-06-28 20:16:46,363 [__main__: INFO] out13.pdb -- score = 23696.790\n",
      "2021-06-28 20:16:46,414 [__main__: INFO] out37.pdb -- score = 616.543\n",
      "2021-06-28 20:16:46,502 [__main__: INFO] out18.pdb -- score = 498.104\n",
      "2021-06-28 20:16:46,855 [__main__: INFO] out29.pdb -- score = 0.000\n",
      "2021-06-28 20:16:47,265 [__main__: INFO] out39.pdb -- score = 367581.823\n",
      "2021-06-28 20:16:47,396 [__main__: INFO] out32.pdb -- score = 9660.094\n",
      "2021-06-28 20:16:47,434 [__main__: INFO] out33.pdb -- score = 161.062\n",
      "2021-06-28 20:16:47,459 [__main__: INFO] out34.pdb -- score = 53962.298\n",
      "2021-06-28 20:16:47,609 [__main__: INFO] out40.pdb -- score = 47549.969\n",
      "2021-06-28 20:16:48,587 [__main__: INFO] out41.pdb -- score = 51165.065\n",
      "2021-06-28 20:16:52,515 [__main__: INFO] out44.pdb -- score = -1.627\n",
      "2021-06-28 20:16:53,001 [__main__: INFO] out42.pdb -- score = 28805621.003\n",
      "2021-06-28 20:16:54,470 [__main__: INFO] out43.pdb -- score = 1685067.472\n",
      "2021-06-28 20:16:54,482 [__main__: INFO] out46.pdb -- score = 2093652.172\n",
      "2021-06-28 20:16:54,621 [__main__: INFO] out47.pdb -- score = -32.390\n",
      "2021-06-28 20:16:54,875 [__main__: INFO] out45.pdb -- score = -3.099\n",
      "2021-06-28 20:16:55,302 [__main__: INFO] out48.pdb -- score = -5.175\n",
      "2021-06-28 20:16:55,398 [__main__: INFO] Sorting the frogs and making 10 memeplexes with 50 frogs each\n",
      "2021-06-28 20:16:55,399 [__main__: INFO] Local Search: 0/1\n",
      "2021-06-28 20:16:55,489 [__main__: INFO] Local search of Memeplex 1: Mutation 0/2\n",
      "2021-06-28 20:16:55,491 [__main__: INFO] Memeplex 1(out51.pdb): Learn from local best Pb\n",
      "2021-06-28 20:16:55,539 [__main__: INFO] Local search of Memeplex 2: Mutation 0/2\n",
      "2021-06-28 20:16:55,540 [__main__: INFO] Memeplex 2(out52.pdb): Learn from local best Pb\n",
      "2021-06-28 20:16:55,588 [__main__: INFO] Local search of Memeplex 3: Mutation 0/2\n",
      "2021-06-28 20:16:55,589 [__main__: INFO] Memeplex 3(out53.pdb): Learn from local best Pb\n",
      "2021-06-28 20:16:55,634 [__main__: INFO] Local search of Memeplex 4: Mutation 0/2\n",
      "2021-06-28 20:16:55,635 [__main__: INFO] Memeplex 4(out54.pdb): Learn from local best Pb\n",
      "2021-06-28 20:16:55,683 [__main__: INFO] Local search of Memeplex 5: Mutation 0/2\n",
      "2021-06-28 20:16:55,685 [__main__: INFO] Memeplex 5(out55.pdb): Learn from local best Pb\n",
      "2021-06-28 20:16:55,732 [__main__: INFO] Local search of Memeplex 6: Mutation 0/2\n",
      "2021-06-28 20:16:55,733 [__main__: INFO] Memeplex 6(out56.pdb): Learn from local best Pb\n",
      "2021-06-28 20:16:55,779 [__main__: INFO] Local search of Memeplex 7: Mutation 0/2\n",
      "2021-06-28 20:16:55,781 [__main__: INFO] Memeplex 7(out57.pdb): Learn from local best Pb\n",
      "2021-06-28 20:16:55,854 [__main__: INFO] Local search of Memeplex 8: Mutation 0/2\n",
      "2021-06-28 20:16:55,856 [__main__: INFO] Memeplex 8(out58.pdb): Learn from local best Pb\n",
      "2021-06-28 20:16:55,866 [__main__: INFO] Local search of Memeplex 9: Mutation 0/2\n",
      "2021-06-28 20:16:55,867 [__main__: INFO] Memeplex 9(out59.pdb): Learn from local best Pb\n",
      "2021-06-28 20:16:55,899 [__main__: INFO] Local search of Memeplex 10: Mutation 0/2\n",
      "2021-06-28 20:16:55,900 [__main__: INFO] Memeplex 10(out60.pdb): Learn from local best Pb\n",
      "2021-06-28 20:17:05,118 [__main__: INFO] out56.pdb -- score = 372437683413902.875\n",
      "2021-06-28 20:17:05,119 [__main__: INFO] Memeplex 6(out56.pdb): score didn't improve... Learn from global best Pb\n",
      "2021-06-28 20:17:05,290 [__main__: INFO] out59.pdb -- score = 1067994365.222\n",
      "2021-06-28 20:17:05,290 [__main__: INFO] Memeplex 9(out59.pdb): score didn't improve... Learn from global best Pb\n",
      "2021-06-28 20:17:05,299 [__main__: INFO] out55.pdb -- score = 1922540421.024\n",
      "2021-06-28 20:17:05,300 [__main__: INFO] Memeplex 5(out55.pdb): score didn't improve... Learn from global best Pb\n",
      "2021-06-28 20:17:05,376 [__main__: INFO] out57.pdb -- score = 9433229.045\n",
      "2021-06-28 20:17:05,376 [__main__: INFO] Local search of Memeplex 7: Mutation 1/2 finished\n",
      "2021-06-28 20:17:05,377 [__main__: INFO] Local search of Memeplex 7: Mutation 1/2\n",
      "2021-06-28 20:17:05,377 [__main__: INFO] Memeplex 7(out57.pdb): Learn from local best Pb\n",
      "2021-06-28 20:17:05,396 [__main__: INFO] out60.pdb -- score = 2409746.194\n",
      "2021-06-28 20:17:05,397 [__main__: INFO] Local search of Memeplex 10: Mutation 1/2 finished\n",
      "2021-06-28 20:17:05,397 [__main__: INFO] Local search of Memeplex 10: Mutation 1/2\n",
      "2021-06-28 20:17:05,398 [__main__: INFO] Memeplex 10(out60.pdb): Learn from local best Pb\n",
      "2021-06-28 20:17:05,405 [__main__: INFO] out53.pdb -- score = 1549713055.833\n",
      "2021-06-28 20:17:05,405 [__main__: INFO] Memeplex 3(out53.pdb): score didn't improve... Learn from global best Pb\n",
      "2021-06-28 20:17:05,446 [__main__: INFO] out51.pdb -- score = 56843948.426\n",
      "2021-06-28 20:17:05,446 [__main__: INFO] Memeplex 1(out51.pdb): score didn't improve... Learn from global best Pb\n",
      "2021-06-28 20:17:05,840 [__main__: INFO] out54.pdb -- score = 3032734001.949\n",
      "2021-06-28 20:17:05,841 [__main__: INFO] Memeplex 4(out54.pdb): score didn't improve... Learn from global best Pb\n",
      "2021-06-28 20:17:06,163 [__main__: INFO] out58.pdb -- score = 19620.943\n",
      "2021-06-28 20:17:06,164 [__main__: INFO] Local search of Memeplex 8: Mutation 1/2 finished\n",
      "2021-06-28 20:17:06,164 [__main__: INFO] Local search of Memeplex 8: Mutation 1/2\n",
      "2021-06-28 20:17:06,164 [__main__: INFO] Memeplex 8(out58.pdb): Learn from local best Pb\n",
      "2021-06-28 20:17:06,247 [__main__: INFO] out52.pdb -- score = 47676999.858\n",
      "2021-06-28 20:17:06,248 [__main__: INFO] Memeplex 2(out52.pdb): score didn't improve... Learn from global best Pb\n",
      "2021-06-28 20:17:14,461 [__main__: INFO] out55.pdb -- score = 209332782520.484\n",
      "2021-06-28 20:17:14,461 [__main__: INFO] Memeplex 5(out55.pdb): score didn't improve... generating a new frog\n",
      "2021-06-28 20:17:14,684 [__main__: INFO] out56.pdb -- score = 33387733.948\n",
      "2021-06-28 20:17:14,684 [__main__: INFO] Local search of Memeplex 6: Mutation 1/2 finished\n",
      "2021-06-28 20:17:14,685 [__main__: INFO] Local search of Memeplex 6: Mutation 1/2\n",
      "2021-06-28 20:17:14,685 [__main__: INFO] Memeplex 6(out56.pdb): Learn from local best Pb\n",
      "2021-06-28 20:17:15,018 [__main__: INFO] out60.pdb -- score = 7826803945629.460\n",
      "2021-06-28 20:17:15,019 [__main__: INFO] Memeplex 10(out60.pdb): score didn't improve... Learn from global best Pb\n",
      "2021-06-28 20:17:15,031 [__main__: INFO] out53.pdb -- score = 836592.269\n",
      "2021-06-28 20:17:15,031 [__main__: INFO] Local search of Memeplex 3: Mutation 1/2 finished\n",
      "2021-06-28 20:17:15,031 [__main__: INFO] Local search of Memeplex 3: Mutation 1/2\n",
      "2021-06-28 20:17:15,032 [__main__: INFO] Memeplex 3(out53.pdb): Learn from local best Pb\n",
      "2021-06-28 20:17:15,130 [__main__: INFO] out59.pdb -- score = 41933543487.108\n",
      "2021-06-28 20:17:15,131 [__main__: INFO] Memeplex 9(out59.pdb): score didn't improve... generating a new frog\n",
      "2021-06-28 20:17:15,442 [__main__: INFO] out51.pdb -- score = 354304748.913\n",
      "2021-06-28 20:17:15,442 [__main__: INFO] Memeplex 1(out51.pdb): score didn't improve... generating a new frog\n",
      "2021-06-28 20:17:15,511 [__main__: INFO] out54.pdb -- score = 65375980.295\n",
      "2021-06-28 20:17:15,512 [__main__: INFO] Memeplex 4(out54.pdb): score didn't improve... generating a new frog\n",
      "2021-06-28 20:17:16,171 [__main__: INFO] out57.pdb -- score = 3231672.189\n",
      "2021-06-28 20:17:16,171 [__main__: INFO] Memeplex 7(out57.pdb): score didn't improve... Learn from global best Pb\n",
      "2021-06-28 20:17:16,629 [__main__: INFO] out52.pdb -- score = 3074856.515\n",
      "2021-06-28 20:17:16,630 [__main__: INFO] Local search of Memeplex 2: Mutation 1/2 finished\n",
      "2021-06-28 20:17:16,630 [__main__: INFO] Local search of Memeplex 2: Mutation 1/2\n",
      "2021-06-28 20:17:16,630 [__main__: INFO] Memeplex 2(out52.pdb): Learn from local best Pb\n",
      "2021-06-28 20:17:17,255 [__main__: INFO] out58.pdb -- score = 169619.362\n",
      "2021-06-28 20:17:17,256 [__main__: INFO] Memeplex 8(out58.pdb): score didn't improve... Learn from global best Pb\n",
      "2021-06-28 20:17:24,188 [__main__: INFO] out56.pdb -- score = 646206230347.182\n",
      "2021-06-28 20:17:24,188 [__main__: INFO] Memeplex 6(out56.pdb): score didn't improve... Learn from global best Pb\n",
      "2021-06-28 20:17:24,377 [__main__: INFO] out59.pdb -- score = 679929535.752\n",
      "2021-06-28 20:17:24,377 [__main__: INFO] Local search of Memeplex 9: Mutation 1/2 finished\n",
      "2021-06-28 20:17:24,378 [__main__: INFO] Local search of Memeplex 9: Mutation 1/2\n",
      "2021-06-28 20:17:24,378 [__main__: INFO] Memeplex 9(out59.pdb): Learn from local best Pb\n",
      "2021-06-28 20:17:24,524 [__main__: INFO] out60.pdb -- score = 6680491694.762\n",
      "2021-06-28 20:17:24,525 [__main__: INFO] Memeplex 10(out60.pdb): score didn't improve... generating a new frog\n",
      "2021-06-28 20:17:24,824 [__main__: INFO] out53.pdb -- score = 597848471.903\n",
      "2021-06-28 20:17:24,824 [__main__: INFO] Memeplex 3(out53.pdb): score didn't improve... Learn from global best Pb\n",
      "2021-06-28 20:17:25,078 [__main__: INFO] out54.pdb -- score = 542945675.815\n",
      "2021-06-28 20:17:25,079 [__main__: INFO] Local search of Memeplex 4: Mutation 1/2 finished\n",
      "2021-06-28 20:17:25,079 [__main__: INFO] Local search of Memeplex 4: Mutation 1/2\n",
      "2021-06-28 20:17:25,079 [__main__: INFO] Memeplex 4(out54.pdb): Learn from local best Pb\n",
      "2021-06-28 20:17:25,465 [__main__: INFO] out55.pdb -- score = 665750.118\n",
      "2021-06-28 20:17:25,465 [__main__: INFO] Local search of Memeplex 5: Mutation 1/2 finished\n",
      "2021-06-28 20:17:25,465 [__main__: INFO] Local search of Memeplex 5: Mutation 1/2\n",
      "2021-06-28 20:17:25,466 [__main__: INFO] Memeplex 5(out55.pdb): Learn from local best Pb\n",
      "2021-06-28 20:17:26,256 [__main__: INFO] out51.pdb -- score = 3721602.856\n",
      "2021-06-28 20:17:26,256 [__main__: INFO] Local search of Memeplex 1: Mutation 1/2 finished\n",
      "2021-06-28 20:17:26,256 [__main__: INFO] Local search of Memeplex 1: Mutation 1/2\n",
      "2021-06-28 20:17:26,257 [__main__: INFO] Memeplex 1(out51.pdb): Learn from local best Pb\n",
      "2021-06-28 20:17:27,147 [__main__: INFO] out52.pdb -- score = 64327.085\n",
      "2021-06-28 20:17:27,148 [__main__: INFO] Local search of Memeplex 2: Mutation 2/2 finished\n",
      "2021-06-28 20:17:27,333 [__main__: INFO] out57.pdb -- score = 2981432.894\n",
      "2021-06-28 20:17:27,334 [__main__: INFO] Memeplex 7(out57.pdb): score didn't improve... generating a new frog\n",
      "2021-06-28 20:17:28,632 [__main__: INFO] out58.pdb -- score = 29.069\n",
      "2021-06-28 20:17:28,633 [__main__: INFO] Local search of Memeplex 8: Mutation 2/2 finished\n",
      "2021-06-28 20:17:33,717 [__main__: INFO] out56.pdb -- score = 53246362.729\n",
      "2021-06-28 20:17:33,717 [__main__: INFO] Memeplex 6(out56.pdb): score didn't improve... generating a new frog\n",
      "2021-06-28 20:17:34,026 [__main__: INFO] out59.pdb -- score = 5178737771341.844\n",
      "2021-06-28 20:17:34,026 [__main__: INFO] Memeplex 9(out59.pdb): score didn't improve... Learn from global best Pb\n",
      "2021-06-28 20:17:34,116 [__main__: INFO] out53.pdb -- score = 25199728.657\n",
      "2021-06-28 20:17:34,116 [__main__: INFO] Memeplex 3(out53.pdb): score didn't improve... generating a new frog\n",
      "2021-06-28 20:17:34,220 [__main__: INFO] out54.pdb -- score = 11213580.562\n",
      "2021-06-28 20:17:34,220 [__main__: INFO] Local search of Memeplex 4: Mutation 2/2 finished\n",
      "2021-06-28 20:17:34,364 [__main__: INFO] out60.pdb -- score = 11545197186.474\n",
      "2021-06-28 20:17:34,364 [__main__: INFO] Local search of Memeplex 10: Mutation 2/2 finished\n",
      "2021-06-28 20:17:36,486 [__main__: INFO] out55.pdb -- score = -37.467\n",
      "2021-06-28 20:17:36,487 [__main__: INFO] Local search of Memeplex 5: Mutation 2/2 finished\n",
      "2021-06-28 20:17:36,729 [__main__: INFO] out51.pdb -- score = 13078136.024\n",
      "2021-06-28 20:17:36,729 [__main__: INFO] Memeplex 1(out51.pdb): score didn't improve... Learn from global best Pb\n",
      "2021-06-28 20:17:37,628 [__main__: INFO] out57.pdb -- score = 121708825034567.312\n",
      "2021-06-28 20:17:37,628 [__main__: INFO] Local search of Memeplex 7: Mutation 2/2 finished\n",
      "2021-06-28 20:17:42,980 [__main__: INFO] out59.pdb -- score = 65138245.750\n",
      "2021-06-28 20:17:42,980 [__main__: INFO] Local search of Memeplex 9: Mutation 2/2 finished\n",
      "2021-06-28 20:17:42,993 [__main__: INFO] out56.pdb -- score = 947166820.624\n",
      "2021-06-28 20:17:42,994 [__main__: INFO] Local search of Memeplex 6: Mutation 2/2 finished\n",
      "2021-06-28 20:17:44,464 [__main__: INFO] out53.pdb -- score = 5610959.198\n",
      "2021-06-28 20:17:44,464 [__main__: INFO] Local search of Memeplex 3: Mutation 2/2 finished\n",
      "2021-06-28 20:17:46,514 [__main__: INFO] out51.pdb -- score = 213942.444\n",
      "2021-06-28 20:17:46,514 [__main__: INFO] Local search of Memeplex 1: Mutation 2/2 finished\n",
      "2021-06-28 20:17:46,538 [__main__: INFO] Shuffling the memeplexes and sorting them\n",
      "2021-06-28 20:17:46,538 [__main__: INFO] Creating a new directory - ./native_4dn4\n",
      "2021-06-28 20:17:46,538 [__main__: INFO] Moving best frog from each memeplexes to the new directory - ./native_4dn4\n"
     ]
    }
   ],
   "source": [
    "!python sfla.py --pdb Data/4dn4_LH:M -n 1"
   ]
  },
  {
   "cell_type": "code",
   "execution_count": null,
   "metadata": {},
   "outputs": [],
   "source": [
    "!./sfladock.sh"
   ]
  },
  {
   "cell_type": "code",
   "execution_count": null,
   "metadata": {},
   "outputs": [],
   "source": []
  },
  {
   "cell_type": "code",
   "execution_count": 46,
   "metadata": {},
   "outputs": [
    {
     "data": {
      "text/plain": [
       "\u001b[0;31mSignature:\u001b[0m \u001b[0mmodel\u001b[0m\u001b[0;34m.\u001b[0m\u001b[0mfind_score\u001b[0m\u001b[0;34m(\u001b[0m\u001b[0margs\u001b[0m\u001b[0;34m)\u001b[0m\u001b[0;34m\u001b[0m\u001b[0;34m\u001b[0m\u001b[0m\n",
       "\u001b[0;31mDocstring:\u001b[0m <no docstring>\n",
       "\u001b[0;31mSource:\u001b[0m   \n",
       "    \u001b[0;32mdef\u001b[0m \u001b[0mmemeplexes\u001b[0m\u001b[0;34m(\u001b[0m\u001b[0mself\u001b[0m\u001b[0;34m,\u001b[0m \u001b[0mmemeplexes\u001b[0m\u001b[0;34m)\u001b[0m\u001b[0;34m:\u001b[0m\u001b[0;34m\u001b[0m\n",
       "\u001b[0;34m\u001b[0m        \u001b[0mself\u001b[0m\u001b[0;34m.\u001b[0m\u001b[0m_memeplexes\u001b[0m \u001b[0;34m=\u001b[0m \u001b[0mmemeplexes\u001b[0m\u001b[0;34m\u001b[0m\u001b[0;34m\u001b[0m\u001b[0m\n",
       "\u001b[0;31mFile:\u001b[0m      ~/Documents/SFLADock/sfla/sfla.py\n",
       "\u001b[0;31mType:\u001b[0m      method\n"
      ]
     },
     "metadata": {},
     "output_type": "display_data"
    }
   ],
   "source": [
    "??model.find_score"
   ]
  },
  {
   "cell_type": "code",
   "execution_count": 62,
   "metadata": {},
   "outputs": [],
   "source": [
    "from enum import unique\n",
    "import os, sys, logging\n",
    "import argparse, shutil\n",
    "import concurrent.futures\n",
    "\n",
    "import numpy as np\n",
    "from Bio.PDB import *\n",
    "from pyquaternion import Quaternion\n",
    "\n",
    "from utils.Complex import Complex\n",
    "from utils import pdbtools\n",
    "from utils import pdb_resdepth\n",
    "from utils import matrice_distances\n",
    "from utils import Lennard_Jones\n",
    "from utils import electrostatic\n",
    "from utils import poses"
   ]
  },
  {
   "cell_type": "code",
   "execution_count": 68,
   "metadata": {},
   "outputs": [],
   "source": [
    "def find_score_test():\n",
    "    #logger.info(f\"out{args[1]}.pdb: Calculating score\")\n",
    "    #output_file = self.write_to_file(args[0], args[1])\n",
    "    #pdbfile = os.path.join(self.mypath, output_file)\n",
    "    my_struct = pdbtools.read_pdb('Data/4dn4_LH:M/4dn4_LH:M.pdb')\n",
    "    try:\n",
    "        depth_dict = pdb_resdepth.calculate_resdepth(structure=my_struct, pdb_filename='Data/4dn4_LH:M/4dn4_LH:M.pdb', method=\"msms\")\n",
    "    except:\n",
    "        return\n",
    "\n",
    "    distmat = matrice_distances.calc_distance_matrix(\n",
    "        structure=my_struct,\n",
    "        depth=depth_dict,\n",
    "        chain_R=model.receptor.chain,\n",
    "        chain_L=model.ligand.chain,\n",
    "        dist_max=8.6,\n",
    "        method=\"msms\",\n",
    "    )\n",
    "\n",
    "    vdw = Lennard_Jones.lennard_jones(dist_matrix=distmat)\n",
    "    electro = electrostatic.electrostatic(inter_resid_dict=distmat, pH=7)\n",
    "    score = vdw + electro\n",
    "    return score\n"
   ]
  },
  {
   "cell_type": "code",
   "execution_count": 60,
   "metadata": {},
   "outputs": [
    {
     "data": {
      "text/plain": [
       "['L', 'H']"
      ]
     },
     "execution_count": 60,
     "metadata": {},
     "output_type": "execute_result"
    }
   ],
   "source": [
    "model.receptor.chain"
   ]
  },
  {
   "cell_type": "code",
   "execution_count": 69,
   "metadata": {},
   "outputs": [],
   "source": [
    "res = find_score_test()"
   ]
  },
  {
   "cell_type": "code",
   "execution_count": 70,
   "metadata": {},
   "outputs": [
    {
     "data": {
      "text/plain": [
       "-16.783977083366942"
      ]
     },
     "execution_count": 70,
     "metadata": {},
     "output_type": "execute_result"
    }
   ],
   "source": [
    "res"
   ]
  },
  {
   "cell_type": "code",
   "execution_count": 12,
   "metadata": {},
   "outputs": [
    {
     "data": {
      "text/plain": [
       "78.16789874416358"
      ]
     },
     "execution_count": 12,
     "metadata": {},
     "output_type": "execute_result"
    }
   ],
   "source": [
    "model.receptor_max_diameter"
   ]
  },
  {
   "cell_type": "code",
   "execution_count": 13,
   "metadata": {},
   "outputs": [
    {
     "data": {
      "text/plain": [
       "44.166473587230875"
      ]
     },
     "execution_count": 13,
     "metadata": {},
     "output_type": "execute_result"
    }
   ],
   "source": [
    "model.ligand_max_diameter"
   ]
  },
  {
   "cell_type": "code",
   "execution_count": 16,
   "metadata": {},
   "outputs": [],
   "source": [
    "import numpy as np"
   ]
  },
  {
   "cell_type": "code",
   "execution_count": 17,
   "metadata": {},
   "outputs": [],
   "source": [
    "rng = np.random.default_rng(0)"
   ]
  },
  {
   "cell_type": "code",
   "execution_count": 21,
   "metadata": {},
   "outputs": [
    {
     "data": {
      "text/plain": [
       "\u001b[0;31mDocstring:\u001b[0m\n",
       "random(size=None, dtype=np.float64, out=None)\n",
       "\n",
       "Return random floats in the half-open interval [0.0, 1.0).\n",
       "\n",
       "Results are from the \"continuous uniform\" distribution over the\n",
       "stated interval.  To sample :math:`Unif[a, b), b > a` multiply\n",
       "the output of `random` by `(b-a)` and add `a`::\n",
       "\n",
       "  (b - a) * random() + a\n",
       "\n",
       "Parameters\n",
       "----------\n",
       "size : int or tuple of ints, optional\n",
       "    Output shape.  If the given shape is, e.g., ``(m, n, k)``, then\n",
       "    ``m * n * k`` samples are drawn.  Default is None, in which case a\n",
       "    single value is returned.\n",
       "dtype : dtype, optional\n",
       "    Desired dtype of the result, only `float64` and `float32` are supported.\n",
       "    Byteorder must be native. The default value is np.float64.\n",
       "out : ndarray, optional\n",
       "    Alternative output array in which to place the result. If size is not None,\n",
       "    it must have the same shape as the provided size and must match the type of\n",
       "    the output values.\n",
       "\n",
       "Returns\n",
       "-------\n",
       "out : float or ndarray of floats\n",
       "    Array of random floats of shape `size` (unless ``size=None``, in which\n",
       "    case a single float is returned).\n",
       "\n",
       "Examples\n",
       "--------\n",
       ">>> rng = np.random.default_rng()\n",
       ">>> rng.random()\n",
       "0.47108547995356098 # random\n",
       ">>> type(rng.random())\n",
       "<class 'float'>\n",
       ">>> rng.random((5,))\n",
       "array([ 0.30220482,  0.86820401,  0.1654503 ,  0.11659149,  0.54323428]) # random\n",
       "\n",
       "Three-by-two array of random numbers from [-5, 0):\n",
       "\n",
       ">>> 5 * rng.random((3, 2)) - 5\n",
       "array([[-3.99149989, -0.52338984], # random\n",
       "       [-2.99091858, -0.79479508],\n",
       "       [-1.23204345, -1.75224494]])\n",
       "\u001b[0;31mType:\u001b[0m      builtin_function_or_method\n"
      ]
     },
     "metadata": {},
     "output_type": "display_data"
    }
   ],
   "source": [
    "??rng.random"
   ]
  },
  {
   "cell_type": "code",
   "execution_count": null,
   "metadata": {},
   "outputs": [],
   "source": []
  }
 ],
 "metadata": {
  "interpreter": {
   "hash": "893ff73af0343fa8c074fd691fa7d354239cd6af6e64ae4bc39d961f124ac4c2"
  },
  "kernelspec": {
   "display_name": "Python 3",
   "language": "python",
   "name": "python3"
  },
  "language_info": {
   "codemirror_mode": {
    "name": "ipython",
    "version": 3
   },
   "file_extension": ".py",
   "mimetype": "text/x-python",
   "name": "python",
   "nbconvert_exporter": "python",
   "pygments_lexer": "ipython3",
   "version": "3.9.2"
  }
 },
 "nbformat": 4,
 "nbformat_minor": 4
}
