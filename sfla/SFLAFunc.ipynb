{
 "cells": [
  {
   "cell_type": "code",
   "execution_count": 1,
   "id": "ca1af695-9a4c-4927-91c9-ecbe86cacd27",
   "metadata": {},
   "outputs": [],
   "source": [
    "import os, glob, sys, math\n",
    "import concurrent.futures\n",
    "import argparse\n",
    "\n",
    "import shutil\n",
    "\n",
    "#from meetdock import *\n",
    "# from scipy.spatial.transform import Rotation as R\n",
    "from sklearn.neighbors import NearestNeighbors\n",
    "import numpy as np\n",
    "import pandas as pd\n",
    "from Bio.PDB import *\n",
    "from Bio.PDB.ResidueDepth import get_surface\n",
    "from Bio.PDB.PDBParser import PDBParser\n",
    "from Bio.PDB.ResidueDepth import min_dist\n",
    "from pyquaternion import Quaternion\n",
    "\n",
    "from utils import pdbtools\n",
    "from utils import pdb_resdepth\n",
    "from utils import matrice_distances\n",
    "from utils import Lennard_Jones\n",
    "from utils import electrostatic\n",
    "from utils import combine_methods as cm\n",
    "from utils import tm_score as tm\n",
    "\n",
    "# from surface import *\n",
    "p = PDBParser()\n",
    "\n",
    "recognized_residues = ['ALA', 'ARG', 'ASN', 'ASP', 'CYS', 'GLN', 'GLU', 'GLY', 'HIS', 'ILE', 'LEU', 'LYS', 'MET',\n",
    "                           'PHE', 'PRO', 'SER', 'THR', 'TRP', 'TYR', 'VAL', 'NH', 'OC']\n",
    "atom_types = [['N'], ['CA'], ['C'], ['O'], ['GLYCA'],\n",
    "                  ['ALACB', 'ARGCB', 'ASNCB', 'ASPCB', 'CYSCB', 'GLNCB', 'GLUCB', 'HISCB', 'ILECB', 'LEUCB', 'LYSCB',\n",
    "                   'METCB', 'PHECB', 'PROCB', 'PROCG', 'PROCD', 'THRCB', 'TRPCB', 'TYRCB', 'VALCB'],\n",
    "                  ['LYSCE', 'LYSNZ'], ['LYSCD'], ['ASPCG', 'ASPOD1', 'ASPOD2', 'GLUCD', 'GLUOE1', 'GLUOE2'],\n",
    "                  ['ARGCZ', 'ARGNH1', 'ARGNH2'],\n",
    "                  ['ASNCG', 'ASNOD1', 'ASNND2', 'GLNCD', 'GLNOE1', 'GLNNE2'], ['ARGCD', 'ARGNE'],\n",
    "                  ['SERCB', 'SEROG', 'THROG1', 'TYROH'],\n",
    "                  ['HISCG', 'HISND1', 'HISCD2', 'HISCE1', 'HISNE2', 'TRPNE1'], ['TYRCE1', 'TYRCE2', 'TYRCZ'],\n",
    "                  ['ARGCG', 'GLNCG', 'GLUCG', 'ILECG1', 'LEUCG', 'LYSCG', 'METCG', 'METSD', 'PHECG', 'PHECD1', 'PHECD2',\n",
    "                   'PHECE1', 'PHECE2', 'PHECZ', 'THRCG2', 'TRPCG', 'TRPCD1', 'TRPCD2', 'TRPCE2', 'TRPCE3', 'TRPCZ2',\n",
    "                   'TRPCZ3', 'TRPCH2', 'TYRCG', 'TYRCD1', 'TYRCD2'],\n",
    "                  ['ILECG2', 'ILECD1', 'ILECD', 'LEUCD1', 'LEUCD2', 'METCE', 'VALCG1', 'VALCG2'], ['CYSSG']]\n",
    "\n",
    "rng = np.random.default_rng(0)"
   ]
  },
  {
   "cell_type": "code",
   "execution_count": 2,
   "id": "9f57d923-8a4f-4217-87a9-3cbac4b94639",
   "metadata": {},
   "outputs": [],
   "source": [
    "def chaindef(file, rec_chain):\n",
    "    \n",
    "    structure=p.get_structure('1bth',file)\n",
    "    coordinatesr = np.empty((0,3))\n",
    "    tobi_residuesr = []\n",
    "    residue_id=[]\n",
    "    boundary_residue_coord=np.empty((0,3))\n",
    "    atom_coord=np.empty((0,3))\n",
    "    boundary_residue_id=[]\n",
    "    boundary_residue_name=[]\n",
    "    #rcc=0\n",
    "    for model in structure:\n",
    "        surface = get_surface(model)\n",
    "        for chain in model:\n",
    "            if chain.id in rec_chain:\n",
    "                for residue in chain:\n",
    "                    #print('hi')\n",
    "                    cx = 0.0\n",
    "                    cy = 0.0\n",
    "                    cz = 0.0\n",
    "                    count = 0\n",
    "                    residue_index=recognized_residues.index(residue.get_resname())\n",
    "                    atom_set=np.empty((0,3))\n",
    "                    for atom in residue:\n",
    "                        if  not atom.name=='H':\n",
    "                            ax=atom.get_coord()[0]\n",
    "                            ay=atom.get_coord()[1]\n",
    "                            az=atom.get_coord()[2]\n",
    "                            atom_set=np.append(atom_set,[atom.get_coord()], axis=0)\n",
    "                            atom_coord=np.append(atom_coord,[atom.get_coord()], axis=0)\n",
    "                            cur_atom=residue.get_resname()+atom.name\n",
    "                            for typ in atom_types:\n",
    "                                if  cur_atom in typ or atom.name in ['N','CA','C','O']:\t#typ:#atom.name now added\n",
    "                                    cx += ax\n",
    "                                    cy += ay\n",
    "                                    cz += az\n",
    "                                    count += 1\n",
    "                                else:\n",
    "                                    pass\n",
    "                    cx/= float(count)\n",
    "                    cy/= float(count)\n",
    "                    cz/= float(count)\n",
    "                    coordinatesr=np.append(coordinatesr,[[cx, cy, cz]], axis=0)\n",
    "                    #rcc+=1\n",
    "                    tobi_residuesr.append(residue_index)\n",
    "                    residue_id.append(str(residue.get_id()[1])+residue.get_id()[2])\n",
    "                    fji=0     #check whether any of of the atoms in the resdue are at a distance 3 A from surface\n",
    "                    for ji in range(len(atom_set)):\n",
    "                        if min_dist(atom_set[ji], surface) < 2:\n",
    "                            fji=1\n",
    "                            break\n",
    "                    if fji==1:\n",
    "                        boundary_residue_coord=np.append(boundary_residue_coord,[[cx, cy, cz]],axis=0)\n",
    "                        #boundary_atom_name.append(atom.name)\n",
    "                        boundary_residue_id.append(str(residue.get_id()[1])+residue.get_id()[2])\n",
    "                        boundary_residue_name.append(residue.get_resname())\n",
    "    #print(rcc)\n",
    "    return boundary_residue_coord,boundary_residue_name, boundary_residue_id, atom_coord"
   ]
  },
  {
   "cell_type": "code",
   "execution_count": 3,
   "id": "8584227d-09bb-4345-ae65-3d4f9d498fd5",
   "metadata": {},
   "outputs": [],
   "source": [
    "def findPointNormals(points, numNeighbours, viewPoint, residue_id, residue_name,f):\n",
    "    \"\"\"\n",
    "    xu=[]\n",
    "    for i in points:\n",
    "        k=[]\n",
    "        for j in i:\n",
    "             k.append(float(j))\n",
    "        xu.append(k)\n",
    "    viewPoint =[float(x) for x in viewPoint]\n",
    "    X=xu\n",
    "    \"\"\"\n",
    "    nbrs = NearestNeighbors(n_neighbors=numNeighbours+1, algorithm='kd_tree').fit(points)\n",
    "    distances, indices = nbrs.kneighbors(points)\n",
    "    n = [] #indices[:,2:]\n",
    "    [n.append(indices[i][1:].tolist()) for i in range(0,len(indices))]\n",
    "\n",
    "    \n",
    "      #%find difference in position from neighbouring points\n",
    "    n=np.asarray(n).flatten('F')    \n",
    "    p = np.tile(points,(numNeighbours,1)) - points[n]\n",
    "    x=np.zeros((3,len(points),numNeighbours))\n",
    "    for i in range(0,3):\n",
    "        for j in range(0,len(points)):\n",
    "            for k in range(0,numNeighbours):\n",
    "                x[i,j,k]=p[k*len(points)+j,i]\n",
    "    p=x\n",
    "    C = np.zeros((len(points),6))\n",
    "    C[:,0]= np.sum(np.multiply(p[0],p[0]),axis=1)\n",
    "    C[:,1]= np.sum(np.multiply(p[0],p[1]),axis=1)\n",
    "    C[:,2]= np.sum(np.multiply(p[0],p[2]),axis=1)\n",
    "    C[:,3]= np.sum(np.multiply(p[1],p[1]),axis=1)\n",
    "    C[:,4]= np.sum(np.multiply(p[1],p[2]),axis=1)\n",
    "    C[:,5]= np.sum(np.multiply(p[2],p[2]),axis=1)\n",
    "    C = np.divide(C, numNeighbours)\n",
    "    normals = np.zeros((len(points),3))\n",
    "    curvature = np.zeros((len(points),1))\n",
    "    for i in range(0,len(points)):\n",
    "        Cmat = [[C[i,0], C[i,1] ,C[i,2]], [C[i,1], C[i,3], C[i,4]], [C[i,2], C[i,4], C[i,5]]]\n",
    "        [value,vector] = np.linalg.eigh(Cmat)\n",
    "        [lam,k] = min(value), value.tolist().index(min(value))\n",
    "        normals[i,:] = vector[:,k] #np.transpose(vector[:,k])\n",
    "        curvature[i]= lam / sum(value)\n",
    "        \n",
    "    return normals, curvature"
   ]
  },
  {
   "cell_type": "code",
   "execution_count": 4,
   "id": "e3750efe-f155-4724-9af6-96fb0633b132",
   "metadata": {},
   "outputs": [],
   "source": [
    "def do_something(args):\n",
    "    output_file='out'+str(args[1])+'.pdb'\n",
    "    out=open(os.path.join(mypath, output_file),'w')\n",
    "    sc=open('score.txt','a')\n",
    "    in1=open(inp2,'r')\n",
    "    in2=open(inp1,'r')\n",
    "    for line in in1:\n",
    "        if 'ATOM' in line:\n",
    "              out.write(line) \n",
    "    indexing=0\n",
    "    new_co=args[0]\n",
    "    for line in in2:\n",
    "        if 'ATOM' in line:\n",
    "            #print(line)\n",
    "            l=line.split()\n",
    "            l[0]=l[0].ljust(5)\n",
    "            l[1]=l[1].rjust(5)\n",
    "            l[2]=l[2].ljust(3)\n",
    "            l[3]=l[3].ljust(3)\n",
    "            l[4]=line[21]\n",
    "            l[5]=('%4d' % (int(line[22:26]))).rjust(4)\n",
    "            l[6]=('%8.3f' % (float(new_co[indexing][0]))).rjust(8)\n",
    "            l[7]=('%8.3f' % (float(new_co[indexing][1]))).rjust(8)\n",
    "            l[8]=('%8.3f' % (float(new_co[indexing][2]))).rjust(8)\n",
    "            out.write('{0} {1}  {2} {3} {4}{5}    {6}{7}{8}' .format(l[0],l[1],l[2],l[3],l[4],l[5],l[6],l[7],l[8]))\n",
    "            out.write('\\n')\n",
    "            indexing+=1\n",
    "    out.close()\n",
    "    #print(\"depth ok\")\n",
    "    pdbfile=os.path.join(mypath, output_file)\n",
    "    my_struct = pdbtools.read_pdb(pdbfile)\n",
    "    try:\n",
    "        depth_dict = pdb_resdepth.calculate_resdepth(structure=my_struct, pdb_filename=pdbfile, method=\"msms\")\n",
    "    except:\n",
    "        os.remove(os.path.join(mypath, output_file))\n",
    "        return\n",
    "    \n",
    "    distmat = matrice_distances.calc_distance_matrix(structure=my_struct, depth= depth_dict, chain_R=rec_chain, chain_L=lig_chain, dist_max=dist, method = depth)\n",
    "\n",
    "    vdw = Lennard_Jones.lennard_jones(dist_matrix=distmat)\n",
    "    electro = electrostatic.electrostatic(inter_resid_dict=distmat, pH =pH)\n",
    "    score=vdw+electro\n",
    "    #if score>=0:\n",
    "    #      os.remove(os.path.join(mypath, output_file))#eliminate the bad solutions\n",
    "\n",
    "    #      return\n",
    "    #else:\n",
    "\n",
    "    #score=np.random.randint(-30,20)\n",
    "    #sc.write(str(args[1])+'   '+ str(score)+'\\n')\n",
    "    #sc.close()\n",
    "    return score, args[1], args[2], args[3]"
   ]
  },
  {
   "cell_type": "code",
   "execution_count": 5,
   "id": "ebebed21-abc2-4b21-94b6-35ab1817bac2",
   "metadata": {},
   "outputs": [],
   "source": [
    "def find_score(args):\n",
    "    output_file='out'+str(args[1])+'.pdb'\n",
    "    shape, electro, jones, proba = True, True, True, False\n",
    "    pH = 7\n",
    "    dist = 8.6\n",
    "    with open(os.path.join(mypath, output_file),'w') as out:\n",
    "        in1 = open(inp2, \"r\")\n",
    "        in2 = open(inp1, \"r\")\n",
    "        for line in in1:\n",
    "            if \"ATOM\" in line:\n",
    "                out.write(line)\n",
    "        indexing = 0\n",
    "        new_co = args[0]\n",
    "        for line in in2:\n",
    "            if \"ATOM\" in line:\n",
    "                # print(line)\n",
    "                l = line.split()\n",
    "                l[0] = l[0].ljust(5)\n",
    "                l[1] = l[1].rjust(5)\n",
    "                l[2] = l[2].ljust(3)\n",
    "                l[3] = l[3].ljust(3)\n",
    "                l[4] = line[21]\n",
    "                l[5] = (\"%4d\" % (int(line[22:26]))).rjust(4)\n",
    "                l[6] = (\"%8.3f\" % (float(new_co[indexing][0]))).rjust(8)\n",
    "                l[7] = (\"%8.3f\" % (float(new_co[indexing][1]))).rjust(8)\n",
    "                l[8] = (\"%8.3f\" % (float(new_co[indexing][2]))).rjust(8)\n",
    "                out.write(\n",
    "                    \"{0} {1}  {2} {3} {4}{5}    {6}{7}{8}\".format(\n",
    "                        l[0], l[1], l[2], l[3], l[4], l[5], l[6], l[7], l[8]\n",
    "                    )\n",
    "                )\n",
    "                out.write(\"\\n\")\n",
    "                indexing += 1\n",
    "\n",
    "    pdbfile = os.path.join(mypath, output_file)\n",
    "    res = cm.combine_score(pdbfile, recepChain=rec_chain, ligChain=lig_chain, statpotrun=proba, vdwrun=jones, electrorun=electro, shaperun=shape, pH=pH, depth=depth, dist=dist)\n",
    "    mydf = pd.DataFrame(res,  index=[0])\n",
    "    mydf = mydf.set_index('pdb')\n",
    "    score = tm.tm_score(mydf, execdir='.')\n",
    "    return float(score['tm_score_prediction']), args[1], args[2], args[3]"
   ]
  },
  {
   "cell_type": "code",
   "execution_count": null,
   "id": "4f951955-efd0-4732-9174-8cc7929f91d6",
   "metadata": {},
   "outputs": [],
   "source": []
  },
  {
   "cell_type": "code",
   "execution_count": 6,
   "id": "64ddb184-3674-43ea-9215-88b1d65fc3f6",
   "metadata": {},
   "outputs": [],
   "source": [
    "def pdbpre(file1):\n",
    "    with open(os.path.join(args.pdb, file1), \"r\") as pdb_in: \n",
    "        with open(file1 + \"1.pdb\", \"w\") as out: \n",
    "            atmno = 1\n",
    "            resno = 0\n",
    "            res = \"\"\n",
    "            fr = \"\"\n",
    "            l = [\"\"] * 11\n",
    "            for line in pdb_in:\n",
    "                if \"ATOM\" in line[0:4]:\n",
    "                    li = line.split()\n",
    "                    l[0] = li[0].ljust(6)\n",
    "                    l[1] = str(atmno).rjust(4)\n",
    "                    l[2] = li[2].ljust(3)\n",
    "                    l[3] = li[3].ljust(3)\n",
    "                    l[4] = line[21]\n",
    "                    if fr != line[21]:\n",
    "                        atmno = 1\n",
    "                        resno = 0\n",
    "                        res = \"\"\n",
    "                        fr = line[21]\n",
    "                    if line[22:26] == res:\n",
    "                        l[5] = (\"%4d\" % (int(resno))).rjust(4)\n",
    "                    else:\n",
    "                        resno += 1\n",
    "                        res = line[22:26]\n",
    "                        l[5] = (\"%4d\" % (int(resno))).rjust(4)\n",
    "                    # if len(l[6])>10:\n",
    "                    l[6] = (\"%8.3f\" % (float(line[29:38]))).rjust(8)\n",
    "                    l[7] = (\"%8.3f\" % (float(line[38:46]))).rjust(8)\n",
    "                    l[8] = (\"%8.3f\" % (float(line[46:54]))).rjust(8)\n",
    "                    l[9] = (\"%6.2f\" % (float(line[55:60]))).rjust(6)\n",
    "                    l[10] = (\"%6.2f\" % (float(line[60:66]))).ljust(6)\n",
    "                    out.write(\n",
    "                        \"{0} {1}  {2} {3} {4}{5}    {6}{7}{8}{9}{10}\".format(\n",
    "                            l[0], l[1], l[2], l[3], l[4], l[5], l[6], l[7], l[8], l[9], l[10]\n",
    "                        )\n",
    "                    )\n",
    "                    out.write(\"\\n\")\n",
    "                    atmno += 1\n",
    "    return file1 + \"1.pdb\""
   ]
  },
  {
   "cell_type": "code",
   "execution_count": 53,
   "id": "10c88e77-e52d-48d9-b331-086109de2887",
   "metadata": {},
   "outputs": [],
   "source": [
    "def do_something1(args):\n",
    "    output_file='out_'+str(args[1])+'.pdb'\n",
    "    with open(os.path.join(mypath, output_file),'w') as out:\n",
    "        in2=open(inp1,'r')\n",
    "        indexing=0\n",
    "        new_co=args[0]\n",
    "        for line in in2:\n",
    "            if 'ATOM' in line:\n",
    "                #print(line)\n",
    "                l=line.split()\n",
    "                l[0]=l[0].ljust(5)\n",
    "                l[1]=l[1].rjust(5)\n",
    "                l[2]=l[2].ljust(3)\n",
    "                l[3]=l[3].ljust(3)\n",
    "                l[4]=line[21]\n",
    "                l[5]=('%4d' % (int(line[22:26]))).rjust(4)\n",
    "                l[6]=('%8.3f' % (float(new_co[indexing][0]))).rjust(8)\n",
    "                l[7]=('%8.3f' % (float(new_co[indexing][1]))).rjust(8)\n",
    "                l[8]=('%8.3f' % (float(new_co[indexing][2]))).rjust(8)\n",
    "                out.write('{0} {1}  {2} {3} {4}{5}    {6}{7}{8}' .format(l[0],l[1],l[2],l[3],l[4],l[5],l[6],l[7],l[8]))\n",
    "                out.write('\\n')\n",
    "                indexing+=1\n",
    "    alignment = tmscoring.TMscoring(inp2, os.path.join('poses/', output_file))\n",
    "    score = alignment.tmscore(**alignment.get_current_values())\n",
    "    score1 = alignment.rmsd(**alignment.get_current_values())\n",
    "    \n",
    "    #tms()\n",
    "    #score = tms.get_tm_score()\n",
    "    print(score, score1)\n",
    "    return score, args[1], args[2], args[3]"
   ]
  },
  {
   "cell_type": "code",
   "execution_count": 56,
   "id": "1ef09d90-0527-4bba-aa2c-68b07c02d9c6",
   "metadata": {},
   "outputs": [
    {
     "name": "stdout",
     "output_type": "stream",
     "text": [
      "0.0008423485683393902 52.30314890225165\n"
     ]
    }
   ],
   "source": [
    "res = do_something1(Doargs[16])"
   ]
  },
  {
   "cell_type": "code",
   "execution_count": 11,
   "id": "5c3a3701-b6ee-49f7-9820-9b961c01cadc",
   "metadata": {},
   "outputs": [],
   "source": [
    "pdb0 = '4dn4' \n",
    "pdb1 = ['LH', 'M']"
   ]
  },
  {
   "cell_type": "code",
   "execution_count": 12,
   "id": "39161143-3f67-4de0-9ae1-f09ef963195d",
   "metadata": {},
   "outputs": [],
   "source": [
    "class ArgsVal:\n",
    "    def __init__(self, pdb):\n",
    "        self.pdb = pdb"
   ]
  },
  {
   "cell_type": "code",
   "execution_count": 13,
   "id": "86d311e0-693b-4339-b020-f3c14284bf8a",
   "metadata": {},
   "outputs": [],
   "source": [
    "args = ArgsVal(\"Data/4dn4_LH:M\")"
   ]
  },
  {
   "cell_type": "code",
   "execution_count": 14,
   "id": "3a3c769b-bfac-45ca-9bc4-5af0ffaf3594",
   "metadata": {},
   "outputs": [],
   "source": [
    "depth = \"msms\"\n",
    "dist = 8.6\n",
    "pH = 7"
   ]
  },
  {
   "cell_type": "code",
   "execution_count": 15,
   "id": "ae0e3685-e8a1-4450-ac26-76662b4bc1cf",
   "metadata": {},
   "outputs": [],
   "source": [
    "rpdb=pdb1[0]+'_model_st.pdb'\n",
    "lpdb=pdb1[1]+'_model_st.pdb'\n",
    "lig_chain=[]\n",
    "rec_chain=[]\n",
    "for i in pdb1[0]:\n",
    "    rec_chain.append(i)\n",
    "for i in pdb1[1]:\n",
    "    lig_chain.append(i)"
   ]
  },
  {
   "cell_type": "code",
   "execution_count": 16,
   "id": "b94d77ee-1685-46eb-b74b-6afb6574935f",
   "metadata": {},
   "outputs": [],
   "source": [
    "inp1 = pdbpre(lpdb)\n",
    "inp2 = pdbpre(rpdb)"
   ]
  },
  {
   "cell_type": "code",
   "execution_count": 17,
   "id": "af5b6fb9-2bb3-464a-bcb8-aa86bcede062",
   "metadata": {},
   "outputs": [
    {
     "name": "stdout",
     "output_type": "stream",
     "text": [
      "2\n",
      "['L', 'H']\n"
     ]
    }
   ],
   "source": [
    "lig_coord, lig_res,lig_res_id, lig_atom=chaindef(inp1, lig_chain)\n",
    "rec_coord, rec_res,rec_res_id, rec_atom=chaindef(inp2, rec_chain)\n",
    "print(len(rec_chain))\n",
    "print(rec_chain)\n",
    "#print(rec_coord)"
   ]
  },
  {
   "cell_type": "code",
   "execution_count": 18,
   "id": "95d7bb68-882c-43e3-8fef-42bd144d6c2a",
   "metadata": {},
   "outputs": [],
   "source": [
    "rec_normal, rec_curve = findPointNormals(rec_coord, 20,[0,0,0], rec_res_id, rec_res, 'r')\n",
    "lig_normal, lig_curve = findPointNormals(lig_coord, 20,[0,0,0], lig_res_id, lig_res, 'r')"
   ]
  },
  {
   "cell_type": "code",
   "execution_count": 46,
   "id": "4d408a5c-9fd6-412a-bb61-90e23cf7f4d4",
   "metadata": {},
   "outputs": [],
   "source": [
    "frogs = 50 ## No of frogs (population)\n",
    "\n",
    "StructInfo = {}\n",
    "init = 0\n",
    "mypath='poses/'"
   ]
  },
  {
   "cell_type": "markdown",
   "id": "602063ea-f0b4-4b90-bfe8-d96650f918c1",
   "metadata": {},
   "source": [
    "### Multi - with Function"
   ]
  },
  {
   "cell_type": "code",
   "execution_count": null,
   "id": "826a0f04-17af-4f9f-ab11-6f26e5d89a27",
   "metadata": {},
   "outputs": [],
   "source": []
  },
  {
   "cell_type": "code",
   "execution_count": 133,
   "id": "eec0abf9-b102-497d-83e8-93da52fc5664",
   "metadata": {},
   "outputs": [],
   "source": [
    "frogs = 200 ## No of frogs (population)\n",
    "\n",
    "StructInfo = {}\n",
    "init = 0\n",
    "mypath='poses/'"
   ]
  },
  {
   "cell_type": "code",
   "execution_count": 135,
   "id": "3d1033ec-7de4-48a4-8130-16339ba2cbf3",
   "metadata": {},
   "outputs": [],
   "source": [
    "def generate_init_population():\n",
    "    global init\n",
    "    with concurrent.futures.ProcessPoolExecutor() as executor:\n",
    "        Doargs = []\n",
    "        for _ in range(frogs):\n",
    "            Doargs += generate_one_frog(init)\n",
    "            init += 1\n",
    "        results = executor.map(find_score, Doargs)\n",
    "        for r in results:\n",
    "            if r:\n",
    "                StructInfo[r[1]] = [r[0], r[2]]    "
   ]
  },
  {
   "cell_type": "code",
   "execution_count": null,
   "id": "e2d46462-e324-4cfd-93e1-a7fb81581657",
   "metadata": {},
   "outputs": [],
   "source": [
    "generate_init_population()"
   ]
  },
  {
   "cell_type": "code",
   "execution_count": 223,
   "id": "1380230f-dd10-4c97-b9fa-ecd9408ecfa4",
   "metadata": {},
   "outputs": [
    {
     "data": {
      "text/plain": [
       "50"
      ]
     },
     "execution_count": 223,
     "metadata": {},
     "output_type": "execute_result"
    }
   ],
   "source": [
    "len(Doargs)"
   ]
  },
  {
   "cell_type": "code",
   "execution_count": null,
   "id": "9b1b85e1-7e20-4a66-92da-06f0ac2a9f73",
   "metadata": {
    "tags": []
   },
   "outputs": [],
   "source": [
    "with concurrent.futures.ProcessPoolExecutor() as executor:\n",
    "    Doargs = []\n",
    "    for _ in range(frogs):\n",
    "        Doargs += generate_one_frog(init)\n",
    "        init += 1\n",
    "    results = executor.map(find_score, Doargs)\n",
    "    for r in results:\n",
    "        if r:\n",
    "            StructInfo[r[1]] = [r[0], r[2]]"
   ]
  },
  {
   "cell_type": "code",
   "execution_count": null,
   "id": "e6112d7b-47ae-43a2-abe1-2a40a8c0faa4",
   "metadata": {},
   "outputs": [],
   "source": [
    "StructInfo"
   ]
  },
  {
   "cell_type": "code",
   "execution_count": 149,
   "id": "e3eff52a-d3e3-44b4-8500-95795ea6f02e",
   "metadata": {},
   "outputs": [
    {
     "data": {
      "text/plain": [
       "7"
      ]
     },
     "execution_count": 149,
     "metadata": {},
     "output_type": "execute_result"
    }
   ],
   "source": [
    "rng.integers(0, 12)"
   ]
  },
  {
   "cell_type": "code",
   "execution_count": 32,
   "id": "47729fb9-c174-4d31-ad60-b0af52d0a2a3",
   "metadata": {},
   "outputs": [],
   "source": [
    "def sort_frog(mplx_no):\n",
    "    sorted_fitness = np.array(sorted(StructInfo, key = lambda x: StructInfo[x][0], reverse=True))\n",
    "\n",
    "    memeplexes = np.zeros((mplx_no, int(frogs/mplx_no)))\n",
    "\n",
    "    for j in range(memeplexes.shape[1]):\n",
    "        for i in range(mplx_no):\n",
    "            memeplexes[i, j] = sorted_fitness[i + (mplx_no*j)] \n",
    "    return memeplexes"
   ]
  },
  {
   "cell_type": "code",
   "execution_count": 54,
   "id": "1661b9c8-c92c-4085-8d2b-c2ebb688270c",
   "metadata": {},
   "outputs": [],
   "source": [
    "def shuffle_memeplexes(memeplexes):\n",
    "    \"\"\"Shuffles the memeplexes and sorting them.\n",
    "    \n",
    "    Arguments:\n",
    "        frogs {numpy.ndarray} -- All the frogs\n",
    "        memeplexes {numpy.ndarray} -- The memeplexes\n",
    "    \n",
    "    Returns:\n",
    "        None\n",
    "    \"\"\"\n",
    "    mplx_no = memeplexes.shape[0]\n",
    "    temp = memeplexes.flatten()\n",
    "    temp = np.array(sorted(temp, key = lambda x: StructInfo[x][0], reverse=True))\n",
    "    for j in range(memeplexes.shape[1]):\n",
    "        for i in range(mplx_no):\n",
    "            memeplexes[i, j] = temp[i + (mplx_no*j)]"
   ]
  },
  {
   "cell_type": "code",
   "execution_count": 240,
   "id": "9703bdd3-664a-47aa-8d97-077f49c4b76a",
   "metadata": {},
   "outputs": [],
   "source": [
    "shuffle_memeplexes(mem)"
   ]
  },
  {
   "cell_type": "code",
   "execution_count": 20,
   "id": "2d78f456-fc8c-4f9e-bd1b-0f0647daf0c6",
   "metadata": {},
   "outputs": [
    {
     "data": {
      "text/plain": [
       "{}"
      ]
     },
     "execution_count": 20,
     "metadata": {},
     "output_type": "execute_result"
    }
   ],
   "source": [
    "StructInfo"
   ]
  },
  {
   "cell_type": "markdown",
   "id": "593ef1c6-0d08-4507-90be-653ebd22592f",
   "metadata": {},
   "source": [
    "## Local Search"
   ]
  },
  {
   "cell_type": "markdown",
   "id": "2091fda5-ecc2-46f9-87aa-9fff9df5736d",
   "metadata": {},
   "source": [
    "#### Local Search Main Code -- Multi"
   ]
  },
  {
   "cell_type": "code",
   "execution_count": 138,
   "id": "b8b823dd-8b96-45f0-9688-39add2586715",
   "metadata": {},
   "outputs": [],
   "source": [
    "memeplexes = sort_frog(20)"
   ]
  },
  {
   "cell_type": "code",
   "execution_count": 191,
   "id": "4d0fadc0-5108-4027-b934-f520bf3ff4c0",
   "metadata": {},
   "outputs": [],
   "source": [
    "def local_search_one_memeplex(inp):\n",
    "    \"\"\"\n",
    "        q: The number of frogs in submemeplex\n",
    "        N: No of mutations\n",
    "    \"\"\"\n",
    "    im, N, q, Frog_gb = inp\n",
    "    FrogsEach = int(frogs/len(memeplexes))\n",
    "    weights = [2*(FrogsEach+1-j)/(FrogsEach*(FrogsEach+1)) for j in range(1, FrogsEach+1)] \n",
    "    \n",
    "    Omega = [np.amin(rec_normal), np.amax(rec_normal)]\n",
    "    max_step = (Omega[1]-Omega[0])/2 # maximum step size\n",
    "    \n",
    "    for iN in range(N):\n",
    "        uId = init + im + 1\n",
    "        rValue = rng.random(FrogsEach) * weights # random value with probability weights\n",
    "        subindex = np.sort(np.argsort(rValue)[::-1][0:q]) # index of selected frogs in memeplex\n",
    "        submemeplex = memeplexes[im][subindex] \n",
    "\n",
    "        #--- Improve the worst frog's position ---#\n",
    "        # Learn from local best Pb #\n",
    "        Pb = StructInfo[int(submemeplex[0])] # mark the best frog in submemeplex\n",
    "        Pw = StructInfo[int(submemeplex[q-1])] # mark the worst frog in memeplex\n",
    "\n",
    "        S = rng.random() * (Pb[1] - Pw[1]) \n",
    "        Uq = Pw[1] + S\n",
    "\n",
    "        globStep = False\n",
    "        censorship = False\n",
    "        # Check feasible space and the performance #\n",
    "        if Omega[0] <= min(Uq) and max(Uq) <= Omega[1]: # check feasible space\n",
    "            final = np.array([Uq.rotate(i) for i in lig_atom])  \n",
    "            results = find_score([final, uId, Uq, im])\n",
    "\n",
    "            if results[0] < Pw[0]:\n",
    "                globStep = True\n",
    "\n",
    "        if globStep:\n",
    "            S = rng.random() * (Frog_gb[1] - Pw[1])\n",
    "            for i in range(4):\n",
    "                if S[i] > 0:\n",
    "                    S[i] = min(S[i],max_step)\n",
    "                else:\n",
    "                    S[i] = max(S[i],-max_step)\n",
    "            Uq = Pw[1] + S\n",
    "\n",
    "            if Omega[0] <= min(Uq) and max(Uq) <= Omega[1]: # check feasible space\n",
    "                final = np.array([Uq.rotate(i) for i in lig_atom])  \n",
    "                results = find_score([final, uId, Uq, im])\n",
    "                if results[0] < Pw[0]:\n",
    "                    censorship = True\n",
    "            else:\n",
    "                censorship = True\n",
    "\n",
    "        if censorship:\n",
    "            params = generate_one_frog(uId)\n",
    "            results = find_score(params)            \n",
    "\n",
    "\n",
    "        #StructInfo[im] = [results[0], results[2]]\n",
    "        shutil.move(os.path.join('poses/', 'out'+str(uId)+'.pdb'), os.path.join('poses/', 'out'+ str(submemeplex[q-1]) + '.pdb'))\n",
    "        StructInfo[int(submemeplex[q-1])] = [results[0], results[2]]\n",
    "        memeplexes[im] = memeplexes[im][np.argsort(memeplexes[im])]"
   ]
  },
  {
   "cell_type": "code",
   "execution_count": 198,
   "id": "0ca25558-ce14-4982-8728-d620d1f02fb3",
   "metadata": {},
   "outputs": [],
   "source": [
    "def local_search():\n",
    "    Frog_gb = StructInfo[int(memeplexes[0][0])]\n",
    "    N = 10\n",
    "    q = 6\n",
    "    with concurrent.futures.ProcessPoolExecutor() as executor:\n",
    "        doargs = [[im, N, q, Frog_gb] for im in range(len(memeplexes))]\n",
    "        results = executor.map(local_search_one_memeplex, doargs)"
   ]
  },
  {
   "cell_type": "code",
   "execution_count": null,
   "id": "cd3e7cc2-5dfe-4f6d-8b7e-791c4abdfc8d",
   "metadata": {},
   "outputs": [],
   "source": [
    "%%time\n",
    "local_search()"
   ]
  },
  {
   "cell_type": "code",
   "execution_count": 194,
   "id": "dc02b67a-c4f8-4c93-8b93-c6a3a06ba73b",
   "metadata": {},
   "outputs": [
    {
     "data": {
      "text/plain": [
       "array([[  1., 192., 133.,   8.,  11.,  25.,  36., 160.,   9.,  48.],\n",
       "       [ 83.,  43.,  69.,  59.,  68.,  76.,  86.,  15., 157., 174.],\n",
       "       [161., 103., 145.,  53., 119., 134., 142., 183.,   6.,  51.],\n",
       "       [ 18.,  44.,  71.,  93., 171., 180., 191.,  16., 116., 175.],\n",
       "       [ 88., 105., 149., 155.,  13.,  29.,  38.,  19., 118.,  82.],\n",
       "       [162.,  45.,  75.,  54.,  70.,  78.,  87.,  32., 123., 178.],\n",
       "       [ 27., 109., 159.,  97., 120., 135., 144.,  37.,   2.,  84.],\n",
       "       [ 89.,  46.,  56., 156., 172., 184., 193.,  47., 126., 182.],\n",
       "       [163., 112.,   4.,   0.,  14.,  30.,  39.,  50.,  10.,  94.],\n",
       "       [ 28.,  52.,   7.,  55.,  72.,  80.,  90.,  60., 127., 189.],\n",
       "       [ 96., 113.,  42., 104., 121., 138., 147.,  61.,  20.,  95.],\n",
       "       [167.,  57.,  77., 164., 173., 187., 196.,  65., 143., 199.],\n",
       "       [ 31., 115., 110.,   3.,  17.,  33.,  41.,  99.,  22., 102.],\n",
       "       [ 98.,  63., 130.,  58.,  73.,  81.,  91., 107., 154., 108.],\n",
       "       [181., 124., 136., 106., 122., 139., 148., 129.,  23., 111.],\n",
       "       [ 34.,  64., 151., 166., 177., 188., 198., 132., 158., 114.],\n",
       "       [100., 125., 169.,   5.,  21.,  35.,  49., 137.,  24., 195.],\n",
       "       [185.,  66., 176.,  62.,  74.,  85.,  92., 141., 165., 150.],\n",
       "       [ 40., 128., 186., 117., 131., 140., 153., 146.,  26., 194.],\n",
       "       [101.,  67., 197., 168., 179., 190.,  12., 152., 170.,  79.]])"
      ]
     },
     "execution_count": 194,
     "metadata": {},
     "output_type": "execute_result"
    }
   ],
   "source": [
    "memeplexes"
   ]
  },
  {
   "cell_type": "code",
   "execution_count": null,
   "id": "4bbfa1ce-e71b-4343-9873-bd78688795c6",
   "metadata": {},
   "outputs": [],
   "source": []
  },
  {
   "cell_type": "markdown",
   "id": "7694e728-666f-4dfb-8bc6-ae3cea2aa084",
   "metadata": {},
   "source": [
    "## MAIN RUN CODE"
   ]
  },
  {
   "cell_type": "code",
   "execution_count": null,
   "id": "083eed7d-da33-4450-acbe-d13369436a1b",
   "metadata": {},
   "outputs": [],
   "source": [
    "def run_sfla(mplx_no, n_iter):\n",
    "    generate_init_population()\n",
    "    memeplexes = sort_frog(mplx_no=mplx_no)\n",
    "    for _ in range(n_iter):\n",
    "        local_search()\n",
    "        shuffle_memeplexes(memeplexes)"
   ]
  },
  {
   "cell_type": "code",
   "execution_count": 210,
   "id": "8df9b1aa-f894-4ddc-a3a3-dfa2d64094ca",
   "metadata": {},
   "outputs": [],
   "source": [
    "scores = []\n",
    "for i in memeplexes:\n",
    "    for j in i:\n",
    "        scores.append(StructInfo[j][0])"
   ]
  },
  {
   "cell_type": "code",
   "execution_count": 213,
   "id": "e880b87f-fd06-4d2e-a811-7953587c1f13",
   "metadata": {},
   "outputs": [],
   "source": [
    "npScores = np.array(scores)"
   ]
  },
  {
   "cell_type": "code",
   "execution_count": 214,
   "id": "bda1778e-e451-41b5-893e-619cd3c52c42",
   "metadata": {},
   "outputs": [],
   "source": [
    "npScores.sort()"
   ]
  },
  {
   "cell_type": "code",
   "execution_count": 217,
   "id": "8d46f5b1-66af-4914-8a33-f9d3405cf18d",
   "metadata": {},
   "outputs": [
    {
     "data": {
      "text/plain": [
       "array([0.52040086, 0.52538213, 0.52560013, 0.53092888, 0.541294  ,\n",
       "       0.541294  , 0.541294  , 0.541294  , 0.541294  , 0.541294  ,\n",
       "       0.541294  , 0.541294  , 0.541294  , 0.541294  , 0.541294  ,\n",
       "       0.541294  , 0.541294  , 0.541294  , 0.541294  , 0.541294  ,\n",
       "       0.541294  , 0.541294  , 0.541294  , 0.541294  , 0.541294  ,\n",
       "       0.541294  , 0.541294  , 0.541294  , 0.541294  , 0.541294  ,\n",
       "       0.541294  , 0.541294  , 0.541294  , 0.541294  , 0.541294  ,\n",
       "       0.541294  , 0.541294  , 0.55506038, 0.55523138, 0.55523138,\n",
       "       0.55523138, 0.55523138, 0.55523138, 0.55523138, 0.55523138,\n",
       "       0.55523138, 0.55523138, 0.55523138, 0.55523138, 0.55523138,\n",
       "       0.55523138, 0.55523138, 0.55523138, 0.55523138, 0.55523138,\n",
       "       0.55523138, 0.55523138, 0.55523138, 0.55523138, 0.55523138,\n",
       "       0.55523138, 0.55576539, 0.55576539, 0.55576539, 0.55576539,\n",
       "       0.55576539, 0.55576539, 0.55576539, 0.55576539, 0.55576539,\n",
       "       0.55576539, 0.55576539, 0.55576539, 0.55576539, 0.55576539,\n",
       "       0.55576539, 0.55576539, 0.55576539, 0.55576539, 0.55576539,\n",
       "       0.55576539, 0.55576539, 0.55576539, 0.55576539, 0.55576539,\n",
       "       0.55576539, 0.55576539, 0.55576539, 0.55576539, 0.55576539,\n",
       "       0.55576539, 0.55576539, 0.55576539, 0.55576539, 0.55576539,\n",
       "       0.55576539, 0.55576539, 0.55576539, 0.55576539, 0.55576539,\n",
       "       0.55576539, 0.55576539, 0.55576539, 0.55576539, 0.55576539,\n",
       "       0.55576539, 0.55576539, 0.55576539, 0.55576539, 0.55576539,\n",
       "       0.55576539, 0.55576539, 0.55576539, 0.55576539, 0.55576539,\n",
       "       0.55576539, 0.55576539, 0.55576539, 0.55576539, 0.55576539,\n",
       "       0.55576539, 0.55576539, 0.55576539, 0.55576539, 0.55576539,\n",
       "       0.55576539, 0.55576539, 0.55576539, 0.55576539, 0.55576539,\n",
       "       0.55576539, 0.55576539, 0.55576539, 0.55576539, 0.55576539,\n",
       "       0.55576539, 0.55576539, 0.55576539, 0.55908102, 0.55908102,\n",
       "       0.568544  , 0.568544  , 0.568544  , 0.568544  , 0.568544  ,\n",
       "       0.568544  , 0.568544  , 0.568544  , 0.568544  , 0.568544  ,\n",
       "       0.568544  , 0.568544  , 0.568623  , 0.65747233, 0.65747233,\n",
       "       0.65747233, 0.65747233, 0.65747233, 0.65747233, 0.65747233,\n",
       "       0.65747233, 0.65747233, 0.65747233, 0.65747233, 0.65747233,\n",
       "       0.65747233, 0.65747233, 0.65747233, 0.65747233, 0.65747233,\n",
       "       0.65747233, 0.65747233, 0.65747233, 0.65747233, 0.65747233,\n",
       "       0.65747233, 0.65747233, 0.65747233, 0.65747233, 0.65747233,\n",
       "       0.65747233, 0.65747233, 0.65747233, 0.65747233, 0.65747233,\n",
       "       0.65747233, 0.65747233, 0.65747233, 0.65747233, 0.65747233,\n",
       "       0.65747233, 0.65747233, 0.65747233, 0.65747233, 0.65747233,\n",
       "       0.65747233, 0.65747233, 0.65747233, 0.65747233, 0.65747233])"
      ]
     },
     "execution_count": 217,
     "metadata": {},
     "output_type": "execute_result"
    }
   ],
   "source": [
    "npScores"
   ]
  },
  {
   "cell_type": "code",
   "execution_count": 234,
   "id": "0f18f038-1ce8-44a1-9f36-5033af9e15d8",
   "metadata": {},
   "outputs": [
    {
     "data": {
      "text/plain": [
       "array([ 8., 21., 11., 27.,  3.])"
      ]
     },
     "execution_count": 234,
     "metadata": {},
     "output_type": "execute_result"
    }
   ],
   "source": [
    "memeplexes"
   ]
  },
  {
   "cell_type": "code",
   "execution_count": 204,
   "id": "7ff330af-0a07-44cc-9397-2e484fd765dd",
   "metadata": {},
   "outputs": [
    {
     "data": {
      "text/plain": [
       "[0.5204008611111113,\n",
       " Quaternion(0.8253056370515306, -0.5565910091238468, 0.05185394732923476, -0.0799263546012341)]"
      ]
     },
     "execution_count": 204,
     "metadata": {},
     "output_type": "execute_result"
    }
   ],
   "source": [
    "StructInfo[memeplexes[-1][-1]]"
   ]
  },
  {
   "cell_type": "code",
   "execution_count": 205,
   "id": "b2486982-299b-4c4d-ac83-6f721c2b53a6",
   "metadata": {},
   "outputs": [
    {
     "data": {
      "text/plain": [
       "[0.657472333333334,\n",
       " Quaternion(0.8990546147122486, -0.4105507045149465, 0.05919979793793172, -0.14015813465867544)]"
      ]
     },
     "execution_count": 205,
     "metadata": {},
     "output_type": "execute_result"
    }
   ],
   "source": [
    "StructInfo[memeplexes[0][0]]"
   ]
  },
  {
   "cell_type": "code",
   "execution_count": 76,
   "id": "b27f28e0-238a-46ee-a495-a2438c8c7703",
   "metadata": {},
   "outputs": [],
   "source": [
    "memeplexes = sort_frog(10)"
   ]
  },
  {
   "cell_type": "code",
   "execution_count": null,
   "id": "5bfd4954-fa79-468e-a206-3b9512e6eaf9",
   "metadata": {},
   "outputs": [],
   "source": []
  },
  {
   "cell_type": "code",
   "execution_count": null,
   "id": "200d0a31-3e64-418b-88b8-aa13b335ad53",
   "metadata": {},
   "outputs": [],
   "source": [
    "%%time\n",
    "# im to count the number of memeplexes\n",
    "# iN to count the number of evolution\n",
    "\n",
    "Frog_gb = StructInfo[int(memeplexes[0][0])]\n",
    "FrogsEach = int(frogs/len(memeplexes)) #the number of frogs in each memeplex\n",
    "weights = [2*(FrogsEach+1-j)/(FrogsEach*(FrogsEach+1)) for j in range(1, FrogsEach+1)] \n",
    "\n",
    "Omega = [np.amin(rec_normal), np.amax(rec_normal)]\n",
    "max_step = (Omega[1]-Omega[0])/2 # maximum step size\n",
    "q = 3 # int, the number of frogs in submemeplex -- CHANGE\n",
    "N = 2\n",
    "for im in range(len(memeplexes)):\n",
    "    for iN in range(N):\n",
    "        rValue = rng.random(FrogsEach) * weights # random value with probability weights\n",
    "        subindex = np.sort(np.argsort(rValue)[::-1][0:q]) # index of selected frogs in memeplex\n",
    "        submemeplex = memeplexes[im][subindex] \n",
    "        \n",
    "        #--- Improve the worst frog's position ---#\n",
    "        # Learn from local best Pb #\n",
    "        Pb = StructInfo[int(submemeplex[0])] # mark the best frog in submemeplex\n",
    "        Pw = StructInfo[int(submemeplex[q-1])] # mark the worst frog in memeplex\n",
    "        \n",
    "        S = rng.random() * (Pb[1] - Pw[1]) \n",
    "        Uq = Pw[1] + S\n",
    "        \n",
    "        globStep = False\n",
    "        censorship = False\n",
    "        \n",
    "        # Check feasible space and the performance #\n",
    "        if Omega[0] <= min(Uq) and max(Uq) <= Omega[1]: # check feasible space\n",
    "            final = np.array([Uq.rotate(i) for i in lig_atom])  \n",
    "            results = find_score([final, init+1, Uq, im])\n",
    "            \n",
    "            if results[0] < Pw[0]:\n",
    "                globStep = True\n",
    "        \n",
    "        if globStep:\n",
    "            S = rng.random() * (Frog_gb[1] - Pw[1])\n",
    "            for i in range(4):\n",
    "                if S[i] > 0:\n",
    "                    S[i] = min(S[i],max_step)\n",
    "                else:\n",
    "                    S[i] = max(S[i],-max_step)\n",
    "            Uq = Pw[1] + S\n",
    "            \n",
    "            if Omega[0] <= min(Uq) and max(Uq) <= Omega[1]: # check feasible space\n",
    "                final = np.array([Uq.rotate(i) for i in lig_atom])  \n",
    "                results = find_score([final, init+1, Uq, im])\n",
    "                if results[0] < Pw[0]:\n",
    "                    censorship = True\n",
    "            else:\n",
    "                censorship = True\n",
    "        \n",
    "        if censorship:\n",
    "            recRandIdx = rng.integers(0, rec_coord.shape[0] - 1)\n",
    "            ligRandIdx = rng.integers(0, lig_coord.shape[0] - 1)\n",
    "\n",
    "            axis = rec_coord[recRandIdx]\n",
    "            a = rec_normal[recRandIdx]\n",
    "            b = lig_normal[ligRandIdx]\n",
    "            \n",
    "            dotProduct = np.dot(a, b)\n",
    "            theta = np.arccos(dotProduct) * 2 - np.pi\n",
    "            Quater = Quaternion(axis=a, angle=theta)\n",
    "            final = np.array([Quater.rotate(i) for i in lig_atom])\n",
    "            results = find_score([final, init+1, Quater, im])            \n",
    "        \n",
    "        \n",
    "        #StructInfo[im] = [results[0], results[2]]\n",
    "        shutil.move(os.path.join('poses/', 'out'+str(init+1)+'.pdb'), os.path.join('poses/', 'out'+ str(submemeplex[q-1]) + '.pdb'))\n",
    "        StructInfo[int(submemeplex[q-1])] = [results[0], results[2]]\n",
    "        memeplexes[im] = memeplexes[im][np.argsort(memeplexes[im])]"
   ]
  },
  {
   "cell_type": "markdown",
   "id": "ced322f4-f0a8-416d-840d-45929d59c64c",
   "metadata": {},
   "source": [
    "* 5.35\n",
    "* 3.25"
   ]
  },
  {
   "cell_type": "code",
   "execution_count": 83,
   "id": "a399fd6c-d350-4586-a154-7142d5341afd",
   "metadata": {},
   "outputs": [
    {
     "data": {
      "text/plain": [
       "array([[ 7., 28.,  0., 43., 12.],\n",
       "       [30., 40.,  1., 23., 16.],\n",
       "       [49., 42.,  2., 44., 21.],\n",
       "       [13., 39., 34., 25., 24.],\n",
       "       [32., 46.,  4., 45., 38.],\n",
       "       [20.,  3., 35., 29.,  5.],\n",
       "       [26., 10., 14.,  6., 41.],\n",
       "       [33., 15., 36., 11.,  8.],\n",
       "       [27., 31., 18., 17., 47.],\n",
       "       [37., 48., 22., 19.,  9.]])"
      ]
     },
     "execution_count": 83,
     "metadata": {},
     "output_type": "execute_result"
    }
   ],
   "source": [
    "memeplexes"
   ]
  },
  {
   "cell_type": "code",
   "execution_count": null,
   "id": "282f3e18-880f-409f-b12c-b4b95fc2d177",
   "metadata": {},
   "outputs": [],
   "source": []
  }
 ],
 "metadata": {
  "kernelspec": {
   "display_name": "Python 3",
   "language": "python",
   "name": "python3"
  },
  "language_info": {
   "codemirror_mode": {
    "name": "ipython",
    "version": 3
   },
   "file_extension": ".py",
   "mimetype": "text/x-python",
   "name": "python",
   "nbconvert_exporter": "python",
   "pygments_lexer": "ipython3",
   "version": "3.9.2"
  }
 },
 "nbformat": 4,
 "nbformat_minor": 5
}
