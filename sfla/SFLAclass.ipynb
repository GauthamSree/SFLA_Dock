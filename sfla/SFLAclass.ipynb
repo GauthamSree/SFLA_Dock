{
 "cells": [
  {
   "cell_type": "code",
   "execution_count": 1,
   "id": "ca1af695-9a4c-4927-91c9-ecbe86cacd27",
   "metadata": {},
   "outputs": [],
   "source": [
    "import os, glob, sys, math\n",
    "import concurrent.futures\n",
    "import argparse\n",
    "\n",
    "import shutil\n",
    "\n",
    "#from meetdock import *\n",
    "# from scipy.spatial.transform import Rotation as R\n",
    "from sklearn.neighbors import NearestNeighbors\n",
    "import numpy as np\n",
    "import pandas as pd\n",
    "from Bio.PDB import *\n",
    "from Bio.PDB.ResidueDepth import get_surface\n",
    "from Bio.PDB.PDBParser import PDBParser\n",
    "from Bio.PDB.ResidueDepth import min_dist\n",
    "from pyquaternion import Quaternion\n",
    "\n",
    "from utils import pdbtools\n",
    "from utils import pdb_resdepth\n",
    "from utils import matrice_distances\n",
    "from utils import Lennard_Jones\n",
    "from utils import electrostatic\n",
    "from utils import combine_methods as cm\n",
    "from utils import tm_score as tm\n",
    "\n",
    "# from surface import *\n",
    "p = PDBParser()\n",
    "\n",
    "recognized_residues = ['ALA', 'ARG', 'ASN', 'ASP', 'CYS', 'GLN', 'GLU', 'GLY', 'HIS', 'ILE', 'LEU', 'LYS', 'MET',\n",
    "                           'PHE', 'PRO', 'SER', 'THR', 'TRP', 'TYR', 'VAL', 'NH', 'OC']\n",
    "atom_types = [['N'], ['CA'], ['C'], ['O'], ['GLYCA'],\n",
    "                  ['ALACB', 'ARGCB', 'ASNCB', 'ASPCB', 'CYSCB', 'GLNCB', 'GLUCB', 'HISCB', 'ILECB', 'LEUCB', 'LYSCB',\n",
    "                   'METCB', 'PHECB', 'PROCB', 'PROCG', 'PROCD', 'THRCB', 'TRPCB', 'TYRCB', 'VALCB'],\n",
    "                  ['LYSCE', 'LYSNZ'], ['LYSCD'], ['ASPCG', 'ASPOD1', 'ASPOD2', 'GLUCD', 'GLUOE1', 'GLUOE2'],\n",
    "                  ['ARGCZ', 'ARGNH1', 'ARGNH2'],\n",
    "                  ['ASNCG', 'ASNOD1', 'ASNND2', 'GLNCD', 'GLNOE1', 'GLNNE2'], ['ARGCD', 'ARGNE'],\n",
    "                  ['SERCB', 'SEROG', 'THROG1', 'TYROH'],\n",
    "                  ['HISCG', 'HISND1', 'HISCD2', 'HISCE1', 'HISNE2', 'TRPNE1'], ['TYRCE1', 'TYRCE2', 'TYRCZ'],\n",
    "                  ['ARGCG', 'GLNCG', 'GLUCG', 'ILECG1', 'LEUCG', 'LYSCG', 'METCG', 'METSD', 'PHECG', 'PHECD1', 'PHECD2',\n",
    "                   'PHECE1', 'PHECE2', 'PHECZ', 'THRCG2', 'TRPCG', 'TRPCD1', 'TRPCD2', 'TRPCE2', 'TRPCE3', 'TRPCZ2',\n",
    "                   'TRPCZ3', 'TRPCH2', 'TYRCG', 'TYRCD1', 'TYRCD2'],\n",
    "                  ['ILECG2', 'ILECD1', 'ILECD', 'LEUCD1', 'LEUCD2', 'METCE', 'VALCG1', 'VALCG2'], ['CYSSG']]\n",
    "\n",
    "rng = np.random.default_rng(0)"
   ]
  },
  {
   "cell_type": "code",
   "execution_count": null,
   "id": "183587dc-ab0e-42fc-b69b-5fe0d00cadb6",
   "metadata": {},
   "outputs": [],
   "source": []
  },
  {
   "cell_type": "code",
   "execution_count": 134,
   "id": "63df9b14-e310-46c9-ae46-e6eb1dc60126",
   "metadata": {},
   "outputs": [],
   "source": [
    "def generate_one_frog(init):\n",
    "    Quater = [0, 0, 0, 0]\n",
    "    recRandIdx = rng.integers(0, rec_coord.shape[0] - 1)\n",
    "    ligRandIdx = rng.integers(0, lig_coord.shape[0] - 1)\n",
    "    axis = rec_coord[recRandIdx]\n",
    "    a = rec_normal[recRandIdx]\n",
    "    b = lig_normal[ligRandIdx]\n",
    "    \n",
    "    dotProduct = np.dot(a, b)\n",
    "    theta = np.arccos(dotProduct) * 2 - np.pi\n",
    "    \n",
    "    Quater = Quaternion(axis=a, angle=theta)\n",
    "    \n",
    "    final = np.array([Quater.rotate(i) for i in lig_atom])\n",
    "    args = [[final, init, Quater, -1]]\n",
    "    return args"
   ]
  },
  {
   "cell_type": "code",
   "execution_count": 135,
   "id": "842c285d-80aa-41b6-ba2d-bb4842dc443b",
   "metadata": {},
   "outputs": [],
   "source": [
    "def generate_init_population():\n",
    "    global init\n",
    "    with concurrent.futures.ProcessPoolExecutor() as executor:\n",
    "        Doargs = []\n",
    "        for _ in range(frogs):\n",
    "            Doargs += generate_one_frog(init)\n",
    "            init += 1\n",
    "        results = executor.map(find_score, Doargs)\n",
    "        for r in results:\n",
    "            if r:\n",
    "                StructInfo[r[1]] = [r[0], r[2]]    "
   ]
  },
  {
   "cell_type": "code",
   "execution_count": null,
   "id": "ac8e0e2e-8a33-4d2c-83f3-b53efa7fcc96",
   "metadata": {},
   "outputs": [],
   "source": [
    "class SFLA:\n",
    "    \n",
    "    def __init__(self, frogs, mplx_no, n_iter, N, q, ):\n",
    "        self.frogs = frogs\n",
    "        self.mplx_no = mplx_no\n",
    "        self.structinfo = {}\n",
    "        self.init = 0\n",
    "        self.mypath ='poses/'\n",
    "        self.n_iter = n_iter\n",
    "        self.N = N\n",
    "        self.q = q\n",
    "    \n",
    "    def chaindef(self, file, rec_chain):\n",
    "        structure=p.get_structure('1bth',file)\n",
    "        coordinatesr = np.empty((0,3))\n",
    "        tobi_residuesr = []\n",
    "        residue_id=[]\n",
    "        boundary_residue_coord=np.empty((0,3))\n",
    "        atom_coord=np.empty((0,3))\n",
    "        boundary_residue_id=[]\n",
    "        boundary_residue_name=[]\n",
    "        for model in structure:\n",
    "            surface = get_surface(model)\n",
    "            for chain in model:\n",
    "                if chain.id in rec_chain:\n",
    "                    for residue in chain:\n",
    "                        cx = 0.0\n",
    "                        cy = 0.0\n",
    "                        cz = 0.0\n",
    "                        count = 0\n",
    "                        residue_index=recognized_residues.index(residue.get_resname())\n",
    "                        atom_set=np.empty((0,3))\n",
    "                        for atom in residue:\n",
    "                            if  not atom.name=='H':\n",
    "                                ax=atom.get_coord()[0]\n",
    "                                ay=atom.get_coord()[1]\n",
    "                                az=atom.get_coord()[2]\n",
    "                                atom_set=np.append(atom_set,[atom.get_coord()], axis=0)\n",
    "                                atom_coord=np.append(atom_coord,[atom.get_coord()], axis=0)\n",
    "                                cur_atom=residue.get_resname()+atom.name\n",
    "                                for typ in atom_types:\n",
    "                                    if  cur_atom in typ or atom.name in ['N','CA','C','O']:\t#typ:#atom.name now added\n",
    "                                        cx += ax\n",
    "                                        cy += ay\n",
    "                                        cz += az\n",
    "                                        count += 1\n",
    "                                    else:\n",
    "                                        pass\n",
    "                        cx/= float(count)\n",
    "                        cy/= float(count)\n",
    "                        cz/= float(count)\n",
    "                        coordinatesr=np.append(coordinatesr,[[cx, cy, cz]], axis=0)\n",
    "                        #rcc+=1\n",
    "                        tobi_residuesr.append(residue_index)\n",
    "                        residue_id.append(str(residue.get_id()[1])+residue.get_id()[2])\n",
    "                        fji=0     #check whether any of of the atoms in the resdue are at a distance 3 A from surface\n",
    "                        for ji in range(len(atom_set)):\n",
    "                            if min_dist(atom_set[ji], surface) < 2:\n",
    "                                fji=1\n",
    "                                break\n",
    "                        if fji==1:\n",
    "                            boundary_residue_coord=np.append(boundary_residue_coord,[[cx, cy, cz]],axis=0)\n",
    "                            #boundary_atom_name.append(atom.name)\n",
    "                            boundary_residue_id.append(str(residue.get_id()[1])+residue.get_id()[2])\n",
    "                            boundary_residue_name.append(residue.get_resname())\n",
    "        \n",
    "        return boundary_residue_coord,boundary_residue_name, boundary_residue_id, atom_coord\n",
    "    \n",
    "    def findPointNormals(self, points, numNeighbours, viewPoint, residue_id, residue_name, f):\n",
    "        nbrs = NearestNeighbors(n_neighbors=numNeighbours+1, algorithm='kd_tree').fit(points)\n",
    "        distances, indices = nbrs.kneighbors(points)\n",
    "        n = []\n",
    "        [n.append(indices[i][1:].tolist()) for i in range(0,len(indices))]\n",
    "\n",
    "\n",
    "        # find difference in position from neighbouring points\n",
    "        n=np.asarray(n).flatten('F')    \n",
    "        p = np.tile(points,(numNeighbours,1)) - points[n]\n",
    "        x=np.zeros((3,len(points),numNeighbours))\n",
    "        for i in range(0,3):\n",
    "            for j in range(0,len(points)):\n",
    "                for k in range(0,numNeighbours):\n",
    "                    x[i,j,k]=p[k*len(points)+j,i]\n",
    "        p = x\n",
    "        C = np.zeros((len(points),6))\n",
    "        C[:,0]= np.sum(np.multiply(p[0],p[0]),axis=1)\n",
    "        C[:,1]= np.sum(np.multiply(p[0],p[1]),axis=1)\n",
    "        C[:,2]= np.sum(np.multiply(p[0],p[2]),axis=1)\n",
    "        C[:,3]= np.sum(np.multiply(p[1],p[1]),axis=1)\n",
    "        C[:,4]= np.sum(np.multiply(p[1],p[2]),axis=1)\n",
    "        C[:,5]= np.sum(np.multiply(p[2],p[2]),axis=1)\n",
    "        C = np.divide(C, numNeighbours)\n",
    "        normals = np.zeros((len(points),3))\n",
    "        curvature = np.zeros((len(points),1))\n",
    "        for i in range(0,len(points)):\n",
    "            Cmat = [[C[i,0], C[i,1] ,C[i,2]], [C[i,1], C[i,3], C[i,4]], [C[i,2], C[i,4], C[i,5]]]\n",
    "            [value,vector] = np.linalg.eigh(Cmat)\n",
    "            [lam,k] = min(value), value.tolist().index(min(value))\n",
    "            normals[i,:] = vector[:,k] #np.transpose(vector[:,k])\n",
    "            curvature[i]= lam / sum(value)\n",
    "\n",
    "        return normals, curvature\n",
    "\n",
    "    def find_score(self, args):\n",
    "        output_file='out' + str(args[1]) + '.pdb'\n",
    "        shape, electro, jones, proba = True, True, True, False\n",
    "        pH = 7\n",
    "        dist = 8.6\n",
    "        with open(os.path.join(self.mypath, output_file),'w') as out:\n",
    "            in1 = open(inp2, \"r\")\n",
    "            in2 = open(inp1, \"r\")\n",
    "            for line in in1:\n",
    "                if \"ATOM\" in line:\n",
    "                    out.write(line)\n",
    "            indexing = 0\n",
    "            new_co = args[0]\n",
    "            for line in in2:\n",
    "                if \"ATOM\" in line:\n",
    "                    # print(line)\n",
    "                    l = line.split()\n",
    "                    l[0] = l[0].ljust(5)\n",
    "                    l[1] = l[1].rjust(5)\n",
    "                    l[2] = l[2].ljust(3)\n",
    "                    l[3] = l[3].ljust(3)\n",
    "                    l[4] = line[21]\n",
    "                    l[5] = (\"%4d\" % (int(line[22:26]))).rjust(4)\n",
    "                    l[6] = (\"%8.3f\" % (float(new_co[indexing][0]))).rjust(8)\n",
    "                    l[7] = (\"%8.3f\" % (float(new_co[indexing][1]))).rjust(8)\n",
    "                    l[8] = (\"%8.3f\" % (float(new_co[indexing][2]))).rjust(8)\n",
    "                    out.write(\n",
    "                        \"{0} {1}  {2} {3} {4}{5}    {6}{7}{8}\".format(\n",
    "                            l[0], l[1], l[2], l[3], l[4], l[5], l[6], l[7], l[8]\n",
    "                        )\n",
    "                    )\n",
    "                    out.write(\"\\n\")\n",
    "                    indexing += 1\n",
    "\n",
    "        pdbfile = os.path.join(self.mypath, output_file)\n",
    "        res = cm.combine_score(pdbfile, recepChain=self.rec_chain, ligChain=self.lig_chain, statpotrun=proba, vdwrun=jones, electrorun=electro, shaperun=shape, pH=pH, depth=depth, dist=dist)\n",
    "        mydf = pd.DataFrame(res,  index=[0])\n",
    "        mydf = mydf.set_index('pdb')\n",
    "        score = tm.tm_score(mydf, execdir='.')\n",
    "        return float(score['tm_score_prediction']), args[1], args[2], args[3]\n",
    "\n",
    "    def pdbpre(self, file1):\n",
    "        with open(os.path.join(args.pdb, file1), \"r\") as pdb_in: \n",
    "            with open(file1 + \"1.pdb\", \"w\") as out: \n",
    "                atmno = 1\n",
    "                resno = 0\n",
    "                res = \"\"\n",
    "                fr = \"\"\n",
    "                l = [\"\"] * 11\n",
    "                for line in pdb_in:\n",
    "                    if \"ATOM\" in line[0:4]:\n",
    "                        li = line.split()\n",
    "                        l[0] = li[0].ljust(6)\n",
    "                        l[1] = str(atmno).rjust(4)\n",
    "                        l[2] = li[2].ljust(3)\n",
    "                        l[3] = li[3].ljust(3)\n",
    "                        l[4] = line[21]\n",
    "                        if fr != line[21]:\n",
    "                            atmno = 1\n",
    "                            resno = 0\n",
    "                            res = \"\"\n",
    "                            fr = line[21]\n",
    "                        if line[22:26] == res:\n",
    "                            l[5] = (\"%4d\" % (int(resno))).rjust(4)\n",
    "                        else:\n",
    "                            resno += 1\n",
    "                            res = line[22:26]\n",
    "                            l[5] = (\"%4d\" % (int(resno))).rjust(4)\n",
    "                        # if len(l[6])>10:\n",
    "                        l[6] = (\"%8.3f\" % (float(line[29:38]))).rjust(8)\n",
    "                        l[7] = (\"%8.3f\" % (float(line[38:46]))).rjust(8)\n",
    "                        l[8] = (\"%8.3f\" % (float(line[46:54]))).rjust(8)\n",
    "                        l[9] = (\"%6.2f\" % (float(line[55:60]))).rjust(6)\n",
    "                        l[10] = (\"%6.2f\" % (float(line[60:66]))).ljust(6)\n",
    "                        out.write(\n",
    "                            \"{0} {1}  {2} {3} {4}{5}    {6}{7}{8}{9}{10}\".format(\n",
    "                                l[0], l[1], l[2], l[3], l[4], l[5], l[6], l[7], l[8], l[9], l[10]\n",
    "                            )\n",
    "                        )\n",
    "                        out.write(\"\\n\")\n",
    "                        atmno += 1\n",
    "        return file1 + \"1.pdb\"\n",
    "\n",
    "    def generate_one_frog(self, uid):\n",
    "        Quater = [0, 0, 0, 0]\n",
    "        recRandIdx = rng.integers(0, self.rec_coord.shape[0] - 1)\n",
    "        ligRandIdx = rng.integers(0, self.lig_coord.shape[0] - 1)\n",
    "        axis = self.rec_coord[recRandIdx]\n",
    "        a = self.rec_normal[recRandIdx]\n",
    "        b = self.lig_normal[ligRandIdx]\n",
    "\n",
    "        dotProduct = np.dot(a, b)\n",
    "        theta = np.arccos(dotProduct) * 2 - np.pi\n",
    "\n",
    "        Quater = Quaternion(axis=a, angle=theta)\n",
    "\n",
    "        final = np.array([Quater.rotate(i) for i in self.lig_atom])\n",
    "        args = [[final, uid, Quater, -1]]\n",
    "        return args\n",
    "\n",
    "    def generate_init_population(self):\n",
    "        with concurrent.futures.ProcessPoolExecutor() as executor:\n",
    "            Doargs = []\n",
    "            for _ in range(self.frogs):\n",
    "                Doargs += self.generate_one_frog(self.init)\n",
    "                self.init += 1\n",
    "            \n",
    "            results = executor.map(self.find_score, Doargs)\n",
    "            for r in results:\n",
    "                if r:\n",
    "                    self.structinfo[r[1]] = [r[0], r[2]]   \n",
    "\n",
    "    def sort_frog(self):\n",
    "        sorted_fitness = np.array(sorted(self.structinfo, key = lambda x: self.structinfo[x][0], reverse=True))\n",
    "\n",
    "        memeplexes = np.zeros((self.mplx_no, int(self.frogs/self.mplx_no)))\n",
    "\n",
    "        for j in range(memeplexes.shape[1]):\n",
    "            for i in range(mplx_no):\n",
    "                memeplexes[i, j] = sorted_fitness[i + (mplx_no*j)] \n",
    "        return memeplexes\n",
    "    \n",
    "    def shuffle_memeplexes(self):\n",
    "        \"\"\"Shuffles the memeplexes and sorting them.\n",
    "        \"\"\"\n",
    "        temp = self.memeplexes.flatten()\n",
    "        temp = np.array(sorted(temp, key = lambda x: self.structinfo[x][0], reverse=True))\n",
    "        for j in range(self.memeplexes.shape[1]):\n",
    "            for i in range(self.mplx_no):\n",
    "                self.memeplexes[i, j] = temp[i + (self.mplx_no * j)]\n",
    "                \n",
    "    def local_search_one_memeplex(self, im):\n",
    "        \"\"\"\n",
    "            q: The number of frogs in submemeplex\n",
    "            N: No of mutations\n",
    "        \"\"\"\n",
    "\n",
    "        for iN in range(self.N):\n",
    "            uId = self.init + im + 1\n",
    "            rValue = rng.random(self.FrogsEach) * self.weights # random value with probability weights\n",
    "            subindex = np.sort(np.argsort(rValue)[::-1][0:self.q]) # index of selected frogs in memeplex\n",
    "            submemeplex = self.memeplexes[im][subindex] \n",
    "\n",
    "            #--- Improve the worst frog's position ---#\n",
    "            # Learn from local best Pb #\n",
    "            Pb = self.structinfo[int(submemeplex[0])] # mark the best frog in submemeplex\n",
    "            Pw = self.structinfo[int(submemeplex[self.q - 1])] # mark the worst frog in memeplex\n",
    "\n",
    "            S = rng.random() * (Pb[1] - Pw[1]) \n",
    "            Uq = Pw[1] + S\n",
    "\n",
    "            globStep = False\n",
    "            censorship = False\n",
    "            # Check feasible space and the performance #\n",
    "            if self.omega[0] <= min(Uq) and max(Uq) <= self.omega[1]: # check feasible space\n",
    "                final = np.array([Uq.rotate(i) for i in self.lig_atom])  \n",
    "                results = self.find_score([final, uId, Uq, im])\n",
    "\n",
    "                if results[0] < Pw[0]:\n",
    "                    globStep = True\n",
    "\n",
    "            if globStep:\n",
    "                S = rng.random() * (self.Frog_gb[1] - Pw[1])\n",
    "                for i in range(4):\n",
    "                    if S[i] > 0:\n",
    "                        S[i] = min(S[i], max_step)\n",
    "                    else:\n",
    "                        S[i] = max(S[i], -max_step)\n",
    "                Uq = Pw[1] + S\n",
    "\n",
    "                if self.omega[0] <= min(Uq) and max(Uq) <= self.omega[1]: # check feasible space\n",
    "                    final = np.array([Uq.rotate(i) for i in self.lig_atom])  \n",
    "                    results = self.find_score([final, uId, Uq, im])\n",
    "                    if results[0] < Pw[0]:\n",
    "                        censorship = True\n",
    "                else:\n",
    "                    censorship = True\n",
    "\n",
    "            if censorship:\n",
    "                params = self.generate_one_frog(uId)\n",
    "                results = self.find_score(params)            \n",
    "\n",
    "\n",
    "            #StructInfo[im] = [results[0], results[2]]\n",
    "            shutil.move(os.path.join('poses/', 'out'+str(uId)+'.pdb'), os.path.join('poses/', 'out'+ str(submemeplex[q-1]) + '.pdb'))\n",
    "            self.structinfo[int(submemeplex[q-1])] = [results[0], results[2]]\n",
    "            self.memeplexes[im] = self.memeplexes[im][np.argsort(memeplexes[im])]\n",
    "            \n",
    "    def local_search(self):\n",
    "        self.Frog_gb = self.structinfo[int(self.memeplexes[0][0])]\n",
    "        self.FrogsEach = int(self.frogs/len(self.memeplexes))\n",
    "        self.weights = [2*(self.FrogsEach+1-j)/(self.FrogsEach*(self.FrogsEach+1)) for j in range(1, self.FrogsEach+1)] \n",
    "        self.omega = [np.amin(rec_normal), np.amax(rec_normal)]\n",
    "        self.max_step = (self.omega[1] - self.omega[0])/2 # maximum step sizess\n",
    "\n",
    "        with concurrent.futures.ProcessPoolExecutor() as executor:\n",
    "            doargs = [[im] for im in range(len(self.memeplexes))]\n",
    "            results = executor.map(self.local_search_one_memeplex, doargs)\n",
    "            \n",
    "            \n",
    "    def run_sfla(self):\n",
    "        rpdb= pdb1[0] + '_model_st.pdb'\n",
    "        lpdb=pdb1[1] + '_model_st.pdb'\n",
    "        \n",
    "        self.lig_chain = [i for i in pdb1[0]]\n",
    "        self.rec_chain = [i for i in pdb1[1]]\n",
    "         \n",
    "        inp1 = self.pdbpre(lpdb)\n",
    "        inp2 = self.pdbpre(rpdb)\n",
    "        \n",
    "        self.lig_coord, lig_res, lig_res_id, self.lig_atom = self.chaindef(inp1, self.lig_chain)\n",
    "        self.rec_coord, rec_res, rec_res_id, self.rec_atom = self.chaindef(inp2, self.rec_chain)   \n",
    "        \n",
    "        self.rec_normal, rec_curve = self.findPointNormals(self.rec_coord, 20,[0,0,0], rec_res_id, rec_res, 'r')\n",
    "        self.lig_normal, lig_curve = self.findPointNormals(self.lig_coord, 20,[0,0,0], lig_res_id, lig_res, 'r')\n",
    "            \n",
    "        self.generate_init_population()\n",
    "        self.memeplexes = self.sort_frog(self.mplx_no)\n",
    "        \n",
    "        for _ in range(self.n_iter):\n",
    "            self.local_search()\n",
    "            self.shuffle_memeplexes()"
   ]
  },
  {
   "cell_type": "code",
   "execution_count": null,
   "id": "6dc4b91a-8107-42bd-89d9-917096adacec",
   "metadata": {},
   "outputs": [],
   "source": []
  },
  {
   "cell_type": "code",
   "execution_count": 240,
   "id": "f605601e-53f7-46bf-97f2-e41ef3985de1",
   "metadata": {},
   "outputs": [],
   "source": [
    "shuffle_memeplexes(mem)"
   ]
  },
  {
   "cell_type": "code",
   "execution_count": 138,
   "id": "6bb44bbf-2c00-4f3a-b2e6-0588a3e5acb3",
   "metadata": {},
   "outputs": [],
   "source": [
    "memeplexes = sort_frog(20)"
   ]
  },
  {
   "cell_type": "code",
   "execution_count": 2,
   "id": "9f57d923-8a4f-4217-87a9-3cbac4b94639",
   "metadata": {},
   "outputs": [],
   "source": [
    "def chaindef(file, rec_chain):\n",
    "    \n",
    "    structure=p.get_structure('1bth',file)\n",
    "    coordinatesr = np.empty((0,3))\n",
    "    tobi_residuesr = []\n",
    "    residue_id=[]\n",
    "    boundary_residue_coord=np.empty((0,3))\n",
    "    atom_coord=np.empty((0,3))\n",
    "    boundary_residue_id=[]\n",
    "    boundary_residue_name=[]\n",
    "    #rcc=0\n",
    "    for model in structure:\n",
    "        surface = get_surface(model)\n",
    "        for chain in model:\n",
    "            if chain.id in rec_chain:\n",
    "                for residue in chain:\n",
    "                    #print('hi')\n",
    "                    cx = 0.0\n",
    "                    cy = 0.0\n",
    "                    cz = 0.0\n",
    "                    count = 0\n",
    "                    residue_index=recognized_residues.index(residue.get_resname())\n",
    "                    atom_set=np.empty((0,3))\n",
    "                    for atom in residue:\n",
    "                        if  not atom.name=='H':\n",
    "                            ax=atom.get_coord()[0]\n",
    "                            ay=atom.get_coord()[1]\n",
    "                            az=atom.get_coord()[2]\n",
    "                            atom_set=np.append(atom_set,[atom.get_coord()], axis=0)\n",
    "                            atom_coord=np.append(atom_coord,[atom.get_coord()], axis=0)\n",
    "                            cur_atom=residue.get_resname()+atom.name\n",
    "                            for typ in atom_types:\n",
    "                                if  cur_atom in typ or atom.name in ['N','CA','C','O']:\t#typ:#atom.name now added\n",
    "                                    cx += ax\n",
    "                                    cy += ay\n",
    "                                    cz += az\n",
    "                                    count += 1\n",
    "                                else:\n",
    "                                    pass\n",
    "                    cx/= float(count)\n",
    "                    cy/= float(count)\n",
    "                    cz/= float(count)\n",
    "                    coordinatesr=np.append(coordinatesr,[[cx, cy, cz]], axis=0)\n",
    "                    #rcc+=1\n",
    "                    tobi_residuesr.append(residue_index)\n",
    "                    residue_id.append(str(residue.get_id()[1])+residue.get_id()[2])\n",
    "                    fji=0     #check whether any of of the atoms in the resdue are at a distance 3 A from surface\n",
    "                    for ji in range(len(atom_set)):\n",
    "                        if min_dist(atom_set[ji], surface) < 2:\n",
    "                            fji=1\n",
    "                            break\n",
    "                    if fji==1:\n",
    "                        boundary_residue_coord=np.append(boundary_residue_coord,[[cx, cy, cz]],axis=0)\n",
    "                        #boundary_atom_name.append(atom.name)\n",
    "                        boundary_residue_id.append(str(residue.get_id()[1])+residue.get_id()[2])\n",
    "                        boundary_residue_name.append(residue.get_resname())\n",
    "    #print(rcc)\n",
    "    return boundary_residue_coord,boundary_residue_name, boundary_residue_id, atom_coord"
   ]
  },
  {
   "cell_type": "code",
   "execution_count": 3,
   "id": "8584227d-09bb-4345-ae65-3d4f9d498fd5",
   "metadata": {},
   "outputs": [],
   "source": [
    "def findPointNormals(points, numNeighbours, viewPoint, residue_id, residue_name,f):\n",
    "    \"\"\"\n",
    "    xu=[]\n",
    "    for i in points:\n",
    "        k=[]\n",
    "        for j in i:\n",
    "             k.append(float(j))\n",
    "        xu.append(k)\n",
    "    viewPoint =[float(x) for x in viewPoint]\n",
    "    X=xu\n",
    "    \"\"\"\n",
    "    nbrs = NearestNeighbors(n_neighbors=numNeighbours+1, algorithm='kd_tree').fit(points)\n",
    "    distances, indices = nbrs.kneighbors(points)\n",
    "    n = [] #indices[:,2:]\n",
    "    [n.append(indices[i][1:].tolist()) for i in range(0,len(indices))]\n",
    "\n",
    "    \n",
    "      #%find difference in position from neighbouring points\n",
    "    n=np.asarray(n).flatten('F')    \n",
    "    p = np.tile(points,(numNeighbours,1)) - points[n]\n",
    "    x=np.zeros((3,len(points),numNeighbours))\n",
    "    for i in range(0,3):\n",
    "        for j in range(0,len(points)):\n",
    "            for k in range(0,numNeighbours):\n",
    "                x[i,j,k]=p[k*len(points)+j,i]\n",
    "    p=x\n",
    "    C = np.zeros((len(points),6))\n",
    "    C[:,0]= np.sum(np.multiply(p[0],p[0]),axis=1)\n",
    "    C[:,1]= np.sum(np.multiply(p[0],p[1]),axis=1)\n",
    "    C[:,2]= np.sum(np.multiply(p[0],p[2]),axis=1)\n",
    "    C[:,3]= np.sum(np.multiply(p[1],p[1]),axis=1)\n",
    "    C[:,4]= np.sum(np.multiply(p[1],p[2]),axis=1)\n",
    "    C[:,5]= np.sum(np.multiply(p[2],p[2]),axis=1)\n",
    "    C = np.divide(C, numNeighbours)\n",
    "    normals = np.zeros((len(points),3))\n",
    "    curvature = np.zeros((len(points),1))\n",
    "    for i in range(0,len(points)):\n",
    "        Cmat = [[C[i,0], C[i,1] ,C[i,2]], [C[i,1], C[i,3], C[i,4]], [C[i,2], C[i,4], C[i,5]]]\n",
    "        [value,vector] = np.linalg.eigh(Cmat)\n",
    "        [lam,k] = min(value), value.tolist().index(min(value))\n",
    "        normals[i,:] = vector[:,k] #np.transpose(vector[:,k])\n",
    "        curvature[i]= lam / sum(value)\n",
    "        \n",
    "    return normals, curvature"
   ]
  },
  {
   "cell_type": "code",
   "execution_count": 4,
   "id": "e3750efe-f155-4724-9af6-96fb0633b132",
   "metadata": {},
   "outputs": [],
   "source": [
    "def do_something(args):\n",
    "    output_file='out'+str(args[1])+'.pdb'\n",
    "    out=open(os.path.join(mypath, output_file),'w')\n",
    "    sc=open('score.txt','a')\n",
    "    in1=open(inp2,'r')\n",
    "    in2=open(inp1,'r')\n",
    "    for line in in1:\n",
    "        if 'ATOM' in line:\n",
    "              out.write(line) \n",
    "    indexing=0\n",
    "    new_co=args[0]\n",
    "    for line in in2:\n",
    "        if 'ATOM' in line:\n",
    "            #print(line)\n",
    "            l=line.split()\n",
    "            l[0]=l[0].ljust(5)\n",
    "            l[1]=l[1].rjust(5)\n",
    "            l[2]=l[2].ljust(3)\n",
    "            l[3]=l[3].ljust(3)\n",
    "            l[4]=line[21]\n",
    "            l[5]=('%4d' % (int(line[22:26]))).rjust(4)\n",
    "            l[6]=('%8.3f' % (float(new_co[indexing][0]))).rjust(8)\n",
    "            l[7]=('%8.3f' % (float(new_co[indexing][1]))).rjust(8)\n",
    "            l[8]=('%8.3f' % (float(new_co[indexing][2]))).rjust(8)\n",
    "            out.write('{0} {1}  {2} {3} {4}{5}    {6}{7}{8}' .format(l[0],l[1],l[2],l[3],l[4],l[5],l[6],l[7],l[8]))\n",
    "            out.write('\\n')\n",
    "            indexing+=1\n",
    "    out.close()\n",
    "    #print(\"depth ok\")\n",
    "    pdbfile=os.path.join(mypath, output_file)\n",
    "    my_struct = pdbtools.read_pdb(pdbfile)\n",
    "    try:\n",
    "        depth_dict = pdb_resdepth.calculate_resdepth(structure=my_struct, pdb_filename=pdbfile, method=\"msms\")\n",
    "    except:\n",
    "        os.remove(os.path.join(mypath, output_file))\n",
    "        return\n",
    "    \n",
    "    distmat = matrice_distances.calc_distance_matrix(structure=my_struct, depth= depth_dict, chain_R=rec_chain, chain_L=lig_chain, dist_max=dist, method = depth)\n",
    "\n",
    "    vdw = Lennard_Jones.lennard_jones(dist_matrix=distmat)\n",
    "    electro = electrostatic.electrostatic(inter_resid_dict=distmat, pH =pH)\n",
    "    score=vdw+electro\n",
    "    #if score>=0:\n",
    "    #      os.remove(os.path.join(mypath, output_file))#eliminate the bad solutions\n",
    "\n",
    "    #      return\n",
    "    #else:\n",
    "\n",
    "    #score=np.random.randint(-30,20)\n",
    "    #sc.write(str(args[1])+'   '+ str(score)+'\\n')\n",
    "    #sc.close()\n",
    "    return score, args[1], args[2], args[3]"
   ]
  },
  {
   "cell_type": "code",
   "execution_count": 5,
   "id": "ebebed21-abc2-4b21-94b6-35ab1817bac2",
   "metadata": {},
   "outputs": [],
   "source": [
    "def find_score(args):\n",
    "    output_file='out'+str(args[1])+'.pdb'\n",
    "    shape, electro, jones, proba = True, True, True, False\n",
    "    pH = 7\n",
    "    dist = 8.6\n",
    "    with open(os.path.join(mypath, output_file),'w') as out:\n",
    "        in1 = open(inp2, \"r\")\n",
    "        in2 = open(inp1, \"r\")\n",
    "        for line in in1:\n",
    "            if \"ATOM\" in line:\n",
    "                out.write(line)\n",
    "        indexing = 0\n",
    "        new_co = args[0]\n",
    "        for line in in2:\n",
    "            if \"ATOM\" in line:\n",
    "                # print(line)\n",
    "                l = line.split()\n",
    "                l[0] = l[0].ljust(5)\n",
    "                l[1] = l[1].rjust(5)\n",
    "                l[2] = l[2].ljust(3)\n",
    "                l[3] = l[3].ljust(3)\n",
    "                l[4] = line[21]\n",
    "                l[5] = (\"%4d\" % (int(line[22:26]))).rjust(4)\n",
    "                l[6] = (\"%8.3f\" % (float(new_co[indexing][0]))).rjust(8)\n",
    "                l[7] = (\"%8.3f\" % (float(new_co[indexing][1]))).rjust(8)\n",
    "                l[8] = (\"%8.3f\" % (float(new_co[indexing][2]))).rjust(8)\n",
    "                out.write(\n",
    "                    \"{0} {1}  {2} {3} {4}{5}    {6}{7}{8}\".format(\n",
    "                        l[0], l[1], l[2], l[3], l[4], l[5], l[6], l[7], l[8]\n",
    "                    )\n",
    "                )\n",
    "                out.write(\"\\n\")\n",
    "                indexing += 1\n",
    "\n",
    "    pdbfile = os.path.join(mypath, output_file)\n",
    "    res = cm.combine_score(pdbfile, recepChain=rec_chain, ligChain=lig_chain, statpotrun=proba, vdwrun=jones, electrorun=electro, shaperun=shape, pH=pH, depth=depth, dist=dist)\n",
    "    mydf = pd.DataFrame(res,  index=[0])\n",
    "    mydf = mydf.set_index('pdb')\n",
    "    score = tm.tm_score(mydf, execdir='.')\n",
    "    return float(score['tm_score_prediction']), args[1], args[2], args[3]"
   ]
  },
  {
   "cell_type": "markdown",
   "id": "d9a4b3ba-d65f-4259-b4e9-508568384fd6",
   "metadata": {},
   "source": [
    "### sklearn == 0.24.1"
   ]
  },
  {
   "cell_type": "code",
   "execution_count": 29,
   "id": "247db1ea-5918-42d0-bd8b-08acbb4b5a29",
   "metadata": {},
   "outputs": [
    {
     "name": "stdout",
     "output_type": "stream",
     "text": [
      "MSMS running for poses/out16.pdb\n",
      "MSMS finished with poses/out16.pdb\n",
      "Alright!\n",
      "You will find your results in the . directory.\n"
     ]
    }
   ],
   "source": [
    "res1 = do_something1(Doargs[16])"
   ]
  },
  {
   "cell_type": "code",
   "execution_count": 58,
   "id": "53a2e855-ede3-41e4-8d8d-404d06ea83ea",
   "metadata": {},
   "outputs": [
    {
     "data": {
      "text/plain": [
       "(0.5557653944444447,\n",
       " 3,\n",
       " Quaternion(0.6744755650928211, -0.5721136235901982, -0.43578649009673776, -0.16690970266697627),\n",
       " -1)"
      ]
     },
     "execution_count": 58,
     "metadata": {},
     "output_type": "execute_result"
    }
   ],
   "source": [
    "res"
   ]
  },
  {
   "cell_type": "code",
   "execution_count": 30,
   "id": "16264c75-c8fb-4e95-94b1-1f5e9481e99d",
   "metadata": {},
   "outputs": [
    {
     "name": "stdout",
     "output_type": "stream",
     "text": [
      "MSMS running for poses/out10.pdb\n",
      "MSMS finished with poses/out10.pdb\n"
     ]
    }
   ],
   "source": [
    "res = do_something(Doargs[10])"
   ]
  },
  {
   "cell_type": "code",
   "execution_count": 28,
   "id": "71e8c94d-8586-4b05-ac2d-c12877de5230",
   "metadata": {},
   "outputs": [
    {
     "data": {
      "text/plain": [
       "(0,\n",
       " 10,\n",
       " Quaternion(0.6152593455419292, -0.31361652351971564, -0.5196077021493078, -0.5030988469136463),\n",
       " -1)"
      ]
     },
     "execution_count": 28,
     "metadata": {},
     "output_type": "execute_result"
    }
   ],
   "source": [
    "res"
   ]
  },
  {
   "cell_type": "code",
   "execution_count": null,
   "id": "4f951955-efd0-4732-9174-8cc7929f91d6",
   "metadata": {},
   "outputs": [],
   "source": []
  },
  {
   "cell_type": "code",
   "execution_count": null,
   "id": "62aff6c0-ba0a-481a-83cc-63471ecff314",
   "metadata": {},
   "outputs": [],
   "source": [
    "0.555765     "
   ]
  },
  {
   "cell_type": "code",
   "execution_count": null,
   "id": "2127b971-9aa9-45ff-b6b5-c8c6b5e8a757",
   "metadata": {},
   "outputs": [],
   "source": [
    "0.555765"
   ]
  },
  {
   "cell_type": "code",
   "execution_count": 6,
   "id": "64ddb184-3674-43ea-9215-88b1d65fc3f6",
   "metadata": {},
   "outputs": [],
   "source": [
    "def pdbpre(file1):\n",
    "    with open(os.path.join(args.pdb, file1), \"r\") as pdb_in: \n",
    "        with open(file1 + \"1.pdb\", \"w\") as out: \n",
    "            atmno = 1\n",
    "            resno = 0\n",
    "            res = \"\"\n",
    "            fr = \"\"\n",
    "            l = [\"\"] * 11\n",
    "            for line in pdb_in:\n",
    "                if \"ATOM\" in line[0:4]:\n",
    "                    li = line.split()\n",
    "                    l[0] = li[0].ljust(6)\n",
    "                    l[1] = str(atmno).rjust(4)\n",
    "                    l[2] = li[2].ljust(3)\n",
    "                    l[3] = li[3].ljust(3)\n",
    "                    l[4] = line[21]\n",
    "                    if fr != line[21]:\n",
    "                        atmno = 1\n",
    "                        resno = 0\n",
    "                        res = \"\"\n",
    "                        fr = line[21]\n",
    "                    if line[22:26] == res:\n",
    "                        l[5] = (\"%4d\" % (int(resno))).rjust(4)\n",
    "                    else:\n",
    "                        resno += 1\n",
    "                        res = line[22:26]\n",
    "                        l[5] = (\"%4d\" % (int(resno))).rjust(4)\n",
    "                    # if len(l[6])>10:\n",
    "                    l[6] = (\"%8.3f\" % (float(line[29:38]))).rjust(8)\n",
    "                    l[7] = (\"%8.3f\" % (float(line[38:46]))).rjust(8)\n",
    "                    l[8] = (\"%8.3f\" % (float(line[46:54]))).rjust(8)\n",
    "                    l[9] = (\"%6.2f\" % (float(line[55:60]))).rjust(6)\n",
    "                    l[10] = (\"%6.2f\" % (float(line[60:66]))).ljust(6)\n",
    "                    out.write(\n",
    "                        \"{0} {1}  {2} {3} {4}{5}    {6}{7}{8}{9}{10}\".format(\n",
    "                            l[0], l[1], l[2], l[3], l[4], l[5], l[6], l[7], l[8], l[9], l[10]\n",
    "                        )\n",
    "                    )\n",
    "                    out.write(\"\\n\")\n",
    "                    atmno += 1\n",
    "    return file1 + \"1.pdb\""
   ]
  },
  {
   "cell_type": "code",
   "execution_count": 28,
   "id": "88b36646-1132-4e3c-9c59-ce819e7c2893",
   "metadata": {},
   "outputs": [],
   "source": [
    "from utils.TMscore import TMscore"
   ]
  },
  {
   "cell_type": "code",
   "execution_count": 29,
   "id": "a6efd147-0a46-40b3-b263-184252c8c3b0",
   "metadata": {},
   "outputs": [],
   "source": [
    "tms = TMscore('utils/TMscore.f')"
   ]
  },
  {
   "cell_type": "code",
   "execution_count": null,
   "id": "a4cc125e-42a8-4836-a3e3-58042ca650b7",
   "metadata": {},
   "outputs": [],
   "source": [
    "import tmscoring"
   ]
  },
  {
   "cell_type": "code",
   "execution_count": 53,
   "id": "10c88e77-e52d-48d9-b331-086109de2887",
   "metadata": {},
   "outputs": [],
   "source": [
    "def do_something1(args):\n",
    "    output_file='out_'+str(args[1])+'.pdb'\n",
    "    with open(os.path.join(mypath, output_file),'w') as out:\n",
    "        in2=open(inp1,'r')\n",
    "        indexing=0\n",
    "        new_co=args[0]\n",
    "        for line in in2:\n",
    "            if 'ATOM' in line:\n",
    "                #print(line)\n",
    "                l=line.split()\n",
    "                l[0]=l[0].ljust(5)\n",
    "                l[1]=l[1].rjust(5)\n",
    "                l[2]=l[2].ljust(3)\n",
    "                l[3]=l[3].ljust(3)\n",
    "                l[4]=line[21]\n",
    "                l[5]=('%4d' % (int(line[22:26]))).rjust(4)\n",
    "                l[6]=('%8.3f' % (float(new_co[indexing][0]))).rjust(8)\n",
    "                l[7]=('%8.3f' % (float(new_co[indexing][1]))).rjust(8)\n",
    "                l[8]=('%8.3f' % (float(new_co[indexing][2]))).rjust(8)\n",
    "                out.write('{0} {1}  {2} {3} {4}{5}    {6}{7}{8}' .format(l[0],l[1],l[2],l[3],l[4],l[5],l[6],l[7],l[8]))\n",
    "                out.write('\\n')\n",
    "                indexing+=1\n",
    "    alignment = tmscoring.TMscoring(inp2, os.path.join('poses/', output_file))\n",
    "    score = alignment.tmscore(**alignment.get_current_values())\n",
    "    score1 = alignment.rmsd(**alignment.get_current_values())\n",
    "    \n",
    "    #tms()\n",
    "    #score = tms.get_tm_score()\n",
    "    print(score, score1)\n",
    "    return score, args[1], args[2], args[3]"
   ]
  },
  {
   "cell_type": "code",
   "execution_count": 56,
   "id": "1ef09d90-0527-4bba-aa2c-68b07c02d9c6",
   "metadata": {},
   "outputs": [
    {
     "name": "stdout",
     "output_type": "stream",
     "text": [
      "0.0008423485683393902 52.30314890225165\n"
     ]
    }
   ],
   "source": [
    "res = do_something1(Doargs[16])"
   ]
  },
  {
   "cell_type": "code",
   "execution_count": 11,
   "id": "5c3a3701-b6ee-49f7-9820-9b961c01cadc",
   "metadata": {},
   "outputs": [],
   "source": [
    "pdb0 = '4dn4' \n",
    "pdb1 = ['LH', 'M']"
   ]
  },
  {
   "cell_type": "code",
   "execution_count": 12,
   "id": "39161143-3f67-4de0-9ae1-f09ef963195d",
   "metadata": {},
   "outputs": [],
   "source": [
    "class ArgsVal:\n",
    "    def __init__(self, pdb):\n",
    "        self.pdb = pdb"
   ]
  },
  {
   "cell_type": "code",
   "execution_count": 13,
   "id": "86d311e0-693b-4339-b020-f3c14284bf8a",
   "metadata": {},
   "outputs": [],
   "source": [
    "args = ArgsVal(\"Data/4dn4_LH:M\")"
   ]
  },
  {
   "cell_type": "code",
   "execution_count": 14,
   "id": "3a3c769b-bfac-45ca-9bc4-5af0ffaf3594",
   "metadata": {},
   "outputs": [],
   "source": [
    "depth = \"msms\"\n",
    "dist = 8.6\n",
    "pH = 7"
   ]
  },
  {
   "cell_type": "code",
   "execution_count": 15,
   "id": "ae0e3685-e8a1-4450-ac26-76662b4bc1cf",
   "metadata": {},
   "outputs": [],
   "source": [
    "rpdb=pdb1[0]+'_model_st.pdb'\n",
    "lpdb=pdb1[1]+'_model_st.pdb'\n",
    "lig_chain=[]\n",
    "rec_chain=[]\n",
    "for i in pdb1[0]:\n",
    "    rec_chain.append(i)\n",
    "for i in pdb1[1]:\n",
    "    lig_chain.append(i)"
   ]
  },
  {
   "cell_type": "code",
   "execution_count": 16,
   "id": "b94d77ee-1685-46eb-b74b-6afb6574935f",
   "metadata": {},
   "outputs": [],
   "source": [
    "inp1 = pdbpre(lpdb)\n",
    "inp2 = pdbpre(rpdb)"
   ]
  },
  {
   "cell_type": "code",
   "execution_count": 17,
   "id": "af5b6fb9-2bb3-464a-bcb8-aa86bcede062",
   "metadata": {},
   "outputs": [
    {
     "name": "stdout",
     "output_type": "stream",
     "text": [
      "2\n",
      "['L', 'H']\n"
     ]
    }
   ],
   "source": [
    "lig_coord, lig_res,lig_res_id, lig_atom=chaindef(inp1, lig_chain)\n",
    "rec_coord, rec_res,rec_res_id, rec_atom=chaindef(inp2, rec_chain)\n",
    "print(len(rec_chain))\n",
    "print(rec_chain)\n",
    "#print(rec_coord)"
   ]
  },
  {
   "cell_type": "code",
   "execution_count": 18,
   "id": "95d7bb68-882c-43e3-8fef-42bd144d6c2a",
   "metadata": {},
   "outputs": [],
   "source": [
    "rec_normal, rec_curve = findPointNormals(rec_coord, 20,[0,0,0], rec_res_id, rec_res, 'r')\n",
    "lig_normal, lig_curve = findPointNormals(lig_coord, 20,[0,0,0], lig_res_id, lig_res, 'r')"
   ]
  },
  {
   "cell_type": "code",
   "execution_count": 46,
   "id": "4d408a5c-9fd6-412a-bb61-90e23cf7f4d4",
   "metadata": {},
   "outputs": [],
   "source": [
    "frogs = 50 ## No of frogs (population)\n",
    "\n",
    "StructInfo = {}\n",
    "init = 0\n",
    "mypath='poses/'"
   ]
  },
  {
   "cell_type": "code",
   "execution_count": null,
   "id": "5ce9d4af-b3cc-495d-9243-186cadb8709a",
   "metadata": {},
   "outputs": [],
   "source": []
  },
  {
   "cell_type": "code",
   "execution_count": 47,
   "id": "b975f149-62ff-424b-a1b9-ee4c668dfdce",
   "metadata": {
    "tags": []
   },
   "outputs": [
    {
     "data": {
      "text/plain": [
       "'\\n    results = executor.map(do_something1, Doargs)\\n    for r in results:\\n        if r:\\n            StructInfo[r[1]] = [r[0], r[2]] \\n'"
      ]
     },
     "execution_count": 47,
     "metadata": {},
     "output_type": "execute_result"
    }
   ],
   "source": [
    "#generation of initial population\n",
    "with concurrent.futures.ProcessPoolExecutor() as executor:\n",
    "    Doargs = []\n",
    "    for i in range(frogs):\n",
    "        Quater = [0, 0, 0, 0]\n",
    "        recRandIdx = rng.integers(0, rec_coord.shape[0] - 1)\n",
    "        ligRandIdx = rng.integers(0, lig_coord.shape[0] - 1)\n",
    "\n",
    "        axis = rec_coord[recRandIdx]\n",
    "        a = rec_normal[recRandIdx]\n",
    "        b = lig_normal[ligRandIdx]\n",
    "\n",
    "        dotProduct = np.dot(a, b)\n",
    "        theta = np.arccos(dotProduct) * 2 - np.pi\n",
    "\n",
    "        Quater = Quaternion(axis=a, angle=theta)\n",
    "\n",
    "        final = np.array([Quater.rotate(i) for i in lig_atom])\n",
    "\n",
    "        Doargs += [[final, init, Quater, -1]]\n",
    "        init += 1\n",
    "\"\"\"\n",
    "    results = executor.map(do_something1, Doargs)\n",
    "    for r in results:\n",
    "        if r:\n",
    "            StructInfo[r[1]] = [r[0], r[2]] \n",
    "\"\"\""
   ]
  },
  {
   "cell_type": "code",
   "execution_count": 218,
   "id": "2e3b6537-49b5-4ecc-8d9c-81ca5dcce951",
   "metadata": {},
   "outputs": [],
   "source": [
    "from utils.TMscore import TMscore"
   ]
  },
  {
   "cell_type": "code",
   "execution_count": 221,
   "id": "5c233e9c-3712-4468-9274-c378e44ea80f",
   "metadata": {},
   "outputs": [],
   "source": [
    "tms = TMscore('./utils/TMscore.f')"
   ]
  },
  {
   "cell_type": "markdown",
   "id": "602063ea-f0b4-4b90-bfe8-d96650f918c1",
   "metadata": {},
   "source": [
    "## Multi - with Function"
   ]
  },
  {
   "cell_type": "code",
   "execution_count": null,
   "id": "826a0f04-17af-4f9f-ab11-6f26e5d89a27",
   "metadata": {},
   "outputs": [],
   "source": []
  },
  {
   "cell_type": "code",
   "execution_count": 133,
   "id": "eec0abf9-b102-497d-83e8-93da52fc5664",
   "metadata": {},
   "outputs": [],
   "source": [
    "frogs = 200 ## No of frogs (population)\n",
    "\n",
    "StructInfo = {}\n",
    "init = 0\n",
    "mypath='poses/'"
   ]
  },
  {
   "cell_type": "code",
   "execution_count": 134,
   "id": "8c111160-dbe6-4df1-a616-5d442f47531f",
   "metadata": {},
   "outputs": [],
   "source": [
    "def generate_one_frog(init):\n",
    "    Quater = [0, 0, 0, 0]\n",
    "    recRandIdx = rng.integers(0, rec_coord.shape[0] - 1)\n",
    "    ligRandIdx = rng.integers(0, lig_coord.shape[0] - 1)\n",
    "    axis = rec_coord[recRandIdx]\n",
    "    a = rec_normal[recRandIdx]\n",
    "    b = lig_normal[ligRandIdx]\n",
    "    \n",
    "    dotProduct = np.dot(a, b)\n",
    "    theta = np.arccos(dotProduct) * 2 - np.pi\n",
    "    \n",
    "    Quater = Quaternion(axis=a, angle=theta)\n",
    "    \n",
    "    final = np.array([Quater.rotate(i) for i in lig_atom])\n",
    "    args = [[final, init, Quater, -1]]\n",
    "    return args"
   ]
  },
  {
   "cell_type": "code",
   "execution_count": 135,
   "id": "3d1033ec-7de4-48a4-8130-16339ba2cbf3",
   "metadata": {},
   "outputs": [],
   "source": [
    "def generate_init_population():\n",
    "    global init\n",
    "    with concurrent.futures.ProcessPoolExecutor() as executor:\n",
    "        Doargs = []\n",
    "        for _ in range(frogs):\n",
    "            Doargs += generate_one_frog(init)\n",
    "            init += 1\n",
    "        results = executor.map(find_score, Doargs)\n",
    "        for r in results:\n",
    "            if r:\n",
    "                StructInfo[r[1]] = [r[0], r[2]]    "
   ]
  },
  {
   "cell_type": "code",
   "execution_count": 136,
   "id": "e2d46462-e324-4cfd-93e1-a7fb81581657",
   "metadata": {},
   "outputs": [
    {
     "name": "stdout",
     "output_type": "stream",
     "text": [
      "MSMS running for\n",
      " poses/out0.pdbMSMS running forMSMS running for  poses/out3.pdbposes/out4.pdb\n",
      "\n",
      "MSMS running for poses/out5.pdb\n",
      "MSMS running forMSMS running for  poses/out1.pdbposes/out2.pdb\n",
      "\n",
      "MSMS running forMSMS running forMSMS running for   poses/out7.pdbposes/out8.pdbposes/out6.pdb\n",
      "\n",
      "\n",
      "MSMS running forMSMS running for  poses/out10.pdbposes/out9.pdb\n",
      "\n",
      "MSMS running for poses/out13.pdb\n",
      "MSMS running for poses/out12.pdb\n",
      "MSMS running forMSMS running for poses/out11.pdb \n",
      "poses/out15.pdb\n",
      "MSMS running for poses/out17.pdb\n",
      "MSMS running for poses/out14.pdb\n",
      "MSMS running forposes/out16.pdb \n",
      "MSMS running forMSMS running for  poses/out18.pdbposes/out19.pdb\n",
      "\n",
      "MSMS running for MSMS running forMSMS running forposes/out20.pdb \n",
      "poses/out23.pdb \n",
      "MSMS running for poses/out22.pdb\n",
      "MSMS running forposes/out21.pdb\n",
      " poses/out24.pdb\n",
      "MSMS running forMSMS running for MSMS running forMSMS running for  poses/out27.pdbposes/out26.pdb MSMS running forposes/out29.pdb\n",
      " poses/out25.pdb\n",
      "\n",
      "poses/out30.pdbMSMS running forMSMS running for\n",
      " \n",
      " MSMS running forposes/out28.pdb\n",
      " poses/out31.pdb\n",
      "poses/out32.pdb\n",
      "MSMS running for poses/out36.pdb\n",
      "MSMS running for MSMS running forposes/out37.pdb\n",
      " MSMS running for poses/out35.pdbMSMS running for\n",
      " poses/out34.pdbMSMS running for \n",
      "poses/out33.pdbposes/out38.pdb\n",
      "\n",
      "MSMS running for poses/out39.pdb\n",
      "MSMS finished with poses/out2.pdb\n",
      "MSMS finished with poses/out5.pdb\n",
      "MSMS finished with poses/out4.pdb\n",
      "MSMS finished with poses/out7.pdbMSMS finished with poses/out8.pdb\n",
      "\n",
      "MSMS finished with poses/out14.pdb\n",
      "MSMS finished with poses/out21.pdb\n",
      "MSMS finished with MSMS finished with poses/out29.pdb\n",
      "poses/out22.pdb\n",
      "MSMS finished with MSMS finished withposes/out38.pdb poses/out39.pdb\n",
      "\n",
      "MSMS finished with poses/out36.pdb\n",
      "MSMS running for poses/out40.pdb\n",
      "MSMS running for poses/out41.pdb\n",
      "MSMS running for poses/out42.pdb\n",
      "MSMS running for poses/out44.pdb\n",
      "MSMS running for poses/out45.pdb\n",
      "MSMS running for poses/out43.pdb\n",
      "MSMS running forMSMS running for poses/out47.pdb \n",
      "poses/out46.pdb\n",
      "MSMS running for poses/out48.pdb\n",
      "MSMS running for poses/out49.pdb\n",
      "MSMS running for poses/out50.pdb\n",
      "MSMS running for poses/out51.pdb\n",
      "MSMS finished with poses/out42.pdb\n",
      "MSMS finished with poses/out51.pdb\n",
      "MSMS finished with poses/out24.pdb\n",
      "MSMS running for poses/out52.pdb\n",
      "MSMS finished with poses/out0.pdb\n",
      "MSMS finished with poses/out11.pdb\n",
      "MSMS finished with poses/out30.pdb\n",
      "MSMS finished with poses/out23.pdb\n",
      "MSMS finished with poses/out26.pdb\n",
      "MSMS finished with poses/out25.pdb\n",
      "MSMS finished with poses/out20.pdb\n",
      "MSMS finished with poses/out3.pdb\n",
      "MSMS running for poses/out53.pdb\n",
      "MSMS finished with poses/out35.pdb\n",
      "MSMS finished withMSMS finished with  poses/out10.pdbposes/out33.pdb\n",
      "\n",
      "MSMS finished with poses/out13.pdb\n",
      "MSMS finished with poses/out17.pdb\n",
      "MSMS finished with poses/out31.pdb\n",
      "MSMS finished with poses/out18.pdb\n",
      "MSMS running for poses/out54.pdb\n",
      "MSMS running for poses/out55.pdb\n",
      "MSMS running for poses/out57.pdb\n",
      "MSMS running for poses/out58.pdb\n",
      "MSMS finished with poses/out34.pdb\n",
      "MSMS running for poses/out56.pdb\n",
      "MSMS running for poses/out59.pdb\n",
      "MSMS running for poses/out61.pdb\n",
      "MSMS running for poses/out60.pdb\n",
      "MSMS running for poses/out62.pdb\n",
      "MSMS finished with MSMS finished with poses/out28.pdbposes/out15.pdbMSMS running for\n",
      " \n",
      "poses/out63.pdb\n",
      "MSMS running for poses/out64.pdb\n",
      "MSMS finished with poses/out19.pdb\n",
      "MSMS running for poses/out65.pdb\n",
      "MSMS finished with poses/out27.pdb\n",
      "MSMS finished with poses/out1.pdb\n",
      "MSMS finished with poses/out37.pdb\n",
      "MSMS finished with poses/out32.pdb\n",
      "MSMS finished with poses/out12.pdb\n",
      "MSMS running for poses/out66.pdb\n",
      "MSMS finished with poses/out16.pdb\n",
      "MSMS finished with poses/out9.pdb\n",
      "MSMS finished with poses/out6.pdb\n",
      "MSMS running for poses/out67.pdb\n",
      "MSMS finished with poses/out41.pdb\n",
      "MSMS running for poses/out68.pdb\n",
      "MSMS finished with poses/out55.pdb\n",
      "MSMS running for poses/out69.pdb\n",
      "MSMS finished with poses/out58.pdb\n",
      "MSMS finished with poses/out48.pdb\n",
      "MSMS finished with poses/out49.pdb\n",
      "MSMS running for poses/out70.pdb\n",
      "MSMS running forMSMS running for poses/out71.pdb \n",
      "poses/out72.pdb\n",
      "MSMS running for poses/out73.pdb\n",
      "MSMS running forMSMS running for  poses/out75.pdbposes/out74.pdb\n",
      "\n",
      "MSMS running for poses/out76.pdb\n",
      "MSMS finished with poses/out59.pdb\n",
      "MSMS running forMSMS running for poses/out78.pdb\n",
      " poses/out77.pdb\n",
      "MSMS finished with poses/out62.pdb\n",
      "MSMS running for poses/out79.pdb\n",
      "MSMS running for poses/out80.pdb\n",
      "MSMS running for poses/out81.pdb\n",
      "MSMS finished with poses/out40.pdb\n",
      "MSMS running for poses/out82.pdb\n",
      "MSMS running for poses/out83.pdb\n",
      "MSMS finished with poses/out45.pdb\n",
      "MSMS finished with poses/out46.pdb\n",
      "MSMS running for poses/out84.pdb\n",
      "MSMS running for poses/out85.pdb\n",
      "MSMS running for poses/out86.pdbMSMS finished with\n",
      " poses/out44.pdb\n",
      "MSMS finished with poses/out47.pdb\n",
      "MSMS finished with poses/out43.pdb\n",
      "MSMS running for poses/out87.pdb\n",
      "MSMS running for poses/out88.pdb\n",
      "MSMS finished with poses/out72.pdb\n",
      "MSMS finished with poses/out50.pdb\n",
      "MSMS finished with poses/out76.pdb\n",
      "MSMS finished with poses/out78.pdb\n",
      "MSMS finished with poses/out77.pdb\n",
      "MSMS finished with poses/out81.pdb\n",
      "MSMS finished with poses/out80.pdb\n",
      "MSMS running for poses/out89.pdb\n",
      "MSMS running for poses/out90.pdb\n",
      "MSMS running for poses/out91.pdb\n",
      "MSMS running for poses/out92.pdb\n",
      "MSMS running for poses/out93.pdb\n",
      "MSMS running for poses/out94.pdb\n",
      "MSMS running for poses/out95.pdb\n",
      "MSMS running for poses/out97.pdb\n",
      "MSMS running for poses/out96.pdb\n",
      "MSMS running for poses/out98.pdb\n",
      "MSMS finished with poses/out53.pdb\n",
      "MSMS running for poses/out99.pdb\n",
      "MSMS running for poses/out100.pdb\n",
      "MSMS finished with poses/out54.pdb\n",
      "MSMS finished with poses/out90.pdb\n",
      "MSMS running for poses/out101.pdb\n",
      "MSMS finished with poses/out52.pdb\n",
      "MSMS running for poses/out102.pdb\n",
      "MSMS finished with poses/out64.pdb\n",
      "MSMS running for poses/out103.pdb\n",
      "MSMS running for poses/out104.pdb\n",
      "MSMS finished with poses/out68.pdb\n",
      "MSMS running for poses/out105.pdb\n",
      "MSMS finished with poses/out56.pdb\n",
      "MSMS finished with poses/out60.pdb\n",
      "MSMS finished withMSMS finished with  poses/out57.pdb\n",
      "poses/out66.pdb\n",
      "MSMS finished with poses/out61.pdb\n",
      "MSMS finished with poses/out63.pdb\n",
      "MSMS finished with poses/out65.pdb\n",
      "MSMS finished with poses/out70.pdb\n",
      "MSMS finished with poses/out67.pdb\n",
      "MSMS finished with poses/out74.pdb\n",
      "MSMS running for poses/out106.pdb\n",
      "MSMS running for poses/out107.pdb\n",
      "MSMS finished with poses/out71.pdb\n",
      "MSMS finished with poses/out75.pdb\n",
      "MSMS finished with poses/out82.pdbMSMS running for\n",
      " poses/out108.pdb\n",
      "MSMS running for poses/out109.pdb\n",
      "MSMS finished with poses/out73.pdb\n",
      "MSMS running for poses/out110.pdb\n",
      "MSMS running for poses/out111.pdb\n",
      "MSMS running for poses/out113.pdb\n",
      "MSMS running for poses/out112.pdb\n",
      "MSMS finished withMSMS finished with  poses/out69.pdbposes/out87.pdb\n",
      "\n",
      "MSMS finished with poses/out85.pdbMSMS running for\n",
      " poses/out114.pdb\n",
      "MSMS finished with MSMS running forposes/out84.pdb\n",
      " poses/out115.pdb\n",
      "MSMS running for poses/out116.pdb\n",
      "MSMS finished with poses/out86.pdb\n",
      "MSMS finished with poses/out79.pdb\n",
      "MSMS running for poses/out117.pdb\n",
      "MSMS finished with poses/out83.pdb\n",
      "MSMS running for poses/out118.pdb\n",
      "MSMS running for poses/out119.pdb\n",
      "MSMS running for poses/out120.pdb\n",
      "MSMS finished with poses/out91.pdb\n",
      "MSMS running for poses/out121.pdb\n",
      "MSMS running for poses/out122.pdb\n",
      "MSMS finished with poses/out92.pdb\n",
      "MSMS finished with poses/out95.pdb\n",
      "MSMS finished with poses/out110.pdb\n",
      "MSMS finished with poses/out94.pdb\n",
      "MSMS running for poses/out123.pdb\n",
      "MSMS running for poses/out124.pdb\n",
      "MSMS running for poses/out125.pdb\n",
      "MSMS finished with poses/out88.pdb\n",
      "MSMS running for poses/out126.pdb\n",
      "MSMS running for poses/out127.pdb\n",
      "MSMS running for poses/out128.pdb\n",
      "MSMS running for poses/out129.pdb\n",
      "MSMS finished with poses/out120.pdb\n",
      "MSMS finished with poses/out118.pdb\n",
      "MSMS finished with poses/out89.pdb\n",
      "MSMS finished with poses/out119.pdb\n",
      "MSMS running for poses/out130.pdb\n",
      "MSMS finished with poses/out98.pdb\n",
      "MSMS running for poses/out131.pdb\n",
      "MSMS running for poses/out132.pdb\n",
      "MSMS finished with poses/out121.pdb\n",
      "MSMS running for poses/out133.pdb\n",
      "MSMS finished with poses/out97.pdb\n",
      "MSMS finished with poses/out99.pdb\n",
      "MSMS finished with poses/out100.pdb\n",
      "MSMS finished with poses/out93.pdb\n",
      "MSMS running for poses/out134.pdb\n",
      "MSMS finished with poses/out96.pdb\n",
      "MSMS running for poses/out135.pdb\n",
      "MSMS running for poses/out137.pdb\n",
      "MSMS running for poses/out136.pdb\n",
      "MSMS running for poses/out138.pdb\n",
      "MSMS finished with poses/out102.pdb\n",
      "MSMS running for poses/out139.pdb\n",
      "MSMS running for poses/out140.pdb\n",
      "MSMS finished with poses/out101.pdb\n",
      "MSMS finished with poses/out130.pdb\n",
      "MSMS finished with poses/out104.pdb\n",
      "MSMS running for poses/out141.pdb\n",
      "MSMS running forMSMS running for  poses/out142.pdbposes/out143.pdb\n",
      "\n",
      "MSMS running for poses/out144.pdb\n",
      "MSMS finished with poses/out103.pdb\n",
      "MSMS running for poses/out145.pdb\n",
      "MSMS running for poses/out146.pdb\n",
      "MSMS finished with poses/out106.pdb\n",
      "MSMS finished with poses/out140.pdb\n",
      "MSMS finished with MSMS finished withposes/out136.pdb\n",
      " poses/out111.pdbMSMS running for\n",
      " poses/out147.pdb\n",
      "MSMS running for poses/out149.pdb\n",
      "MSMS finished with poses/out105.pdb\n",
      "MSMS running for poses/out148.pdb\n",
      "MSMS finished with poses/out114.pdb\n",
      "MSMS finished with poses/out108.pdb\n",
      "MSMS finished with poses/out142.pdb\n",
      "MSMS finished with MSMS finished with poses/out116.pdb\n",
      "poses/out143.pdb\n",
      "MSMS running for poses/out150.pdb\n",
      "MSMS running for poses/out152.pdb\n",
      "MSMS running for poses/out151.pdb\n",
      "MSMS running for poses/out153.pdb\n",
      "MSMS finished with poses/out107.pdb\n",
      "MSMS finished with MSMS running forposes/out117.pdb \n",
      "poses/out154.pdb\n",
      "MSMS finished with poses/out112.pdb\n",
      "MSMS running forMSMS finished with  poses/out109.pdbposes/out155.pdb\n",
      "\n",
      "MSMS running for poses/out156.pdb\n",
      "MSMS running for poses/out157.pdb\n",
      "MSMS finished with poses/out123.pdb\n",
      "MSMS finished with poses/out113.pdb\n",
      "MSMS finished with poses/out126.pdb\n",
      "MSMS running for poses/out158.pdb\n",
      "MSMS finished with poses/out148.pdb\n",
      "MSMS running for poses/out159.pdb\n",
      "MSMS finished with poses/out115.pdb\n",
      "MSMS running for poses/out160.pdb\n",
      "MSMS running for poses/out161.pdb\n",
      "MSMS finished with poses/out151.pdb\n",
      "MSMS finished with poses/out154.pdb\n",
      "MSMS running for poses/out162.pdb\n",
      "MSMS finished with poses/out127.pdb\n",
      "MSMS running for poses/out163.pdb\n",
      "MSMS running for poses/out164.pdb\n",
      "MSMS finished with poses/out131.pdb\n",
      "MSMS running for poses/out165.pdbMSMS running for\n",
      " poses/out166.pdb\n",
      "MSMS finished with poses/out156.pdb\n",
      "MSMS running for poses/out167.pdb\n",
      "MSMS finished with poses/out124.pdb\n",
      "MSMS finished with poses/out122.pdb\n",
      "MSMS running for poses/out168.pdb\n",
      "MSMS finished with poses/out135.pdb\n",
      "MSMS running for poses/out169.pdb\n",
      "MSMS finished with poses/out125.pdb\n",
      "MSMS running for poses/out170.pdb\n",
      "MSMS finished with poses/out129.pdb\n",
      "MSMS running for poses/out171.pdb\n",
      "MSMS running for poses/out172.pdbMSMS finished with \n",
      "poses/out128.pdb\n",
      "MSMS running for poses/out173.pdb\n",
      "MSMS finished with poses/out133.pdb\n",
      "MSMS running for poses/out174.pdbMSMS finished with \n",
      "poses/out139.pdb\n",
      "MSMS running for poses/out175.pdb\n",
      "MSMS finished with poses/out166.pdb\n",
      "MSMS finished with poses/out138.pdb\n",
      "MSMS finished with poses/out132.pdb\n",
      "MSMS finished with poses/out168.pdb\n",
      "MSMS running for poses/out176.pdb\n",
      "MSMS running for poses/out177.pdb\n",
      "MSMS running for poses/out178.pdb\n",
      "MSMS finished with poses/out137.pdb\n",
      "MSMS running for poses/out180.pdb\n",
      "MSMS running for poses/out179.pdb\n",
      "MSMS finished with poses/out134.pdb\n",
      "MSMS finished with poses/out172.pdb\n",
      "MSMS finished with poses/out173.pdb\n",
      "MSMS running for MSMS running forposes/out181.pdb\n",
      " poses/out182.pdb\n",
      "MSMS running for poses/out183.pdb\n",
      "MSMS running for poses/out184.pdb\n",
      "MSMS running for poses/out185.pdb\n",
      "MSMS running for poses/out186.pdb\n",
      "MSMS finished with poses/out176.pdb\n",
      "MSMS running for poses/out187.pdb\n",
      "MSMS finished with poses/out141.pdb\n",
      "MSMS finished with poses/out144.pdb\n",
      "MSMS running for poses/out188.pdb\n",
      "MSMS finished with poses/out179.pdb\n",
      "MSMS running for poses/out189.pdb\n",
      "MSMS finished with poses/out149.pdb\n",
      "MSMS finished with poses/out146.pdb\n",
      "MSMS running for poses/out190.pdb\n",
      "MSMS finished with poses/out155.pdb\n",
      "MSMS finished with poses/out145.pdb\n",
      "MSMS finished with poses/out153.pdb\n",
      "MSMS finished with poses/out182.pdb\n",
      "MSMS finished with poses/out147.pdb\n",
      "MSMS finished with poses/out184.pdb\n",
      "MSMS finished with poses/out158.pdb\n",
      "MSMS finished with poses/out186.pdb\n",
      "MSMS finished with poses/out150.pdb\n",
      "MSMS running for poses/out191.pdb\n",
      "MSMS running for poses/out192.pdb\n",
      "MSMS running for poses/out193.pdb\n",
      "MSMS running for poses/out194.pdb\n",
      "MSMS running for poses/out195.pdb\n",
      "MSMS finished with poses/out152.pdb\n",
      "MSMS running for poses/out197.pdb\n",
      "MSMS running forMSMS finished with poses/out196.pdb\n",
      " poses/out189.pdb\n",
      "MSMS running for poses/out198.pdb\n",
      "MSMS running for poses/out199.pdb\n",
      "MSMS finished with poses/out164.pdb\n",
      "MSMS finished with poses/out157.pdb\n",
      "MSMS finished with poses/out165.pdb\n",
      "MSMS finished with poses/out191.pdb\n",
      "MSMS finished with poses/out161.pdb\n",
      "MSMS finished with poses/out159.pdb\n",
      "MSMS finished withMSMS finished with  poses/out163.pdbposes/out160.pdb\n",
      "\n",
      "MSMS finished with poses/out170.pdb\n",
      "MSMS finished with poses/out162.pdb\n",
      "MSMS finished with poses/out167.pdb\n",
      "MSMS finished with poses/out197.pdb\n",
      "MSMS finished with poses/out171.pdb\n",
      "MSMS finished with poses/out175.pdb\n",
      "MSMS finished with poses/out174.pdb\n",
      "MSMS finished with poses/out180.pdb\n",
      "MSMS finished with poses/out169.pdb\n",
      "MSMS finished with poses/out177.pdb\n",
      "MSMS finished with poses/out178.pdb\n",
      "MSMS finished with poses/out188.pdb\n",
      "MSMS finished with poses/out185.pdb\n",
      "MSMS finished with poses/out187.pdb\n",
      "MSMS finished with poses/out190.pdb\n",
      "MSMS finished with poses/out183.pdb\n",
      "MSMS finished with poses/out181.pdb\n",
      "MSMS finished with poses/out193.pdb\n",
      "MSMS finished with poses/out199.pdb\n",
      "MSMS finished with poses/out198.pdb\n",
      "MSMS finished with poses/out196.pdb\n",
      "MSMS finished with poses/out192.pdb\n",
      "MSMS finished with poses/out195.pdb\n",
      "MSMS finished with poses/out194.pdb\n"
     ]
    }
   ],
   "source": [
    "generate_init_population()"
   ]
  },
  {
   "cell_type": "code",
   "execution_count": 223,
   "id": "1380230f-dd10-4c97-b9fa-ecd9408ecfa4",
   "metadata": {},
   "outputs": [
    {
     "data": {
      "text/plain": [
       "50"
      ]
     },
     "execution_count": 223,
     "metadata": {},
     "output_type": "execute_result"
    }
   ],
   "source": [
    "len(Doargs)"
   ]
  },
  {
   "cell_type": "code",
   "execution_count": null,
   "id": "9b1b85e1-7e20-4a66-92da-06f0ac2a9f73",
   "metadata": {
    "tags": []
   },
   "outputs": [],
   "source": [
    "with concurrent.futures.ProcessPoolExecutor() as executor:\n",
    "    Doargs = []\n",
    "    for _ in range(frogs):\n",
    "        Doargs += generate_one_frog(init)\n",
    "        init += 1\n",
    "    results = executor.map(find_score, Doargs)\n",
    "    for r in results:\n",
    "        if r:\n",
    "            StructInfo[r[1]] = [r[0], r[2]]"
   ]
  },
  {
   "cell_type": "code",
   "execution_count": null,
   "id": "e6112d7b-47ae-43a2-abe1-2a40a8c0faa4",
   "metadata": {},
   "outputs": [],
   "source": [
    "StructInfo"
   ]
  },
  {
   "cell_type": "code",
   "execution_count": 149,
   "id": "e3eff52a-d3e3-44b4-8500-95795ea6f02e",
   "metadata": {},
   "outputs": [
    {
     "data": {
      "text/plain": [
       "7"
      ]
     },
     "execution_count": 149,
     "metadata": {},
     "output_type": "execute_result"
    }
   ],
   "source": [
    "rng.integers(0, 12)"
   ]
  },
  {
   "cell_type": "code",
   "execution_count": 112,
   "id": "02a5efd8-f840-4a01-9524-a7df4dafd8b9",
   "metadata": {},
   "outputs": [
    {
     "data": {
      "text/plain": [
       "[-3.121259559452694,\n",
       " Quaternion(0.9500294077141206, -0.20983904643434914, -0.21258687585807717, 0.0906560493446668)]"
      ]
     },
     "execution_count": 112,
     "metadata": {},
     "output_type": "execute_result"
    }
   ],
   "source": [
    "StructInfo[int(mem[0])]"
   ]
  },
  {
   "cell_type": "code",
   "execution_count": 33,
   "id": "32877f16-103a-4bce-86cf-1a3336e9a4ef",
   "metadata": {},
   "outputs": [],
   "source": [
    "mem = sort_frog(10)"
   ]
  },
  {
   "cell_type": "code",
   "execution_count": 115,
   "id": "0e9ec405-c392-4757-8980-36649e5c8f06",
   "metadata": {},
   "outputs": [
    {
     "data": {
      "text/plain": [
       "array([[ 8., 30.,  6., 19., 41.],\n",
       "       [45., 48.,  9., 20., 42.],\n",
       "       [28., 23., 10., 24., 44.],\n",
       "       [43., 15., 11., 26., 46.],\n",
       "       [35., 22., 12., 27., 47.],\n",
       "       [36.,  4., 13., 32., 49.],\n",
       "       [25.,  1., 14., 33.,  0.],\n",
       "       [38.,  2., 16., 34., 29.],\n",
       "       [ 7.,  3., 17., 39., 37.],\n",
       "       [21.,  5., 18., 40., 31.]])"
      ]
     },
     "execution_count": 115,
     "metadata": {},
     "output_type": "execute_result"
    }
   ],
   "source": [
    "mem"
   ]
  },
  {
   "cell_type": "code",
   "execution_count": 29,
   "id": "c294a8af-49c5-479b-9419-0244907f0feb",
   "metadata": {},
   "outputs": [
    {
     "data": {
      "text/plain": [
       "array([ 2,  4,  8, 11, 16, 18, 20, 23, 38, 40, 41,  0,  3,  5,  7, 10, 13,\n",
       "       19, 21, 24, 25, 27, 28, 29, 32, 34, 39, 42, 43, 48,  1, 12, 15, 22,\n",
       "       46, 49,  6,  9, 14, 17, 26, 30, 31, 33, 35, 36, 37, 44, 45, 47])"
      ]
     },
     "execution_count": 29,
     "metadata": {},
     "output_type": "execute_result"
    }
   ],
   "source": [
    "np.array(sorted(StructInfo, key = lambda x: StructInfo[x][0], reverse=True))"
   ]
  },
  {
   "cell_type": "code",
   "execution_count": null,
   "id": "e2b30736-4ee9-4130-8540-31481c516991",
   "metadata": {},
   "outputs": [],
   "source": []
  },
  {
   "cell_type": "code",
   "execution_count": null,
   "id": "b5114282-754c-43f9-9c99-f2c898bfc1d1",
   "metadata": {},
   "outputs": [],
   "source": [
    "StructInfo[mem.flatten()]"
   ]
  },
  {
   "cell_type": "code",
   "execution_count": 116,
   "id": "80170d2b-52de-433a-b870-2589e084e595",
   "metadata": {},
   "outputs": [
    {
     "data": {
      "text/plain": [
       "48.0"
      ]
     },
     "execution_count": 116,
     "metadata": {},
     "output_type": "execute_result"
    }
   ],
   "source": [
    "mem[1][1]"
   ]
  },
  {
   "cell_type": "code",
   "execution_count": 119,
   "id": "eee33ee2-23eb-45db-91fe-ddb94bc7d11a",
   "metadata": {},
   "outputs": [
    {
     "data": {
      "text/plain": [
       "[-27.42530894702434,\n",
       " Quaternion(0.9631228922249896, 0.10238838890014193, -0.20305440473343023, 0.14380480175903962)]"
      ]
     },
     "execution_count": 119,
     "metadata": {},
     "output_type": "execute_result"
    }
   ],
   "source": [
    "StructInfo[mem[0][0]]"
   ]
  },
  {
   "cell_type": "code",
   "execution_count": 32,
   "id": "47729fb9-c174-4d31-ad60-b0af52d0a2a3",
   "metadata": {},
   "outputs": [],
   "source": [
    "def sort_frog(mplx_no):\n",
    "    sorted_fitness = np.array(sorted(StructInfo, key = lambda x: StructInfo[x][0], reverse=True))\n",
    "\n",
    "    memeplexes = np.zeros((mplx_no, int(frogs/mplx_no)))\n",
    "\n",
    "    for j in range(memeplexes.shape[1]):\n",
    "        for i in range(mplx_no):\n",
    "            memeplexes[i, j] = sorted_fitness[i + (mplx_no*j)] \n",
    "    return memeplexes"
   ]
  },
  {
   "cell_type": "code",
   "execution_count": 54,
   "id": "1661b9c8-c92c-4085-8d2b-c2ebb688270c",
   "metadata": {},
   "outputs": [],
   "source": [
    "def shuffle_memeplexes(memeplexes):\n",
    "    \"\"\"Shuffles the memeplexes and sorting them.\n",
    "    \n",
    "    Arguments:\n",
    "        frogs {numpy.ndarray} -- All the frogs\n",
    "        memeplexes {numpy.ndarray} -- The memeplexes\n",
    "    \n",
    "    Returns:\n",
    "        None\n",
    "    \"\"\"\n",
    "    mplx_no = memeplexes.shape[0]\n",
    "    temp = memeplexes.flatten()\n",
    "    temp = np.array(sorted(temp, key = lambda x: StructInfo[x][0], reverse=True))\n",
    "    for j in range(memeplexes.shape[1]):\n",
    "        for i in range(mplx_no):\n",
    "            memeplexes[i, j] = temp[i + (mplx_no*j)]"
   ]
  },
  {
   "cell_type": "code",
   "execution_count": 240,
   "id": "9703bdd3-664a-47aa-8d97-077f49c4b76a",
   "metadata": {},
   "outputs": [],
   "source": [
    "shuffle_memeplexes(mem)"
   ]
  },
  {
   "cell_type": "code",
   "execution_count": 20,
   "id": "2d78f456-fc8c-4f9e-bd1b-0f0647daf0c6",
   "metadata": {},
   "outputs": [
    {
     "data": {
      "text/plain": [
       "{}"
      ]
     },
     "execution_count": 20,
     "metadata": {},
     "output_type": "execute_result"
    }
   ],
   "source": [
    "StructInfo"
   ]
  },
  {
   "cell_type": "markdown",
   "id": "593ef1c6-0d08-4507-90be-653ebd22592f",
   "metadata": {},
   "source": [
    "## Local Search"
   ]
  },
  {
   "cell_type": "code",
   "execution_count": 87,
   "id": "40abfa31-1b12-4199-b772-f783b899a6e9",
   "metadata": {},
   "outputs": [
    {
     "data": {
      "text/plain": [
       "10"
      ]
     },
     "execution_count": 87,
     "metadata": {},
     "output_type": "execute_result"
    }
   ],
   "source": [
    "len(mem)"
   ]
  },
  {
   "cell_type": "code",
   "execution_count": 80,
   "id": "2efffcf6-f222-4bfc-9fe7-045546d98904",
   "metadata": {},
   "outputs": [
    {
     "data": {
      "text/plain": [
       "10"
      ]
     },
     "execution_count": 80,
     "metadata": {},
     "output_type": "execute_result"
    }
   ],
   "source": [
    "#len(mem)\n",
    "mem.shape[0]"
   ]
  },
  {
   "cell_type": "code",
   "execution_count": 95,
   "id": "71ebb07c-11b7-4452-a849-c4396b4dfe65",
   "metadata": {},
   "outputs": [],
   "source": [
    "rValue = np.random.random(FrogsEach) * weights # random value with probability weights\n",
    "subindex = np.sort(np.argsort(rValue)[::-1][0:q]) # index of selected frogs in memeplex "
   ]
  },
  {
   "cell_type": "code",
   "execution_count": 107,
   "id": "c5c0079f-c079-44fd-a400-82d46c8dd480",
   "metadata": {},
   "outputs": [
    {
     "data": {
      "text/plain": [
       "array([0, 1])"
      ]
     },
     "execution_count": 107,
     "metadata": {},
     "output_type": "execute_result"
    }
   ],
   "source": [
    "np.sort(np.argsort(rValue)[::-1][0:2])"
   ]
  },
  {
   "cell_type": "code",
   "execution_count": 120,
   "id": "8dd88679-aedd-47fc-82ef-4f362a22818b",
   "metadata": {},
   "outputs": [],
   "source": [
    "submem = mem[0][subindex]"
   ]
  },
  {
   "cell_type": "code",
   "execution_count": 123,
   "id": "5587e9da-8bf1-4a30-b723-eb9449f90ebc",
   "metadata": {},
   "outputs": [
    {
     "data": {
      "text/plain": [
       "8"
      ]
     },
     "execution_count": 123,
     "metadata": {},
     "output_type": "execute_result"
    }
   ],
   "source": [
    "int(submem[0])"
   ]
  },
  {
   "cell_type": "code",
   "execution_count": 97,
   "id": "f5d661dd-4e15-43a3-a4e0-0e32b42cf0b0",
   "metadata": {},
   "outputs": [
    {
     "data": {
      "text/plain": [
       "array([ 0.19770418,  0.33067041,  0.        , -0.03530205, -0.63396841])"
      ]
     },
     "execution_count": 97,
     "metadata": {},
     "output_type": "execute_result"
    }
   ],
   "source": [
    "s[k]=frog_w[1][k]+L[k]*(frog_b[1][k] - frog_w[1][k])"
   ]
  },
  {
   "cell_type": "code",
   "execution_count": 150,
   "id": "eedf97ab-23b1-42e2-aa0f-07e87e36691e",
   "metadata": {},
   "outputs": [
    {
     "data": {
      "text/plain": [
       "array([0.26978671, 0.04097352, 0.01652764, 0.81327024, 0.91275558])"
      ]
     },
     "execution_count": 150,
     "metadata": {},
     "output_type": "execute_result"
    }
   ],
   "source": [
    "mem"
   ]
  },
  {
   "cell_type": "markdown",
   "id": "2091fda5-ecc2-46f9-87aa-9fff9df5736d",
   "metadata": {},
   "source": [
    "#### Local Search Main Code -- Multi"
   ]
  },
  {
   "cell_type": "code",
   "execution_count": null,
   "id": "ea4ec64c-9d18-4c7b-8a15-6f1fcd8e4b40",
   "metadata": {},
   "outputs": [],
   "source": []
  },
  {
   "cell_type": "code",
   "execution_count": 138,
   "id": "b8b823dd-8b96-45f0-9688-39add2586715",
   "metadata": {},
   "outputs": [],
   "source": [
    "memeplexes = sort_frog(20)"
   ]
  },
  {
   "cell_type": "code",
   "execution_count": 191,
   "id": "4d0fadc0-5108-4027-b934-f520bf3ff4c0",
   "metadata": {},
   "outputs": [],
   "source": [
    "def local_search_one_memeplex(inp):\n",
    "    \"\"\"\n",
    "        q: The number of frogs in submemeplex\n",
    "        N: No of mutations\n",
    "    \"\"\"\n",
    "    im, N, q, Frog_gb = inp\n",
    "    FrogsEach = int(frogs/len(memeplexes))\n",
    "    weights = [2*(FrogsEach+1-j)/(FrogsEach*(FrogsEach+1)) for j in range(1, FrogsEach+1)] \n",
    "    \n",
    "    Omega = [np.amin(rec_normal), np.amax(rec_normal)]\n",
    "    max_step = (Omega[1]-Omega[0])/2 # maximum step size\n",
    "    \n",
    "    for iN in range(N):\n",
    "        uId = init + im + 1\n",
    "        rValue = rng.random(FrogsEach) * weights # random value with probability weights\n",
    "        subindex = np.sort(np.argsort(rValue)[::-1][0:q]) # index of selected frogs in memeplex\n",
    "        submemeplex = memeplexes[im][subindex] \n",
    "\n",
    "        #--- Improve the worst frog's position ---#\n",
    "        # Learn from local best Pb #\n",
    "        Pb = StructInfo[int(submemeplex[0])] # mark the best frog in submemeplex\n",
    "        Pw = StructInfo[int(submemeplex[q-1])] # mark the worst frog in memeplex\n",
    "\n",
    "        S = rng.random() * (Pb[1] - Pw[1]) \n",
    "        Uq = Pw[1] + S\n",
    "\n",
    "        globStep = False\n",
    "        censorship = False\n",
    "        # Check feasible space and the performance #\n",
    "        if Omega[0] <= min(Uq) and max(Uq) <= Omega[1]: # check feasible space\n",
    "            final = np.array([Uq.rotate(i) for i in lig_atom])  \n",
    "            results = find_score([final, uId, Uq, im])\n",
    "\n",
    "            if results[0] < Pw[0]:\n",
    "                globStep = True\n",
    "\n",
    "        if globStep:\n",
    "            S = rng.random() * (Frog_gb[1] - Pw[1])\n",
    "            for i in range(4):\n",
    "                if S[i] > 0:\n",
    "                    S[i] = min(S[i],max_step)\n",
    "                else:\n",
    "                    S[i] = max(S[i],-max_step)\n",
    "            Uq = Pw[1] + S\n",
    "\n",
    "            if Omega[0] <= min(Uq) and max(Uq) <= Omega[1]: # check feasible space\n",
    "                final = np.array([Uq.rotate(i) for i in lig_atom])  \n",
    "                results = find_score([final, uId, Uq, im])\n",
    "                if results[0] < Pw[0]:\n",
    "                    censorship = True\n",
    "            else:\n",
    "                censorship = True\n",
    "\n",
    "        if censorship:\n",
    "            params = generate_one_frog(uId)\n",
    "            results = find_score(params)            \n",
    "\n",
    "\n",
    "        #StructInfo[im] = [results[0], results[2]]\n",
    "        shutil.move(os.path.join('poses/', 'out'+str(uId)+'.pdb'), os.path.join('poses/', 'out'+ str(submemeplex[q-1]) + '.pdb'))\n",
    "        StructInfo[int(submemeplex[q-1])] = [results[0], results[2]]\n",
    "        memeplexes[im] = memeplexes[im][np.argsort(memeplexes[im])]"
   ]
  },
  {
   "cell_type": "code",
   "execution_count": 198,
   "id": "0ca25558-ce14-4982-8728-d620d1f02fb3",
   "metadata": {},
   "outputs": [],
   "source": [
    "def local_search():\n",
    "    Frog_gb = StructInfo[int(memeplexes[0][0])]\n",
    "    N = 10\n",
    "    q = 6\n",
    "    with concurrent.futures.ProcessPoolExecutor() as executor:\n",
    "        doargs = [[im, N, q, Frog_gb] for im in range(len(memeplexes))]\n",
    "        results = executor.map(local_search_one_memeplex, doargs)"
   ]
  },
  {
   "cell_type": "code",
   "execution_count": null,
   "id": "cd3e7cc2-5dfe-4f6d-8b7e-791c4abdfc8d",
   "metadata": {},
   "outputs": [],
   "source": [
    "%%time\n",
    "local_search()"
   ]
  },
  {
   "cell_type": "code",
   "execution_count": 194,
   "id": "dc02b67a-c4f8-4c93-8b93-c6a3a06ba73b",
   "metadata": {},
   "outputs": [
    {
     "data": {
      "text/plain": [
       "array([[  1., 192., 133.,   8.,  11.,  25.,  36., 160.,   9.,  48.],\n",
       "       [ 83.,  43.,  69.,  59.,  68.,  76.,  86.,  15., 157., 174.],\n",
       "       [161., 103., 145.,  53., 119., 134., 142., 183.,   6.,  51.],\n",
       "       [ 18.,  44.,  71.,  93., 171., 180., 191.,  16., 116., 175.],\n",
       "       [ 88., 105., 149., 155.,  13.,  29.,  38.,  19., 118.,  82.],\n",
       "       [162.,  45.,  75.,  54.,  70.,  78.,  87.,  32., 123., 178.],\n",
       "       [ 27., 109., 159.,  97., 120., 135., 144.,  37.,   2.,  84.],\n",
       "       [ 89.,  46.,  56., 156., 172., 184., 193.,  47., 126., 182.],\n",
       "       [163., 112.,   4.,   0.,  14.,  30.,  39.,  50.,  10.,  94.],\n",
       "       [ 28.,  52.,   7.,  55.,  72.,  80.,  90.,  60., 127., 189.],\n",
       "       [ 96., 113.,  42., 104., 121., 138., 147.,  61.,  20.,  95.],\n",
       "       [167.,  57.,  77., 164., 173., 187., 196.,  65., 143., 199.],\n",
       "       [ 31., 115., 110.,   3.,  17.,  33.,  41.,  99.,  22., 102.],\n",
       "       [ 98.,  63., 130.,  58.,  73.,  81.,  91., 107., 154., 108.],\n",
       "       [181., 124., 136., 106., 122., 139., 148., 129.,  23., 111.],\n",
       "       [ 34.,  64., 151., 166., 177., 188., 198., 132., 158., 114.],\n",
       "       [100., 125., 169.,   5.,  21.,  35.,  49., 137.,  24., 195.],\n",
       "       [185.,  66., 176.,  62.,  74.,  85.,  92., 141., 165., 150.],\n",
       "       [ 40., 128., 186., 117., 131., 140., 153., 146.,  26., 194.],\n",
       "       [101.,  67., 197., 168., 179., 190.,  12., 152., 170.,  79.]])"
      ]
     },
     "execution_count": 194,
     "metadata": {},
     "output_type": "execute_result"
    }
   ],
   "source": [
    "memeplexes"
   ]
  },
  {
   "cell_type": "code",
   "execution_count": 222,
   "id": "1abb0728-43e2-4a36-b2d7-e081aab07de3",
   "metadata": {},
   "outputs": [
    {
     "data": {
      "text/plain": [
       "[[0, 2, 3],\n",
       " [1, 2, 3],\n",
       " [2, 2, 3],\n",
       " [3, 2, 3],\n",
       " [4, 2, 3],\n",
       " [5, 2, 3],\n",
       " [6, 2, 3],\n",
       " [7, 2, 3],\n",
       " [8, 2, 3],\n",
       " [9, 2, 3]]"
      ]
     },
     "execution_count": 222,
     "metadata": {},
     "output_type": "execute_result"
    }
   ],
   "source": [
    "doargs"
   ]
  },
  {
   "cell_type": "code",
   "execution_count": null,
   "id": "6217a40e-7d77-430f-abed-59b0b628062d",
   "metadata": {},
   "outputs": [],
   "source": [
    "with concurrent.futures.ProcessPoolExecutor() as executor:\n",
    "    N = 2\n",
    "    q = 3\n",
    "    doargs = [[im, N, q] for im in range(len(memeplexes))]\n",
    "    _ = executor.map(local_search, doargs)"
   ]
  },
  {
   "cell_type": "code",
   "execution_count": 199,
   "id": "ec43ea15-7ab3-446b-8333-bc3ec7b2933b",
   "metadata": {},
   "outputs": [],
   "source": [
    "shuffle_memeplexes(memeplexes)"
   ]
  },
  {
   "cell_type": "code",
   "execution_count": null,
   "id": "bf56c595-cd2c-488f-988c-77c9d67d9a80",
   "metadata": {},
   "outputs": [],
   "source": [
    "for _ in range(5):\n",
    "    local_search()\n",
    "    shuffle_memeplexes(memeplexes)"
   ]
  },
  {
   "cell_type": "code",
   "execution_count": null,
   "id": "4bbfa1ce-e71b-4343-9873-bd78688795c6",
   "metadata": {},
   "outputs": [],
   "source": []
  },
  {
   "cell_type": "markdown",
   "id": "7694e728-666f-4dfb-8bc6-ae3cea2aa084",
   "metadata": {},
   "source": [
    "## MAIN RUN CODE"
   ]
  },
  {
   "cell_type": "code",
   "execution_count": null,
   "id": "083eed7d-da33-4450-acbe-d13369436a1b",
   "metadata": {},
   "outputs": [],
   "source": [
    "def run_sfla(mplx_no, n_iter):\n",
    "    generate_init_population()\n",
    "    memeplexes = sort_frog(mplx_no=mplx_no)\n",
    "    for _ in range(n_iter):\n",
    "        local_search()\n",
    "        shuffle_memeplexes(memeplexes)"
   ]
  },
  {
   "cell_type": "code",
   "execution_count": 201,
   "id": "b50be342-2fd1-4673-80a5-e2560367bfd1",
   "metadata": {},
   "outputs": [
    {
     "data": {
      "text/plain": [
       "array([[  1.,  83., 113.,   8.,  41.,  87., 140.,   9.,  12.,  24.],\n",
       "       [ 18., 145.,  71.,  59.,  29.,  74., 121.,  15., 107.,  23.],\n",
       "       [112.,  34., 101., 187.,   5.,  55.,  53., 129.,   6., 174.],\n",
       "       [ 28., 185.,  63., 171., 193.,  25.,  81., 132., 102., 127.],\n",
       "       [163.,  89., 181., 148., 179.,  17., 153., 137.,  94.,  51.],\n",
       "       [167., 100.,  27., 117., 164., 155.,  49., 141., 118., 158.],\n",
       "       [105., 133., 192.,  90., 142., 188.,  30., 146., 178., 154.],\n",
       "       [ 66., 162.,  56.,  76., 122., 172., 166., 152.,  26., 199.],\n",
       "       [ 75., 103.,   4., 135.,  97.,  33., 196., 157., 165., 189.],\n",
       "       [ 45., 125.,   7.,  38.,  85.,  70., 180., 183., 123., 116.],\n",
       "       [ 69.,  46.,  42.,  21.,  72., 119., 104.,  16.,  10., 126.],\n",
       "       [124.,  96.,  77.,   0.,  36.,  91., 144.,  19.,  95.,  82.],\n",
       "       [ 44., 115., 110.,  58., 120.,  78., 131.,  32., 143., 182.],\n",
       "       [ 43.,  88., 130., 173.,  13.,  62.,  54.,  37.,  84., 114.],\n",
       "       [ 64.,  31., 136.,  93., 138.,  39.,  86.,  47., 111.,  48.],\n",
       "       [ 52., 128., 151., 139., 184.,  11.,  73.,  50., 175.,  22.],\n",
       "       [ 67.,  57., 169., 190., 168.,   3., 191.,  60., 108., 195.],\n",
       "       [ 40., 109., 176.,  92., 147., 134.,  35.,  61., 170., 150.],\n",
       "       [ 98., 149., 186.,  80.,  68., 177.,  14.,  65.,  20., 194.],\n",
       "       [161., 159., 197., 198., 106., 156., 160.,  99.,   2.,  79.]])"
      ]
     },
     "execution_count": 201,
     "metadata": {},
     "output_type": "execute_result"
    }
   ],
   "source": [
    "memeplexes"
   ]
  },
  {
   "cell_type": "code",
   "execution_count": 195,
   "id": "6343c72b-4980-4d80-9b88-f885d3602751",
   "metadata": {},
   "outputs": [],
   "source": [
    "shuffle_memeplexes(memeplexes)"
   ]
  },
  {
   "cell_type": "code",
   "execution_count": 196,
   "id": "f37868c4-2148-4db0-887e-84db5c9b11f2",
   "metadata": {},
   "outputs": [
    {
     "data": {
      "text/plain": [
       "[0.5204008611111113,\n",
       " Quaternion(0.8253056370515306, -0.5565910091238468, 0.05185394732923476, -0.0799263546012341)]"
      ]
     },
     "execution_count": 196,
     "metadata": {},
     "output_type": "execute_result"
    }
   ],
   "source": [
    "StructInfo[memeplexes[-1][-1]]"
   ]
  },
  {
   "cell_type": "code",
   "execution_count": 197,
   "id": "c2bf7e34-d513-44d4-8b4c-9b56cddef43e",
   "metadata": {},
   "outputs": [
    {
     "data": {
      "text/plain": [
       "[0.657472333333334,\n",
       " Quaternion(0.8990546147122486, -0.4105507045149465, 0.05919979793793172, -0.14015813465867544)]"
      ]
     },
     "execution_count": 197,
     "metadata": {},
     "output_type": "execute_result"
    }
   ],
   "source": [
    "StructInfo[memeplexes[0][0]]"
   ]
  },
  {
   "cell_type": "code",
   "execution_count": 207,
   "id": "b0a097d9-6453-4a6f-a805-571e36e45755",
   "metadata": {},
   "outputs": [
    {
     "data": {
      "text/plain": [
       "[0.657472333333334,\n",
       " Quaternion(0.9941252011379279, 0.002317500344719261, -0.088033121051463, -0.06292760326410822)]"
      ]
     },
     "execution_count": 207,
     "metadata": {},
     "output_type": "execute_result"
    }
   ],
   "source": [
    "StructInfo[memeplexes[2][0]]"
   ]
  },
  {
   "cell_type": "code",
   "execution_count": 210,
   "id": "8df9b1aa-f894-4ddc-a3a3-dfa2d64094ca",
   "metadata": {},
   "outputs": [],
   "source": [
    "scores = []\n",
    "for i in memeplexes:\n",
    "    for j in i:\n",
    "        scores.append(StructInfo[j][0])"
   ]
  },
  {
   "cell_type": "code",
   "execution_count": 213,
   "id": "e880b87f-fd06-4d2e-a811-7953587c1f13",
   "metadata": {},
   "outputs": [],
   "source": [
    "npScores = np.array(scores)"
   ]
  },
  {
   "cell_type": "code",
   "execution_count": 214,
   "id": "bda1778e-e451-41b5-893e-619cd3c52c42",
   "metadata": {},
   "outputs": [],
   "source": [
    "npScores.sort()"
   ]
  },
  {
   "cell_type": "code",
   "execution_count": 217,
   "id": "8d46f5b1-66af-4914-8a33-f9d3405cf18d",
   "metadata": {},
   "outputs": [
    {
     "data": {
      "text/plain": [
       "array([0.52040086, 0.52538213, 0.52560013, 0.53092888, 0.541294  ,\n",
       "       0.541294  , 0.541294  , 0.541294  , 0.541294  , 0.541294  ,\n",
       "       0.541294  , 0.541294  , 0.541294  , 0.541294  , 0.541294  ,\n",
       "       0.541294  , 0.541294  , 0.541294  , 0.541294  , 0.541294  ,\n",
       "       0.541294  , 0.541294  , 0.541294  , 0.541294  , 0.541294  ,\n",
       "       0.541294  , 0.541294  , 0.541294  , 0.541294  , 0.541294  ,\n",
       "       0.541294  , 0.541294  , 0.541294  , 0.541294  , 0.541294  ,\n",
       "       0.541294  , 0.541294  , 0.55506038, 0.55523138, 0.55523138,\n",
       "       0.55523138, 0.55523138, 0.55523138, 0.55523138, 0.55523138,\n",
       "       0.55523138, 0.55523138, 0.55523138, 0.55523138, 0.55523138,\n",
       "       0.55523138, 0.55523138, 0.55523138, 0.55523138, 0.55523138,\n",
       "       0.55523138, 0.55523138, 0.55523138, 0.55523138, 0.55523138,\n",
       "       0.55523138, 0.55576539, 0.55576539, 0.55576539, 0.55576539,\n",
       "       0.55576539, 0.55576539, 0.55576539, 0.55576539, 0.55576539,\n",
       "       0.55576539, 0.55576539, 0.55576539, 0.55576539, 0.55576539,\n",
       "       0.55576539, 0.55576539, 0.55576539, 0.55576539, 0.55576539,\n",
       "       0.55576539, 0.55576539, 0.55576539, 0.55576539, 0.55576539,\n",
       "       0.55576539, 0.55576539, 0.55576539, 0.55576539, 0.55576539,\n",
       "       0.55576539, 0.55576539, 0.55576539, 0.55576539, 0.55576539,\n",
       "       0.55576539, 0.55576539, 0.55576539, 0.55576539, 0.55576539,\n",
       "       0.55576539, 0.55576539, 0.55576539, 0.55576539, 0.55576539,\n",
       "       0.55576539, 0.55576539, 0.55576539, 0.55576539, 0.55576539,\n",
       "       0.55576539, 0.55576539, 0.55576539, 0.55576539, 0.55576539,\n",
       "       0.55576539, 0.55576539, 0.55576539, 0.55576539, 0.55576539,\n",
       "       0.55576539, 0.55576539, 0.55576539, 0.55576539, 0.55576539,\n",
       "       0.55576539, 0.55576539, 0.55576539, 0.55576539, 0.55576539,\n",
       "       0.55576539, 0.55576539, 0.55576539, 0.55576539, 0.55576539,\n",
       "       0.55576539, 0.55576539, 0.55576539, 0.55908102, 0.55908102,\n",
       "       0.568544  , 0.568544  , 0.568544  , 0.568544  , 0.568544  ,\n",
       "       0.568544  , 0.568544  , 0.568544  , 0.568544  , 0.568544  ,\n",
       "       0.568544  , 0.568544  , 0.568623  , 0.65747233, 0.65747233,\n",
       "       0.65747233, 0.65747233, 0.65747233, 0.65747233, 0.65747233,\n",
       "       0.65747233, 0.65747233, 0.65747233, 0.65747233, 0.65747233,\n",
       "       0.65747233, 0.65747233, 0.65747233, 0.65747233, 0.65747233,\n",
       "       0.65747233, 0.65747233, 0.65747233, 0.65747233, 0.65747233,\n",
       "       0.65747233, 0.65747233, 0.65747233, 0.65747233, 0.65747233,\n",
       "       0.65747233, 0.65747233, 0.65747233, 0.65747233, 0.65747233,\n",
       "       0.65747233, 0.65747233, 0.65747233, 0.65747233, 0.65747233,\n",
       "       0.65747233, 0.65747233, 0.65747233, 0.65747233, 0.65747233,\n",
       "       0.65747233, 0.65747233, 0.65747233, 0.65747233, 0.65747233])"
      ]
     },
     "execution_count": 217,
     "metadata": {},
     "output_type": "execute_result"
    }
   ],
   "source": [
    "npScores"
   ]
  },
  {
   "cell_type": "code",
   "execution_count": 234,
   "id": "0f18f038-1ce8-44a1-9f36-5033af9e15d8",
   "metadata": {},
   "outputs": [
    {
     "data": {
      "text/plain": [
       "array([ 8., 21., 11., 27.,  3.])"
      ]
     },
     "execution_count": 234,
     "metadata": {},
     "output_type": "execute_result"
    }
   ],
   "source": [
    "memeplexes"
   ]
  },
  {
   "cell_type": "code",
   "execution_count": 204,
   "id": "7ff330af-0a07-44cc-9397-2e484fd765dd",
   "metadata": {},
   "outputs": [
    {
     "data": {
      "text/plain": [
       "[0.5204008611111113,\n",
       " Quaternion(0.8253056370515306, -0.5565910091238468, 0.05185394732923476, -0.0799263546012341)]"
      ]
     },
     "execution_count": 204,
     "metadata": {},
     "output_type": "execute_result"
    }
   ],
   "source": [
    "StructInfo[memeplexes[-1][-1]]"
   ]
  },
  {
   "cell_type": "code",
   "execution_count": 205,
   "id": "b2486982-299b-4c4d-ac83-6f721c2b53a6",
   "metadata": {},
   "outputs": [
    {
     "data": {
      "text/plain": [
       "[0.657472333333334,\n",
       " Quaternion(0.8990546147122486, -0.4105507045149465, 0.05919979793793172, -0.14015813465867544)]"
      ]
     },
     "execution_count": 205,
     "metadata": {},
     "output_type": "execute_result"
    }
   ],
   "source": [
    "StructInfo[memeplexes[0][0]]"
   ]
  },
  {
   "cell_type": "code",
   "execution_count": 76,
   "id": "b27f28e0-238a-46ee-a495-a2438c8c7703",
   "metadata": {},
   "outputs": [],
   "source": [
    "memeplexes = sort_frog(10)"
   ]
  },
  {
   "cell_type": "code",
   "execution_count": null,
   "id": "5bfd4954-fa79-468e-a206-3b9512e6eaf9",
   "metadata": {},
   "outputs": [],
   "source": []
  },
  {
   "cell_type": "code",
   "execution_count": 86,
   "id": "200d0a31-3e64-418b-88b8-aa13b335ad53",
   "metadata": {},
   "outputs": [
    {
     "name": "stdout",
     "output_type": "stream",
     "text": [
      "MSMS running for poses/out51.pdb\n",
      "MSMS finished with poses/out51.pdb\n",
      "MSMS running for poses/out51.pdb\n",
      "MSMS finished with poses/out51.pdb\n",
      "MSMS running for poses/out51.pdb\n",
      "MSMS finished with poses/out51.pdb\n",
      "MSMS running for poses/out51.pdb\n",
      "MSMS finished with poses/out51.pdb\n",
      "MSMS running for poses/out51.pdb\n",
      "MSMS finished with poses/out51.pdb\n",
      "MSMS running for poses/out51.pdb\n",
      "MSMS finished with poses/out51.pdb\n",
      "MSMS running for poses/out51.pdb\n",
      "MSMS finished with poses/out51.pdb\n",
      "MSMS running for poses/out51.pdb\n",
      "MSMS finished with poses/out51.pdb\n",
      "MSMS running for poses/out51.pdb\n",
      "MSMS finished with poses/out51.pdb\n",
      "MSMS running for poses/out51.pdb\n",
      "MSMS finished with poses/out51.pdb\n",
      "MSMS running for poses/out51.pdb\n",
      "MSMS finished with poses/out51.pdb\n",
      "MSMS running for poses/out51.pdb\n",
      "MSMS finished with poses/out51.pdb\n",
      "MSMS running for poses/out51.pdb\n",
      "MSMS finished with poses/out51.pdb\n",
      "MSMS running for poses/out51.pdb\n",
      "MSMS finished with poses/out51.pdb\n",
      "MSMS running for poses/out51.pdb\n",
      "MSMS finished with poses/out51.pdb\n",
      "MSMS running for poses/out51.pdb\n",
      "MSMS finished with poses/out51.pdb\n",
      "MSMS running for poses/out51.pdb\n",
      "MSMS finished with poses/out51.pdb\n",
      "MSMS running for poses/out51.pdb\n",
      "MSMS finished with poses/out51.pdb\n",
      "MSMS running for poses/out51.pdb\n",
      "MSMS finished with poses/out51.pdb\n",
      "MSMS running for poses/out51.pdb\n",
      "MSMS finished with poses/out51.pdb\n",
      "MSMS running for poses/out51.pdb\n",
      "MSMS finished with poses/out51.pdb\n",
      "MSMS running for poses/out51.pdb\n",
      "MSMS finished with poses/out51.pdb\n",
      "MSMS running for poses/out51.pdb\n",
      "MSMS finished with poses/out51.pdb\n",
      "MSMS running for poses/out51.pdb\n",
      "MSMS finished with poses/out51.pdb\n",
      "CPU times: user 4min 40s, sys: 1min 19s, total: 6min\n",
      "Wall time: 3min 52s\n"
     ]
    }
   ],
   "source": [
    "%%time\n",
    "# im to count the number of memeplexes\n",
    "# iN to count the number of evolution\n",
    "\n",
    "Frog_gb = StructInfo[int(memeplexes[0][0])]\n",
    "FrogsEach = int(frogs/len(memeplexes)) #the number of frogs in each memeplex\n",
    "weights = [2*(FrogsEach+1-j)/(FrogsEach*(FrogsEach+1)) for j in range(1, FrogsEach+1)] \n",
    "\n",
    "Omega = [np.amin(rec_normal), np.amax(rec_normal)]\n",
    "max_step = (Omega[1]-Omega[0])/2 # maximum step size\n",
    "q = 3 # int, the number of frogs in submemeplex -- CHANGE\n",
    "N = 2\n",
    "for im in range(len(memeplexes)):\n",
    "    for iN in range(N):\n",
    "        rValue = rng.random(FrogsEach) * weights # random value with probability weights\n",
    "        subindex = np.sort(np.argsort(rValue)[::-1][0:q]) # index of selected frogs in memeplex\n",
    "        submemeplex = memeplexes[im][subindex] \n",
    "        \n",
    "        #--- Improve the worst frog's position ---#\n",
    "        # Learn from local best Pb #\n",
    "        Pb = StructInfo[int(submemeplex[0])] # mark the best frog in submemeplex\n",
    "        Pw = StructInfo[int(submemeplex[q-1])] # mark the worst frog in memeplex\n",
    "        \n",
    "        S = rng.random() * (Pb[1] - Pw[1]) \n",
    "        Uq = Pw[1] + S\n",
    "        \n",
    "        globStep = False\n",
    "        censorship = False\n",
    "        \n",
    "        # Check feasible space and the performance #\n",
    "        if Omega[0] <= min(Uq) and max(Uq) <= Omega[1]: # check feasible space\n",
    "            final = np.array([Uq.rotate(i) for i in lig_atom])  \n",
    "            results = find_score([final, init+1, Uq, im])\n",
    "            \n",
    "            if results[0] < Pw[0]:\n",
    "                globStep = True\n",
    "        \n",
    "        if globStep:\n",
    "            S = rng.random() * (Frog_gb[1] - Pw[1])\n",
    "            for i in range(4):\n",
    "                if S[i] > 0:\n",
    "                    S[i] = min(S[i],max_step)\n",
    "                else:\n",
    "                    S[i] = max(S[i],-max_step)\n",
    "            Uq = Pw[1] + S\n",
    "            \n",
    "            if Omega[0] <= min(Uq) and max(Uq) <= Omega[1]: # check feasible space\n",
    "                final = np.array([Uq.rotate(i) for i in lig_atom])  \n",
    "                results = find_score([final, init+1, Uq, im])\n",
    "                if results[0] < Pw[0]:\n",
    "                    censorship = True\n",
    "            else:\n",
    "                censorship = True\n",
    "        \n",
    "        if censorship:\n",
    "            recRandIdx = rng.integers(0, rec_coord.shape[0] - 1)\n",
    "            ligRandIdx = rng.integers(0, lig_coord.shape[0] - 1)\n",
    "\n",
    "            axis = rec_coord[recRandIdx]\n",
    "            a = rec_normal[recRandIdx]\n",
    "            b = lig_normal[ligRandIdx]\n",
    "            \n",
    "            dotProduct = np.dot(a, b)\n",
    "            theta = np.arccos(dotProduct) * 2 - np.pi\n",
    "            Quater = Quaternion(axis=a, angle=theta)\n",
    "            final = np.array([Quater.rotate(i) for i in lig_atom])\n",
    "            results = find_score([final, init+1, Quater, im])            \n",
    "        \n",
    "        \n",
    "        #StructInfo[im] = [results[0], results[2]]\n",
    "        shutil.move(os.path.join('poses/', 'out'+str(init+1)+'.pdb'), os.path.join('poses/', 'out'+ str(submemeplex[q-1]) + '.pdb'))\n",
    "        StructInfo[int(submemeplex[q-1])] = [results[0], results[2]]\n",
    "        memeplexes[im] = memeplexes[im][np.argsort(memeplexes[im])]"
   ]
  },
  {
   "cell_type": "markdown",
   "id": "ced322f4-f0a8-416d-840d-45929d59c64c",
   "metadata": {},
   "source": [
    "* 5.35\n",
    "* 3.25"
   ]
  },
  {
   "cell_type": "code",
   "execution_count": 81,
   "id": "a5c33f97-456b-40e9-be23-c04c14c591df",
   "metadata": {},
   "outputs": [
    {
     "data": {
      "text/plain": [
       "array([[ 0.,  7., 12., 30., 49.],\n",
       "       [ 1.,  6., 13., 16., 32.],\n",
       "       [ 2., 11., 17., 20., 34.],\n",
       "       [ 4., 21., 26., 33., 35.],\n",
       "       [14., 24., 27., 36., 37.],\n",
       "       [18., 28., 38., 40., 42.],\n",
       "       [ 3., 19., 22., 39., 43.],\n",
       "       [ 5., 10., 23., 41., 44.],\n",
       "       [ 8., 15., 25., 45., 47.],\n",
       "       [ 9., 29., 31., 46., 48.]])"
      ]
     },
     "execution_count": 81,
     "metadata": {},
     "output_type": "execute_result"
    }
   ],
   "source": [
    "memeplexes"
   ]
  },
  {
   "cell_type": "code",
   "execution_count": 82,
   "id": "0f41d46a-d2ba-43df-b02e-924aecede47d",
   "metadata": {},
   "outputs": [],
   "source": [
    "shuffle_memeplexes(memeplexes)"
   ]
  },
  {
   "cell_type": "code",
   "execution_count": 83,
   "id": "a399fd6c-d350-4586-a154-7142d5341afd",
   "metadata": {},
   "outputs": [
    {
     "data": {
      "text/plain": [
       "array([[ 7., 28.,  0., 43., 12.],\n",
       "       [30., 40.,  1., 23., 16.],\n",
       "       [49., 42.,  2., 44., 21.],\n",
       "       [13., 39., 34., 25., 24.],\n",
       "       [32., 46.,  4., 45., 38.],\n",
       "       [20.,  3., 35., 29.,  5.],\n",
       "       [26., 10., 14.,  6., 41.],\n",
       "       [33., 15., 36., 11.,  8.],\n",
       "       [27., 31., 18., 17., 47.],\n",
       "       [37., 48., 22., 19.,  9.]])"
      ]
     },
     "execution_count": 83,
     "metadata": {},
     "output_type": "execute_result"
    }
   ],
   "source": [
    "memeplexes"
   ]
  },
  {
   "cell_type": "code",
   "execution_count": 84,
   "id": "08517795-91f6-4674-9f4e-ee5954d744ba",
   "metadata": {},
   "outputs": [
    {
     "data": {
      "text/plain": [
       "[0.657472333333334,\n",
       " Quaternion(0.9864083668562512, -0.06616377910983777, -0.1497948026904637, 0.01350574754735854)]"
      ]
     },
     "execution_count": 84,
     "metadata": {},
     "output_type": "execute_result"
    }
   ],
   "source": [
    "StructInfo[int(memeplexes[0][0])]"
   ]
  },
  {
   "cell_type": "code",
   "execution_count": 85,
   "id": "be6aafe6-72fc-4917-ba31-18569980e711",
   "metadata": {},
   "outputs": [
    {
     "data": {
      "text/plain": [
       "[0.5412940000000002,\n",
       " Quaternion(0.4286944547193265, -0.6876356833810233, -0.5857372781965245, 0.017031510941170013)]"
      ]
     },
     "execution_count": 85,
     "metadata": {},
     "output_type": "execute_result"
    }
   ],
   "source": [
    "StructInfo[int(memeplexes[-1][-1])]"
   ]
  },
  {
   "cell_type": "code",
   "execution_count": 106,
   "id": "570c0483-5a00-477c-b1cf-5dbd98d16b62",
   "metadata": {},
   "outputs": [],
   "source": [
    "shuffle_memeplexes(memeplexes)"
   ]
  },
  {
   "cell_type": "code",
   "execution_count": 100,
   "id": "966d2f35-50de-4247-b6b8-f5b42463ecf8",
   "metadata": {},
   "outputs": [
    {
     "data": {
      "text/plain": [
       "[0.657472333333334,\n",
       " Quaternion(0.9960274953034043, 0.06560602892584959, -0.02614032887928352, -0.054238001201098784)]"
      ]
     },
     "execution_count": 100,
     "metadata": {},
     "output_type": "execute_result"
    }
   ],
   "source": [
    "StructInfo[int(memeplexes[1][1])]"
   ]
  },
  {
   "cell_type": "code",
   "execution_count": 90,
   "id": "c0d6e57c-ecaa-4a72-ad8a-3be8737a63a2",
   "metadata": {},
   "outputs": [
    {
     "data": {
      "text/plain": [
       "[0.5412940000000002,\n",
       " Quaternion(0.4286944547193265, -0.6876356833810233, -0.5857372781965245, 0.017031510941170013)]"
      ]
     },
     "execution_count": 90,
     "metadata": {},
     "output_type": "execute_result"
    }
   ],
   "source": [
    "StructInfo[int(memeplexes[-1][-1])]"
   ]
  },
  {
   "cell_type": "code",
   "execution_count": 103,
   "id": "253f9506-651f-4b1f-840f-bd2e431478a2",
   "metadata": {},
   "outputs": [
    {
     "data": {
      "text/plain": [
       "array([[ 7., 39., 29.,  0., 19.],\n",
       "       [13., 27., 44., 12., 16.],\n",
       "       [26., 30.,  6., 43., 21.],\n",
       "       [28., 32., 49.,  4., 24.],\n",
       "       [25., 37., 14., 45., 38.],\n",
       "       [33., 40.,  3., 35.,  5.],\n",
       "       [ 1., 46., 10., 36., 41.],\n",
       "       [34.,  2., 15., 22.,  8.],\n",
       "       [18., 20., 31., 11., 47.],\n",
       "       [23., 42., 48., 17.,  9.]])"
      ]
     },
     "execution_count": 103,
     "metadata": {},
     "output_type": "execute_result"
    }
   ],
   "source": [
    "memeplexes"
   ]
  },
  {
   "cell_type": "code",
   "execution_count": 116,
   "id": "df53f9fa-5cb9-4253-958f-10a496288ad5",
   "metadata": {},
   "outputs": [
    {
     "data": {
      "text/plain": [
       "array([[ 7., 37.,  1.,  0., 19.],\n",
       "       [32., 23.,  6., 12., 16.],\n",
       "       [ 2., 27., 46., 43., 21.],\n",
       "       [39., 14., 28.,  4., 24.],\n",
       "       [49., 42., 34., 45., 38.],\n",
       "       [18., 44.,  3., 35.,  5.],\n",
       "       [29., 33., 10., 36., 41.],\n",
       "       [25., 26., 15., 22.,  8.],\n",
       "       [20., 40., 31., 11., 47.],\n",
       "       [13., 30., 48., 17.,  9.]])"
      ]
     },
     "execution_count": 116,
     "metadata": {},
     "output_type": "execute_result"
    }
   ],
   "source": [
    "memeplexes"
   ]
  },
  {
   "cell_type": "code",
   "execution_count": 120,
   "id": "49b57550-21fd-4b92-8c27-6d8aaf8fc4dc",
   "metadata": {},
   "outputs": [
    {
     "name": "stdout",
     "output_type": "stream",
     "text": [
      "MSMS running for poses/out51.pdb\n",
      "MSMS running for poses/out52.pdbMSMS running for\n",
      " poses/out54.pdb\n",
      "MSMS running for poses/out53.pdbMSMS running for\n",
      " poses/out55.pdb\n",
      "MSMS running for poses/out56.pdb\n",
      "MSMS running for poses/out57.pdb\n",
      "MSMS running for poses/out59.pdbMSMS running for\n",
      " poses/out58.pdb\n",
      "MSMS running for poses/out60.pdb\n",
      "MSMS finished with poses/out53.pdb\n",
      "MSMS finished with poses/out52.pdb\n",
      "MSMS finished with poses/out55.pdb\n",
      "MSMS finished with poses/out51.pdb\n",
      "MSMS finished with poses/out57.pdb\n",
      "MSMS finished with poses/out60.pdb\n",
      "MSMS finished with poses/out56.pdb\n",
      "MSMS finished with poses/out54.pdb\n",
      "MSMS finished with poses/out58.pdb\n",
      "MSMS finished with poses/out59.pdb\n",
      "MSMS running for poses/out53.pdb\n",
      "MSMS running for poses/out52.pdb\n",
      "MSMS running for poses/out55.pdb\n",
      "MSMS running for poses/out51.pdb\n",
      "MSMS running for poses/out60.pdb\n",
      "MSMS running for poses/out58.pdb\n",
      "MSMS running for poses/out57.pdb\n",
      "MSMS running for poses/out59.pdb\n",
      "MSMS running for poses/out54.pdb\n",
      "MSMS running for poses/out56.pdb\n",
      "MSMS finished with poses/out51.pdb\n",
      "MSMS finished with poses/out60.pdb\n",
      "MSMS finished with poses/out58.pdb\n",
      "MSMS finished with poses/out52.pdb\n",
      "MSMS finished with poses/out53.pdb\n",
      "MSMS finished with poses/out55.pdb\n",
      "MSMS running for poses/out60.pdb\n",
      "MSMS finished with poses/out57.pdb\n",
      "MSMS running for poses/out58.pdb\n",
      "MSMS finished with poses/out59.pdb\n",
      "MSMS finished with poses/out54.pdb\n",
      "MSMS finished with poses/out56.pdb\n",
      "MSMS running for poses/out54.pdb\n",
      "MSMS finished with poses/out60.pdb\n",
      "MSMS finished with poses/out58.pdb\n",
      "MSMS finished with poses/out54.pdb\n",
      "CPU times: user 114 ms, sys: 177 ms, total: 290 ms\n",
      "Wall time: 39.8 s\n"
     ]
    }
   ],
   "source": [
    "%%time\n",
    "local_search()"
   ]
  },
  {
   "cell_type": "code",
   "execution_count": 121,
   "id": "d11f056e-d27d-440e-84db-26ac0d6573f2",
   "metadata": {},
   "outputs": [
    {
     "data": {
      "text/plain": [
       "array([[ 7., 37.,  1.,  0., 19.],\n",
       "       [32., 23.,  6., 12., 16.],\n",
       "       [ 2., 27., 46., 43., 21.],\n",
       "       [39., 14., 28.,  4., 24.],\n",
       "       [49., 42., 34., 45., 38.],\n",
       "       [18., 44.,  3., 35.,  5.],\n",
       "       [29., 33., 10., 36., 41.],\n",
       "       [25., 26., 15., 22.,  8.],\n",
       "       [20., 40., 31., 11., 47.],\n",
       "       [13., 30., 48., 17.,  9.]])"
      ]
     },
     "execution_count": 121,
     "metadata": {},
     "output_type": "execute_result"
    }
   ],
   "source": [
    "memeplexes"
   ]
  },
  {
   "cell_type": "code",
   "execution_count": 122,
   "id": "135d8b6b-0af7-4ba0-b3f7-01f6161e4dbb",
   "metadata": {},
   "outputs": [],
   "source": [
    "shuffle_memeplexes(memeplexes)"
   ]
  },
  {
   "cell_type": "code",
   "execution_count": 123,
   "id": "d5c2e43e-52cb-43b7-8aae-059f8bd8caf3",
   "metadata": {},
   "outputs": [
    {
     "data": {
      "text/plain": [
       "array([[ 7., 14., 26.,  0., 19.],\n",
       "       [37., 28., 20., 12., 16.],\n",
       "       [ 1., 49., 40., 43., 21.],\n",
       "       [32., 42., 13.,  4., 24.],\n",
       "       [23., 34., 30., 45., 38.],\n",
       "       [ 6., 18.,  3., 35.,  5.],\n",
       "       [ 2., 44., 10., 36., 41.],\n",
       "       [27., 29., 15., 22.,  8.],\n",
       "       [46., 33., 31., 11., 47.],\n",
       "       [39., 25., 48., 17.,  9.]])"
      ]
     },
     "execution_count": 123,
     "metadata": {},
     "output_type": "execute_result"
    }
   ],
   "source": [
    "memeplexes"
   ]
  },
  {
   "cell_type": "code",
   "execution_count": null,
   "id": "368669f3-40bb-4359-a311-7ad86d784ced",
   "metadata": {},
   "outputs": [],
   "source": []
  },
  {
   "cell_type": "code",
   "execution_count": 124,
   "id": "7f9d22c4-b40a-4249-816c-567cd3f70a3c",
   "metadata": {},
   "outputs": [
    {
     "data": {
      "text/plain": [
       "[0.657472333333334,\n",
       " Quaternion(0.9245783376322388, -0.3433804438208805, -0.06898496566990937, -0.14995280222157398)]"
      ]
     },
     "execution_count": 124,
     "metadata": {},
     "output_type": "execute_result"
    }
   ],
   "source": [
    "StructInfo[int(memeplexes[1][1])]"
   ]
  },
  {
   "cell_type": "code",
   "execution_count": 125,
   "id": "831e03e6-31d5-429b-b19c-ddf4e219b2a1",
   "metadata": {},
   "outputs": [
    {
     "data": {
      "text/plain": [
       "[0.5412940000000002,\n",
       " Quaternion(0.4286944547193265, -0.6876356833810233, -0.5857372781965245, 0.017031510941170013)]"
      ]
     },
     "execution_count": 125,
     "metadata": {},
     "output_type": "execute_result"
    }
   ],
   "source": [
    "StructInfo[int(memeplexes[-1][-1])]"
   ]
  },
  {
   "cell_type": "code",
   "execution_count": 191,
   "id": "84bdabd3-b1cd-45c7-a480-ec7950fc5c53",
   "metadata": {},
   "outputs": [],
   "source": [
    "weights = [2*(FrogsEach+1-j)/(FrogsEach*(FrogsEach+1)) for j in range(1, FrogsEach+1)] "
   ]
  },
  {
   "cell_type": "code",
   "execution_count": 177,
   "id": "38a54225-78d8-4271-99ac-7c4e6628206b",
   "metadata": {},
   "outputs": [],
   "source": [
    "Omega = [np.amin(rec_normal), np.amax(rec_normal)]"
   ]
  },
  {
   "cell_type": "code",
   "execution_count": 178,
   "id": "23fb31ff-0dae-478a-9214-8063258ad15d",
   "metadata": {},
   "outputs": [],
   "source": [
    "max_step =  [(Omega[1]-Omega[0])/2]# maximum step size"
   ]
  },
  {
   "cell_type": "code",
   "execution_count": null,
   "id": "f09c4cc8-0358-4e3b-a4da-a57925936953",
   "metadata": {},
   "outputs": [],
   "source": [
    "S = [min(c[1][i], max_step) if c[1][i] > 0 else max(c[1][i], -max_step) for i in range(4)]"
   ]
  },
  {
   "cell_type": "code",
   "execution_count": null,
   "id": "4adcabfb-7fd4-40b7-8808-3606fda6df73",
   "metadata": {},
   "outputs": [],
   "source": [
    "for i in range(4):\n",
    "    if c[1][i] > 0:\n",
    "        s[i]"
   ]
  },
  {
   "cell_type": "code",
   "execution_count": 179,
   "id": "e59fc2f5-2878-443b-bf0a-be2f587b739a",
   "metadata": {},
   "outputs": [
    {
     "data": {
      "text/plain": [
       "[0.9955515696063104]"
      ]
     },
     "execution_count": 179,
     "metadata": {},
     "output_type": "execute_result"
    }
   ],
   "source": [
    "max_step"
   ]
  },
  {
   "cell_type": "code",
   "execution_count": 143,
   "id": "8eaf6d4d-d94d-412a-bf97-bdf04b9b2ce6",
   "metadata": {},
   "outputs": [],
   "source": [
    "c =StructInfo[int(submem[0])]\n",
    "d = StructInfo[int(submem[1])]"
   ]
  },
  {
   "cell_type": "code",
   "execution_count": 171,
   "id": "04b1d772-d6e5-4903-bd88-c207fc6265c2",
   "metadata": {
    "tags": []
   },
   "outputs": [
    {
     "data": {
      "text/plain": [
       "Quaternion(0.20052135606848476, 0.30373043005892125, -0.5430434081434552, 0.3010171058166151)"
      ]
     },
     "execution_count": 171,
     "metadata": {},
     "output_type": "execute_result"
    }
   ],
   "source": [
    "rng.random() * (c[1]-d[1])"
   ]
  },
  {
   "cell_type": "code",
   "execution_count": 190,
   "id": "94dfbfef-c86f-4a78-8edf-9204155de830",
   "metadata": {},
   "outputs": [
    {
     "data": {
      "text/plain": [
       "array([ 6.,  8., 19., 30., 41.])"
      ]
     },
     "execution_count": 190,
     "metadata": {},
     "output_type": "execute_result"
    }
   ],
   "source": []
  },
  {
   "cell_type": "code",
   "execution_count": 187,
   "id": "601b3392-0cc6-4574-baf5-edf94abfc3ad",
   "metadata": {},
   "outputs": [
    {
     "data": {
      "text/plain": [
       "array([ 8., 30.,  6., 19., 41.])"
      ]
     },
     "execution_count": 187,
     "metadata": {},
     "output_type": "execute_result"
    }
   ],
   "source": [
    "mem[0]"
   ]
  },
  {
   "cell_type": "code",
   "execution_count": null,
   "id": "9e8b9310-64f3-4bf8-a50a-1b3e9d99b463",
   "metadata": {},
   "outputs": [],
   "source": [
    "rng.random"
   ]
  },
  {
   "cell_type": "code",
   "execution_count": 142,
   "id": "d5a600f6-d488-4a42-b0d8-daff5e7a612e",
   "metadata": {},
   "outputs": [
    {
     "name": "stdout",
     "output_type": "stream",
     "text": [
      "0.29250047496417275\n",
      "0.44305153722860646\n",
      "-0.7921373459786221\n",
      "0.43909361152349957\n"
     ]
    }
   ],
   "source": [
    "for i in S:\n",
    "    print(i)"
   ]
  },
  {
   "cell_type": "code",
   "execution_count": 138,
   "id": "fae5ad53-c64a-45eb-9a21-d57ea91a8693",
   "metadata": {},
   "outputs": [
    {
     "data": {
      "text/plain": [
       "Quaternion(0.9631228922249896, 0.10238838890014193, -0.20305440473343023, 0.14380480175903962)"
      ]
     },
     "execution_count": 138,
     "metadata": {},
     "output_type": "execute_result"
    }
   ],
   "source": [
    "StructInfo[int(submem[0])][1]"
   ]
  },
  {
   "cell_type": "code",
   "execution_count": 132,
   "id": "4c328d6b-eea1-4340-955a-7a0a7b0990d1",
   "metadata": {},
   "outputs": [
    {
     "data": {
      "text/plain": [
       "Quaternion(0.6706224172608168, -0.34066314832846456, 0.5890829412451918, -0.29528880976446)"
      ]
     },
     "execution_count": 132,
     "metadata": {},
     "output_type": "execute_result"
    }
   ],
   "source": [
    "StructInfo[int(submem[1])][1]"
   ]
  },
  {
   "cell_type": "code",
   "execution_count": null,
   "id": "a489e51d-907d-4634-9ca2-9cb51617268b",
   "metadata": {},
   "outputs": [],
   "source": [
    "def SFLA(num_parameter,num_global,num_local,m,n,q,n1,rangeAlpha,x_train,y_train):\n",
    "    '''\n",
    "    num_parameter: int, number of parameter to optimize\n",
    "    \n",
    "    num_global: int, the maximum number of global iterations\n",
    "    \n",
    "    num_local: int, the maximum number of local iterations\n",
    "    \n",
    "    m : int, the number of memeplexes\n",
    "    \n",
    "    n : int, the number of frogs in each memeplex\n",
    "    \n",
    "    q : int, the number of frogs in submemeplex\n",
    "    \n",
    "    n1:  number of splits for cross validation for inner loop\n",
    "    \n",
    "    rangeAlpha: list, float, range of parameter alpha,eg.[10**-2, 10]\n",
    "\n",
    "    x_train: feature\n",
    "\n",
    "    y_train: lable\n",
    "\n",
    "    '''\n",
    "\n",
    "    #--- Step 0--Initialize parameters ---#\n",
    "    sizeAlpha = 2\n",
    "    max_step =  [(rangeAlpha[1]-rangeAlpha[0])/sizeAlpha] # maximum step size\n",
    "    \n",
    "    #--- Step 1--Generate initial population ---#\n",
    "    frogAlpha = random.uniform(rangeAlpha[0],rangeAlpha[1],m*n)\n",
    "    \n",
    "\n",
    "    # Compute the performance value for each frog on validation data #\n",
    "    KF = KFold(n_splits=n1,shuffle=True, random_state=920)\n",
    "    f = zeros((m*n,n1))\n",
    "    j = 0\n",
    "    for train_indexcv,test_indexcv in KF.split(x_train):\n",
    "        x_traincv, x_testcv = x_train.iloc[train_indexcv][:], x_train.iloc[test_indexcv][:]\n",
    "        y_traincv, y_testcv = y_train.iloc[train_indexcv][:], y_train.iloc[test_indexcv][:]\n",
    "        for i in range(m*n):\n",
    "            f[i,j] = SFLA_L1(x_traincv, y_traincv,x_testcv, y_testcv,frogAlpha[i])\n",
    "        j+=1\n",
    "    f = f.mean(axis=1)\n",
    "    f_parameter = c_[f,frogAlpha]\n",
    "\n",
    "    #--- Step 2--Rank frogs ---#\n",
    "    f_parameter = f_parameter[argsort(f_parameter[:,0])[::-1]]\n",
    "\n",
    "    #######--- Global search start---######\n",
    "    i_global = 0\n",
    "    flag = 0\n",
    "    fBest_iteration = f_parameter[0,0]\n",
    "    weights = [2*(n+1-j)/(n*(n+1)) for j in range(1,n+1)] # weights of ranked frogs in each memeplex\n",
    "    while i_global < num_global:\n",
    "        frog_gb = f_parameter[0,0] # mark the global best frog      \n",
    "        #--- Step 3--Partition frogs into memeplexes ---#\n",
    "        memeplexes = zeros((m,n,num_parameter+1)) # [memeplexes, frog in memeplex,[f,C,Gamma] ]\n",
    "        for i in range(m):\n",
    "            memeplexes[i] = f_parameter[linspace(i,m*n+i,num=n,endpoint=False,dtype=int)]\n",
    "\n",
    "        #######--- Local search start---######\n",
    "        #--- Step 4--Memetic evolution within each memeplex ---#\n",
    "        im = 0 # the number of memeplexes that have been optimized\n",
    "        while im < m:\n",
    "            i_local = 0 # counts the number of local evolutionary steps in each memeplex\n",
    "            while i_local < num_local:\n",
    "\n",
    "                #--- Construct a submemeplex ---#\n",
    "                rValue = random.random(n)*weights # random value with probability weights\n",
    "                subindex = sort(argsort(rValue)[::-1][0:q]) # index of selected frogs in memeplex \n",
    "                submemeplex = memeplexes[im][subindex] # form submemeplex\n",
    "\n",
    "                #--- Improve the worst frog's position ---#\n",
    "                # Learn from local best Pb #\n",
    "                Pb = submemeplex[0] # mark the best frog in submemeplex\n",
    "                Pw = submemeplex[q-1] # mark the worst frog in memeplex\n",
    "                S = (Pb-Pw)[1:]*(Pb-Pw)[0] \n",
    "                Uq = Pw[1:]+S\n",
    "                # Check feasible space and the performance #\n",
    "                if rangeAlpha[0] <= Uq[0] <=rangeAlpha[1]: # check feasible space\n",
    "                    fq = SFLA_L1_CV(x_train, y_train,n1,Uq[0])\n",
    "                    if fq < Pw[0]: # if no improvement of performance,learn from global best randomly #\n",
    "                        S = random.random(num_parameter)*(frog_gb-Pw)[1:]\n",
    "                        for i in range(num_parameter):\n",
    "                            if S[i] > 0:\n",
    "                                S[i] = min(S[i],max_step[i])\n",
    "                            else:\n",
    "                                S[i] = min(S[i],-max_step[i])\n",
    "                        Uq = Pw[1:]+S\n",
    "                        if rangeAlpha[0] <= Uq[0] <=rangeAlpha[1]: # check feasible space\n",
    "                            fq = SFLA_L1_CV(x_train, y_train,n1,Uq[0])\n",
    "                            if fq < Pw[0]: # if no improvement of performance, randomly generate a new frog\n",
    "                                Uq = random.uniform(rangeAlpha[0],rangeAlpha[1],1)\n",
    "                                fq = SFLA_L1_CV(x_train, y_train,n1,Uq[0])\n",
    "                        else: # if not in the feasible space, randomly generate a new frog\n",
    "                            Uq = random.uniform(rangeAlpha[0],rangeAlpha[1],1)\n",
    "                            fq = SFLA_L1_CV(x_train, y_train,n1,Uq[0])         \n",
    "                else: # if not in the feasible space, learn from global best randomly \n",
    "                    S = random.random(num_parameter)*(frog_gb-Pw)[1:]\n",
    "                    for i in range(num_parameter):\n",
    "                        if S[i] > 0:\n",
    "                            S[i] = min(S[i],max_step[i])\n",
    "                        else:\n",
    "                            S[i] = min(S[i],-max_step[i])\n",
    "                    Uq = Pw[1:]+S\n",
    "                    if rangeAlpha[0] <= Uq[0] <=rangeAlpha[1]: # check feasible space\n",
    "                        fq = SFLA_L1_CV(x_train, y_train,n1,Uq[0])\n",
    "                        if fq < Pw[0]: # if no improvement of performance, randomly generate a new frog\n",
    "                            Uq = random.uniform(rangeAlpha[0],rangeAlpha[1],1)\n",
    "                            fq = SFLA_L1_CV(x_train, y_train,n1,Uq[0]) \n",
    "                    else: # if not in the feasible space, randomly generate a new frog\n",
    "                        Uq = random.uniform(rangeAlpha[0],rangeAlpha[1],1)\n",
    "                        fq = SFLA_L1_CV(x_train, y_train,n1,Uq[0]) \n",
    "\n",
    "                #--- Upgrade the memeplex ---# \n",
    "                memeplexes[im][subindex[q-1]] = r_[fq,Uq]\n",
    "                memeplexes[im] =  memeplexes[im][argsort( memeplexes[im][:,0])[::-1]]            \n",
    "\n",
    "                i_local += 1\n",
    "\n",
    "            im += 1\n",
    "        #######--- Local search end---######    \n",
    "\n",
    "        #--- Step 5--Shuffle memeplexes ---#\n",
    "        f_parameter =  memeplexes.reshape(m*n,num_parameter+1)\n",
    "        f_parameter = f_parameter[argsort(f_parameter[:,0])[::-1]]\n",
    "\n",
    "\n",
    "        i_global += 1\n",
    "\n",
    "        #--- Step 6--Check convergence ---#\n",
    "        if f_parameter[0,0] > 0.9999:\n",
    "            print('The program was terminated because it reached the optimization goal with f = %.3f' %f_parameter[0,0])\n",
    "            break\n",
    "            \n",
    "        fBest_iteration = r_[fBest_iteration,f_parameter[0,0]] \n",
    "\n",
    "    #######--- Global search end---######\n",
    "        \n",
    "    return (f_parameter[0],fBest_iteration)"
   ]
  },
  {
   "cell_type": "code",
   "execution_count": null,
   "id": "ffceb1e3-3286-444f-9733-d283fa27d183",
   "metadata": {},
   "outputs": [],
   "source": []
  },
  {
   "cell_type": "code",
   "execution_count": 51,
   "id": "9ee23cf0-c21c-4e70-8354-195e8f6e02c1",
   "metadata": {},
   "outputs": [],
   "source": [
    "k = np.array([[12, , Quater], [13, 2304.201, Quater]])"
   ]
  },
  {
   "cell_type": "code",
   "execution_count": 52,
   "id": "14461372-1b71-416e-9eab-898e88807e7a",
   "metadata": {},
   "outputs": [
    {
     "data": {
      "text/plain": [
       "array([2305.201, 2304.201])"
      ]
     },
     "execution_count": 52,
     "metadata": {},
     "output_type": "execute_result"
    }
   ],
   "source": [
    "np.array(k[:, 1], dtype=np.float)"
   ]
  },
  {
   "cell_type": "code",
   "execution_count": 54,
   "id": "697c47dc-6acd-4e7f-9e0a-ff3de2d5973b",
   "metadata": {},
   "outputs": [
    {
     "data": {
      "text/plain": [
       "array([1, 0])"
      ]
     },
     "execution_count": 54,
     "metadata": {},
     "output_type": "execute_result"
    }
   ],
   "source": [
    "np.argsort(k[:, 1])"
   ]
  },
  {
   "cell_type": "code",
   "execution_count": 22,
   "id": "43691f43-5a8e-4ab8-80d1-af8a1a659029",
   "metadata": {},
   "outputs": [],
   "source": [
    "m = {}"
   ]
  },
  {
   "cell_type": "code",
   "execution_count": 23,
   "id": "37fe8df3-4730-47c3-a61f-f49b063321d6",
   "metadata": {},
   "outputs": [],
   "source": [
    "m[12] = [2305.201, Quater]\n",
    "m[13] = [2304.201, Quater]"
   ]
  },
  {
   "cell_type": "code",
   "execution_count": 72,
   "id": "815d9dda-e3bd-4438-80e4-a546e4942331",
   "metadata": {},
   "outputs": [
    {
     "data": {
      "text/plain": [
       "dict_keys([12, 13])"
      ]
     },
     "execution_count": 72,
     "metadata": {},
     "output_type": "execute_result"
    }
   ],
   "source": [
    "m.keys()"
   ]
  },
  {
   "cell_type": "code",
   "execution_count": 68,
   "id": "e3bb634d-777f-4bfc-9402-f5cd37ad36aa",
   "metadata": {},
   "outputs": [],
   "source": [
    "sorted_fitness = np.array(sorted(m, key = lambda ele: m[ele][0], reverse=True))"
   ]
  },
  {
   "cell_type": "code",
   "execution_count": 69,
   "id": "3ec2c367-cc63-4f0f-acdc-cd78007e7090",
   "metadata": {},
   "outputs": [
    {
     "data": {
      "text/plain": [
       "array([12, 13])"
      ]
     },
     "execution_count": 69,
     "metadata": {},
     "output_type": "execute_result"
    }
   ],
   "source": [
    "sorted_fitness"
   ]
  },
  {
   "cell_type": "code",
   "execution_count": null,
   "id": "43fb3521-79ef-454c-bea2-89de03607c1a",
   "metadata": {},
   "outputs": [],
   "source": [
    "#mplx_no -- number of memeplex\n",
    "frogs = 50\n",
    "mplx_no = 10\n",
    "\n",
    "memeplexes = np.zeros((mplx_no, int(frogs/mplx_no)))\n",
    "\n",
    "for j in range(memeplexes.shape[1]):\n",
    "    for i in range(mplx_no):\n",
    "        memeplexes[i, j] = sorted_fitness[i + (mplx_no*j)]"
   ]
  },
  {
   "cell_type": "code",
   "execution_count": null,
   "id": "c17b7645-b88b-4283-8961-df666022d8a8",
   "metadata": {},
   "outputs": [],
   "source": [
    "findPointNormals(rec_coord, 20,[0,0,0], rec_res_id, rec_res, 'r')"
   ]
  },
  {
   "cell_type": "code",
   "execution_count": 62,
   "id": "dabc1ec4-816c-4825-b6ad-db99eb00d9e3",
   "metadata": {},
   "outputs": [
    {
     "name": "stdout",
     "output_type": "stream",
     "text": [
      "[[  0   1   2 ... 220  21  85]\n",
      " [  1   0   2 ...  61  80  29]\n",
      " [  2   3   1 ...  81  60  62]\n",
      " ...\n",
      " [360 361 359 ... 308 288 293]\n",
      " [361 362 360 ... 342 103 104]\n",
      " [362 361 292 ... 343 339 296]]\n"
     ]
    }
   ],
   "source": [
    "findPointNormals(rec_coord, 20,[0,0,0], rec_res_id, rec_res, 'r')"
   ]
  },
  {
   "cell_type": "code",
   "execution_count": 52,
   "id": "b2376576-66b9-44fb-ad44-90d27e083afb",
   "metadata": {},
   "outputs": [
    {
     "data": {
      "text/plain": [
       "array([[-34.67484472,  41.98275331,  -2.3416753 ],\n",
       "       [-36.10776304,  40.86972307,  -5.02669737],\n",
       "       [-35.58716059,  37.64397324,  -6.47031983],\n",
       "       ...,\n",
       "       [ -8.58011997,  46.7406809 , -50.57077398],\n",
       "       [ -6.08653257,  45.27366286, -52.64355895],\n",
       "       [ -4.59167991,  42.83612025, -54.58126628]])"
      ]
     },
     "execution_count": 52,
     "metadata": {},
     "output_type": "execute_result"
    }
   ],
   "source": [
    "rec_coord"
   ]
  },
  {
   "cell_type": "code",
   "execution_count": null,
   "id": "32e571c7-171a-4b4c-90c7-2a05f262e6a3",
   "metadata": {},
   "outputs": [],
   "source": []
  },
  {
   "cell_type": "code",
   "execution_count": 16,
   "id": "c1677a42-c2c2-4571-be77-18fb9152bb1a",
   "metadata": {},
   "outputs": [
    {
     "data": {
      "text/plain": [
       "'M_model_st.pdb1.pdb'"
      ]
     },
     "execution_count": 16,
     "metadata": {},
     "output_type": "execute_result"
    }
   ],
   "source": [
    "inp1"
   ]
  },
  {
   "cell_type": "code",
   "execution_count": 28,
   "id": "d152970c-8814-4246-8222-92fef9920ba5",
   "metadata": {},
   "outputs": [
    {
     "data": {
      "text/plain": [
       "27951"
      ]
     },
     "execution_count": 28,
     "metadata": {},
     "output_type": "execute_result"
    }
   ],
   "source": [
    "77*363"
   ]
  },
  {
   "cell_type": "code",
   "execution_count": 20,
   "id": "4d021bae-a14f-4d26-870b-bb10144a5958",
   "metadata": {},
   "outputs": [
    {
     "data": {
      "text/plain": [
       "(69, 3)"
      ]
     },
     "execution_count": 20,
     "metadata": {},
     "output_type": "execute_result"
    }
   ],
   "source": [
    "lig_coord.shape"
   ]
  },
  {
   "cell_type": "code",
   "execution_count": 21,
   "id": "c9088c3b-7ba5-4fb4-ba3d-770540049b51",
   "metadata": {},
   "outputs": [
    {
     "data": {
      "text/plain": [
       "(363, 3)"
      ]
     },
     "execution_count": 21,
     "metadata": {},
     "output_type": "execute_result"
    }
   ],
   "source": [
    "rec_coord.shape"
   ]
  },
  {
   "cell_type": "code",
   "execution_count": 24,
   "id": "95939163-5be3-4ae0-98d6-4981c786fa76",
   "metadata": {},
   "outputs": [
    {
     "data": {
      "text/plain": [
       "363"
      ]
     },
     "execution_count": 24,
     "metadata": {},
     "output_type": "execute_result"
    }
   ],
   "source": [
    "len(rec_res)"
   ]
  },
  {
   "cell_type": "code",
   "execution_count": 90,
   "id": "28fedcfe-5e14-4715-b156-3f278b5906e0",
   "metadata": {},
   "outputs": [
    {
     "data": {
      "text/plain": [
       "array([ 0.94733624, -0.31751113, -0.04172218])"
      ]
     },
     "execution_count": 90,
     "metadata": {},
     "output_type": "execute_result"
    }
   ],
   "source": [
    "rec_normal[300]"
   ]
  },
  {
   "cell_type": "code",
   "execution_count": 91,
   "id": "fc2aaaca-3ec9-4b29-a88d-19f704f5d405",
   "metadata": {},
   "outputs": [
    {
     "data": {
      "text/plain": [
       "array([0.16748599])"
      ]
     },
     "execution_count": 91,
     "metadata": {},
     "output_type": "execute_result"
    }
   ],
   "source": [
    "rec_curve[300]"
   ]
  },
  {
   "cell_type": "code",
   "execution_count": 93,
   "id": "24966809-99d6-4202-b5f6-da93fe8a0324",
   "metadata": {},
   "outputs": [
    {
     "data": {
      "text/plain": [
       "array([ 0.88772236,  0.23687235, -0.39476639])"
      ]
     },
     "execution_count": 93,
     "metadata": {},
     "output_type": "execute_result"
    }
   ],
   "source": [
    "rec_normal[150]"
   ]
  },
  {
   "cell_type": "code",
   "execution_count": 92,
   "id": "38854850-1881-4747-8169-bbeebd87fee1",
   "metadata": {},
   "outputs": [
    {
     "data": {
      "text/plain": [
       "array([0.23911071])"
      ]
     },
     "execution_count": 92,
     "metadata": {},
     "output_type": "execute_result"
    }
   ],
   "source": [
    "rec_curve[150]"
   ]
  },
  {
   "cell_type": "code",
   "execution_count": 89,
   "id": "b9cd1ce8-82ed-44b9-be4a-88c8facce10f",
   "metadata": {},
   "outputs": [
    {
     "data": {
      "text/plain": [
       "(363, 1)"
      ]
     },
     "execution_count": 89,
     "metadata": {},
     "output_type": "execute_result"
    }
   ],
   "source": [
    "rec_curve.shape"
   ]
  },
  {
   "cell_type": "code",
   "execution_count": null,
   "id": "e5a086e2-a77c-4e81-a687-549e14a5dbf2",
   "metadata": {},
   "outputs": [],
   "source": []
  },
  {
   "cell_type": "code",
   "execution_count": null,
   "id": "88277396-b3f4-40d1-a477-b33cf917739e",
   "metadata": {},
   "outputs": [],
   "source": []
  },
  {
   "cell_type": "code",
   "execution_count": null,
   "id": "7ccfd752-8262-48d3-910f-ef39a052f570",
   "metadata": {},
   "outputs": [],
   "source": []
  },
  {
   "cell_type": "code",
   "execution_count": null,
   "id": "5fa82cbe-5b42-4b1f-ba78-516c5c1f9ac3",
   "metadata": {},
   "outputs": [],
   "source": []
  },
  {
   "cell_type": "code",
   "execution_count": null,
   "id": "f3f3c140-17f6-499b-b849-a9df0cc9c820",
   "metadata": {},
   "outputs": [],
   "source": []
  }
 ],
 "metadata": {
  "kernelspec": {
   "display_name": "Python 3",
   "language": "python",
   "name": "python3"
  },
  "language_info": {
   "codemirror_mode": {
    "name": "ipython",
    "version": 3
   },
   "file_extension": ".py",
   "mimetype": "text/x-python",
   "name": "python",
   "nbconvert_exporter": "python",
   "pygments_lexer": "ipython3",
   "version": "3.9.2"
  }
 },
 "nbformat": 4,
 "nbformat_minor": 5
}
