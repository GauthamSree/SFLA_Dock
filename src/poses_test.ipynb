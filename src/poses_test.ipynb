{
 "cells": [
  {
   "cell_type": "code",
   "execution_count": 1,
   "metadata": {},
   "outputs": [],
   "source": [
    "%reload_ext autoreload\n",
    "%autoreload 2"
   ]
  },
  {
   "cell_type": "code",
   "execution_count": 64,
   "metadata": {},
   "outputs": [],
   "source": [
    "from utils import poses"
   ]
  },
  {
   "cell_type": "code",
   "execution_count": 154,
   "metadata": {},
   "outputs": [],
   "source": [
    "def clip_the_point_max_step(worst_frog_pos, best_frog_pos):\n",
    "    t = 10/np.linalg.norm(worst_frog_pos - best_frog_pos)\n",
    "    new_change = (1 - t)*worst_frog_pos + t*best_frog_pos\n",
    "    return new_change"
   ]
  },
  {
   "cell_type": "code",
   "execution_count": 164,
   "metadata": {},
   "outputs": [],
   "source": [
    "sfla_1.memeplexes = sfla_1.sort_frog()"
   ]
  },
  {
   "cell_type": "code",
   "execution_count": 191,
   "metadata": {},
   "outputs": [],
   "source": [
    "new_q, new_t = sfla_1.new_step(sfla_1.structinfo[5][1], sfla_1.structinfo[5][2], sfla_1.structinfo[9][1], sfla_1.structinfo[9][2])"
   ]
  },
  {
   "cell_type": "code",
   "execution_count": 192,
   "metadata": {},
   "outputs": [],
   "source": [
    "new_q_1, new_t_1 = sfla_1.new_step_test(sfla_1.structinfo[5][1], sfla_1.structinfo[5][2], sfla_1.structinfo[9][1], sfla_1.structinfo[9][2])"
   ]
  },
  {
   "cell_type": "code",
   "execution_count": 195,
   "metadata": {},
   "outputs": [
    {
     "name": "stdout",
     "output_type": "stream",
     "text": [
      "MSMS running for poses/out101.pdb\n",
      "MSMS finished with poses/out101.pdb\n"
     ]
    }
   ],
   "source": [
    "final = sfla_1.ligand.tranformation(new_q_1, new_t_1)   #final = np.array([Uq.rotate(i) for i in self.lig_atom])  \n",
    "results =sfla_1.find_score([final, 101, new_q_1, new_t_1])"
   ]
  },
  {
   "cell_type": "code",
   "execution_count": 199,
   "metadata": {},
   "outputs": [
    {
     "data": {
      "text/plain": [
       "21.182364076911945"
      ]
     },
     "execution_count": 199,
     "metadata": {},
     "output_type": "execute_result"
    }
   ],
   "source": [
    "np.linalg.norm(new_t_1)"
   ]
  },
  {
   "cell_type": "code",
   "execution_count": 196,
   "metadata": {},
   "outputs": [
    {
     "data": {
      "text/plain": [
       "(46381.94082487143,\n",
       " 101,\n",
       " Quaternion(0.7908955136993902, 0.02198214455782066, -0.22075132550856919, 0.5703244024386703),\n",
       " array([ -2.64304872, -20.13472692,   6.02491602]))"
      ]
     },
     "execution_count": 196,
     "metadata": {},
     "output_type": "execute_result"
    }
   ],
   "source": [
    "results"
   ]
  },
  {
   "cell_type": "code",
   "execution_count": 189,
   "metadata": {},
   "outputs": [
    {
     "data": {
      "text/plain": [
       "[-30.397091764806422,\n",
       " Quaternion(0.8105213235790795, 0.03500468907997499, -0.07755693990824637, 0.5794952776667813),\n",
       " array([ -9.98857793, -18.98548946,  28.15920725])]"
      ]
     },
     "execution_count": 189,
     "metadata": {},
     "output_type": "execute_result"
    }
   ],
   "source": [
    "sfla_1.structinfo[5]"
   ]
  },
  {
   "cell_type": "code",
   "execution_count": 190,
   "metadata": {},
   "outputs": [
    {
     "data": {
      "text/plain": [
       "[48076131.94406144,\n",
       " Quaternion(0.5161136363828437, -0.037365014798154295, -0.7602118175000121, 0.3928212857549089),\n",
       " array([  0.50284043, -20.62691388,  -3.45459522])]"
      ]
     },
     "execution_count": 190,
     "metadata": {},
     "output_type": "execute_result"
    }
   ],
   "source": [
    "sfla_1.structinfo[9]"
   ]
  },
  {
   "cell_type": "code",
   "execution_count": 180,
   "metadata": {},
   "outputs": [
    {
     "data": {
      "text/plain": [
       "array([-5.55242414, -1.75247124, 30.52201395])"
      ]
     },
     "execution_count": 180,
     "metadata": {},
     "output_type": "execute_result"
    }
   ],
   "source": [
    "new_t_1"
   ]
  },
  {
   "cell_type": "code",
   "execution_count": 173,
   "metadata": {},
   "outputs": [],
   "source": [
    "sfla_1.step_size = 10"
   ]
  },
  {
   "cell_type": "code",
   "execution_count": 169,
   "metadata": {},
   "outputs": [
    {
     "data": {
      "text/plain": [
       "Quaternion(0.8773262983303337, -0.44705412890200386, 0.05120826949124852, -0.16678994341799044)"
      ]
     },
     "execution_count": 169,
     "metadata": {},
     "output_type": "execute_result"
    }
   ],
   "source": [
    "sfla_1.structinfo[22]"
   ]
  },
  {
   "cell_type": "code",
   "execution_count": 165,
   "metadata": {},
   "outputs": [
    {
     "data": {
      "text/plain": [
       "array([[39.,  8., 47., 13., 22.],\n",
       "       [ 5., 11., 44., 42.,  9.],\n",
       "       [41., 15., 20., 46., 32.],\n",
       "       [26., 17.,  3.,  1., 19.],\n",
       "       [ 7., 24., 36., 34., 14.],\n",
       "       [16., 27., 35., 43.,  0.],\n",
       "       [18., 28., 38., 37., 48.],\n",
       "       [33., 31., 10.,  4., 25.],\n",
       "       [ 6., 40., 21., 49., 23.],\n",
       "       [29., 45., 12.,  2., 30.]])"
      ]
     },
     "execution_count": 165,
     "metadata": {},
     "output_type": "execute_result"
    }
   ],
   "source": [
    "sfla_1.memeplexes"
   ]
  },
  {
   "cell_type": "code",
   "execution_count": 136,
   "metadata": {},
   "outputs": [
    {
     "data": {
      "text/plain": [
       "78.16790088800205"
      ]
     },
     "execution_count": 136,
     "metadata": {},
     "output_type": "execute_result"
    }
   ],
   "source": [
    "recMax"
   ]
  },
  {
   "cell_type": "code",
   "execution_count": 2,
   "metadata": {},
   "outputs": [],
   "source": [
    "from sfla import SFLA "
   ]
  },
  {
   "cell_type": "code",
   "execution_count": 4,
   "metadata": {},
   "outputs": [],
   "source": [
    "model = SFLA(frogs=50, mplx_no=10, n_iter=2, N=2, q=4)"
   ]
  },
  {
   "cell_type": "code",
   "execution_count": 5,
   "metadata": {},
   "outputs": [
    {
     "name": "stdout",
     "output_type": "stream",
     "text": [
      "2021-06-27 22:25:03,857 [sfla: INFO] Starting SFLA algorithm\n",
      "2021-06-27 22:25:07,008 [sfla: INFO] Generating initial population (Number of frogs: 50)\n",
      "2021-06-27 22:25:09,197 [sfla: INFO] out0.pdb -- Calculating score\n",
      "2021-06-27 22:25:09,228 [sfla: INFO] out1.pdb -- Calculating score\n",
      "2021-06-27 22:25:09,298 [sfla: INFO] out2.pdb -- Calculating score\n",
      "2021-06-27 22:25:09,379 [sfla: INFO] out4.pdb -- Calculating score\n",
      "2021-06-27 22:25:09,420 [sfla: INFO] out3.pdb -- Calculating score\n",
      "2021-06-27 22:25:09,472 [sfla: INFO] out5.pdb -- Calculating score\n",
      "2021-06-27 22:25:09,522 [sfla: INFO] out6.pdb -- Calculating score\n",
      "2021-06-27 22:25:09,569 [sfla: INFO] out7.pdb -- Calculating score\n",
      "2021-06-27 22:25:09,620 [sfla: INFO] out8.pdb -- Calculating score\n",
      "2021-06-27 22:25:09,668 [sfla: INFO] out9.pdb -- Calculating score\n",
      "2021-06-27 22:25:09,715 [sfla: INFO] out10.pdb -- Calculating score\n",
      "2021-06-27 22:25:09,775 [sfla: INFO] out11.pdb -- Calculating score\n",
      "2021-06-27 22:25:09,855 [sfla: INFO] out12.pdb -- Calculating score\n",
      "2021-06-27 22:25:09,901 [sfla: INFO] out13.pdb -- Calculating score\n",
      "2021-06-27 22:25:09,953 [sfla: INFO] out14.pdb -- Calculating score\n",
      "2021-06-27 22:25:10,000 [sfla: INFO] out15.pdb -- Calculating score\n",
      "2021-06-27 22:25:10,049 [sfla: INFO] out16.pdb -- Calculating score\n",
      "2021-06-27 22:25:10,124 [sfla: INFO] out17.pdb -- Calculating score\n",
      "2021-06-27 22:25:10,201 [sfla: INFO] out18.pdb -- Calculating score\n",
      "2021-06-27 22:25:10,255 [sfla: INFO] out19.pdb -- Calculating score\n",
      "2021-06-27 22:25:10,352 [sfla: INFO] out20.pdb -- Calculating score\n",
      "2021-06-27 22:25:10,421 [sfla: INFO] out21.pdb -- Calculating score\n",
      "2021-06-27 22:25:10,489 [sfla: INFO] out22.pdb -- Calculating score\n",
      "2021-06-27 22:25:10,538 [sfla: INFO] out23.pdb -- Calculating score\n",
      "2021-06-27 22:25:10,624 [sfla: INFO] out24.pdb -- Calculating score\n",
      "2021-06-27 22:25:10,666 [sfla: INFO] out25.pdb -- Calculating score\n",
      "2021-06-27 22:25:10,713 [sfla: INFO] out26.pdb -- Calculating score\n",
      "2021-06-27 22:25:10,762 [sfla: INFO] out27.pdb -- Calculating score\n",
      "2021-06-27 22:25:10,816 [sfla: INFO] out28.pdb -- Calculating score\n",
      "2021-06-27 22:25:10,883 [sfla: INFO] out29.pdb -- Calculating score\n",
      "2021-06-27 22:25:10,946 [sfla: INFO] out30.pdb -- Calculating score\n",
      "2021-06-27 22:25:11,031 [sfla: INFO] out31.pdb -- Calculating score\n",
      "2021-06-27 22:25:11,107 [sfla: INFO] out32.pdb -- Calculating score\n",
      "2021-06-27 22:25:11,174 [sfla: INFO] out33.pdb -- Calculating score\n",
      "2021-06-27 22:25:11,228 [sfla: INFO] out34.pdb -- Calculating score\n",
      "2021-06-27 22:25:11,310 [sfla: INFO] out35.pdb -- Calculating score\n",
      "2021-06-27 22:25:11,375 [sfla: INFO] out36.pdb -- Calculating score\n",
      "2021-06-27 22:25:11,530 [sfla: INFO] out37.pdb -- Calculating score\n",
      "2021-06-27 22:25:11,644 [sfla: INFO] out38.pdb -- Calculating score\n",
      "2021-06-27 22:25:11,744 [sfla: INFO] out39.pdb -- Calculating score\n",
      "2021-06-27 22:25:13,517 [sfla: INFO] out8.pdb -- score 0.000\n",
      "2021-06-27 22:25:13,691 [sfla: INFO] out40.pdb -- Calculating score\n",
      "2021-06-27 22:25:15,648 [sfla: INFO] out27.pdb -- score 0.000\n",
      "2021-06-27 22:25:15,711 [sfla: INFO] out41.pdb -- Calculating score\n",
      "2021-06-27 22:25:20,848 [sfla: INFO] out41.pdb -- score 0.000\n",
      "2021-06-27 22:25:21,087 [sfla: INFO] out42.pdb -- Calculating score\n",
      "2021-06-27 22:25:26,047 [sfla: INFO] out42.pdb -- score 0.000\n",
      "2021-06-27 22:25:26,133 [sfla: INFO] out43.pdb -- Calculating score\n",
      "2021-06-27 22:25:29,669 [sfla: INFO] out7.pdb -- score 75510258997.833\n",
      "2021-06-27 22:25:29,744 [sfla: INFO] out44.pdb -- Calculating score\n",
      "2021-06-27 22:25:31,072 [sfla: INFO] out18.pdb -- score 42135611166.527\n",
      "2021-06-27 22:25:31,116 [sfla: INFO] out43.pdb -- score 0.000\n",
      "2021-06-27 22:25:31,158 [sfla: INFO] out45.pdb -- Calculating score\n",
      "2021-06-27 22:25:31,416 [sfla: INFO] out46.pdb -- Calculating score\n",
      "2021-06-27 22:25:31,649 [sfla: INFO] out24.pdb -- score 12726019865.011\n",
      "2021-06-27 22:25:31,735 [sfla: INFO] out23.pdb -- score 279819375210.693\n",
      "2021-06-27 22:25:31,750 [sfla: INFO] out47.pdb -- Calculating score\n",
      "2021-06-27 22:25:31,772 [sfla: INFO] out6.pdb -- score 1147030256785.831\n",
      "2021-06-27 22:25:31,879 [sfla: INFO] out48.pdb -- Calculating score\n",
      "2021-06-27 22:25:31,944 [sfla: INFO] out49.pdb -- Calculating score\n",
      "2021-06-27 22:25:32,003 [sfla: INFO] out21.pdb -- score 383942.614\n",
      "2021-06-27 22:25:32,146 [sfla: INFO] out15.pdb -- score 23229545.272\n",
      "2021-06-27 22:25:32,153 [sfla: INFO] out0.pdb -- score 4294137.126\n",
      "2021-06-27 22:25:32,225 [sfla: INFO] out11.pdb -- score 13344029.997\n",
      "2021-06-27 22:25:32,299 [sfla: INFO] out1.pdb -- score 29399.038\n",
      "2021-06-27 22:25:32,513 [sfla: INFO] out34.pdb -- score 4359062549.617\n",
      "2021-06-27 22:25:32,799 [sfla: INFO] out2.pdb -- score 11190.536\n",
      "2021-06-27 22:25:32,939 [sfla: INFO] out3.pdb -- score -0.905\n",
      "2021-06-27 22:25:33,008 [sfla: INFO] out10.pdb -- score 13780.554\n",
      "2021-06-27 22:25:33,098 [sfla: INFO] out5.pdb -- score -7.461\n",
      "2021-06-27 22:25:33,169 [sfla: INFO] out37.pdb -- score 27554342.225\n",
      "2021-06-27 22:25:33,241 [sfla: INFO] out28.pdb -- score 728145976531.168\n",
      "2021-06-27 22:25:33,448 [sfla: INFO] out40.pdb -- score 83724414.131\n",
      "2021-06-27 22:25:33,528 [sfla: INFO] out9.pdb -- score -2.641\n",
      "2021-06-27 22:25:33,624 [sfla: INFO] out12.pdb -- score -10.182\n",
      "2021-06-27 22:25:33,707 [sfla: INFO] out4.pdb -- score 149811404.543\n",
      "2021-06-27 22:25:33,808 [sfla: INFO] out14.pdb -- score -8.130\n",
      "2021-06-27 22:25:33,837 [sfla: INFO] out16.pdb -- score 2180.345\n",
      "2021-06-27 22:25:34,083 [sfla: INFO] out35.pdb -- score 47528641.855\n",
      "2021-06-27 22:25:34,118 [sfla: INFO] out13.pdb -- score -10.895\n",
      "2021-06-27 22:25:34,324 [sfla: INFO] out19.pdb -- score -11.856\n",
      "2021-06-27 22:25:34,335 [sfla: INFO] out26.pdb -- score 398.101\n",
      "2021-06-27 22:25:34,419 [sfla: INFO] out39.pdb -- score 1933531.361\n",
      "2021-06-27 22:25:34,501 [sfla: INFO] out17.pdb -- score 3215.237\n",
      "2021-06-27 22:25:34,532 [sfla: INFO] out38.pdb -- score -12.397\n",
      "2021-06-27 22:25:34,538 [sfla: INFO] out33.pdb -- score 16635.847\n",
      "2021-06-27 22:25:34,548 [sfla: INFO] out29.pdb -- score -6.697\n",
      "2021-06-27 22:25:34,668 [sfla: INFO] out25.pdb -- score -13.970\n",
      "2021-06-27 22:25:34,678 [sfla: INFO] out22.pdb -- score -2.290\n",
      "2021-06-27 22:25:34,962 [sfla: INFO] out30.pdb -- score 14676776.851\n",
      "2021-06-27 22:25:35,045 [sfla: INFO] out31.pdb -- score 0.000\n",
      "2021-06-27 22:25:35,178 [sfla: INFO] out20.pdb -- score 196.392\n",
      "2021-06-27 22:25:35,444 [sfla: INFO] out36.pdb -- score 0.000\n",
      "2021-06-27 22:25:35,666 [sfla: INFO] out32.pdb -- score -1.763\n",
      "2021-06-27 22:25:41,520 [sfla: INFO] out45.pdb -- score 9923086404.592\n",
      "2021-06-27 22:25:42,472 [sfla: INFO] out49.pdb -- score 134669452.500\n",
      "2021-06-27 22:25:42,598 [sfla: INFO] out44.pdb -- score -14.040\n",
      "2021-06-27 22:25:42,922 [sfla: INFO] out47.pdb -- score 3410.623\n",
      "2021-06-27 22:25:43,287 [sfla: INFO] out46.pdb -- score 11655073913701.799\n",
      "2021-06-27 22:25:43,748 [sfla: INFO] out48.pdb -- score -1.185\n",
      "2021-06-27 22:25:43,831 [sfla: INFO] Sorting the frogs and making 10 memeplexes with 50 frogs each\n"
     ]
    }
   ],
   "source": [
    "model.run_sfla_test(\"Data/4dn4_LH:M/\", \"4dn4\", \"LH\", \"M\")"
   ]
  },
  {
   "cell_type": "code",
   "execution_count": 6,
   "metadata": {},
   "outputs": [
    {
     "data": {
      "text/plain": [
       "{0: [4294137.1256010765,\n",
       "  Quaternion(0.751794692382662, 0.1251349645492385, -0.5843669628423872, -0.2786776522990016),\n",
       "  array([  5.74358786,  13.3202212 , -41.10594281])],\n",
       " 1: [29399.037512923052,\n",
       "  Quaternion(0.34859079403260423, -0.8328395387304101, -0.18936256786264152, -0.38601111245079817),\n",
       "  array([  7.43761023, -42.05532137, -19.5247726 ])],\n",
       " 2: [11190.536097897502,\n",
       "  Quaternion(0.49748836748018643, 0.30281963819043606, -0.3439555220046789, 0.7365461219982095),\n",
       "  array([ 25.92631142,  16.90272787, -24.80150189])],\n",
       " 3: [-0.9051237374393946,\n",
       "  Quaternion(0.9299055068717239, -0.17984277723306039, 0.10349481116318952, -0.30367935035006555),\n",
       "  array([-8.94099279, 45.38037804, 27.56114958])],\n",
       " 4: [149811404.5429113,\n",
       "  Quaternion(0.8158529759570551, 0.3346063850660154, -0.2804423532466054, 0.3791761796323402),\n",
       "  array([19.34195387, 27.77395111,  5.62584619])],\n",
       " 5: [-7.46118222533007,\n",
       "  Quaternion(0.7868945955540179, 0.6111503150520987, 0.0815351183695834, 0.025381339051697028),\n",
       "  array([15.46900276, 10.34645341, 41.26495341])],\n",
       " 6: [1147030256785.8313,\n",
       "  Quaternion(0.6919411392392927, 0.06155135716925327, 0.7095277186208555, -0.11831866618389789),\n",
       "  array([-7.10865887, 14.90542036, 28.3842755 ])],\n",
       " 7: [75510258997.83269,\n",
       "  Quaternion(0.9587941970634083, -0.1644207188294166, 0.14883293112977983, -0.1775620272143518),\n",
       "  array([-14.01094822,  13.46333766,  11.4691013 ])],\n",
       " 8: [0,\n",
       "  Quaternion(0.8343165088064785, -0.37687894302095726, -0.37760477282892546, 0.13889874361271712),\n",
       "  array([-48.57600767,   3.40936627,  29.14732809])],\n",
       " 9: [-2.6405751808838014,\n",
       "  Quaternion(0.41498288162420527, 0.7851384795532247, 0.3167706306816045, 0.3331713424370412),\n",
       "  array([ 45.61858672,  12.46810268, -10.33131338])],\n",
       " 10: [13780.554103926912,\n",
       "  Quaternion(0.9103105575410546, -0.24691293152117075, 0.20047907392549907, -0.26490910515663696),\n",
       "  array([-11.66342107,   7.7435369 , -21.51509224])],\n",
       " 11: [13344029.997429948,\n",
       "  Quaternion(0.9759409752747834, 0.04914112125101873, -0.12242761344480688, 0.17359678121470504),\n",
       "  array([ -5.12275763, -15.36872409, -16.42057311])],\n",
       " 12: [-10.182355864422616,\n",
       "  Quaternion(0.9529186109573686, -0.24568443371581342, -0.014084152317451332, 0.17716353059904283),\n",
       "  array([  0.9672882 , -18.74765736, -39.95911718])],\n",
       " 13: [-10.894855356918011,\n",
       "  Quaternion(0.9795987403315842, 0.0831054119816835, -0.07060899174490118, 0.1688021585315089),\n",
       "  array([-47.81741081, -11.33325317,   5.74879888])],\n",
       " 14: [-8.130005370804222,\n",
       "  Quaternion(0.8452141805991357, -0.3132215777663181, 0.3457009763778813, -0.26076055504445017),\n",
       "  array([10.48694522, 30.41478629, 31.30546558])],\n",
       " 15: [23229545.272333402,\n",
       "  Quaternion(0.9054167347441343, 0.23555011617984925, 0.23576301502720243, 0.2629685912009506),\n",
       "  array([  3.77958677, -14.28452451,   7.14523608])],\n",
       " 16: [2180.3451969087714,\n",
       "  Quaternion(0.7640515559004967, -0.026272527567901337, -0.057785504140770216, 0.6420247734569291),\n",
       "  array([22.18101462, -2.52747189, 17.22519624])],\n",
       " 17: [3215.2365384217774,\n",
       "  Quaternion(0.6088016284808433, -0.006920216025486174, -0.44258541532297335, -0.6583546444832183),\n",
       "  array([-20.94910289, -30.16340718, -20.94943564])],\n",
       " 18: [42135611166.52657,\n",
       "  Quaternion(0.35837260072563976, 0.5455643241407541, 0.22359227387385086, 0.7238336427231774),\n",
       "  array([ 4.88517526,  7.46733324, 15.55276507])],\n",
       " 19: [-11.855877592010028,\n",
       "  Quaternion(0.5689360365710737, -0.6338378348243661, -0.45945090373746506, 0.2519250930153324),\n",
       "  array([37.21119079, 13.82960866, 14.7839729 ])],\n",
       " 20: [196.39161015143674,\n",
       "  Quaternion(0.5564215409119279, 0.21549523081708488, 0.6050585462075035, -0.5271252507379526),\n",
       "  array([ -3.63690932, -14.10717521,  30.59389039])],\n",
       " 21: [383942.6138256326,\n",
       "  Quaternion(0.7601526864981566, -0.546707780925355, -0.05720738845053106, -0.34641854770202396),\n",
       "  array([-17.82666245, -15.85016897,   6.38777899])],\n",
       " 22: [-2.290401250539588,\n",
       "  Quaternion(0.5507943548382602, -0.011544809729344388, 0.8145492624330822, 0.18166396207376886),\n",
       "  array([-36.5579105 ,  -1.23519356,  42.767831  ])],\n",
       " 23: [279819375210.6926,\n",
       "  Quaternion(0.8870103251605215, 0.032221539644767344, 0.2235410474583201, -0.4027453979163305),\n",
       "  array([28.24348615, -2.14680792, -9.28966204])],\n",
       " 24: [12726019865.010532,\n",
       "  Quaternion(0.8977500846609429, 0.31626410946380346, 0.017735136923037072, -0.3061164214390636),\n",
       "  array([ 11.73463987,  -9.00758633, -22.39941399])],\n",
       " 25: [-13.969511905610304,\n",
       "  Quaternion(0.8539567263742673, 0.2946050573955068, 0.15633677609347024, -0.399405285490609),\n",
       "  array([ 31.5494521 ,  -7.46737657, -39.1010524 ])],\n",
       " 26: [398.1006573532964,\n",
       "  Quaternion(0.7782728515856605, -0.5299078220148752, -0.32300640334265723, -0.09568663465613385),\n",
       "  array([-33.5366206 ,  -1.32754871, -13.25112976])],\n",
       " 27: [0,\n",
       "  Quaternion(0.4945621864949715, -0.5537840325603538, -0.5896027963559687, -0.3179623114454418),\n",
       "  array([-27.29010813,  43.99382849,  15.41171751])],\n",
       " 28: [728145976531.1678,\n",
       "  Quaternion(0.9066448551034716, 0.020935529976941307, -0.11523838131306104, 0.40531090013881343),\n",
       "  array([ 27.53679275, -24.83797275,  -4.61663128])],\n",
       " 29: [-6.697155611575784,\n",
       "  Quaternion(0.7504735683910341, 0.02823764998339367, -0.6508382883059978, -0.1113623847839219),\n",
       "  array([-45.9325716 ,  11.8227051 ,  12.40152239])],\n",
       " 30: [14676776.851255042,\n",
       "  Quaternion(0.9435184519431946, 0.021481472633815328, -0.1876287979465119, -0.27222584623313617),\n",
       "  array([-28.34678171,  25.97121873,   0.90715106])],\n",
       " 31: [0,\n",
       "  Quaternion(0.922435816001043, 0.19643551703999254, 0.25350071442485506, -0.2150875189075576),\n",
       "  array([ 51.8820815 , -15.8436044 , -16.06661932])],\n",
       " 32: [-1.7632195108138176,\n",
       "  Quaternion(0.6686746029269977, 0.7138572854074097, 0.20552960521496733, -0.03224333809278403),\n",
       "  array([-23.19604998, -31.73442398,  18.09483802])],\n",
       " 33: [16635.846531897063,\n",
       "  Quaternion(0.5646255746724872, -0.36570352331670397, 0.055963644547722464, -0.7377851746602454),\n",
       "  array([-34.84733616,  23.07810094,  30.13401466])],\n",
       " 34: [4359062549.616907,\n",
       "  Quaternion(0.7922013416065968, 0.2682467289037945, 0.39703527148264356, 0.3779202561226719),\n",
       "  array([-11.30102451,  -3.60244312,  20.11261728])],\n",
       " 35: [47528641.85510718,\n",
       "  Quaternion(0.9954514328009472, -0.039386922188621734, -0.035240988536056395, -0.0792665630770662),\n",
       "  array([-28.91428017,   2.06481602,   5.93832843])],\n",
       " 36: [0,\n",
       "  Quaternion(0.22036289087249106, 0.544918700724457, 0.712130260741954, 0.38389360200801054),\n",
       "  array([-33.65542541, -24.6284839 ,  -4.11309394])],\n",
       " 37: [27554342.224711996,\n",
       "  Quaternion(0.5717736126489037, 0.8175511947200504, 0.05689780635583804, -0.03804759548425042),\n",
       "  array([-24.62422577,   7.66491051,  22.96307202])],\n",
       " 38: [-12.396581794043449,\n",
       "  Quaternion(0.8061576568758858, 0.28841841916535493, 0.3175428879799217, 0.40754283460749235),\n",
       "  array([ 33.38006383, -34.00268438, -30.44492814])],\n",
       " 39: [1933531.360646146,\n",
       "  Quaternion(0.8252600577143967, 0.1776322204445495, 0.30450556955809904, -0.4412130885516287),\n",
       "  array([-30.37845461, -11.43048129,  17.34882652])],\n",
       " 40: [83724414.13093437,\n",
       "  Quaternion(0.7702689941605327, -0.3769754348645626, -0.35527150112423916, 0.3719641899867847),\n",
       "  array([-12.29124365,  -2.26557334,  -3.47891912])],\n",
       " 41: [0,\n",
       "  Quaternion(0.7826016241314763, -0.09139663715826782, -0.16444559433950914, 0.5934130088945311),\n",
       "  array([-19.18407518,  28.98860272,  42.74345437])],\n",
       " 42: [0,\n",
       "  Quaternion(0.6154050538851301, -0.23741934954307933, -0.6285772786926682, 0.4120670780667886),\n",
       "  array([-31.07021609, -23.30053382,  38.90702207])],\n",
       " 43: [0,\n",
       "  Quaternion(0.8758749128639026, -0.26691162506908844, -0.3374161611611844, -0.21852152206562878),\n",
       "  array([-47.6070847 , -18.21580453,  28.51145793])],\n",
       " 44: [-14.040267729521446,\n",
       "  Quaternion(0.7780674956908269, 0.3510747929654925, 0.2630546234499461, -0.4496217598996391),\n",
       "  array([-17.23189383, -10.47103711,  42.93188719])],\n",
       " 45: [9923086404.591784,\n",
       "  Quaternion(0.964718464858549, -0.2614571546491184, -0.025130790230660012, -0.01807991222695461),\n",
       "  array([ 4.93144387,  8.60559081, -4.25254172])],\n",
       " 46: [11655073913701.799,\n",
       "  Quaternion(0.9013007812331167, 0.42396051700207504, -0.08895960134910857, -0.0007557113962230066),\n",
       "  array([ -2.46802872, -31.49433138,  -0.26392906])],\n",
       " 47: [3410.6234348028725,\n",
       "  Quaternion(0.8597503946377217, -0.31664615900735965, 0.39997047744530495, -0.024250486146522726),\n",
       "  array([-2.50014696, 29.16677683, -5.49525799])],\n",
       " 48: [-1.1848322888549787,\n",
       "  Quaternion(0.6272063549152663, -0.09896652082795636, 0.13687712501525362, -0.7603173473995404),\n",
       "  array([-13.75468309,   8.71598281,  44.66723417])],\n",
       " 49: [134669452.5004807,\n",
       "  Quaternion(0.8472775546466998, -0.06493314107776177, 0.10584754394246391, -0.5164307601441189),\n",
       "  array([-6.96111974, 27.83480008, 16.10688194])]}"
      ]
     },
     "execution_count": 6,
     "metadata": {},
     "output_type": "execute_result"
    }
   ],
   "source": [
    "model.structinfo"
   ]
  },
  {
   "cell_type": "code",
   "execution_count": 7,
   "metadata": {},
   "outputs": [
    {
     "data": {
      "text/plain": [
       "array([[44., 22., 43., 21.,  4.],\n",
       "       [25., 32., 20., 39., 34.],\n",
       "       [38., 48., 26.,  0., 45.],\n",
       "       [19.,  3., 16., 11., 24.],\n",
       "       [13.,  8., 17., 30., 18.],\n",
       "       [12., 27., 47., 15.,  7.],\n",
       "       [14., 31.,  2., 37., 23.],\n",
       "       [ 5., 36., 10., 35., 28.],\n",
       "       [29., 41., 33., 40.,  6.],\n",
       "       [ 9., 42.,  1., 49., 46.]])"
      ]
     },
     "execution_count": 7,
     "metadata": {},
     "output_type": "execute_result"
    }
   ],
   "source": [
    "model.memeplexes"
   ]
  },
  {
   "cell_type": "code",
   "execution_count": 8,
   "metadata": {},
   "outputs": [
    {
     "data": {
      "text/plain": [
       "[-14.040267729521446,\n",
       " Quaternion(0.7780674956908269, 0.3510747929654925, 0.2630546234499461, -0.4496217598996391),\n",
       " array([-17.23189383, -10.47103711,  42.93188719])]"
      ]
     },
     "execution_count": 8,
     "metadata": {},
     "output_type": "execute_result"
    }
   ],
   "source": [
    "model.structinfo[44]"
   ]
  },
  {
   "cell_type": "code",
   "execution_count": 9,
   "metadata": {},
   "outputs": [
    {
     "data": {
      "text/plain": [
       "[-13.969511905610304,\n",
       " Quaternion(0.8539567263742673, 0.2946050573955068, 0.15633677609347024, -0.399405285490609),\n",
       " array([ 31.5494521 ,  -7.46737657, -39.1010524 ])]"
      ]
     },
     "execution_count": 9,
     "metadata": {},
     "output_type": "execute_result"
    }
   ],
   "source": [
    "model.structinfo[25]"
   ]
  },
  {
   "cell_type": "code",
   "execution_count": 10,
   "metadata": {},
   "outputs": [
    {
     "name": "stdout",
     "output_type": "stream",
     "text": [
      "2021-06-27 22:27:03,615 [sfla: INFO] Local search of Memeplex 1: Mutation 0/2\n",
      "2021-06-27 22:27:03,620 [sfla: INFO] out51.pdb: Learn from local best Pb\n",
      "2021-06-27 22:27:03,670 [sfla: INFO] out51.pdb -- Calculating score\n",
      "2021-06-27 22:27:03,640 [sfla: INFO] Local search of Memeplex 2: Mutation 0/2\n",
      "2021-06-27 22:27:03,684 [sfla: INFO] out52.pdb: Learn from local best Pb\n",
      "2021-06-27 22:27:03,692 [sfla: INFO] Local search of Memeplex 3: Mutation 0/2\n",
      "2021-06-27 22:27:03,732 [sfla: INFO] out53.pdb: Learn from local best Pb\n",
      "2021-06-27 22:27:03,738 [sfla: INFO] out52.pdb -- Calculating score\n",
      "2021-06-27 22:27:03,743 [sfla: INFO] Local search of Memeplex 4: Mutation 0/2\n",
      "2021-06-27 22:27:03,747 [sfla: INFO] out54.pdb: Learn from local best Pb\n",
      "2021-06-27 22:27:03,784 [sfla: INFO] out53.pdb -- Calculating score\n",
      "2021-06-27 22:27:03,795 [sfla: INFO] out54.pdb -- Calculating score\n",
      "2021-06-27 22:27:03,965 [sfla: INFO] Local search of Memeplex 5: Mutation 0/2\n",
      "2021-06-27 22:27:03,969 [sfla: INFO] out55.pdb: Learn from local best Pb\n",
      "2021-06-27 22:27:04,000 [sfla: INFO] Local search of Memeplex 6: Mutation 0/2\n",
      "2021-06-27 22:27:04,003 [sfla: INFO] out56.pdb: Learn from local best Pb\n",
      "2021-06-27 22:27:04,012 [sfla: INFO] out55.pdb -- Calculating score\n",
      "2021-06-27 22:27:04,036 [sfla: INFO] Local search of Memeplex 7: Mutation 0/2\n",
      "2021-06-27 22:27:04,040 [sfla: INFO] out57.pdb: Learn from local best Pb\n",
      "2021-06-27 22:27:04,050 [sfla: INFO] out56.pdb -- Calculating score\n",
      "2021-06-27 22:27:04,081 [sfla: INFO] out57.pdb -- Calculating score\n",
      "2021-06-27 22:27:04,159 [sfla: INFO] Local search of Memeplex 9: Mutation 0/2\n",
      "2021-06-27 22:27:04,163 [sfla: INFO] out59.pdb: Learn from local best Pb\n",
      "2021-06-27 22:27:04,191 [sfla: INFO] Local search of Memeplex 8: Mutation 0/2\n",
      "2021-06-27 22:27:04,194 [sfla: INFO] out58.pdb: Learn from local best Pb\n",
      "2021-06-27 22:27:04,204 [sfla: INFO] Local search of Memeplex 10: Mutation 0/2\n",
      "2021-06-27 22:27:04,210 [sfla: INFO] out59.pdb -- Calculating score\n",
      "2021-06-27 22:27:04,209 [sfla: INFO] out60.pdb: Learn from local best Pb\n",
      "2021-06-27 22:27:04,243 [sfla: INFO] out58.pdb -- Calculating score\n",
      "2021-06-27 22:27:04,264 [sfla: INFO] out60.pdb -- Calculating score\n",
      "2021-06-27 22:27:12,786 [sfla: INFO] out52.pdb -- score 6013701669.271\n",
      "2021-06-27 22:27:12,790 [sfla: INFO] out52.pdb: Learn from global best Pb since score didn't improve\n",
      "2021-06-27 22:27:12,833 [sfla: INFO] out52.pdb -- Calculating score\n",
      "2021-06-27 22:27:13,059 [sfla: INFO] out54.pdb -- score 5038757625.230\n",
      "2021-06-27 22:27:13,061 [sfla: INFO]  54 -- Local search of Memeplex 4: Mutation 1/2 finished\n",
      "2021-06-27 22:27:13,063 [sfla: INFO] Local search of Memeplex 4: Mutation 1/2\n",
      "2021-06-27 22:27:13,065 [sfla: INFO] out54.pdb: Learn from local best Pb\n",
      "2021-06-27 22:27:13,113 [sfla: INFO] out54.pdb -- Calculating score\n",
      "2021-06-27 22:27:13,257 [sfla: INFO] out56.pdb -- score 6663064073.402\n",
      "2021-06-27 22:27:13,260 [sfla: INFO]  56 -- Local search of Memeplex 6: Mutation 1/2 finished\n",
      "2021-06-27 22:27:13,261 [sfla: INFO] Local search of Memeplex 6: Mutation 1/2\n",
      "2021-06-27 22:27:13,263 [sfla: INFO] out56.pdb: Learn from local best Pb\n",
      "2021-06-27 22:27:13,271 [sfla: INFO] out53.pdb -- score 357602736.924\n",
      "2021-06-27 22:27:13,273 [sfla: INFO]  53 -- Local search of Memeplex 3: Mutation 1/2 finished\n",
      "2021-06-27 22:27:13,274 [sfla: INFO] Local search of Memeplex 3: Mutation 1/2\n",
      "2021-06-27 22:27:13,276 [sfla: INFO] out53.pdb: Learn from local best Pb\n",
      "2021-06-27 22:27:13,277 [sfla: INFO] out55.pdb -- score 8589091.910\n",
      "2021-06-27 22:27:13,279 [sfla: INFO]  55 -- Local search of Memeplex 5: Mutation 1/2 finished\n",
      "2021-06-27 22:27:13,280 [sfla: INFO] Local search of Memeplex 5: Mutation 1/2\n",
      "2021-06-27 22:27:13,281 [sfla: INFO] out55.pdb: Learn from local best Pb\n",
      "2021-06-27 22:27:13,314 [sfla: INFO] out56.pdb -- Calculating score\n",
      "2021-06-27 22:27:13,319 [sfla: INFO] out53.pdb -- Calculating score\n",
      "2021-06-27 22:27:13,320 [sfla: INFO] out55.pdb -- Calculating score\n",
      "2021-06-27 22:27:13,334 [sfla: INFO] out57.pdb -- score 40414681017.469\n",
      "2021-06-27 22:27:13,338 [sfla: INFO]  57 -- Local search of Memeplex 7: Mutation 1/2 finished\n",
      "2021-06-27 22:27:13,339 [sfla: INFO] Local search of Memeplex 7: Mutation 1/2\n",
      "2021-06-27 22:27:13,341 [sfla: INFO] out57.pdb: Learn from local best Pb\n",
      "2021-06-27 22:27:13,385 [sfla: INFO] out57.pdb -- Calculating score\n",
      "2021-06-27 22:27:13,702 [sfla: INFO] out51.pdb -- score 2318350.859\n",
      "2021-06-27 22:27:13,705 [sfla: INFO]  51 -- Local search of Memeplex 1: Mutation 1/2 finished\n",
      "2021-06-27 22:27:13,707 [sfla: INFO] Local search of Memeplex 1: Mutation 1/2\n",
      "2021-06-27 22:27:13,708 [sfla: INFO] out51.pdb: Learn from local best Pb\n",
      "2021-06-27 22:27:13,749 [sfla: INFO] out51.pdb -- Calculating score\n",
      "2021-06-27 22:27:14,114 [sfla: INFO] out59.pdb -- score 72752425.566\n",
      "2021-06-27 22:27:14,116 [sfla: INFO]  59 -- Local search of Memeplex 9: Mutation 1/2 finished\n",
      "2021-06-27 22:27:14,117 [sfla: INFO] Local search of Memeplex 9: Mutation 1/2\n",
      "2021-06-27 22:27:14,118 [sfla: INFO] out59.pdb: Learn from local best Pb\n",
      "2021-06-27 22:27:14,157 [sfla: INFO] out59.pdb -- Calculating score\n",
      "2021-06-27 22:27:14,518 [sfla: INFO] out60.pdb -- score 418017.243\n",
      "2021-06-27 22:27:14,521 [sfla: INFO]  60 -- Local search of Memeplex 10: Mutation 1/2 finished\n",
      "2021-06-27 22:27:14,522 [sfla: INFO] Local search of Memeplex 10: Mutation 1/2\n",
      "2021-06-27 22:27:14,524 [sfla: INFO] out60.pdb: Learn from local best Pb\n",
      "2021-06-27 22:27:14,571 [sfla: INFO] out60.pdb -- Calculating score\n",
      "2021-06-27 22:27:15,203 [sfla: INFO] out58.pdb -- score 148546454.006\n",
      "2021-06-27 22:27:15,205 [sfla: INFO]  58 -- Local search of Memeplex 8: Mutation 1/2 finished\n",
      "2021-06-27 22:27:15,206 [sfla: INFO] Local search of Memeplex 8: Mutation 1/2\n",
      "2021-06-27 22:27:15,208 [sfla: INFO] out58.pdb: Learn from local best Pb\n",
      "2021-06-27 22:27:15,254 [sfla: INFO] out58.pdb -- Calculating score\n",
      "2021-06-27 22:27:22,461 [sfla: INFO] out53.pdb -- score 373296725.560\n",
      "2021-06-27 22:27:22,465 [sfla: INFO] out53.pdb: Learn from global best Pb since score didn't improve\n",
      "2021-06-27 22:27:22,506 [sfla: INFO] out53.pdb -- Calculating score\n",
      "2021-06-27 22:27:22,823 [sfla: INFO] out54.pdb -- score 23303166.583\n",
      "2021-06-27 22:27:22,828 [sfla: INFO]  54 -- Local search of Memeplex 4: Mutation 2/2 finished\n",
      "2021-06-27 22:27:23,141 [sfla: INFO] out56.pdb -- score 1485158.129\n",
      "2021-06-27 22:27:23,143 [sfla: INFO]  56 -- Local search of Memeplex 6: Mutation 2/2 finished\n",
      "2021-06-27 22:27:23,289 [sfla: INFO] out52.pdb -- score 1268175.417\n",
      "2021-06-27 22:27:23,291 [sfla: INFO]  52 -- Local search of Memeplex 2: Mutation 1/2 finished\n",
      "2021-06-27 22:27:23,292 [sfla: INFO] Local search of Memeplex 2: Mutation 1/2\n",
      "2021-06-27 22:27:23,294 [sfla: INFO] out52.pdb: Learn from local best Pb\n",
      "2021-06-27 22:27:23,333 [sfla: INFO] out52.pdb -- Calculating score\n",
      "2021-06-27 22:27:23,546 [sfla: INFO] out51.pdb -- score 23448270.190\n",
      "2021-06-27 22:27:23,548 [sfla: INFO] out51.pdb: Learn from global best Pb since score didn't improve\n",
      "2021-06-27 22:27:23,588 [sfla: INFO] out51.pdb -- Calculating score\n",
      "2021-06-27 22:27:23,805 [sfla: INFO] out57.pdb -- score 560437.936\n",
      "2021-06-27 22:27:23,807 [sfla: INFO]  57 -- Local search of Memeplex 7: Mutation 2/2 finished\n",
      "2021-06-27 22:27:23,811 [sfla: INFO] out59.pdb -- score 1487307.648\n",
      "2021-06-27 22:27:23,813 [sfla: INFO]  59 -- Local search of Memeplex 9: Mutation 2/2 finished\n",
      "2021-06-27 22:27:24,314 [sfla: INFO] out55.pdb -- score 70267692495.771\n",
      "2021-06-27 22:27:24,315 [sfla: INFO] out55.pdb: Learn from global best Pb since score didn't improve\n",
      "2021-06-27 22:27:24,364 [sfla: INFO] out55.pdb -- Calculating score\n",
      "2021-06-27 22:27:24,706 [sfla: INFO] out60.pdb -- score 113846740734636.750\n",
      "2021-06-27 22:27:24,708 [sfla: INFO] out60.pdb: Learn from global best Pb since score didn't improve\n",
      "2021-06-27 22:27:24,747 [sfla: INFO] out60.pdb -- Calculating score\n",
      "2021-06-27 22:27:26,314 [sfla: INFO] out58.pdb -- score 11524.124\n",
      "2021-06-27 22:27:26,316 [sfla: INFO]  58 -- Local search of Memeplex 8: Mutation 2/2 finished\n",
      "2021-06-27 22:27:31,361 [sfla: INFO] out53.pdb -- score 13216468.024\n",
      "2021-06-27 22:27:31,363 [sfla: INFO]  53 -- Local search of Memeplex 3: Mutation 2/2 finished\n",
      "2021-06-27 22:27:32,920 [sfla: INFO] out52.pdb -- score 160588579.896\n",
      "2021-06-27 22:27:32,922 [sfla: INFO] out52.pdb: Learn from global best Pb since score didn't improve\n",
      "2021-06-27 22:27:32,965 [sfla: INFO] out52.pdb -- Calculating score\n",
      "2021-06-27 22:27:33,398 [sfla: INFO] out51.pdb -- score 3190917.768\n",
      "2021-06-27 22:27:33,400 [sfla: INFO] out51.pdb: generating a new frog since score didn't improve\n",
      "2021-06-27 22:27:33,440 [sfla: INFO] out51.pdb -- Calculating score\n",
      "2021-06-27 22:27:33,773 [sfla: INFO] out60.pdb -- score 19745721831.997\n",
      "2021-06-27 22:27:33,775 [sfla: INFO] out60.pdb: generating a new frog since score didn't improve\n",
      "2021-06-27 22:27:33,814 [sfla: INFO] out60.pdb -- Calculating score\n",
      "2021-06-27 22:27:33,919 [sfla: INFO] out55.pdb -- score 6625994.901\n",
      "2021-06-27 22:27:33,921 [sfla: INFO]  55 -- Local search of Memeplex 5: Mutation 2/2 finished\n",
      "2021-06-27 22:27:42,648 [sfla: INFO] out52.pdb -- score 3785.352\n",
      "2021-06-27 22:27:42,650 [sfla: INFO]  52 -- Local search of Memeplex 2: Mutation 2/2 finished\n",
      "2021-06-27 22:27:43,257 [sfla: INFO] out51.pdb -- score 4320690.649\n",
      "2021-06-27 22:27:43,260 [sfla: INFO]  51 -- Local search of Memeplex 1: Mutation 2/2 finished\n",
      "2021-06-27 22:27:43,686 [sfla: INFO] out60.pdb -- score 4320690.649\n",
      "2021-06-27 22:27:43,688 [sfla: INFO]  60 -- Local search of Memeplex 10: Mutation 2/2 finished\n"
     ]
    }
   ],
   "source": [
    "model.local_search_test()"
   ]
  },
  {
   "cell_type": "code",
   "execution_count": 11,
   "metadata": {},
   "outputs": [
    {
     "name": "stdout",
     "output_type": "stream",
     "text": [
      "2021-06-27 22:28:04,593 [sfla: INFO] Shuffling the memeplexes and sorting them\n"
     ]
    }
   ],
   "source": [
    "model.shuffle_memeplexes()"
   ]
  },
  {
   "cell_type": "code",
   "execution_count": 13,
   "metadata": {},
   "outputs": [
    {
     "name": "stdout",
     "output_type": "stream",
     "text": [
      "2021-06-27 22:28:29,305 [sfla: INFO] Local search of Memeplex 1: Mutation 0/2\n",
      "2021-06-27 22:28:29,309 [sfla: INFO] out51.pdb: Learn from local best Pb\n",
      "2021-06-27 22:28:29,357 [sfla: INFO] out51.pdb -- Calculating score\n",
      "2021-06-27 22:28:29,350 [sfla: INFO] Local search of Memeplex 2: Mutation 0/2\n",
      "2021-06-27 22:28:29,384 [sfla: INFO] out52.pdb: Learn from local best Pb\n",
      "2021-06-27 22:28:29,439 [sfla: INFO] out52.pdb -- Calculating score\n",
      "2021-06-27 22:28:29,406 [sfla: INFO] Local search of Memeplex 3: Mutation 0/2\n",
      "2021-06-27 22:28:29,444 [sfla: INFO] out53.pdb: Learn from local best Pb\n",
      "2021-06-27 22:28:29,462 [sfla: INFO] Local search of Memeplex 4: Mutation 0/2\n",
      "2021-06-27 22:28:29,488 [sfla: INFO] out54.pdb: Learn from local best Pb\n",
      "2021-06-27 22:28:29,490 [sfla: INFO] out53.pdb -- Calculating score\n",
      "2021-06-27 22:28:29,518 [sfla: INFO] Local search of Memeplex 5: Mutation 0/2\n",
      "2021-06-27 22:28:29,528 [sfla: INFO] out55.pdb: Learn from local best Pb\n",
      "2021-06-27 22:28:29,575 [sfla: INFO] out56.pdb: Learn from local best Pb\n",
      "2021-06-27 22:28:29,538 [sfla: INFO] out54.pdb -- Calculating score\n",
      "2021-06-27 22:28:29,571 [sfla: INFO] Local search of Memeplex 6: Mutation 0/2\n",
      "2021-06-27 22:28:29,574 [sfla: INFO] out55.pdb -- Calculating score\n",
      "2021-06-27 22:28:29,634 [sfla: INFO] Local search of Memeplex 7: Mutation 0/2\n",
      "2021-06-27 22:28:29,623 [sfla: INFO] out56.pdb -- Calculating score\n",
      "2021-06-27 22:28:29,639 [sfla: INFO] out57.pdb: Learn from local best Pb\n",
      "2021-06-27 22:28:29,685 [sfla: INFO] Local search of Memeplex 8: Mutation 0/2\n",
      "2021-06-27 22:28:29,689 [sfla: INFO] out58.pdb: Learn from local best Pb\n",
      "2021-06-27 22:28:29,692 [sfla: INFO] out57.pdb -- Calculating score\n",
      "2021-06-27 22:28:29,740 [sfla: INFO] out58.pdb -- Calculating score\n",
      "2021-06-27 22:28:29,738 [sfla: INFO] out59.pdb: Learn from local best Pb\n",
      "2021-06-27 22:28:29,735 [sfla: INFO] Local search of Memeplex 9: Mutation 0/2\n",
      "2021-06-27 22:28:29,780 [sfla: INFO] out59.pdb -- Calculating score\n",
      "2021-06-27 22:28:29,790 [sfla: INFO] Local search of Memeplex 10: Mutation 0/2\n",
      "2021-06-27 22:28:29,793 [sfla: INFO] out60.pdb: Learn from local best Pb\n",
      "2021-06-27 22:28:29,834 [sfla: INFO] out60.pdb -- Calculating score\n",
      "2021-06-27 22:28:38,825 [sfla: INFO] out56.pdb -- score 18599934.134\n",
      "2021-06-27 22:28:38,830 [sfla: INFO]  56 -- Local search of Memeplex 6: Mutation 1/2 finished\n",
      "2021-06-27 22:28:38,831 [sfla: INFO] Local search of Memeplex 6: Mutation 1/2\n",
      "2021-06-27 22:28:38,833 [sfla: INFO] out56.pdb: Learn from local best Pb\n",
      "2021-06-27 22:28:38,880 [sfla: INFO] out56.pdb -- Calculating score\n",
      "2021-06-27 22:28:38,881 [sfla: INFO] out53.pdb -- score 2889816481.768\n",
      "2021-06-27 22:28:38,884 [sfla: INFO] out53.pdb: Learn from global best Pb since score didn't improve\n",
      "2021-06-27 22:28:38,923 [sfla: INFO] out53.pdb -- Calculating score\n",
      "2021-06-27 22:28:39,278 [sfla: INFO] out54.pdb -- score 217979261.863\n",
      "2021-06-27 22:28:39,282 [sfla: INFO] out54.pdb: Learn from global best Pb since score didn't improve\n",
      "2021-06-27 22:28:39,314 [sfla: INFO] out52.pdb -- score 15577697.887\n",
      "2021-06-27 22:28:39,316 [sfla: INFO] out52.pdb: Learn from global best Pb since score didn't improve\n",
      "2021-06-27 22:28:39,326 [sfla: INFO] out54.pdb -- Calculating score\n",
      "2021-06-27 22:28:39,356 [sfla: INFO] out52.pdb -- Calculating score\n",
      "2021-06-27 22:28:39,479 [sfla: INFO] out58.pdb -- score 515736873584.052\n",
      "2021-06-27 22:28:39,483 [sfla: INFO] out58.pdb: Learn from global best Pb since score didn't improve\n",
      "2021-06-27 22:28:39,521 [sfla: INFO] out60.pdb -- score 229280988.184\n",
      "2021-06-27 22:28:39,523 [sfla: INFO] out60.pdb: Learn from global best Pb since score didn't improve\n",
      "2021-06-27 22:28:39,530 [sfla: INFO] out58.pdb -- Calculating score\n",
      "2021-06-27 22:28:39,566 [sfla: INFO] out60.pdb -- Calculating score\n",
      "2021-06-27 22:28:39,696 [sfla: INFO] out57.pdb -- score 1405833172.647\n",
      "2021-06-27 22:28:39,699 [sfla: INFO] out57.pdb: Learn from global best Pb since score didn't improve\n",
      "2021-06-27 22:28:39,740 [sfla: INFO] out57.pdb -- Calculating score\n",
      "2021-06-27 22:28:39,996 [sfla: INFO] out55.pdb -- score 31843974.829\n",
      "2021-06-27 22:28:40,000 [sfla: INFO] out55.pdb: Learn from global best Pb since score didn't improve\n",
      "2021-06-27 22:28:40,041 [sfla: INFO] out55.pdb -- Calculating score\n",
      "2021-06-27 22:28:40,521 [sfla: INFO] out59.pdb -- score 329234.465\n",
      "2021-06-27 22:28:40,525 [sfla: INFO]  59 -- Local search of Memeplex 9: Mutation 1/2 finished\n",
      "2021-06-27 22:28:40,526 [sfla: INFO] Local search of Memeplex 9: Mutation 1/2\n",
      "2021-06-27 22:28:40,528 [sfla: INFO] out59.pdb: Learn from local best Pb\n",
      "2021-06-27 22:28:40,556 [sfla: INFO] out51.pdb -- score 12558086.629\n",
      "2021-06-27 22:28:40,558 [sfla: INFO] out51.pdb: Learn from global best Pb since score didn't improve\n",
      "2021-06-27 22:28:40,569 [sfla: INFO] out59.pdb -- Calculating score\n",
      "2021-06-27 22:28:40,599 [sfla: INFO] out51.pdb -- Calculating score\n",
      "2021-06-27 22:28:48,459 [sfla: INFO] out53.pdb -- score 398857.129\n",
      "2021-06-27 22:28:48,461 [sfla: INFO]  53 -- Local search of Memeplex 3: Mutation 1/2 finished\n",
      "2021-06-27 22:28:48,462 [sfla: INFO] Local search of Memeplex 3: Mutation 1/2\n",
      "2021-06-27 22:28:48,463 [sfla: INFO] out53.pdb: Learn from local best Pb\n",
      "2021-06-27 22:28:48,468 [sfla: INFO] out56.pdb -- score 917908769.862\n",
      "2021-06-27 22:28:48,470 [sfla: INFO] out56.pdb: Learn from global best Pb since score didn't improve\n",
      "2021-06-27 22:28:48,503 [sfla: INFO] out53.pdb -- Calculating score\n",
      "2021-06-27 22:28:48,509 [sfla: INFO] out56.pdb -- Calculating score\n",
      "2021-06-27 22:28:48,906 [sfla: INFO] out54.pdb -- score 1405443229.840\n",
      "2021-06-27 22:28:48,908 [sfla: INFO] out54.pdb: generating a new frog since score didn't improve\n",
      "2021-06-27 22:28:48,949 [sfla: INFO] out54.pdb -- Calculating score\n",
      "2021-06-27 22:28:49,298 [sfla: INFO] out57.pdb -- score 16876360.136\n",
      "2021-06-27 22:28:49,300 [sfla: INFO]  57 -- Local search of Memeplex 7: Mutation 1/2 finished\n",
      "2021-06-27 22:28:49,301 [sfla: INFO] Local search of Memeplex 7: Mutation 1/2\n",
      "2021-06-27 22:28:49,302 [sfla: INFO] out57.pdb: Learn from local best Pb\n",
      "2021-06-27 22:28:49,342 [sfla: INFO] out57.pdb -- Calculating score\n",
      "2021-06-27 22:28:49,375 [sfla: INFO] out52.pdb -- score 144394.755\n",
      "2021-06-27 22:28:49,377 [sfla: INFO]  52 -- Local search of Memeplex 2: Mutation 1/2 finished\n",
      "2021-06-27 22:28:49,378 [sfla: INFO] Local search of Memeplex 2: Mutation 1/2\n",
      "2021-06-27 22:28:49,380 [sfla: INFO] out52.pdb: Learn from local best Pb\n",
      "2021-06-27 22:28:49,419 [sfla: INFO] out52.pdb -- Calculating score\n",
      "2021-06-27 22:28:49,801 [sfla: INFO] out55.pdb -- score 4689412.400\n",
      "2021-06-27 22:28:49,803 [sfla: INFO]  55 -- Local search of Memeplex 5: Mutation 1/2 finished\n",
      "2021-06-27 22:28:49,804 [sfla: INFO] Local search of Memeplex 5: Mutation 1/2\n",
      "2021-06-27 22:28:49,805 [sfla: INFO] out55.pdb: Learn from local best Pb\n",
      "2021-06-27 22:28:49,845 [sfla: INFO] out55.pdb -- Calculating score\n",
      "2021-06-27 22:28:50,008 [sfla: INFO] out60.pdb -- score 49632.428\n",
      "2021-06-27 22:28:50,010 [sfla: INFO]  60 -- Local search of Memeplex 10: Mutation 1/2 finished\n",
      "2021-06-27 22:28:50,012 [sfla: INFO] Local search of Memeplex 10: Mutation 1/2\n",
      "2021-06-27 22:28:50,013 [sfla: INFO] out60.pdb: Learn from local best Pb\n",
      "2021-06-27 22:28:50,049 [sfla: INFO] out58.pdb -- score 5326711.670\n",
      "2021-06-27 22:28:50,051 [sfla: INFO]  58 -- Local search of Memeplex 8: Mutation 1/2 finished\n",
      "2021-06-27 22:28:50,052 [sfla: INFO] Local search of Memeplex 8: Mutation 1/2\n",
      "2021-06-27 22:28:50,053 [sfla: INFO] out58.pdb: Learn from local best Pb\n",
      "2021-06-27 22:28:50,062 [sfla: INFO] out60.pdb -- Calculating score\n",
      "2021-06-27 22:28:50,096 [sfla: INFO] out58.pdb -- Calculating score\n",
      "2021-06-27 22:28:51,617 [sfla: INFO] out59.pdb -- score 10392072.872\n",
      "2021-06-27 22:28:51,620 [sfla: INFO] out59.pdb: Learn from global best Pb since score didn't improve\n",
      "2021-06-27 22:28:51,661 [sfla: INFO] out59.pdb -- Calculating score\n",
      "2021-06-27 22:28:51,782 [sfla: INFO] out51.pdb -- score -35.887\n",
      "2021-06-27 22:28:51,785 [sfla: INFO]  51 -- Local search of Memeplex 1: Mutation 1/2 finished\n",
      "2021-06-27 22:28:51,786 [sfla: INFO] Local search of Memeplex 1: Mutation 1/2\n",
      "2021-06-27 22:28:51,788 [sfla: INFO] out51.pdb: Learn from local best Pb\n",
      "2021-06-27 22:28:51,829 [sfla: INFO] out51.pdb -- Calculating score\n",
      "2021-06-27 22:28:57,983 [sfla: INFO] out53.pdb -- score 6489966.459\n",
      "2021-06-27 22:28:57,985 [sfla: INFO] out53.pdb: Learn from global best Pb since score didn't improve\n",
      "2021-06-27 22:28:58,024 [sfla: INFO] out53.pdb -- Calculating score\n",
      "2021-06-27 22:28:58,328 [sfla: INFO] out56.pdb -- score 1016417228.768\n",
      "2021-06-27 22:28:58,330 [sfla: INFO] out56.pdb: generating a new frog since score didn't improve\n",
      "2021-06-27 22:28:58,371 [sfla: INFO] out56.pdb -- Calculating score\n",
      "2021-06-27 22:28:58,868 [sfla: INFO] out52.pdb -- score 473237373.405\n",
      "2021-06-27 22:28:58,870 [sfla: INFO] out52.pdb: Learn from global best Pb since score didn't improve\n",
      "2021-06-27 22:28:58,910 [sfla: INFO] out52.pdb -- Calculating score\n",
      "2021-06-27 22:28:59,010 [sfla: INFO] out57.pdb -- score 43937252745.332\n",
      "2021-06-27 22:28:59,012 [sfla: INFO] out57.pdb: Learn from global best Pb since score didn't improve\n",
      "2021-06-27 22:28:59,051 [sfla: INFO] out57.pdb -- Calculating score\n",
      "2021-06-27 22:28:59,525 [sfla: INFO] out55.pdb -- score 421757688.035\n",
      "2021-06-27 22:28:59,527 [sfla: INFO] out55.pdb: Learn from global best Pb since score didn't improve\n",
      "2021-06-27 22:28:59,566 [sfla: INFO] out55.pdb -- Calculating score\n",
      "2021-06-27 22:29:00,324 [sfla: INFO] out58.pdb -- score 32294839568.166\n",
      "2021-06-27 22:29:00,326 [sfla: INFO] out58.pdb: Learn from global best Pb since score didn't improve\n",
      "2021-06-27 22:29:00,365 [sfla: INFO] out58.pdb -- Calculating score\n",
      "2021-06-27 22:29:00,409 [sfla: INFO] out54.pdb -- score 62860.635\n",
      "2021-06-27 22:29:00,412 [sfla: INFO]  54 -- Local search of Memeplex 4: Mutation 1/2 finished\n",
      "2021-06-27 22:29:00,413 [sfla: INFO] Local search of Memeplex 4: Mutation 1/2\n",
      "2021-06-27 22:29:00,414 [sfla: INFO] out54.pdb: Learn from local best Pb\n",
      "2021-06-27 22:29:00,442 [sfla: INFO] out60.pdb -- score 3337715.482\n",
      "2021-06-27 22:29:00,444 [sfla: INFO]  60 -- Local search of Memeplex 10: Mutation 2/2 finished\n",
      "2021-06-27 22:29:00,456 [sfla: INFO] out54.pdb -- Calculating score\n",
      "2021-06-27 22:29:02,548 [sfla: INFO] out59.pdb -- score 63298372.155\n",
      "2021-06-27 22:29:02,550 [sfla: INFO] out59.pdb: generating a new frog since score didn't improve\n",
      "2021-06-27 22:29:02,591 [sfla: INFO] out59.pdb -- Calculating score\n",
      "2021-06-27 22:29:03,173 [sfla: INFO] out51.pdb -- score -8.274\n",
      "2021-06-27 22:29:03,273 [sfla: INFO]  51 -- Local search of Memeplex 1: Mutation 2/2 finished\n",
      "2021-06-27 22:29:08,838 [sfla: INFO] out57.pdb -- score 29354124.999\n",
      "2021-06-27 22:29:08,839 [sfla: INFO] out57.pdb: generating a new frog since score didn't improve\n",
      "2021-06-27 22:29:08,879 [sfla: INFO] out57.pdb -- Calculating score\n",
      "2021-06-27 22:29:08,929 [sfla: INFO] out52.pdb -- score 708219186.196\n",
      "2021-06-27 22:29:08,930 [sfla: INFO] out52.pdb: generating a new frog since score didn't improve\n",
      "2021-06-27 22:29:08,973 [sfla: INFO] out52.pdb -- Calculating score\n",
      "2021-06-27 22:29:09,149 [sfla: INFO] out53.pdb -- score 478.583\n",
      "2021-06-27 22:29:09,151 [sfla: INFO]  53 -- Local search of Memeplex 3: Mutation 2/2 finished\n",
      "2021-06-27 22:29:09,355 [sfla: INFO] out55.pdb -- score 1480441359.264\n",
      "2021-06-27 22:29:09,357 [sfla: INFO] out55.pdb: generating a new frog since score didn't improve\n",
      "2021-06-27 22:29:09,396 [sfla: INFO] out55.pdb -- Calculating score\n",
      "2021-06-27 22:29:09,442 [sfla: INFO] out56.pdb -- score 4320690.649\n",
      "2021-06-27 22:29:09,444 [sfla: INFO]  56 -- Local search of Memeplex 6: Mutation 2/2 finished\n",
      "2021-06-27 22:29:10,517 [sfla: INFO] out54.pdb -- score 1264027.905\n",
      "2021-06-27 22:29:10,519 [sfla: INFO] out54.pdb: Learn from global best Pb since score didn't improve\n",
      "2021-06-27 22:29:10,567 [sfla: INFO] out54.pdb -- Calculating score\n",
      "2021-06-27 22:29:11,439 [sfla: INFO] out58.pdb -- score 418400.296\n",
      "2021-06-27 22:29:11,441 [sfla: INFO]  58 -- Local search of Memeplex 8: Mutation 2/2 finished\n",
      "2021-06-27 22:29:13,675 [sfla: INFO] out59.pdb -- score 4320690.649\n",
      "2021-06-27 22:29:13,678 [sfla: INFO]  59 -- Local search of Memeplex 9: Mutation 2/2 finished\n",
      "2021-06-27 22:29:18,602 [sfla: INFO] out57.pdb -- score 15477459927489290.000\n",
      "2021-06-27 22:29:18,604 [sfla: INFO]  57 -- Local search of Memeplex 7: Mutation 2/2 finished\n",
      "2021-06-27 22:29:18,745 [sfla: INFO] out52.pdb -- score 15477459927489290.000\n",
      "2021-06-27 22:29:18,747 [sfla: INFO]  52 -- Local search of Memeplex 2: Mutation 2/2 finished\n",
      "2021-06-27 22:29:18,977 [sfla: INFO] out55.pdb -- score 15477459927489290.000\n",
      "2021-06-27 22:29:18,979 [sfla: INFO]  55 -- Local search of Memeplex 5: Mutation 2/2 finished\n",
      "2021-06-27 22:29:20,171 [sfla: INFO] out54.pdb -- score 3318250.332\n",
      "2021-06-27 22:29:20,173 [sfla: INFO] out54.pdb: generating a new frog since score didn't improve\n",
      "2021-06-27 22:29:20,211 [sfla: INFO] out54.pdb -- Calculating score\n",
      "2021-06-27 22:29:29,033 [sfla: INFO] out54.pdb -- score 2308617.689\n",
      "2021-06-27 22:29:29,036 [sfla: INFO]  54 -- Local search of Memeplex 4: Mutation 2/2 finished\n",
      "2021-06-27 22:29:29,064 [sfla: INFO] Shuffling the memeplexes and sorting them\n"
     ]
    }
   ],
   "source": [
    "model.local_search_test()\n",
    "model.shuffle_memeplexes()"
   ]
  },
  {
   "cell_type": "code",
   "execution_count": 14,
   "metadata": {},
   "outputs": [
    {
     "data": {
      "text/plain": [
       "array([[49., 29., 31.,  2., 34.],\n",
       "       [44.,  9., 36., 28.,  7.],\n",
       "       [25., 22., 41., 10., 40.],\n",
       "       [38., 32., 20.,  1., 46.],\n",
       "       [19., 48., 26.,  6.,  4.],\n",
       "       [13.,  3., 18., 45., 15.],\n",
       "       [12., 42., 16., 35.,  0.],\n",
       "       [33., 43., 17., 21., 30.],\n",
       "       [14.,  8., 47., 37., 11.],\n",
       "       [ 5., 27., 39., 23., 24.]])"
      ]
     },
     "execution_count": 14,
     "metadata": {},
     "output_type": "execute_result"
    }
   ],
   "source": [
    "model.memeplexes"
   ]
  },
  {
   "cell_type": "code",
   "execution_count": 15,
   "metadata": {},
   "outputs": [
    {
     "data": {
      "text/plain": [
       "[-35.88677380922011,\n",
       " Quaternion(0.7975600280551494, 0.34057353498168685, 0.38800036977142227, -0.3120310593129898),\n",
       " array([-18.0720496 ,  -3.51994311,  41.73690574])]"
      ]
     },
     "execution_count": 15,
     "metadata": {},
     "output_type": "execute_result"
    }
   ],
   "source": [
    "model.structinfo[49]"
   ]
  },
  {
   "cell_type": "code",
   "execution_count": 8,
   "metadata": {},
   "outputs": [
    {
     "data": {
      "text/plain": [
       "{0: [18985.675325867676,\n",
       "  Quaternion(0.9445324007638084, -0.2443205622790747, 0.19880734778805131, -0.09296044976480183),\n",
       "  array([ -0.74938056,  -6.60606223, -20.72597802])],\n",
       " 1: [1723.6491373625402,\n",
       "  Quaternion(0.34859079403260423, -0.8328395387304101, -0.18936256786264152, -0.38601111245079817),\n",
       "  array([-8.05649544,  9.93897748, 37.95407516])],\n",
       " 2: [-0.8215530956360935,\n",
       "  Quaternion(0.49748836748018643, 0.30281963819043606, -0.3439555220046789, 0.7365461219982095),\n",
       "  array([11.25034828,  6.9709162 , 44.23947301])],\n",
       " 3: [1970502.492829524,\n",
       "  Quaternion(0.9299055068717239, -0.17984277723306039, 0.10349481116318952, -0.30367935035006555),\n",
       "  array([-16.14125857,  30.69321457,  -2.56103246])],\n",
       " 4: [263388046976.84723,\n",
       "  Quaternion(0.8685855890332609, 0.2958081142001553, -0.27596854288144146, 0.2861782616429579),\n",
       "  array([-14.44270937,  -8.75973423,  10.83831042])],\n",
       " 5: [452.1329220469834,\n",
       "  Quaternion(0.7868945955540179, 0.6111503150520987, 0.0815351183695834, 0.025381339051697028),\n",
       "  array([-18.67113397, -11.61478354,  39.63714289])],\n",
       " 6: [5491.365653860366,\n",
       "  Quaternion(0.702397043432055, 0.16169597183043763, 0.6924583174693677, 0.031532279321519044),\n",
       "  array([26.6450815 ,  1.46577787, 14.99578195])],\n",
       " 7: [1034871.4046587129,\n",
       "  Quaternion(0.9621749604821662, -0.18330890212462428, 0.07509876753842556, -0.18702237015185158),\n",
       "  array([ -4.76249984, -11.9058067 , -20.39840785])],\n",
       " 8: [1455417.2831275605,\n",
       "  Quaternion(0.8343165088064785, -0.37687894302095726, -0.37760477282892546, 0.13889874361271712),\n",
       "  array([ -0.59453332,   9.02250266, -35.53295049])],\n",
       " 9: [-26.396233911026133,\n",
       "  Quaternion(0.41498288162420527, 0.7851384795532247, 0.3167706306816045, 0.3331713424370412),\n",
       "  array([-15.8986269 , -28.3513142 ,  23.98482791])],\n",
       " 10: [0,\n",
       "  Quaternion(0.9103105575410546, -0.24691293152117075, 0.20047907392549907, -0.26490910515663696),\n",
       "  array([ 41.55802705, -27.82309692, -34.99973335])],\n",
       " 11: [0,\n",
       "  Quaternion(0.9759409752747834, 0.04914112125101873, -0.12242761344480688, 0.17359678121470504),\n",
       "  array([ 20.86493449,   6.3349233 , -49.2894457 ])],\n",
       " 12: [43563.614379068335,\n",
       "  Quaternion(0.9856744667834598, -0.06615144792411612, -0.0018382016872782788, 0.1551336600588086),\n",
       "  array([ 43.53184438, -13.75756986, -11.75276596])],\n",
       " 13: [0,\n",
       "  Quaternion(0.9795987403315842, 0.0831054119816835, -0.07060899174490118, 0.1688021585315089),\n",
       "  array([31.95853639, 24.1862752 ,  5.04119172])],\n",
       " 14: [0,\n",
       "  Quaternion(0.8452141805991357, -0.3132215777663181, 0.3457009763778813, -0.26076055504445017),\n",
       "  array([-43.97105258, -20.75575293,  -1.02269979])],\n",
       " 15: [2540116.4671173976,\n",
       "  Quaternion(0.9054167347441343, 0.23555011617984925, 0.23576301502720243, 0.2629685912009506),\n",
       "  array([-19.32189086, -18.05292866,   8.39152225])],\n",
       " 16: [384.66738380102595,\n",
       "  Quaternion(0.7640515559004967, -0.026272527567901337, -0.057785504140770216, 0.6420247734569291),\n",
       "  array([ 5.06531749, 37.6155742 , 19.63829938])],\n",
       " 17: [-0.47541141547233456,\n",
       "  Quaternion(0.6088016284808433, -0.006920216025486174, -0.44258541532297335, -0.6583546444832183),\n",
       "  array([26.99723314, 23.02107571, 30.23427789])],\n",
       " 18: [-6.59319102834501,\n",
       "  Quaternion(0.35837260072563976, 0.5455643241407541, 0.22359227387385086, 0.7238336427231774),\n",
       "  array([ 7.47994341, 27.0339501 , 35.9494957 ])],\n",
       " 19: [0,\n",
       "  Quaternion(0.5689360365710737, -0.6338378348243661, -0.45945090373746506, 0.2519250930153324),\n",
       "  array([-20.96957325,  47.33407053,  18.74384752])],\n",
       " 20: [125740.01211477198,\n",
       "  Quaternion(0.5564215409119279, 0.21549523081708488, 0.6050585462075035, -0.5271252507379526),\n",
       "  array([ 32.76886427, -30.46949299,  -9.7808224 ])],\n",
       " 21: [101875.60944848097,\n",
       "  Quaternion(0.7601526864981566, -0.546707780925355, -0.05720738845053106, -0.34641854770202396),\n",
       "  array([ 10.17939813, -11.47832493,  29.29754455])],\n",
       " 22: [2676.083665081731,\n",
       "  Quaternion(0.5507943548382602, -0.011544809729344388, 0.8145492624330822, 0.18166396207376886),\n",
       "  array([ 41.90502011,   5.73661158, -22.5374505 ])],\n",
       " 23: [1000425.9930674845,\n",
       "  Quaternion(0.8870103251605215, 0.032221539644767344, 0.2235410474583201, -0.4027453979163305),\n",
       "  array([  5.40028525, -10.94505432,   7.24557532])],\n",
       " 24: [6475976.268848385,\n",
       "  Quaternion(0.9178198615032795, -0.1911684429311168, 0.33619442900653146, -0.0896361208574179),\n",
       "  array([-4.72467999,  1.80871561, -6.37303927])],\n",
       " 25: [166784.63138215194,\n",
       "  Quaternion(0.8749173879306068, 0.3195127376408694, 0.12045460765767964, -0.3433975280574333),\n",
       "  array([ 3.47220022, 13.90745996, 24.2424375 ])],\n",
       " 26: [15316.719861543263,\n",
       "  Quaternion(0.7782728515856605, -0.5299078220148752, -0.32300640334265723, -0.09568663465613385),\n",
       "  array([-27.35907795,  10.56433756,  33.78954718])],\n",
       " 27: [60408327.93739895,\n",
       "  Quaternion(0.6245661618262779, -0.5012107057368087, -0.5599288111897867, -0.21256684679411764),\n",
       "  array([-0.51146574, 15.32153515, 20.62718245])],\n",
       " 28: [-16.309620541972148,\n",
       "  Quaternion(0.9066448551034716, 0.020935529976941307, -0.11523838131306104, 0.40531090013881343),\n",
       "  array([30.99565987,  3.78574792, 28.35586631])],\n",
       " 29: [0,\n",
       "  Quaternion(0.7504735683910341, 0.02823764998339367, -0.6508382883059978, -0.1113623847839219),\n",
       "  array([-40.49333325,  22.37215806,  27.85265609])],\n",
       " 30: [-1.6644563226027702,\n",
       "  Quaternion(0.9435184519431946, 0.021481472633815328, -0.1876287979465119, -0.27222584623313617),\n",
       "  array([-19.15352091, -28.6984721 , -25.47061633])],\n",
       " 31: [0,\n",
       "  Quaternion(0.922435816001043, 0.19643551703999254, 0.25350071442485506, -0.2150875189075576),\n",
       "  array([-38.80583053,  31.17333147,   7.4463898 ])],\n",
       " 32: [12802020.871666877,\n",
       "  Quaternion(0.6686746029269977, 0.7138572854074097, 0.20552960521496733, -0.03224333809278403),\n",
       "  array([23.04361958,  4.71082477, -2.33989802])],\n",
       " 33: [35385166.17114735,\n",
       "  Quaternion(0.8491758249171597, -0.34917921907977234, 0.34731809640584776, -0.19064215496085912),\n",
       "  array([  4.80150814, -24.48076221,  -8.16655471])],\n",
       " 34: [2745214.27143247,\n",
       "  Quaternion(0.7922013416065968, 0.2682467289037945, 0.39703527148264356, 0.3779202561226719),\n",
       "  array([ -8.66700022, -31.99918141,  -7.13113757])],\n",
       " 35: [1735606.728910307,\n",
       "  Quaternion(0.9954514328009472, -0.039386922188621734, -0.035240988536056395, -0.0792665630770662),\n",
       "  array([ 7.28705837, 24.62125437,  4.7746608 ])],\n",
       " 36: [0,\n",
       "  Quaternion(0.22036289087249106, 0.544918700724457, 0.712130260741954, 0.38389360200801054),\n",
       "  array([-43.88415268,  -2.74164995,  39.20083407])],\n",
       " 37: [-14.047057604867847,\n",
       "  Quaternion(0.5717736126489037, 0.8175511947200504, 0.05689780635583804, -0.03804759548425042),\n",
       "  array([-49.42974837,   2.18215218,  15.22781029])],\n",
       " 38: [-21.81642819633807,\n",
       "  Quaternion(0.8061576568758858, 0.28841841916535493, 0.3175428879799217, 0.40754283460749235),\n",
       "  array([-30.13852086,   4.9608126 , -13.0132705 ])],\n",
       " 39: [0,\n",
       "  Quaternion(0.8252600577143967, 0.1776322204445495, 0.30450556955809904, -0.4412130885516287),\n",
       "  array([-39.66822456, -22.31637364,  23.4113386 ])],\n",
       " 40: [1011790.449583392,\n",
       "  Quaternion(0.7702689941605327, -0.3769754348645626, -0.35527150112423916, 0.3719641899867847),\n",
       "  array([-23.78588041,   3.20732731,   8.20047029])],\n",
       " 41: [6461457.296689474,\n",
       "  Quaternion(0.7826016241314763, -0.09139663715826782, -0.16444559433950914, 0.5934130088945311),\n",
       "  array([ 23.74633948, -13.78528291, -26.19439096])],\n",
       " 42: [1122170.8227459611,\n",
       "  Quaternion(0.6154050538851301, -0.23741934954307933, -0.6285772786926682, 0.4120670780667886),\n",
       "  array([ 20.36883158,  19.51137962, -22.40307637])],\n",
       " 43: [-3.6093758573042165,\n",
       "  Quaternion(0.8758749128639026, -0.26691162506908844, -0.3374161611611844, -0.21852152206562878),\n",
       "  array([  5.35874075, -18.00904278, -40.39937154])],\n",
       " 44: [569016.849720631,\n",
       "  Quaternion(0.7780674956908269, 0.3510747929654925, 0.2630546234499461, -0.4496217598996391),\n",
       "  array([ -3.80668419,  17.39935977, -13.05485863])],\n",
       " 45: [1589.0319398789586,\n",
       "  Quaternion(0.964718464858549, -0.2614571546491184, -0.025130790230660012, -0.01807991222695461),\n",
       "  array([-31.26752962, -12.43995452,  -0.8852742 ])],\n",
       " 46: [-1.838198867814599,\n",
       "  Quaternion(0.9013007812331167, 0.42396051700207504, -0.08895960134910857, -0.0007557113962230066),\n",
       "  array([-17.15255877,  32.0951481 ,  39.84025665])],\n",
       " 47: [-48.48293728261773,\n",
       "  Quaternion(0.8597503946377217, -0.31664615900735965, 0.39997047744530495, -0.024250486146522726),\n",
       "  array([-18.18225928,  -7.10205812, -27.62601716])],\n",
       " 48: [222562.92192787607,\n",
       "  Quaternion(0.8632560052756552, -0.2874747967423208, 0.3658609102170294, -0.19568624113270316),\n",
       "  array([-27.46805191,  11.10634544,  -0.2955756 ])],\n",
       " 49: [-28.358502393318265,\n",
       "  Quaternion(0.8472775546466998, -0.06493314107776177, 0.10584754394246391, -0.5164307601441189),\n",
       "  array([ 11.46038788, -42.62381526, -26.85908339])]}"
      ]
     },
     "execution_count": 8,
     "metadata": {},
     "output_type": "execute_result"
    }
   ],
   "source": [
    "model.structinfo"
   ]
  },
  {
   "cell_type": "code",
   "execution_count": null,
   "metadata": {},
   "outputs": [],
   "source": [
    "model.local_search_test()"
   ]
  },
  {
   "cell_type": "code",
   "execution_count": 27,
   "metadata": {},
   "outputs": [
    {
     "name": "stdout",
     "output_type": "stream",
     "text": [
      "MSMS running for poses/out51.pdb\n",
      "MSMS running for poses/out52.pdb\n",
      "MSMS running for poses/out53.pdb\n",
      "MSMS running for poses/out55.pdb\n",
      "MSMS running for poses/out54.pdb\n",
      "MSMS running for poses/out56.pdb\n",
      "MSMS running for MSMS running forposes/out57.pdb \n",
      "poses/out58.pdb\n",
      "MSMS running for poses/out59.pdb\n",
      "MSMS running for poses/out60.pdb\n",
      "MSMS finished with poses/out59.pdb\n",
      "MSMS finished with poses/out57.pdb\n",
      "MSMS running for poses/out59.pdb\n",
      "MSMS finished with poses/out54.pdb\n",
      "MSMS running for poses/out57.pdb\n",
      "MSMS running for poses/out54.pdb\n",
      "MSMS finished with poses/out58.pdb\n",
      "MSMS finished with poses/out51.pdb\n",
      "MSMS finished with poses/out60.pdb\n",
      "MSMS finished with poses/out56.pdb\n",
      "MSMS finished with MSMS finished withposes/out55.pdb \n",
      "poses/out53.pdb\n",
      "MSMS running for poses/out51.pdb\n",
      "MSMS running for poses/out58.pdb\n",
      "MSMS running for poses/out60.pdb\n",
      "MSMS running for poses/out56.pdb\n",
      "MSMS finished with poses/out52.pdb\n",
      "MSMS running for poses/out55.pdb\n",
      "MSMS running for poses/out53.pdb\n",
      "MSMS running for poses/out52.pdb\n",
      "MSMS finished with poses/out57.pdb\n",
      "MSMS finished with poses/out59.pdb\n",
      "MSMS running for poses/out57.pdb\n",
      "MSMS finished with poses/out56.pdb\n",
      "MSMS finished with poses/out54.pdb\n",
      "MSMS finished with poses/out51.pdb\n",
      "MSMS finished withMSMS finished with  poses/out53.pdbposes/out60.pdb\n",
      "\n",
      "MSMS finished with poses/out58.pdb\n",
      "MSMS finished with poses/out55.pdb\n",
      "MSMS running for poses/out54.pdb\n",
      "MSMS running for poses/out51.pdb\n",
      "MSMS running for poses/out58.pdb\n",
      "MSMS running for poses/out55.pdb\n",
      "MSMS finished with poses/out52.pdb\n",
      "MSMS running for poses/out52.pdb\n",
      "MSMS finished with poses/out57.pdb\n",
      "MSMS running for poses/out57.pdb\n",
      "MSMS finished with poses/out51.pdb\n",
      "MSMS finished with poses/out55.pdb\n",
      "MSMS finished with poses/out54.pdb\n",
      "MSMS finished with poses/out58.pdb\n",
      "MSMS finished with poses/out57.pdb\n",
      "MSMS finished with poses/out52.pdb\n",
      "MSMS running for poses/out51.pdb\n",
      "\n",
      "poses/out52.pdb MSMS running forMSMS running for poses/out53.pdb\n",
      "MSMS running for poses/out54.pdb\n",
      "MSMS running for poses/out55.pdb\n",
      "MSMS running for poses/out56.pdb\n",
      "MSMS running for poses/out57.pdb\n",
      "MSMS running for poses/out58.pdb\n",
      "MSMS running for poses/out59.pdb\n",
      "MSMS running for poses/out60.pdb\n",
      "MSMS finished with poses/out57.pdb\n",
      "MSMS running for poses/out57.pdb\n",
      "MSMS finished with poses/out51.pdb\n",
      "MSMS running for poses/out51.pdb\n",
      "MSMS finished with poses/out55.pdb\n",
      "MSMS finished with poses/out53.pdb\n",
      "MSMS finished with poses/out54.pdb\n",
      "MSMS finished with poses/out52.pdb\n",
      "MSMS finished with poses/out60.pdb\n",
      "MSMS running for poses/out55.pdb\n",
      "MSMS running for poses/out53.pdb\n",
      "MSMS finished with poses/out58.pdb\n",
      "MSMS finished with poses/out59.pdb\n",
      "MSMS finished with poses/out56.pdb\n",
      "MSMS running for poses/out54.pdb\n",
      "MSMS running for poses/out52.pdb\n",
      "MSMS running for poses/out60.pdb\n",
      "MSMS running for poses/out59.pdb\n",
      "MSMS running for poses/out58.pdb\n",
      "MSMS running for poses/out56.pdb\n",
      "MSMS finished with poses/out57.pdb\n",
      "MSMS running for poses/out57.pdb\n",
      "MSMS finished with poses/out51.pdb\n",
      "MSMS finished with poses/out59.pdb\n",
      "MSMS finished with poses/out60.pdb\n",
      "MSMS running for poses/out59.pdb\n",
      "MSMS running for poses/out51.pdb\n",
      "MSMS running for poses/out60.pdb\n",
      "MSMS finished with poses/out53.pdb\n",
      "MSMS finished with poses/out55.pdb\n",
      "MSMS finished with poses/out58.pdb\n",
      "MSMS finished with poses/out54.pdb\n",
      "MSMS running for poses/out55.pdb\n",
      "MSMS finished with poses/out52.pdb\n",
      "MSMS running for poses/out58.pdb\n",
      "MSMS running for poses/out52.pdb\n",
      "MSMS running for poses/out54.pdb\n",
      "MSMS finished with poses/out56.pdb\n",
      "MSMS finished with poses/out57.pdb\n",
      "MSMS running for poses/out57.pdb\n",
      "MSMS finished with poses/out59.pdb\n",
      "MSMS finished with poses/out60.pdb\n",
      "MSMS finished with poses/out51.pdb\n",
      "MSMS finished with poses/out58.pdb\n",
      "MSMS running for poses/out58.pdb\n",
      "MSMS finished with poses/out55.pdb\n",
      "MSMS finished with poses/out52.pdb\n",
      "MSMS finished with poses/out54.pdb\n",
      "MSMS finished with poses/out57.pdb\n",
      "MSMS finished with poses/out58.pdb\n"
     ]
    }
   ],
   "source": [
    "model.run_remaining()"
   ]
  },
  {
   "cell_type": "code",
   "execution_count": 23,
   "metadata": {},
   "outputs": [
    {
     "data": {
      "text/plain": [
       "array([[ 2., 13., 31., 33., 42.],\n",
       "       [40., 11., 37., 36., 44.],\n",
       "       [ 9., 46., 19.,  3., 39.],\n",
       "       [23., 32., 15., 38.,  1.],\n",
       "       [35., 18.,  5., 34., 48.],\n",
       "       [ 4., 27., 16., 22., 12.],\n",
       "       [49., 10., 43., 20., 28.],\n",
       "       [29.,  8., 47.,  6., 14.],\n",
       "       [26., 24., 17.,  0., 25.],\n",
       "       [ 7., 45., 41., 30., 21.]])"
      ]
     },
     "execution_count": 23,
     "metadata": {},
     "output_type": "execute_result"
    }
   ],
   "source": [
    "model.memeplexes"
   ]
  },
  {
   "cell_type": "code",
   "execution_count": 28,
   "metadata": {},
   "outputs": [
    {
     "data": {
      "text/plain": [
       "array([[ 2., 13., 31., 33., 42.],\n",
       "       [40.,  8., 37., 36., 44.],\n",
       "       [ 9., 11., 19.,  3., 39.],\n",
       "       [23., 26., 15., 38.,  1.],\n",
       "       [35., 46.,  5., 34., 48.],\n",
       "       [ 4., 24., 16., 22., 12.],\n",
       "       [27., 32., 43., 20., 28.],\n",
       "       [49.,  7., 47.,  6., 14.],\n",
       "       [10., 18., 17.,  0., 25.],\n",
       "       [29., 45., 41., 30., 21.]])"
      ]
     },
     "execution_count": 28,
     "metadata": {},
     "output_type": "execute_result"
    }
   ],
   "source": [
    "model.memeplexes"
   ]
  },
  {
   "cell_type": "code",
   "execution_count": 26,
   "metadata": {},
   "outputs": [
    {
     "data": {
      "text/plain": [
       "[2.5286548556713836e+18,\n",
       " Quaternion(0.7601526864981566, -0.546707780925355, -0.05720738845053106, -0.34641854770202396),\n",
       " array([-22.2555501 ,  13.34884421,  11.5181412 ])]"
      ]
     },
     "execution_count": 26,
     "metadata": {},
     "output_type": "execute_result"
    }
   ],
   "source": [
    "model.structinfo[21]"
   ]
  },
  {
   "cell_type": "code",
   "execution_count": 21,
   "metadata": {},
   "outputs": [
    {
     "name": "stdout",
     "output_type": "stream",
     "text": [
      "\u001b[0;31mSignature:\u001b[0m \u001b[0mmodel\u001b[0m\u001b[0;34m.\u001b[0m\u001b[0mlocal_search\u001b[0m\u001b[0;34m(\u001b[0m\u001b[0;34m)\u001b[0m\u001b[0;34m\u001b[0m\u001b[0;34m\u001b[0m\u001b[0m\n",
      "\u001b[0;31mDocstring:\u001b[0m <no docstring>\n",
      "\u001b[0;31mSource:\u001b[0m   \n",
      "    \u001b[0;32mdef\u001b[0m \u001b[0mlocal_search\u001b[0m\u001b[0;34m(\u001b[0m\u001b[0mself\u001b[0m\u001b[0;34m)\u001b[0m\u001b[0;34m:\u001b[0m\u001b[0;34m\u001b[0m\n",
      "\u001b[0;34m\u001b[0m        \u001b[0mself\u001b[0m\u001b[0;34m.\u001b[0m\u001b[0mFrog_gb\u001b[0m \u001b[0;34m=\u001b[0m \u001b[0mself\u001b[0m\u001b[0;34m.\u001b[0m\u001b[0mstructinfo\u001b[0m\u001b[0;34m[\u001b[0m\u001b[0mint\u001b[0m\u001b[0;34m(\u001b[0m\u001b[0mself\u001b[0m\u001b[0;34m.\u001b[0m\u001b[0mmemeplexes\u001b[0m\u001b[0;34m[\u001b[0m\u001b[0;36m0\u001b[0m\u001b[0;34m]\u001b[0m\u001b[0;34m[\u001b[0m\u001b[0;36m0\u001b[0m\u001b[0;34m]\u001b[0m\u001b[0;34m)\u001b[0m\u001b[0;34m]\u001b[0m\u001b[0;34m\u001b[0m\n",
      "\u001b[0;34m\u001b[0m        \u001b[0;34m\u001b[0m\n",
      "\u001b[0;34m\u001b[0m        \u001b[0;32mwith\u001b[0m \u001b[0mconcurrent\u001b[0m\u001b[0;34m.\u001b[0m\u001b[0mfutures\u001b[0m\u001b[0;34m.\u001b[0m\u001b[0mProcessPoolExecutor\u001b[0m\u001b[0;34m(\u001b[0m\u001b[0;34m)\u001b[0m \u001b[0;32mas\u001b[0m \u001b[0mexecutor\u001b[0m\u001b[0;34m:\u001b[0m\u001b[0;34m\u001b[0m\n",
      "\u001b[0;34m\u001b[0m            \u001b[0mdoargs\u001b[0m \u001b[0;34m=\u001b[0m \u001b[0;34m[\u001b[0m\u001b[0mim\u001b[0m \u001b[0;32mfor\u001b[0m \u001b[0mim\u001b[0m\u001b[0;34m,\u001b[0m \u001b[0m_\u001b[0m \u001b[0;32min\u001b[0m \u001b[0menumerate\u001b[0m\u001b[0;34m(\u001b[0m\u001b[0mself\u001b[0m\u001b[0;34m.\u001b[0m\u001b[0mmemeplexes\u001b[0m\u001b[0;34m)\u001b[0m\u001b[0;34m]\u001b[0m\u001b[0;34m\u001b[0m\n",
      "\u001b[0;34m\u001b[0m            \u001b[0mresults\u001b[0m \u001b[0;34m=\u001b[0m \u001b[0mexecutor\u001b[0m\u001b[0;34m.\u001b[0m\u001b[0mmap\u001b[0m\u001b[0;34m(\u001b[0m\u001b[0mself\u001b[0m\u001b[0;34m.\u001b[0m\u001b[0mlocal_search_one_memeplex\u001b[0m\u001b[0;34m,\u001b[0m \u001b[0mdoargs\u001b[0m\u001b[0;34m)\u001b[0m\u001b[0;34m\u001b[0m\u001b[0;34m\u001b[0m\u001b[0m\n",
      "\u001b[0;31mFile:\u001b[0m      ~/Documents/SFLADock/src/sfla.py\n",
      "\u001b[0;31mType:\u001b[0m      method\n"
     ]
    }
   ],
   "source": [
    "??model.local_search"
   ]
  },
  {
   "cell_type": "code",
   "execution_count": null,
   "metadata": {},
   "outputs": [],
   "source": []
  },
  {
   "cell_type": "code",
   "execution_count": 1,
   "metadata": {},
   "outputs": [],
   "source": [
    "%reload_ext autoreload\n",
    "%autoreload 2"
   ]
  },
  {
   "cell_type": "code",
   "execution_count": 9,
   "metadata": {},
   "outputs": [],
   "source": [
    "from sfla import SFLA "
   ]
  },
  {
   "cell_type": "code",
   "execution_count": 12,
   "metadata": {},
   "outputs": [],
   "source": [
    "model = SFLA(frogs=50, mplx_no=10, n_iter=2, N=2, q=4)"
   ]
  },
  {
   "cell_type": "code",
   "execution_count": 13,
   "metadata": {},
   "outputs": [
    {
     "name": "stdout",
     "output_type": "stream",
     "text": [
      "2021-06-27 21:58:08,412 [sfla: INFO] Starting SFLA algorithm\n",
      "2021-06-27 21:58:11,552 [sfla: INFO] Generating initial population (Number of frogs: 50)\n"
     ]
    },
    {
     "ename": "PicklingError",
     "evalue": "Can't pickle <class 'sfla.SFLA'>: it's not the same object as sfla.SFLA",
     "output_type": "error",
     "traceback": [
      "\u001b[0;31m---------------------------------------------------------------------------\u001b[0m",
      "\u001b[0;31m_RemoteTraceback\u001b[0m                          Traceback (most recent call last)",
      "\u001b[0;31m_RemoteTraceback\u001b[0m: \n\"\"\"\nTraceback (most recent call last):\n  File \"/home/bsl/miniconda3/envs/py3/lib/python3.9/multiprocessing/queues.py\", line 245, in _feed\n    obj = _ForkingPickler.dumps(obj)\n  File \"/home/bsl/miniconda3/envs/py3/lib/python3.9/multiprocessing/reduction.py\", line 51, in dumps\n    cls(buf, protocol).dump(obj)\n_pickle.PicklingError: Can't pickle <class 'sfla.SFLA'>: it's not the same object as sfla.SFLA\n\"\"\"",
      "\nThe above exception was the direct cause of the following exception:\n",
      "\u001b[0;31mPicklingError\u001b[0m                             Traceback (most recent call last)",
      "\u001b[0;32m<ipython-input-13-4f99e3af871a>\u001b[0m in \u001b[0;36m<module>\u001b[0;34m\u001b[0m\n\u001b[0;32m----> 1\u001b[0;31m \u001b[0mmodel\u001b[0m\u001b[0;34m.\u001b[0m\u001b[0mrun_sfla_test\u001b[0m\u001b[0;34m(\u001b[0m\u001b[0;34m\"Data/4dn4_LH:M/\"\u001b[0m\u001b[0;34m,\u001b[0m \u001b[0;34m\"4dn4\"\u001b[0m\u001b[0;34m,\u001b[0m \u001b[0;34m\"LH\"\u001b[0m\u001b[0;34m,\u001b[0m \u001b[0;34m\"M\"\u001b[0m\u001b[0;34m)\u001b[0m\u001b[0;34m\u001b[0m\u001b[0;34m\u001b[0m\u001b[0m\n\u001b[0m",
      "\u001b[0;32m~/Documents/SFLADock/src/sfla.py\u001b[0m in \u001b[0;36mrun_sfla_test\u001b[0;34m(self, data_path, protein_name, rec_name, lig_name)\u001b[0m\n\u001b[1;32m    385\u001b[0m         \u001b[0mself\u001b[0m\u001b[0;34m.\u001b[0m\u001b[0mligand\u001b[0m \u001b[0;34m=\u001b[0m \u001b[0mComplex\u001b[0m\u001b[0;34m(\u001b[0m\u001b[0mlig_name\u001b[0m\u001b[0;34m,\u001b[0m \u001b[0mdata_path\u001b[0m\u001b[0;34m)\u001b[0m\u001b[0;34m\u001b[0m\u001b[0;34m\u001b[0m\u001b[0m\n\u001b[1;32m    386\u001b[0m \u001b[0;34m\u001b[0m\u001b[0m\n\u001b[0;32m--> 387\u001b[0;31m         \u001b[0mself\u001b[0m\u001b[0;34m.\u001b[0m\u001b[0mgenerate_init_population\u001b[0m\u001b[0;34m(\u001b[0m\u001b[0;34m)\u001b[0m\u001b[0;34m\u001b[0m\u001b[0;34m\u001b[0m\u001b[0m\n\u001b[0m\u001b[1;32m    388\u001b[0m         \u001b[0mself\u001b[0m\u001b[0;34m.\u001b[0m\u001b[0mmemeplexes\u001b[0m \u001b[0;34m=\u001b[0m \u001b[0mself\u001b[0m\u001b[0;34m.\u001b[0m\u001b[0msort_frog\u001b[0m\u001b[0;34m(\u001b[0m\u001b[0;34m)\u001b[0m\u001b[0;34m\u001b[0m\u001b[0;34m\u001b[0m\u001b[0m\n\u001b[1;32m    389\u001b[0m \u001b[0;34m\u001b[0m\u001b[0m\n",
      "\u001b[0;32m~/Documents/SFLADock/src/sfla.py\u001b[0m in \u001b[0;36mgenerate_init_population\u001b[0;34m(self)\u001b[0m\n\u001b[1;32m    169\u001b[0m \u001b[0;34m\u001b[0m\u001b[0m\n\u001b[1;32m    170\u001b[0m             \u001b[0mresults\u001b[0m \u001b[0;34m=\u001b[0m \u001b[0mexecutor\u001b[0m\u001b[0;34m.\u001b[0m\u001b[0mmap\u001b[0m\u001b[0;34m(\u001b[0m\u001b[0mself\u001b[0m\u001b[0;34m.\u001b[0m\u001b[0mfind_score\u001b[0m\u001b[0;34m,\u001b[0m \u001b[0mDoargs\u001b[0m\u001b[0;34m)\u001b[0m\u001b[0;34m\u001b[0m\u001b[0;34m\u001b[0m\u001b[0m\n\u001b[0;32m--> 171\u001b[0;31m             \u001b[0;32mfor\u001b[0m \u001b[0mr\u001b[0m \u001b[0;32min\u001b[0m \u001b[0mresults\u001b[0m\u001b[0;34m:\u001b[0m\u001b[0;34m\u001b[0m\u001b[0;34m\u001b[0m\u001b[0m\n\u001b[0m\u001b[1;32m    172\u001b[0m                 \u001b[0;32mif\u001b[0m \u001b[0mr\u001b[0m\u001b[0;34m:\u001b[0m\u001b[0;34m\u001b[0m\u001b[0;34m\u001b[0m\u001b[0m\n\u001b[1;32m    173\u001b[0m                     \u001b[0mself\u001b[0m\u001b[0;34m.\u001b[0m\u001b[0mstructinfo\u001b[0m\u001b[0;34m[\u001b[0m\u001b[0mr\u001b[0m\u001b[0;34m[\u001b[0m\u001b[0;36m1\u001b[0m\u001b[0;34m]\u001b[0m\u001b[0;34m]\u001b[0m \u001b[0;34m=\u001b[0m \u001b[0;34m[\u001b[0m\u001b[0mr\u001b[0m\u001b[0;34m[\u001b[0m\u001b[0;36m0\u001b[0m\u001b[0;34m]\u001b[0m\u001b[0;34m,\u001b[0m \u001b[0mr\u001b[0m\u001b[0;34m[\u001b[0m\u001b[0;36m2\u001b[0m\u001b[0;34m]\u001b[0m\u001b[0;34m,\u001b[0m \u001b[0mr\u001b[0m\u001b[0;34m[\u001b[0m\u001b[0;36m3\u001b[0m\u001b[0;34m]\u001b[0m\u001b[0;34m]\u001b[0m\u001b[0;34m\u001b[0m\u001b[0;34m\u001b[0m\u001b[0m\n",
      "\u001b[0;32m~/miniconda3/envs/py3/lib/python3.9/concurrent/futures/process.py\u001b[0m in \u001b[0;36m_chain_from_iterable_of_lists\u001b[0;34m(iterable)\u001b[0m\n\u001b[1;32m    557\u001b[0m     \u001b[0mcareful\u001b[0m \u001b[0;32mnot\u001b[0m \u001b[0mto\u001b[0m \u001b[0mkeep\u001b[0m \u001b[0mreferences\u001b[0m \u001b[0mto\u001b[0m \u001b[0myielded\u001b[0m \u001b[0mobjects\u001b[0m\u001b[0;34m.\u001b[0m\u001b[0;34m\u001b[0m\u001b[0;34m\u001b[0m\u001b[0m\n\u001b[1;32m    558\u001b[0m     \"\"\"\n\u001b[0;32m--> 559\u001b[0;31m     \u001b[0;32mfor\u001b[0m \u001b[0melement\u001b[0m \u001b[0;32min\u001b[0m \u001b[0miterable\u001b[0m\u001b[0;34m:\u001b[0m\u001b[0;34m\u001b[0m\u001b[0;34m\u001b[0m\u001b[0m\n\u001b[0m\u001b[1;32m    560\u001b[0m         \u001b[0melement\u001b[0m\u001b[0;34m.\u001b[0m\u001b[0mreverse\u001b[0m\u001b[0;34m(\u001b[0m\u001b[0;34m)\u001b[0m\u001b[0;34m\u001b[0m\u001b[0;34m\u001b[0m\u001b[0m\n\u001b[1;32m    561\u001b[0m         \u001b[0;32mwhile\u001b[0m \u001b[0melement\u001b[0m\u001b[0;34m:\u001b[0m\u001b[0;34m\u001b[0m\u001b[0;34m\u001b[0m\u001b[0m\n",
      "\u001b[0;32m~/miniconda3/envs/py3/lib/python3.9/concurrent/futures/_base.py\u001b[0m in \u001b[0;36mresult_iterator\u001b[0;34m()\u001b[0m\n\u001b[1;32m    598\u001b[0m                     \u001b[0;31m# Careful not to keep a reference to the popped future\u001b[0m\u001b[0;34m\u001b[0m\u001b[0;34m\u001b[0m\u001b[0;34m\u001b[0m\u001b[0m\n\u001b[1;32m    599\u001b[0m                     \u001b[0;32mif\u001b[0m \u001b[0mtimeout\u001b[0m \u001b[0;32mis\u001b[0m \u001b[0;32mNone\u001b[0m\u001b[0;34m:\u001b[0m\u001b[0;34m\u001b[0m\u001b[0;34m\u001b[0m\u001b[0m\n\u001b[0;32m--> 600\u001b[0;31m                         \u001b[0;32myield\u001b[0m \u001b[0mfs\u001b[0m\u001b[0;34m.\u001b[0m\u001b[0mpop\u001b[0m\u001b[0;34m(\u001b[0m\u001b[0;34m)\u001b[0m\u001b[0;34m.\u001b[0m\u001b[0mresult\u001b[0m\u001b[0;34m(\u001b[0m\u001b[0;34m)\u001b[0m\u001b[0;34m\u001b[0m\u001b[0;34m\u001b[0m\u001b[0m\n\u001b[0m\u001b[1;32m    601\u001b[0m                     \u001b[0;32melse\u001b[0m\u001b[0;34m:\u001b[0m\u001b[0;34m\u001b[0m\u001b[0;34m\u001b[0m\u001b[0m\n\u001b[1;32m    602\u001b[0m                         \u001b[0;32myield\u001b[0m \u001b[0mfs\u001b[0m\u001b[0;34m.\u001b[0m\u001b[0mpop\u001b[0m\u001b[0;34m(\u001b[0m\u001b[0;34m)\u001b[0m\u001b[0;34m.\u001b[0m\u001b[0mresult\u001b[0m\u001b[0;34m(\u001b[0m\u001b[0mend_time\u001b[0m \u001b[0;34m-\u001b[0m \u001b[0mtime\u001b[0m\u001b[0;34m.\u001b[0m\u001b[0mmonotonic\u001b[0m\u001b[0;34m(\u001b[0m\u001b[0;34m)\u001b[0m\u001b[0;34m)\u001b[0m\u001b[0;34m\u001b[0m\u001b[0;34m\u001b[0m\u001b[0m\n",
      "\u001b[0;32m~/miniconda3/envs/py3/lib/python3.9/concurrent/futures/_base.py\u001b[0m in \u001b[0;36mresult\u001b[0;34m(self, timeout)\u001b[0m\n\u001b[1;32m    431\u001b[0m                 \u001b[0;32mraise\u001b[0m \u001b[0mCancelledError\u001b[0m\u001b[0;34m(\u001b[0m\u001b[0;34m)\u001b[0m\u001b[0;34m\u001b[0m\u001b[0;34m\u001b[0m\u001b[0m\n\u001b[1;32m    432\u001b[0m             \u001b[0;32melif\u001b[0m \u001b[0mself\u001b[0m\u001b[0;34m.\u001b[0m\u001b[0m_state\u001b[0m \u001b[0;34m==\u001b[0m \u001b[0mFINISHED\u001b[0m\u001b[0;34m:\u001b[0m\u001b[0;34m\u001b[0m\u001b[0;34m\u001b[0m\u001b[0m\n\u001b[0;32m--> 433\u001b[0;31m                 \u001b[0;32mreturn\u001b[0m \u001b[0mself\u001b[0m\u001b[0;34m.\u001b[0m\u001b[0m__get_result\u001b[0m\u001b[0;34m(\u001b[0m\u001b[0;34m)\u001b[0m\u001b[0;34m\u001b[0m\u001b[0;34m\u001b[0m\u001b[0m\n\u001b[0m\u001b[1;32m    434\u001b[0m \u001b[0;34m\u001b[0m\u001b[0m\n\u001b[1;32m    435\u001b[0m             \u001b[0mself\u001b[0m\u001b[0;34m.\u001b[0m\u001b[0m_condition\u001b[0m\u001b[0;34m.\u001b[0m\u001b[0mwait\u001b[0m\u001b[0;34m(\u001b[0m\u001b[0mtimeout\u001b[0m\u001b[0;34m)\u001b[0m\u001b[0;34m\u001b[0m\u001b[0;34m\u001b[0m\u001b[0m\n",
      "\u001b[0;32m~/miniconda3/envs/py3/lib/python3.9/concurrent/futures/_base.py\u001b[0m in \u001b[0;36m__get_result\u001b[0;34m(self)\u001b[0m\n\u001b[1;32m    387\u001b[0m     \u001b[0;32mdef\u001b[0m \u001b[0m__get_result\u001b[0m\u001b[0;34m(\u001b[0m\u001b[0mself\u001b[0m\u001b[0;34m)\u001b[0m\u001b[0;34m:\u001b[0m\u001b[0;34m\u001b[0m\u001b[0;34m\u001b[0m\u001b[0m\n\u001b[1;32m    388\u001b[0m         \u001b[0;32mif\u001b[0m \u001b[0mself\u001b[0m\u001b[0;34m.\u001b[0m\u001b[0m_exception\u001b[0m\u001b[0;34m:\u001b[0m\u001b[0;34m\u001b[0m\u001b[0;34m\u001b[0m\u001b[0m\n\u001b[0;32m--> 389\u001b[0;31m             \u001b[0;32mraise\u001b[0m \u001b[0mself\u001b[0m\u001b[0;34m.\u001b[0m\u001b[0m_exception\u001b[0m\u001b[0;34m\u001b[0m\u001b[0;34m\u001b[0m\u001b[0m\n\u001b[0m\u001b[1;32m    390\u001b[0m         \u001b[0;32melse\u001b[0m\u001b[0;34m:\u001b[0m\u001b[0;34m\u001b[0m\u001b[0;34m\u001b[0m\u001b[0m\n\u001b[1;32m    391\u001b[0m             \u001b[0;32mreturn\u001b[0m \u001b[0mself\u001b[0m\u001b[0;34m.\u001b[0m\u001b[0m_result\u001b[0m\u001b[0;34m\u001b[0m\u001b[0;34m\u001b[0m\u001b[0m\n",
      "\u001b[0;32m~/miniconda3/envs/py3/lib/python3.9/multiprocessing/queues.py\u001b[0m in \u001b[0;36m_feed\u001b[0;34m(buffer, notempty, send_bytes, writelock, close, ignore_epipe, onerror, queue_sem)\u001b[0m\n\u001b[1;32m    243\u001b[0m \u001b[0;34m\u001b[0m\u001b[0m\n\u001b[1;32m    244\u001b[0m                         \u001b[0;31m# serialize the data before acquiring the lock\u001b[0m\u001b[0;34m\u001b[0m\u001b[0;34m\u001b[0m\u001b[0;34m\u001b[0m\u001b[0m\n\u001b[0;32m--> 245\u001b[0;31m                         \u001b[0mobj\u001b[0m \u001b[0;34m=\u001b[0m \u001b[0m_ForkingPickler\u001b[0m\u001b[0;34m.\u001b[0m\u001b[0mdumps\u001b[0m\u001b[0;34m(\u001b[0m\u001b[0mobj\u001b[0m\u001b[0;34m)\u001b[0m\u001b[0;34m\u001b[0m\u001b[0;34m\u001b[0m\u001b[0m\n\u001b[0m\u001b[1;32m    246\u001b[0m                         \u001b[0;32mif\u001b[0m \u001b[0mwacquire\u001b[0m \u001b[0;32mis\u001b[0m \u001b[0;32mNone\u001b[0m\u001b[0;34m:\u001b[0m\u001b[0;34m\u001b[0m\u001b[0;34m\u001b[0m\u001b[0m\n\u001b[1;32m    247\u001b[0m                             \u001b[0msend_bytes\u001b[0m\u001b[0;34m(\u001b[0m\u001b[0mobj\u001b[0m\u001b[0;34m)\u001b[0m\u001b[0;34m\u001b[0m\u001b[0;34m\u001b[0m\u001b[0m\n",
      "\u001b[0;32m~/miniconda3/envs/py3/lib/python3.9/multiprocessing/reduction.py\u001b[0m in \u001b[0;36mdumps\u001b[0;34m(cls, obj, protocol)\u001b[0m\n\u001b[1;32m     49\u001b[0m     \u001b[0;32mdef\u001b[0m \u001b[0mdumps\u001b[0m\u001b[0;34m(\u001b[0m\u001b[0mcls\u001b[0m\u001b[0;34m,\u001b[0m \u001b[0mobj\u001b[0m\u001b[0;34m,\u001b[0m \u001b[0mprotocol\u001b[0m\u001b[0;34m=\u001b[0m\u001b[0;32mNone\u001b[0m\u001b[0;34m)\u001b[0m\u001b[0;34m:\u001b[0m\u001b[0;34m\u001b[0m\u001b[0;34m\u001b[0m\u001b[0m\n\u001b[1;32m     50\u001b[0m         \u001b[0mbuf\u001b[0m \u001b[0;34m=\u001b[0m \u001b[0mio\u001b[0m\u001b[0;34m.\u001b[0m\u001b[0mBytesIO\u001b[0m\u001b[0;34m(\u001b[0m\u001b[0;34m)\u001b[0m\u001b[0;34m\u001b[0m\u001b[0;34m\u001b[0m\u001b[0m\n\u001b[0;32m---> 51\u001b[0;31m         \u001b[0mcls\u001b[0m\u001b[0;34m(\u001b[0m\u001b[0mbuf\u001b[0m\u001b[0;34m,\u001b[0m \u001b[0mprotocol\u001b[0m\u001b[0;34m)\u001b[0m\u001b[0;34m.\u001b[0m\u001b[0mdump\u001b[0m\u001b[0;34m(\u001b[0m\u001b[0mobj\u001b[0m\u001b[0;34m)\u001b[0m\u001b[0;34m\u001b[0m\u001b[0;34m\u001b[0m\u001b[0m\n\u001b[0m\u001b[1;32m     52\u001b[0m         \u001b[0;32mreturn\u001b[0m \u001b[0mbuf\u001b[0m\u001b[0;34m.\u001b[0m\u001b[0mgetbuffer\u001b[0m\u001b[0;34m(\u001b[0m\u001b[0;34m)\u001b[0m\u001b[0;34m\u001b[0m\u001b[0;34m\u001b[0m\u001b[0m\n\u001b[1;32m     53\u001b[0m \u001b[0;34m\u001b[0m\u001b[0m\n",
      "\u001b[0;31mPicklingError\u001b[0m: Can't pickle <class 'sfla.SFLA'>: it's not the same object as sfla.SFLA"
     ]
    }
   ],
   "source": [
    "model.run_sfla_test(\"Data/4dn4_LH:M/\", \"4dn4\", \"LH\", \"M\")"
   ]
  },
  {
   "cell_type": "code",
   "execution_count": 12,
   "metadata": {},
   "outputs": [
    {
     "data": {
      "text/plain": [
       "array([[ 9., 38., 40., 37., 47.],\n",
       "       [26., 12., 44., 11., 14.],\n",
       "       [48., 25., 46., 31., 27.],\n",
       "       [29., 18., 24.,  7., 28.],\n",
       "       [41., 16., 10., 43., 17.],\n",
       "       [20.,  6., 42., 49.,  0.],\n",
       "       [21.,  8., 22.,  2., 32.],\n",
       "       [15., 13., 19., 36.,  4.],\n",
       "       [35., 23., 39., 30.,  1.],\n",
       "       [34., 33.,  5., 45.,  3.]])"
      ]
     },
     "execution_count": 12,
     "metadata": {},
     "output_type": "execute_result"
    }
   ],
   "source": [
    "model.memeplexes"
   ]
  },
  {
   "cell_type": "code",
   "execution_count": 13,
   "metadata": {},
   "outputs": [
    {
     "data": {
      "text/plain": [
       "[-34.84959725176546,\n",
       " Quaternion(0.41498288162420527, 0.7851384795532247, 0.3167706306816045, 0.3331713424370412),\n",
       " array([  6.10511068, -22.40102834, -34.4306511 ])]"
      ]
     },
     "execution_count": 13,
     "metadata": {},
     "output_type": "execute_result"
    }
   ],
   "source": [
    "model.structinfo[9]"
   ]
  },
  {
   "cell_type": "code",
   "execution_count": null,
   "metadata": {},
   "outputs": [],
   "source": [
    "model.run_remaining()"
   ]
  },
  {
   "cell_type": "code",
   "execution_count": 16,
   "metadata": {},
   "outputs": [
    {
     "data": {
      "text/plain": [
       "array([[ 9., 38., 44., 37., 47.],\n",
       "       [26., 12., 46., 11., 14.],\n",
       "       [48., 25.,  6., 31., 27.],\n",
       "       [29., 18., 24.,  7., 28.],\n",
       "       [41., 16., 10., 43., 17.],\n",
       "       [20.,  8., 42., 49.,  0.],\n",
       "       [21., 13., 22.,  2., 32.],\n",
       "       [15., 23., 19., 36.,  4.],\n",
       "       [35., 33., 39., 30.,  1.],\n",
       "       [34., 40.,  5., 45.,  3.]])"
      ]
     },
     "execution_count": 16,
     "metadata": {},
     "output_type": "execute_result"
    }
   ],
   "source": [
    "model.memeplexes"
   ]
  },
  {
   "cell_type": "code",
   "execution_count": 17,
   "metadata": {},
   "outputs": [
    {
     "data": {
      "text/plain": [
       "[-34.84959725176546,\n",
       " Quaternion(0.41498288162420527, 0.7851384795532247, 0.3167706306816045, 0.3331713424370412),\n",
       " array([  6.10511068, -22.40102834, -34.4306511 ])]"
      ]
     },
     "execution_count": 17,
     "metadata": {},
     "output_type": "execute_result"
    }
   ],
   "source": [
    "model.structinfo[9]"
   ]
  },
  {
   "cell_type": "code",
   "execution_count": 20,
   "metadata": {},
   "outputs": [],
   "source": [
    "import numpy as np"
   ]
  },
  {
   "cell_type": "code",
   "execution_count": 21,
   "metadata": {},
   "outputs": [
    {
     "data": {
      "text/plain": [
       "array([3, 1, 4, 0, 2])"
      ]
     },
     "execution_count": 21,
     "metadata": {},
     "output_type": "execute_result"
    }
   ],
   "source": [
    "np.argsort(model.memeplexes[1])"
   ]
  },
  {
   "cell_type": "code",
   "execution_count": 26,
   "metadata": {},
   "outputs": [
    {
     "ename": "TypeError",
     "evalue": "only size-1 arrays can be converted to Python scalars",
     "output_type": "error",
     "traceback": [
      "\u001b[0;31m---------------------------------------------------------------------------\u001b[0m",
      "\u001b[0;31mTypeError\u001b[0m                                 Traceback (most recent call last)",
      "\u001b[0;32m<ipython-input-26-a9de6cc6c483>\u001b[0m in \u001b[0;36m<module>\u001b[0;34m\u001b[0m\n\u001b[0;32m----> 1\u001b[0;31m \u001b[0mmodel\u001b[0m\u001b[0;34m.\u001b[0m\u001b[0mstructinfo\u001b[0m\u001b[0;34m[\u001b[0m\u001b[0mtuple\u001b[0m\u001b[0;34m(\u001b[0m\u001b[0mint\u001b[0m\u001b[0;34m(\u001b[0m\u001b[0mmodel\u001b[0m\u001b[0;34m.\u001b[0m\u001b[0mmemeplexes\u001b[0m\u001b[0;34m[\u001b[0m\u001b[0;36m1\u001b[0m\u001b[0;34m]\u001b[0m\u001b[0;34m)\u001b[0m\u001b[0;34m)\u001b[0m\u001b[0;34m]\u001b[0m\u001b[0;34m\u001b[0m\u001b[0;34m\u001b[0m\u001b[0m\n\u001b[0m",
      "\u001b[0;31mTypeError\u001b[0m: only size-1 arrays can be converted to Python scalars"
     ]
    }
   ],
   "source": [
    "model.structinfo[tuple(int(model.memeplexes[1]))]"
   ]
  },
  {
   "cell_type": "code",
   "execution_count": null,
   "metadata": {},
   "outputs": [],
   "source": [
    "model.structinfo"
   ]
  },
  {
   "cell_type": "code",
   "execution_count": 122,
   "metadata": {
    "tags": []
   },
   "outputs": [],
   "source": [
    "model.local_search()"
   ]
  },
  {
   "cell_type": "code",
   "execution_count": 122,
   "metadata": {
    "tags": []
   },
   "outputs": [],
   "source": [
    "\n",
    "\n",
    "model.local_search_test()"
   ]
  },
  {
   "cell_type": "code",
   "execution_count": 45,
   "metadata": {},
   "outputs": [],
   "source": [
    "model.N = 1"
   ]
  },
  {
   "cell_type": "code",
   "execution_count": 48,
   "metadata": {},
   "outputs": [],
   "source": [
    "structinfo = model.structinfo"
   ]
  },
  {
   "cell_type": "code",
   "execution_count": 57,
   "metadata": {},
   "outputs": [],
   "source": [
    "model.structinfo = structinfo"
   ]
  },
  {
   "cell_type": "code",
   "execution_count": 67,
   "metadata": {},
   "outputs": [],
   "source": [
    "model.structinfo = structinfo[1], 0"
   ]
  },
  {
   "cell_type": "code",
   "execution_count": 69,
   "metadata": {},
   "outputs": [],
   "source": [
    "a, b, c = structinfo[1]"
   ]
  },
  {
   "cell_type": "code",
   "execution_count": 118,
   "metadata": {},
   "outputs": [
    {
     "data": {
      "text/plain": [
       "([5239320.152353539,\n",
       "  Quaternion(0.49748836748018643, 0.30281963819043606, -0.3439555220046789, 0.7365461219982095),\n",
       "  array([-18.46512394,   6.05021466,  25.81849152])],\n",
       " 3)"
      ]
     },
     "execution_count": 118,
     "metadata": {},
     "output_type": "execute_result"
    }
   ],
   "source": [
    "model.structinfo"
   ]
  },
  {
   "cell_type": "code",
   "execution_count": 120,
   "metadata": {},
   "outputs": [],
   "source": [
    "model.structinfo = structinfo"
   ]
  },
  {
   "cell_type": "code",
   "execution_count": 121,
   "metadata": {},
   "outputs": [
    {
     "data": {
      "text/plain": [
       "{0: [155812198755.02823,\n",
       "  Quaternion(0.34859079403260423, -0.8328395387304101, -0.18936256786264152, -0.38601111245079817),\n",
       "  array([-7.52617866, -6.76761775, -2.73844473])],\n",
       " 1: [155812198755.02823,\n",
       "  Quaternion(0.34859079403260423, -0.8328395387304101, -0.18936256786264152, -0.38601111245079817),\n",
       "  array([-7.52617866, -6.76761775, -2.73844473])],\n",
       " 2: [5239320.152353539,\n",
       "  Quaternion(0.49748836748018643, 0.30281963819043606, -0.3439555220046789, 0.7365461219982095),\n",
       "  array([-18.46512394,   6.05021466,  25.81849152])],\n",
       " 3: [687721081911.8915,\n",
       "  Quaternion(0.9299055068717239, -0.17984277723306039, 0.10349481116318952, -0.30367935035006555),\n",
       "  array([ 13.87006198, -16.55059817, -15.90504785])],\n",
       " 4: [20365356487.40301,\n",
       "  Quaternion(0.8158529759570551, 0.3346063850660154, -0.2804423532466054, 0.3791761796323402),\n",
       "  array([-22.5427844 ,  -5.19799272,  12.7147298 ])],\n",
       " 5: [390492.6127025793,\n",
       "  Quaternion(0.7868945955540179, 0.6111503150520987, 0.0815351183695834, 0.025381339051697028),\n",
       "  array([ 7.99966231, 31.80048483,  2.93000785])],\n",
       " 6: [0,\n",
       "  Quaternion(0.6919411392392927, 0.06155135716925327, 0.7095277186208555, -0.11831866618389789),\n",
       "  array([ 43.13542783,  -3.31419598, -35.54270006])],\n",
       " 7: [1386973.6881656384,\n",
       "  Quaternion(0.9587941970634083, -0.1644207188294166, 0.14883293112977983, -0.1775620272143518),\n",
       "  array([-18.93506391,  -2.81481603, -22.38140232])],\n",
       " 8: [0,\n",
       "  Quaternion(0.8343165088064785, -0.37687894302095726, -0.37760477282892546, 0.13889874361271712),\n",
       "  array([-51.00356356,  -8.79397575,   0.87630368])],\n",
       " 9: [-34.84959725176546,\n",
       "  Quaternion(0.41498288162420527, 0.7851384795532247, 0.3167706306816045, 0.3331713424370412),\n",
       "  array([  6.10511068, -22.40102834, -34.4306511 ])],\n",
       " 10: [735.6062035859559,\n",
       "  Quaternion(0.9103105575410546, -0.24691293152117075, 0.20047907392549907, -0.26490910515663696),\n",
       "  array([-27.85111259, -34.19022494,  -4.79416256])],\n",
       " 11: [454521.4178890456,\n",
       "  Quaternion(0.9759409752747834, 0.04914112125101873, -0.12242761344480688, 0.17359678121470504),\n",
       "  array([23.26561206, 12.25287336,  1.21595705])],\n",
       " 12: [-1.8089430969221076,\n",
       "  Quaternion(0.9529186109573686, -0.24568443371581342, -0.014084152317451332, 0.17716353059904283),\n",
       "  array([ 20.2024162 ,  29.77134185, -14.73957098])],\n",
       " 13: [0,\n",
       "  Quaternion(0.9795987403315842, 0.0831054119816835, -0.07060899174490118, 0.1688021585315089),\n",
       "  array([28.75702939, 28.9662517 , 16.43433066])],\n",
       " 14: [122092773.58375083,\n",
       "  Quaternion(0.8452141805991357, -0.3132215777663181, 0.3457009763778813, -0.26076055504445017),\n",
       "  array([ -5.32345529,  23.81922399, -16.30840321])],\n",
       " 15: [-7.982254687115856,\n",
       "  Quaternion(0.9054167347441343, 0.23555011617984925, 0.23576301502720243, 0.2629685912009506),\n",
       "  array([-19.56648672,  23.67803713,  40.38389295])],\n",
       " 16: [-0.5360060586649046,\n",
       "  Quaternion(0.7640515559004967, -0.026272527567901337, -0.057785504140770216, 0.6420247734569291),\n",
       "  array([ 34.18621587, -30.71467882,  -1.86479595])],\n",
       " 17: [3099658520.071966,\n",
       "  Quaternion(0.6088016284808433, -0.006920216025486174, -0.44258541532297335, -0.6583546444832183),\n",
       "  array([-5.19240012, 30.42949522, 22.04429643])],\n",
       " 18: [-1.3125478970056914,\n",
       "  Quaternion(0.35837260072563976, 0.5455643241407541, 0.22359227387385086, 0.7238336427231774),\n",
       "  array([ 39.43478734, -31.54964046, -29.75042656])],\n",
       " 19: [116581.2408370464,\n",
       "  Quaternion(0.5689360365710737, -0.6338378348243661, -0.45945090373746506, 0.2519250930153324),\n",
       "  array([32.50116492, -8.35955959, 12.87722992])],\n",
       " 20: [-14.859023630543822,\n",
       "  Quaternion(0.5564215409119279, 0.21549523081708488, 0.6050585462075035, -0.5271252507379526),\n",
       "  array([ 5.27247712,  7.32928727, 42.2234249 ])],\n",
       " 21: [-8.304948840531383,\n",
       "  Quaternion(0.7601526864981566, -0.546707780925355, -0.05720738845053106, -0.34641854770202396),\n",
       "  array([-29.72767393, -22.28044159, -20.2970589 ])],\n",
       " 22: [115619.8837595449,\n",
       "  Quaternion(0.5507943548382602, -0.011544809729344388, 0.8145492624330822, 0.18166396207376886),\n",
       "  array([-30.86927399,  18.91089886,   4.49813222])],\n",
       " 23: [0,\n",
       "  Quaternion(0.8870103251605215, 0.032221539644767344, 0.2235410474583201, -0.4027453979163305),\n",
       "  array([-38.69076692,  -9.54658841,  39.27891527])],\n",
       " 24: [55.948186896011464,\n",
       "  Quaternion(0.8977500846609429, 0.31626410946380346, 0.017735136923037072, -0.3061164214390636),\n",
       "  array([ 15.85032837, -13.70533094, -51.87700886])],\n",
       " 25: [-1.726709581566171,\n",
       "  Quaternion(0.8539567263742673, 0.2946050573955068, 0.15633677609347024, -0.399405285490609),\n",
       "  array([-48.17657671,   0.64728475,  22.62486781])],\n",
       " 26: [-34.59588497642774,\n",
       "  Quaternion(0.7782728515856605, -0.5299078220148752, -0.32300640334265723, -0.09568663465613385),\n",
       "  array([ 36.95273421,  16.70672087, -18.8913532 ])],\n",
       " 27: [284592186.9307908,\n",
       "  Quaternion(0.4945621864949715, -0.5537840325603538, -0.5896027963559687, -0.3179623114454418),\n",
       "  array([ 28.56377813,  -8.46047337, -21.45745365])],\n",
       " 28: [471807933.01844037,\n",
       "  Quaternion(0.9066448551034716, 0.020935529976941307, -0.11523838131306104, 0.40531090013881343),\n",
       "  array([ -3.93991195,   4.72796028, -44.32837109])],\n",
       " 29: [-18.204881329717107,\n",
       "  Quaternion(0.7504735683910341, 0.02823764998339367, -0.6508382883059978, -0.1113623847839219),\n",
       "  array([-34.71835949, -24.22863089,  14.46025784])],\n",
       " 30: [15296465.735312512,\n",
       "  Quaternion(0.9435184519431946, 0.021481472633815328, -0.1876287979465119, -0.27222584623313617),\n",
       "  array([ -8.92524283, -19.05558023,  24.4985117 ])],\n",
       " 31: [1134911.4880967317,\n",
       "  Quaternion(0.922435816001043, 0.19643551703999254, 0.25350071442485506, -0.2150875189075576),\n",
       "  array([-8.94717997, 13.81310115,  3.40144081])],\n",
       " 32: [9175408832.59403,\n",
       "  Quaternion(0.6686746029269977, 0.7138572854074097, 0.20552960521496733, -0.03224333809278403),\n",
       "  array([ 4.77805735, 10.62989052, 18.33814355])],\n",
       " 33: [0,\n",
       "  Quaternion(0.5646255746724872, -0.36570352331670397, 0.055963644547722464, -0.7377851746602454),\n",
       "  array([ 56.00353025, -15.56583354, -12.57484881])],\n",
       " 34: [-2.062462472358193,\n",
       "  Quaternion(0.7922013416065968, 0.2682467289037945, 0.39703527148264356, 0.3779202561226719),\n",
       "  array([ 16.54715959, -41.7754116 , -15.76861261])],\n",
       " 35: [-5.890541278061652,\n",
       "  Quaternion(0.9954514328009472, -0.039386922188621734, -0.035240988536056395, -0.0792665630770662),\n",
       "  array([-14.34649071,  -1.97189505,  44.81590148])],\n",
       " 36: [7923608.574340129,\n",
       "  Quaternion(0.22036289087249106, 0.544918700724457, 0.712130260741954, 0.38389360200801054),\n",
       "  array([39.98128748,  2.14776169, -0.65490797])],\n",
       " 37: [412782.4738336506,\n",
       "  Quaternion(0.5717736126489037, 0.8175511947200504, 0.05689780635583804, -0.03804759548425042),\n",
       "  array([-31.41634599,  -5.38596771,  -1.99011482])],\n",
       " 38: [-1.9236857402350038,\n",
       "  Quaternion(0.8061576568758858, 0.28841841916535493, 0.3175428879799217, 0.40754283460749235),\n",
       "  array([-40.84345022,  21.90633155,  27.48693046])],\n",
       " 39: [206877.36795391742,\n",
       "  Quaternion(0.8252600577143967, 0.1776322204445495, 0.30450556955809904, -0.4412130885516287),\n",
       "  array([ -7.63037883, -33.09498689, -23.30189927])],\n",
       " 40: [0,\n",
       "  Quaternion(0.7702689941605327, -0.3769754348645626, -0.35527150112423916, 0.3719641899867847),\n",
       "  array([ 22.2022102 ,   9.46099636, -53.75521912])],\n",
       " 41: [-17.08321956648618,\n",
       "  Quaternion(0.7826016241314763, -0.09139663715826782, -0.16444559433950914, 0.5934130088945311),\n",
       "  array([13.55849623, 26.31013763, 36.15816392])],\n",
       " 42: [6893.483344619819,\n",
       "  Quaternion(0.6154050538851301, -0.23741934954307933, -0.6285772786926682, 0.4120670780667886),\n",
       "  array([25.93349603,  4.52538474, 27.06991621])],\n",
       " 43: [1862950.3103771268,\n",
       "  Quaternion(0.8758749128639026, -0.26691162506908844, -0.3374161611611844, -0.21852152206562878),\n",
       "  array([ 14.97062755, -10.85304051,   3.89837301])],\n",
       " 44: [0,\n",
       "  Quaternion(0.7780674956908269, 0.3510747929654925, 0.2630546234499461, -0.4496217598996391),\n",
       "  array([-20.93980501,  45.41798144,  14.57502438])],\n",
       " 45: [26337329.808726694,\n",
       "  Quaternion(0.964718464858549, -0.2614571546491184, -0.025130790230660012, -0.01807991222695461),\n",
       "  array([  2.49987376, -10.55831859,  19.90654146])],\n",
       " 46: [0,\n",
       "  Quaternion(0.9013007812331167, 0.42396051700207504, -0.08895960134910857, -0.0007557113962230066),\n",
       "  array([-21.60818651, -25.27119564,  33.9189543 ])],\n",
       " 47: [42316153.33850677,\n",
       "  Quaternion(0.8597503946377217, -0.31664615900735965, 0.39997047744530495, -0.024250486146522726),\n",
       "  array([ 14.11798566,  -0.03750767, -24.63980959])],\n",
       " 48: [-18.382431162833026,\n",
       "  Quaternion(0.6272063549152663, -0.09896652082795636, 0.13687712501525362, -0.7603173473995404),\n",
       "  array([ 13.21978389,  21.05930047, -36.47982357])],\n",
       " 49: [2817224.7121835067,\n",
       "  Quaternion(0.8472775546466998, -0.06493314107776177, 0.10584754394246391, -0.5164307601441189),\n",
       "  array([ 4.02150491,  6.48384438, -9.54250706])],\n",
       " None: {...}}"
      ]
     },
     "execution_count": 121,
     "metadata": {},
     "output_type": "execute_result"
    }
   ],
   "source": [
    "model.structinfo"
   ]
  },
  {
   "cell_type": "code",
   "execution_count": 97,
   "metadata": {},
   "outputs": [
    {
     "data": {
      "text/plain": [
       "{0: [155812198755.02823,\n",
       "  Quaternion(0.34859079403260423, -0.8328395387304101, -0.18936256786264152, -0.38601111245079817),\n",
       "  array([-7.52617866, -6.76761775, -2.73844473])],\n",
       " 1: [155812198755.02823,\n",
       "  Quaternion(0.34859079403260423, -0.8328395387304101, -0.18936256786264152, -0.38601111245079817),\n",
       "  array([-7.52617866, -6.76761775, -2.73844473])],\n",
       " 2: [5239320.152353539,\n",
       "  Quaternion(0.49748836748018643, 0.30281963819043606, -0.3439555220046789, 0.7365461219982095),\n",
       "  array([-18.46512394,   6.05021466,  25.81849152])],\n",
       " 3: [687721081911.8915,\n",
       "  Quaternion(0.9299055068717239, -0.17984277723306039, 0.10349481116318952, -0.30367935035006555),\n",
       "  array([ 13.87006198, -16.55059817, -15.90504785])],\n",
       " 4: [20365356487.40301,\n",
       "  Quaternion(0.8158529759570551, 0.3346063850660154, -0.2804423532466054, 0.3791761796323402),\n",
       "  array([-22.5427844 ,  -5.19799272,  12.7147298 ])],\n",
       " 5: [390492.6127025793,\n",
       "  Quaternion(0.7868945955540179, 0.6111503150520987, 0.0815351183695834, 0.025381339051697028),\n",
       "  array([ 7.99966231, 31.80048483,  2.93000785])],\n",
       " 6: [0,\n",
       "  Quaternion(0.6919411392392927, 0.06155135716925327, 0.7095277186208555, -0.11831866618389789),\n",
       "  array([ 43.13542783,  -3.31419598, -35.54270006])],\n",
       " 7: [1386973.6881656384,\n",
       "  Quaternion(0.9587941970634083, -0.1644207188294166, 0.14883293112977983, -0.1775620272143518),\n",
       "  array([-18.93506391,  -2.81481603, -22.38140232])],\n",
       " 8: [0,\n",
       "  Quaternion(0.8343165088064785, -0.37687894302095726, -0.37760477282892546, 0.13889874361271712),\n",
       "  array([-51.00356356,  -8.79397575,   0.87630368])],\n",
       " 9: [-34.84959725176546,\n",
       "  Quaternion(0.41498288162420527, 0.7851384795532247, 0.3167706306816045, 0.3331713424370412),\n",
       "  array([  6.10511068, -22.40102834, -34.4306511 ])],\n",
       " 10: [735.6062035859559,\n",
       "  Quaternion(0.9103105575410546, -0.24691293152117075, 0.20047907392549907, -0.26490910515663696),\n",
       "  array([-27.85111259, -34.19022494,  -4.79416256])],\n",
       " 11: [454521.4178890456,\n",
       "  Quaternion(0.9759409752747834, 0.04914112125101873, -0.12242761344480688, 0.17359678121470504),\n",
       "  array([23.26561206, 12.25287336,  1.21595705])],\n",
       " 12: [-1.8089430969221076,\n",
       "  Quaternion(0.9529186109573686, -0.24568443371581342, -0.014084152317451332, 0.17716353059904283),\n",
       "  array([ 20.2024162 ,  29.77134185, -14.73957098])],\n",
       " 13: [0,\n",
       "  Quaternion(0.9795987403315842, 0.0831054119816835, -0.07060899174490118, 0.1688021585315089),\n",
       "  array([28.75702939, 28.9662517 , 16.43433066])],\n",
       " 14: [122092773.58375083,\n",
       "  Quaternion(0.8452141805991357, -0.3132215777663181, 0.3457009763778813, -0.26076055504445017),\n",
       "  array([ -5.32345529,  23.81922399, -16.30840321])],\n",
       " 15: [-7.982254687115856,\n",
       "  Quaternion(0.9054167347441343, 0.23555011617984925, 0.23576301502720243, 0.2629685912009506),\n",
       "  array([-19.56648672,  23.67803713,  40.38389295])],\n",
       " 16: [-0.5360060586649046,\n",
       "  Quaternion(0.7640515559004967, -0.026272527567901337, -0.057785504140770216, 0.6420247734569291),\n",
       "  array([ 34.18621587, -30.71467882,  -1.86479595])],\n",
       " 17: [3099658520.071966,\n",
       "  Quaternion(0.6088016284808433, -0.006920216025486174, -0.44258541532297335, -0.6583546444832183),\n",
       "  array([-5.19240012, 30.42949522, 22.04429643])],\n",
       " 18: [-1.3125478970056914,\n",
       "  Quaternion(0.35837260072563976, 0.5455643241407541, 0.22359227387385086, 0.7238336427231774),\n",
       "  array([ 39.43478734, -31.54964046, -29.75042656])],\n",
       " 19: [116581.2408370464,\n",
       "  Quaternion(0.5689360365710737, -0.6338378348243661, -0.45945090373746506, 0.2519250930153324),\n",
       "  array([32.50116492, -8.35955959, 12.87722992])],\n",
       " 20: [-14.859023630543822,\n",
       "  Quaternion(0.5564215409119279, 0.21549523081708488, 0.6050585462075035, -0.5271252507379526),\n",
       "  array([ 5.27247712,  7.32928727, 42.2234249 ])],\n",
       " 21: [-8.304948840531383,\n",
       "  Quaternion(0.7601526864981566, -0.546707780925355, -0.05720738845053106, -0.34641854770202396),\n",
       "  array([-29.72767393, -22.28044159, -20.2970589 ])],\n",
       " 22: [115619.8837595449,\n",
       "  Quaternion(0.5507943548382602, -0.011544809729344388, 0.8145492624330822, 0.18166396207376886),\n",
       "  array([-30.86927399,  18.91089886,   4.49813222])],\n",
       " 23: [0,\n",
       "  Quaternion(0.8870103251605215, 0.032221539644767344, 0.2235410474583201, -0.4027453979163305),\n",
       "  array([-38.69076692,  -9.54658841,  39.27891527])],\n",
       " 24: [55.948186896011464,\n",
       "  Quaternion(0.8977500846609429, 0.31626410946380346, 0.017735136923037072, -0.3061164214390636),\n",
       "  array([ 15.85032837, -13.70533094, -51.87700886])],\n",
       " 25: [-1.726709581566171,\n",
       "  Quaternion(0.8539567263742673, 0.2946050573955068, 0.15633677609347024, -0.399405285490609),\n",
       "  array([-48.17657671,   0.64728475,  22.62486781])],\n",
       " 26: [-34.59588497642774,\n",
       "  Quaternion(0.7782728515856605, -0.5299078220148752, -0.32300640334265723, -0.09568663465613385),\n",
       "  array([ 36.95273421,  16.70672087, -18.8913532 ])],\n",
       " 27: [284592186.9307908,\n",
       "  Quaternion(0.4945621864949715, -0.5537840325603538, -0.5896027963559687, -0.3179623114454418),\n",
       "  array([ 28.56377813,  -8.46047337, -21.45745365])],\n",
       " 28: [471807933.01844037,\n",
       "  Quaternion(0.9066448551034716, 0.020935529976941307, -0.11523838131306104, 0.40531090013881343),\n",
       "  array([ -3.93991195,   4.72796028, -44.32837109])],\n",
       " 29: [-18.204881329717107,\n",
       "  Quaternion(0.7504735683910341, 0.02823764998339367, -0.6508382883059978, -0.1113623847839219),\n",
       "  array([-34.71835949, -24.22863089,  14.46025784])],\n",
       " 30: [15296465.735312512,\n",
       "  Quaternion(0.9435184519431946, 0.021481472633815328, -0.1876287979465119, -0.27222584623313617),\n",
       "  array([ -8.92524283, -19.05558023,  24.4985117 ])],\n",
       " 31: [1134911.4880967317,\n",
       "  Quaternion(0.922435816001043, 0.19643551703999254, 0.25350071442485506, -0.2150875189075576),\n",
       "  array([-8.94717997, 13.81310115,  3.40144081])],\n",
       " 32: [9175408832.59403,\n",
       "  Quaternion(0.6686746029269977, 0.7138572854074097, 0.20552960521496733, -0.03224333809278403),\n",
       "  array([ 4.77805735, 10.62989052, 18.33814355])],\n",
       " 33: [0,\n",
       "  Quaternion(0.5646255746724872, -0.36570352331670397, 0.055963644547722464, -0.7377851746602454),\n",
       "  array([ 56.00353025, -15.56583354, -12.57484881])],\n",
       " 34: [-2.062462472358193,\n",
       "  Quaternion(0.7922013416065968, 0.2682467289037945, 0.39703527148264356, 0.3779202561226719),\n",
       "  array([ 16.54715959, -41.7754116 , -15.76861261])],\n",
       " 35: [-5.890541278061652,\n",
       "  Quaternion(0.9954514328009472, -0.039386922188621734, -0.035240988536056395, -0.0792665630770662),\n",
       "  array([-14.34649071,  -1.97189505,  44.81590148])],\n",
       " 36: [7923608.574340129,\n",
       "  Quaternion(0.22036289087249106, 0.544918700724457, 0.712130260741954, 0.38389360200801054),\n",
       "  array([39.98128748,  2.14776169, -0.65490797])],\n",
       " 37: [412782.4738336506,\n",
       "  Quaternion(0.5717736126489037, 0.8175511947200504, 0.05689780635583804, -0.03804759548425042),\n",
       "  array([-31.41634599,  -5.38596771,  -1.99011482])],\n",
       " 38: [-1.9236857402350038,\n",
       "  Quaternion(0.8061576568758858, 0.28841841916535493, 0.3175428879799217, 0.40754283460749235),\n",
       "  array([-40.84345022,  21.90633155,  27.48693046])],\n",
       " 39: [206877.36795391742,\n",
       "  Quaternion(0.8252600577143967, 0.1776322204445495, 0.30450556955809904, -0.4412130885516287),\n",
       "  array([ -7.63037883, -33.09498689, -23.30189927])],\n",
       " 40: [0,\n",
       "  Quaternion(0.7702689941605327, -0.3769754348645626, -0.35527150112423916, 0.3719641899867847),\n",
       "  array([ 22.2022102 ,   9.46099636, -53.75521912])],\n",
       " 41: [-17.08321956648618,\n",
       "  Quaternion(0.7826016241314763, -0.09139663715826782, -0.16444559433950914, 0.5934130088945311),\n",
       "  array([13.55849623, 26.31013763, 36.15816392])],\n",
       " 42: [6893.483344619819,\n",
       "  Quaternion(0.6154050538851301, -0.23741934954307933, -0.6285772786926682, 0.4120670780667886),\n",
       "  array([25.93349603,  4.52538474, 27.06991621])],\n",
       " 43: [1862950.3103771268,\n",
       "  Quaternion(0.8758749128639026, -0.26691162506908844, -0.3374161611611844, -0.21852152206562878),\n",
       "  array([ 14.97062755, -10.85304051,   3.89837301])],\n",
       " 44: [0,\n",
       "  Quaternion(0.7780674956908269, 0.3510747929654925, 0.2630546234499461, -0.4496217598996391),\n",
       "  array([-20.93980501,  45.41798144,  14.57502438])],\n",
       " 45: [26337329.808726694,\n",
       "  Quaternion(0.964718464858549, -0.2614571546491184, -0.025130790230660012, -0.01807991222695461),\n",
       "  array([  2.49987376, -10.55831859,  19.90654146])],\n",
       " 46: [0,\n",
       "  Quaternion(0.9013007812331167, 0.42396051700207504, -0.08895960134910857, -0.0007557113962230066),\n",
       "  array([-21.60818651, -25.27119564,  33.9189543 ])],\n",
       " 47: [42316153.33850677,\n",
       "  Quaternion(0.8597503946377217, -0.31664615900735965, 0.39997047744530495, -0.024250486146522726),\n",
       "  array([ 14.11798566,  -0.03750767, -24.63980959])],\n",
       " 48: [-18.382431162833026,\n",
       "  Quaternion(0.6272063549152663, -0.09896652082795636, 0.13687712501525362, -0.7603173473995404),\n",
       "  array([ 13.21978389,  21.05930047, -36.47982357])],\n",
       " 49: [2817224.7121835067,\n",
       "  Quaternion(0.8472775546466998, -0.06493314107776177, 0.10584754394246391, -0.5164307601441189),\n",
       "  array([ 4.02150491,  6.48384438, -9.54250706])],\n",
       " None: {...}}"
      ]
     },
     "execution_count": 97,
     "metadata": {},
     "output_type": "execute_result"
    }
   ],
   "source": [
    "model.structinfo"
   ]
  }
 ],
 "metadata": {
  "interpreter": {
   "hash": "893ff73af0343fa8c074fd691fa7d354239cd6af6e64ae4bc39d961f124ac4c2"
  },
  "kernelspec": {
   "display_name": "Python 3",
   "language": "python",
   "name": "python3"
  },
  "language_info": {
   "codemirror_mode": {
    "name": "ipython",
    "version": 3
   },
   "file_extension": ".py",
   "mimetype": "text/x-python",
   "name": "python",
   "nbconvert_exporter": "python",
   "pygments_lexer": "ipython3",
   "version": "3.9.2"
  }
 },
 "nbformat": 4,
 "nbformat_minor": 4
}
