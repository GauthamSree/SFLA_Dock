{
 "cells": [
  {
   "cell_type": "code",
   "execution_count": 9,
   "metadata": {},
   "outputs": [],
   "source": [
    "%reload_ext autoreload\n",
    "%autoreload 2"
   ]
  },
  {
   "cell_type": "code",
   "execution_count": 64,
   "metadata": {},
   "outputs": [],
   "source": [
    "from utils import poses"
   ]
  },
  {
   "cell_type": "code",
   "execution_count": 154,
   "metadata": {},
   "outputs": [],
   "source": [
    "def clip_the_point_max_step(worst_frog_pos, best_frog_pos):\n",
    "    t = 10/np.linalg.norm(worst_frog_pos - best_frog_pos)\n",
    "    new_change = (1 - t)*worst_frog_pos + t*best_frog_pos\n",
    "    return new_change"
   ]
  },
  {
   "cell_type": "code",
   "execution_count": 164,
   "metadata": {},
   "outputs": [],
   "source": [
    "sfla_1.memeplexes = sfla_1.sort_frog()"
   ]
  },
  {
   "cell_type": "code",
   "execution_count": 191,
   "metadata": {},
   "outputs": [],
   "source": [
    "new_q, new_t = sfla_1.new_step(sfla_1.structinfo[5][1], sfla_1.structinfo[5][2], sfla_1.structinfo[9][1], sfla_1.structinfo[9][2])"
   ]
  },
  {
   "cell_type": "code",
   "execution_count": 192,
   "metadata": {},
   "outputs": [],
   "source": [
    "new_q_1, new_t_1 = sfla_1.new_step_test(sfla_1.structinfo[5][1], sfla_1.structinfo[5][2], sfla_1.structinfo[9][1], sfla_1.structinfo[9][2])"
   ]
  },
  {
   "cell_type": "code",
   "execution_count": 195,
   "metadata": {},
   "outputs": [
    {
     "name": "stdout",
     "output_type": "stream",
     "text": [
      "MSMS running for poses/out101.pdb\n",
      "MSMS finished with poses/out101.pdb\n"
     ]
    }
   ],
   "source": [
    "final = sfla_1.ligand.tranformation(new_q_1, new_t_1)   #final = np.array([Uq.rotate(i) for i in self.lig_atom])  \n",
    "results =sfla_1.find_score([final, 101, new_q_1, new_t_1])"
   ]
  },
  {
   "cell_type": "code",
   "execution_count": 199,
   "metadata": {},
   "outputs": [
    {
     "data": {
      "text/plain": [
       "21.182364076911945"
      ]
     },
     "execution_count": 199,
     "metadata": {},
     "output_type": "execute_result"
    }
   ],
   "source": [
    "np.linalg.norm(new_t_1)"
   ]
  },
  {
   "cell_type": "code",
   "execution_count": 196,
   "metadata": {},
   "outputs": [
    {
     "data": {
      "text/plain": [
       "(46381.94082487143,\n",
       " 101,\n",
       " Quaternion(0.7908955136993902, 0.02198214455782066, -0.22075132550856919, 0.5703244024386703),\n",
       " array([ -2.64304872, -20.13472692,   6.02491602]))"
      ]
     },
     "execution_count": 196,
     "metadata": {},
     "output_type": "execute_result"
    }
   ],
   "source": [
    "results"
   ]
  },
  {
   "cell_type": "code",
   "execution_count": 189,
   "metadata": {},
   "outputs": [
    {
     "data": {
      "text/plain": [
       "[-30.397091764806422,\n",
       " Quaternion(0.8105213235790795, 0.03500468907997499, -0.07755693990824637, 0.5794952776667813),\n",
       " array([ -9.98857793, -18.98548946,  28.15920725])]"
      ]
     },
     "execution_count": 189,
     "metadata": {},
     "output_type": "execute_result"
    }
   ],
   "source": [
    "sfla_1.structinfo[5]"
   ]
  },
  {
   "cell_type": "code",
   "execution_count": 190,
   "metadata": {},
   "outputs": [
    {
     "data": {
      "text/plain": [
       "[48076131.94406144,\n",
       " Quaternion(0.5161136363828437, -0.037365014798154295, -0.7602118175000121, 0.3928212857549089),\n",
       " array([  0.50284043, -20.62691388,  -3.45459522])]"
      ]
     },
     "execution_count": 190,
     "metadata": {},
     "output_type": "execute_result"
    }
   ],
   "source": [
    "sfla_1.structinfo[9]"
   ]
  },
  {
   "cell_type": "code",
   "execution_count": 180,
   "metadata": {},
   "outputs": [
    {
     "data": {
      "text/plain": [
       "array([-5.55242414, -1.75247124, 30.52201395])"
      ]
     },
     "execution_count": 180,
     "metadata": {},
     "output_type": "execute_result"
    }
   ],
   "source": [
    "new_t_1"
   ]
  },
  {
   "cell_type": "code",
   "execution_count": 173,
   "metadata": {},
   "outputs": [],
   "source": [
    "sfla_1.step_size = 10"
   ]
  },
  {
   "cell_type": "code",
   "execution_count": 169,
   "metadata": {},
   "outputs": [
    {
     "data": {
      "text/plain": [
       "Quaternion(0.8773262983303337, -0.44705412890200386, 0.05120826949124852, -0.16678994341799044)"
      ]
     },
     "execution_count": 169,
     "metadata": {},
     "output_type": "execute_result"
    }
   ],
   "source": [
    "sfla_1.structinfo[22]"
   ]
  },
  {
   "cell_type": "code",
   "execution_count": 165,
   "metadata": {},
   "outputs": [
    {
     "data": {
      "text/plain": [
       "array([[39.,  8., 47., 13., 22.],\n",
       "       [ 5., 11., 44., 42.,  9.],\n",
       "       [41., 15., 20., 46., 32.],\n",
       "       [26., 17.,  3.,  1., 19.],\n",
       "       [ 7., 24., 36., 34., 14.],\n",
       "       [16., 27., 35., 43.,  0.],\n",
       "       [18., 28., 38., 37., 48.],\n",
       "       [33., 31., 10.,  4., 25.],\n",
       "       [ 6., 40., 21., 49., 23.],\n",
       "       [29., 45., 12.,  2., 30.]])"
      ]
     },
     "execution_count": 165,
     "metadata": {},
     "output_type": "execute_result"
    }
   ],
   "source": [
    "sfla_1.memeplexes"
   ]
  },
  {
   "cell_type": "code",
   "execution_count": 136,
   "metadata": {},
   "outputs": [
    {
     "data": {
      "text/plain": [
       "78.16790088800205"
      ]
     },
     "execution_count": 136,
     "metadata": {},
     "output_type": "execute_result"
    }
   ],
   "source": [
    "recMax"
   ]
  },
  {
   "cell_type": "code",
   "execution_count": 1,
   "metadata": {},
   "outputs": [],
   "source": [
    "from sfla import SFLA "
   ]
  },
  {
   "cell_type": "code",
   "execution_count": 2,
   "metadata": {},
   "outputs": [],
   "source": [
    "model = SFLA(frogs=50, mplx_no=10, n_iter=2, N=2, q=4)"
   ]
  },
  {
   "cell_type": "code",
   "execution_count": 3,
   "metadata": {},
   "outputs": [
    {
     "output_type": "stream",
     "name": "stdout",
     "text": [
      "MSMS running for poses/out0.pdb\n",
      "\n",
      "poses/out1.pdb MSMS running forMSMS running for poses/out2.pdb\n",
      "MSMS running for \n",
      "poses/out4.pdb\n",
      "MSMS running for poses/out3.pdb\n",
      "MSMS running for poses/out5.pdb\n",
      "\n",
      "poses/out7.pdbposes/out6.pdb  MSMS running for\n",
      "poses/out8.pdb MSMS running forMSMS running forMSMS running for poses/out9.pdb\n",
      "MSMS running for poses/out10.pdb\n",
      "MSMS running for poses/out11.pdb\n",
      "MSMS running for poses/out12.pdb\n",
      "MSMS running for poses/out13.pdb\n",
      "\n",
      "poses/out15.pdb MSMS running forMSMS running for poses/out14.pdb\n",
      "MSMS running for poses/out16.pdb\n",
      "MSMS running for poses/out17.pdb\n",
      "MSMS running for poses/out18.pdb\n",
      "MSMS running for poses/out19.pdb\n",
      "MSMS running for poses/out20.pdb\n",
      "MSMS running for poses/out21.pdb\n",
      "\n",
      "poses/out22.pdb MSMS running forMSMS running for\n",
      " poses/out23.pdb\n",
      "MSMS running for poses/out24.pdbMSMS running for poses/out25.pdb\n",
      "MSMS running for poses/out26.pdb\n",
      "\n",
      "poses/out27.pdb MSMS running forMSMS running for poses/out28.pdb\n",
      "MSMS running for poses/out29.pdb\n",
      "MSMS running for poses/out30.pdb\n",
      "MSMS running for poses/out31.pdb\n",
      "MSMS running for poses/out32.pdb\n",
      "MSMS running for poses/out33.pdb\n",
      "MSMS running for poses/out34.pdb\n",
      "MSMS running for poses/out35.pdb\n",
      "MSMS running for poses/out36.pdb\n",
      "MSMS running for poses/out37.pdb\n",
      "MSMS running for poses/out38.pdb\n",
      "MSMS running for poses/out39.pdb\n",
      "MSMS finished with poses/out8.pdb\n",
      "MSMS finished with poses/out7.pdb\n",
      "MSMS running for poses/out40.pdb\n",
      "MSMS running for poses/out41.pdb\n",
      "MSMS finished with poses/out24.pdb\n",
      "MSMS running for poses/out42.pdb\n",
      "MSMS finished with poses/out29.pdb\n",
      "MSMS running for poses/out43.pdb\n",
      "MSMS finished with poses/out10.pdb\n",
      "MSMS running for poses/out44.pdb\n",
      "MSMS finished with poses/out4.pdb\n",
      "MSMS finished with\n",
      " poses/out11.pdbMSMS finished with poses/out13.pdb\n",
      "MSMS running for poses/out46.pdb\n",
      "MSMS running for poses/out47.pdb\n",
      "MSMS running for poses/out45.pdb\n",
      "MSMS finished with poses/out1.pdb\n",
      "MSMS finished with poses/out30.pdb\n",
      "MSMS finished with poses/out26.pdb\n",
      "MSMS running for poses/out48.pdb\n",
      "MSMS running for poses/out49.pdb\n",
      "MSMS finished with poses/out32.pdb\n",
      "MSMS finished with poses/out0.pdb\n",
      "MSMS finished with poses/out6.pdb\n",
      "MSMS finished with poses/out12.pdb\n",
      "MSMS finished with poses/out28.pdb\n",
      "MSMS finished with poses/out21.pdb\n",
      "MSMS finished with poses/out3.pdb\n",
      "MSMS finished with poses/out25.pdb\n",
      "MSMS finished with poses/out2.pdb\n",
      "MSMS finished with poses/out14.pdb\n",
      "MSMS finished with poses/out17.pdb\n",
      "MSMS finished with poses/out5.pdb\n",
      "MSMS finished with poses/out37.pdb\n",
      "MSMS finished with poses/out20.pdb\n",
      "MSMS finished with poses/out33.pdb\n",
      "MSMS finished with poses/out19.pdb\n",
      "MSMS finished with poses/out22.pdb\n",
      "MSMS finished with poses/out9.pdb\n",
      "MSMS finished with poses/out23.pdb\n",
      "MSMS finished with poses/out31.pdb\n",
      "MSMS finished with poses/out39.pdb\n",
      "MSMS finished with poses/out38.pdb\n",
      "MSMS finished with poses/out15.pdb\n",
      "MSMS finished with poses/out49.pdb\n",
      "MSMS finished with poses/out16.pdb\n",
      "MSMS finished with poses/out27.pdb\n",
      "MSMS finished with poses/out18.pdb\n",
      "MSMS finished with poses/out36.pdb\n",
      "MSMS finished with poses/out34.pdb\n",
      "MSMS finished with poses/out35.pdb\n",
      "MSMS finished with poses/out41.pdb\n",
      "MSMS finished with poses/out40.pdb\n",
      "MSMS finished with poses/out43.pdb\n",
      "MSMS finished with poses/out42.pdb\n",
      "MSMS finished with poses/out48.pdb\n",
      "MSMS finished with poses/out44.pdb\n",
      "MSMS finished with poses/out45.pdb\n",
      "MSMS finished with poses/out46.pdb\n",
      "MSMS finished with poses/out47.pdb\n"
     ]
    }
   ],
   "source": [
    "model.run_sfla_test(\"Data/4dn4_LH:M/\", \"4dn4\", \"LH\", \"M\")"
   ]
  },
  {
   "cell_type": "code",
   "execution_count": 15,
   "metadata": {},
   "outputs": [
    {
     "output_type": "execute_result",
     "data": {
      "text/plain": [
       "{0: [2666123638.572336,\n",
       "  Quaternion(0.751794692382662, 0.1251349645492385, -0.5843669628423872, -0.2786776522990016),\n",
       "  array([-26.85428309, -14.99056923,   9.60549515])],\n",
       " 1: [27880786731.304863,\n",
       "  Quaternion(0.34859079403260423, -0.8328395387304101, -0.18936256786264152, -0.38601111245079817),\n",
       "  array([ -3.22117135,   3.47670906, -13.73307849])],\n",
       " 2: [-56.185603402694554,\n",
       "  Quaternion(0.49748836748018643, 0.30281963819043606, -0.3439555220046789, 0.7365461219982095),\n",
       "  array([ -7.86895169,  19.20295601, -22.11289477])],\n",
       " 3: [714935944.0329845,\n",
       "  Quaternion(0.9299055068717239, -0.17984277723306039, 0.10349481116318952, -0.30367935035006555),\n",
       "  array([  4.32225825,  18.31468695, -35.93263169])],\n",
       " 4: [0,\n",
       "  Quaternion(0.8158529759570551, 0.3346063850660154, -0.2804423532466054, 0.3791761796323402),\n",
       "  array([ 18.31905867, -16.19695867, -51.04242676])],\n",
       " 5: [44543.97250352548,\n",
       "  Quaternion(0.7868945955540179, 0.6111503150520987, 0.0815351183695834, 0.025381339051697028),\n",
       "  array([-17.24400569, -10.74375108, -25.74711172])],\n",
       " 6: [2452107686.4858356,\n",
       "  Quaternion(0.6919411392392927, 0.06155135716925327, 0.7095277186208555, -0.11831866618389789),\n",
       "  array([16.28130868, -4.47930568, 11.39223961])],\n",
       " 7: [0,\n",
       "  Quaternion(0.9587941970634083, -0.1644207188294166, 0.14883293112977983, -0.1775620272143518),\n",
       "  array([-47.7364291 ,  -7.54664072,  29.54872699])],\n",
       " 8: [0,\n",
       "  Quaternion(0.8343165088064785, -0.37687894302095726, -0.37760477282892546, 0.13889874361271712),\n",
       "  array([-23.36278057,  51.90583943,  20.62244456])],\n",
       " 9: [-2.569443077594827,\n",
       "  Quaternion(0.41498288162420527, 0.7851384795532247, 0.3167706306816045, 0.3331713424370412),\n",
       "  array([  4.81141655, -44.6850807 , -27.3398392 ])],\n",
       " 10: [0,\n",
       "  Quaternion(0.9103105575410546, -0.24691293152117075, 0.20047907392549907, -0.26490910515663696),\n",
       "  array([ 38.87768772, -34.16427433, -37.58120302])],\n",
       " 11: [0,\n",
       "  Quaternion(0.9759409752747834, 0.04914112125101873, -0.12242761344480688, 0.17359678121470504),\n",
       "  array([ -4.83593695,  -2.60214877, -51.73476267])],\n",
       " 12: [94287898310.93413,\n",
       "  Quaternion(0.9529186109573686, -0.24568443371581342, -0.014084152317451332, 0.17716353059904283),\n",
       "  array([-1.61404952, 18.90306459, -3.9527988 ])],\n",
       " 13: [0,\n",
       "  Quaternion(0.9795987403315842, 0.0831054119816835, -0.07060899174490118, 0.1688021585315089),\n",
       "  array([ 14.24068425,  13.22849865, -54.48827621])],\n",
       " 14: [142698584303.15265,\n",
       "  Quaternion(0.8452141805991357, -0.3132215777663181, 0.3457009763778813, -0.26076055504445017),\n",
       "  array([  4.48080374, -14.40787099, -33.22268488])],\n",
       " 15: [40887.71957500702,\n",
       "  Quaternion(0.9054167347441343, 0.23555011617984925, 0.23576301502720243, 0.2629685912009506),\n",
       "  array([ 21.261073  , -33.10814276, -30.27204277])],\n",
       " 16: [137519.28607424942,\n",
       "  Quaternion(0.7640515559004967, -0.026272527567901337, -0.057785504140770216, 0.6420247734569291),\n",
       "  array([ 9.89752836, 32.49898103, 23.8746508 ])],\n",
       " 17: [204252.3612677889,\n",
       "  Quaternion(0.6088016284808433, -0.006920216025486174, -0.44258541532297335, -0.6583546444832183),\n",
       "  array([-29.32762084,  -4.83800943,  23.44460348])],\n",
       " 18: [0,\n",
       "  Quaternion(0.35837260072563976, 0.5455643241407541, 0.22359227387385086, 0.7238336427231774),\n",
       "  array([-47.19605409,  14.49468974,   4.67343876])],\n",
       " 19: [12154.834414472673,\n",
       "  Quaternion(0.5689360365710737, -0.6338378348243661, -0.45945090373746506, 0.2519250930153324),\n",
       "  array([ 2.69949891, 10.87668431, 38.40069704])],\n",
       " 20: [2171017672.6246557,\n",
       "  Quaternion(0.5564215409119279, 0.21549523081708488, 0.6050585462075035, -0.5271252507379526),\n",
       "  array([ 31.35372024, -16.18659114,  -9.87267375])],\n",
       " 21: [2.5286548556713836e+18,\n",
       "  Quaternion(0.7601526864981566, -0.546707780925355, -0.05720738845053106, -0.34641854770202396),\n",
       "  array([-22.2555501 ,  13.34884421,  11.5181412 ])],\n",
       " 22: [767959219.3712811,\n",
       "  Quaternion(0.5507943548382602, -0.011544809729344388, 0.8145492624330822, 0.18166396207376886),\n",
       "  array([ 14.15667547,  11.73420886, -19.88153306])],\n",
       " 23: [-2.4530438454994705,\n",
       "  Quaternion(0.8870103251605215, 0.032221539644767344, 0.2235410474583201, -0.4027453979163305),\n",
       "  array([-45.88421154,  13.45246981,  23.84780455])],\n",
       " 24: [0,\n",
       "  Quaternion(0.8977500846609429, 0.31626410946380346, 0.017735136923037072, -0.3061164214390636),\n",
       "  array([-29.49332733,  39.02462772,  -1.92137514])],\n",
       " 25: [1037626956634465.0,\n",
       "  Quaternion(0.8539567263742673, 0.2946050573955068, 0.15633677609347024, -0.399405285490609),\n",
       "  array([-20.84518496,  15.4218618 ,  25.48100488])],\n",
       " 26: [0,\n",
       "  Quaternion(0.7782728515856605, -0.5299078220148752, -0.32300640334265723, -0.09568663465613385),\n",
       "  array([ 51.57232687, -13.68624997,  -7.00274697])],\n",
       " 27: [0,\n",
       "  Quaternion(0.4945621864949715, -0.5537840325603538, -0.5896027963559687, -0.3179623114454418),\n",
       "  array([ 50.46906894,  13.41951291, -23.59367317])],\n",
       " 28: [108731325693.24042,\n",
       "  Quaternion(0.9066448551034716, 0.020935529976941307, -0.11523838131306104, 0.40531090013881343),\n",
       "  array([20.62183962, -6.92598523,  0.74668654])],\n",
       " 29: [0,\n",
       "  Quaternion(0.7504735683910341, 0.02823764998339367, -0.6508382883059978, -0.1113623847839219),\n",
       "  array([-32.80533848,  11.24201092,  41.08358038])],\n",
       " 30: [3147598553.6587663,\n",
       "  Quaternion(0.9435184519431946, 0.021481472633815328, -0.1876287979465119, -0.27222584623313617),\n",
       "  array([ 16.24451877,  -3.67265104, -12.03763769])],\n",
       " 31: [190.34252199617626,\n",
       "  Quaternion(0.922435816001043, 0.19643551703999254, 0.25350071442485506, -0.2150875189075576),\n",
       "  array([45.64257663,  3.64122641, -8.99039843])],\n",
       " 32: [0,\n",
       "  Quaternion(0.6686746029269977, 0.7138572854074097, 0.20552960521496733, -0.03224333809278403),\n",
       "  array([30.12500852, 31.32736866, 17.76350796])],\n",
       " 33: [177097429.89359432,\n",
       "  Quaternion(0.5646255746724872, -0.36570352331670397, 0.055963644547722464, -0.7377851746602454),\n",
       "  array([ 12.80487475,  -1.25725243, -39.26827688])],\n",
       " 34: [744986376.763207,\n",
       "  Quaternion(0.7922013416065968, 0.2682467289037945, 0.39703527148264356, 0.3779202561226719),\n",
       "  array([-35.51666824,   1.10807145,  11.84793412])],\n",
       " 35: [-1.2959240219410968,\n",
       "  Quaternion(0.9954514328009472, -0.039386922188621734, -0.035240988536056395, -0.0792665630770662),\n",
       "  array([35.32737569, 13.94716939, 14.20046859])],\n",
       " 36: [427524983.4485989,\n",
       "  Quaternion(0.22036289087249106, 0.544918700724457, 0.712130260741954, 0.38389360200801054),\n",
       "  array([-10.71086759,   6.78480831, -35.71526455])],\n",
       " 37: [3210.0332984354022,\n",
       "  Quaternion(0.5717736126489037, 0.8175511947200504, 0.05689780635583804, -0.03804759548425042),\n",
       "  array([ -2.07241998, -31.75104807,   1.41246412])],\n",
       " 38: [722351519.5855992,\n",
       "  Quaternion(0.8061576568758858, 0.28841841916535493, 0.3175428879799217, 0.40754283460749235),\n",
       "  array([-31.21569138,   5.25943959,  -2.75965848])],\n",
       " 39: [19191778440.32221,\n",
       "  Quaternion(0.8252600577143967, 0.1776322204445495, 0.30450556955809904, -0.4412130885516287),\n",
       "  array([ 24.77755692, -12.82469673, -29.15987514])],\n",
       " 40: [-14.260382700126893,\n",
       "  Quaternion(0.7702689941605327, -0.3769754348645626, -0.35527150112423916, 0.3719641899867847),\n",
       "  array([-14.18646387, -37.57260375,  -7.70815736])],\n",
       " 41: [5588266.3055203045,\n",
       "  Quaternion(0.7826016241314763, -0.09139663715826782, -0.16444559433950914, 0.5934130088945311),\n",
       "  array([-15.76608179,   1.23537149,  28.6184628 ])],\n",
       " 42: [14938095111.900263,\n",
       "  Quaternion(0.6154050538851301, -0.23741934954307933, -0.6285772786926682, 0.4120670780667886),\n",
       "  array([  0.7799124 , -24.89939834, -22.56287473])],\n",
       " 43: [175645.1790342273,\n",
       "  Quaternion(0.8758749128639026, -0.26691162506908844, -0.3374161611611844, -0.21852152206562878),\n",
       "  array([11.36430296, 23.76660038,  7.49223895])],\n",
       " 44: [18878633148.674217,\n",
       "  Quaternion(0.7780674956908269, 0.3510747929654925, 0.2630546234499461, -0.4496217598996391),\n",
       "  array([-24.12911089, -15.00592881,  -9.85515294])],\n",
       " 45: [18.136411254507745,\n",
       "  Quaternion(0.964718464858549, -0.2614571546491184, -0.025130790230660012, -0.01807991222695461),\n",
       "  array([ 15.45396268,  29.6214276 , -19.97032591])],\n",
       " 46: [0,\n",
       "  Quaternion(0.9013007812331167, 0.42396051700207504, -0.08895960134910857, -0.0007557113962230066),\n",
       "  array([-17.08033701,  17.3492296 ,  46.60653431])],\n",
       " 47: [179096.96318784164,\n",
       "  Quaternion(0.8597503946377217, -0.31664615900735965, 0.39997047744530495, -0.024250486146522726),\n",
       "  array([31.07725446, 10.21718767, -0.55077467])],\n",
       " 48: [43336355569.49774,\n",
       "  Quaternion(0.6272063549152663, -0.09896652082795636, 0.13687712501525362, -0.7603173473995404),\n",
       "  array([ 31.47325563,  -1.5143067 , -11.67616351])],\n",
       " 49: [0,\n",
       "  Quaternion(0.8472775546466998, -0.06493314107776177, 0.10584754394246391, -0.5164307601441189),\n",
       "  array([-40.97921223,  37.25218546,  17.53440647])]}"
      ]
     },
     "metadata": {},
     "execution_count": 15
    }
   ],
   "source": [
    "model.structinfo"
   ]
  },
  {
   "cell_type": "code",
   "execution_count": 27,
   "metadata": {},
   "outputs": [
    {
     "output_type": "stream",
     "name": "stdout",
     "text": [
      "MSMS running for poses/out51.pdb\n",
      "MSMS running for poses/out52.pdb\n",
      "MSMS running for poses/out53.pdb\n",
      "MSMS running for poses/out55.pdb\n",
      "MSMS running for poses/out54.pdb\n",
      "MSMS running for poses/out56.pdb\n",
      "MSMS running for MSMS running forposes/out57.pdb \n",
      "poses/out58.pdb\n",
      "MSMS running for poses/out59.pdb\n",
      "MSMS running for poses/out60.pdb\n",
      "MSMS finished with poses/out59.pdb\n",
      "MSMS finished with poses/out57.pdb\n",
      "MSMS running for poses/out59.pdb\n",
      "MSMS finished with poses/out54.pdb\n",
      "MSMS running for poses/out57.pdb\n",
      "MSMS running for poses/out54.pdb\n",
      "MSMS finished with poses/out58.pdb\n",
      "MSMS finished with poses/out51.pdb\n",
      "MSMS finished with poses/out60.pdb\n",
      "MSMS finished with poses/out56.pdb\n",
      "MSMS finished with MSMS finished withposes/out55.pdb \n",
      "poses/out53.pdb\n",
      "MSMS running for poses/out51.pdb\n",
      "MSMS running for poses/out58.pdb\n",
      "MSMS running for poses/out60.pdb\n",
      "MSMS running for poses/out56.pdb\n",
      "MSMS finished with poses/out52.pdb\n",
      "MSMS running for poses/out55.pdb\n",
      "MSMS running for poses/out53.pdb\n",
      "MSMS running for poses/out52.pdb\n",
      "MSMS finished with poses/out57.pdb\n",
      "MSMS finished with poses/out59.pdb\n",
      "MSMS running for poses/out57.pdb\n",
      "MSMS finished with poses/out56.pdb\n",
      "MSMS finished with poses/out54.pdb\n",
      "MSMS finished with poses/out51.pdb\n",
      "MSMS finished withMSMS finished with  poses/out53.pdbposes/out60.pdb\n",
      "\n",
      "MSMS finished with poses/out58.pdb\n",
      "MSMS finished with poses/out55.pdb\n",
      "MSMS running for poses/out54.pdb\n",
      "MSMS running for poses/out51.pdb\n",
      "MSMS running for poses/out58.pdb\n",
      "MSMS running for poses/out55.pdb\n",
      "MSMS finished with poses/out52.pdb\n",
      "MSMS running for poses/out52.pdb\n",
      "MSMS finished with poses/out57.pdb\n",
      "MSMS running for poses/out57.pdb\n",
      "MSMS finished with poses/out51.pdb\n",
      "MSMS finished with poses/out55.pdb\n",
      "MSMS finished with poses/out54.pdb\n",
      "MSMS finished with poses/out58.pdb\n",
      "MSMS finished with poses/out57.pdb\n",
      "MSMS finished with poses/out52.pdb\n",
      "MSMS running for poses/out51.pdb\n",
      "\n",
      "poses/out52.pdb MSMS running forMSMS running for poses/out53.pdb\n",
      "MSMS running for poses/out54.pdb\n",
      "MSMS running for poses/out55.pdb\n",
      "MSMS running for poses/out56.pdb\n",
      "MSMS running for poses/out57.pdb\n",
      "MSMS running for poses/out58.pdb\n",
      "MSMS running for poses/out59.pdb\n",
      "MSMS running for poses/out60.pdb\n",
      "MSMS finished with poses/out57.pdb\n",
      "MSMS running for poses/out57.pdb\n",
      "MSMS finished with poses/out51.pdb\n",
      "MSMS running for poses/out51.pdb\n",
      "MSMS finished with poses/out55.pdb\n",
      "MSMS finished with poses/out53.pdb\n",
      "MSMS finished with poses/out54.pdb\n",
      "MSMS finished with poses/out52.pdb\n",
      "MSMS finished with poses/out60.pdb\n",
      "MSMS running for poses/out55.pdb\n",
      "MSMS running for poses/out53.pdb\n",
      "MSMS finished with poses/out58.pdb\n",
      "MSMS finished with poses/out59.pdb\n",
      "MSMS finished with poses/out56.pdb\n",
      "MSMS running for poses/out54.pdb\n",
      "MSMS running for poses/out52.pdb\n",
      "MSMS running for poses/out60.pdb\n",
      "MSMS running for poses/out59.pdb\n",
      "MSMS running for poses/out58.pdb\n",
      "MSMS running for poses/out56.pdb\n",
      "MSMS finished with poses/out57.pdb\n",
      "MSMS running for poses/out57.pdb\n",
      "MSMS finished with poses/out51.pdb\n",
      "MSMS finished with poses/out59.pdb\n",
      "MSMS finished with poses/out60.pdb\n",
      "MSMS running for poses/out59.pdb\n",
      "MSMS running for poses/out51.pdb\n",
      "MSMS running for poses/out60.pdb\n",
      "MSMS finished with poses/out53.pdb\n",
      "MSMS finished with poses/out55.pdb\n",
      "MSMS finished with poses/out58.pdb\n",
      "MSMS finished with poses/out54.pdb\n",
      "MSMS running for poses/out55.pdb\n",
      "MSMS finished with poses/out52.pdb\n",
      "MSMS running for poses/out58.pdb\n",
      "MSMS running for poses/out52.pdb\n",
      "MSMS running for poses/out54.pdb\n",
      "MSMS finished with poses/out56.pdb\n",
      "MSMS finished with poses/out57.pdb\n",
      "MSMS running for poses/out57.pdb\n",
      "MSMS finished with poses/out59.pdb\n",
      "MSMS finished with poses/out60.pdb\n",
      "MSMS finished with poses/out51.pdb\n",
      "MSMS finished with poses/out58.pdb\n",
      "MSMS running for poses/out58.pdb\n",
      "MSMS finished with poses/out55.pdb\n",
      "MSMS finished with poses/out52.pdb\n",
      "MSMS finished with poses/out54.pdb\n",
      "MSMS finished with poses/out57.pdb\n",
      "MSMS finished with poses/out58.pdb\n"
     ]
    }
   ],
   "source": [
    "model.run_remaining()"
   ]
  },
  {
   "cell_type": "code",
   "execution_count": 23,
   "metadata": {},
   "outputs": [
    {
     "output_type": "execute_result",
     "data": {
      "text/plain": [
       "array([[ 2., 13., 31., 33., 42.],\n",
       "       [40., 11., 37., 36., 44.],\n",
       "       [ 9., 46., 19.,  3., 39.],\n",
       "       [23., 32., 15., 38.,  1.],\n",
       "       [35., 18.,  5., 34., 48.],\n",
       "       [ 4., 27., 16., 22., 12.],\n",
       "       [49., 10., 43., 20., 28.],\n",
       "       [29.,  8., 47.,  6., 14.],\n",
       "       [26., 24., 17.,  0., 25.],\n",
       "       [ 7., 45., 41., 30., 21.]])"
      ]
     },
     "metadata": {},
     "execution_count": 23
    }
   ],
   "source": [
    "model.memeplexes"
   ]
  },
  {
   "cell_type": "code",
   "execution_count": 28,
   "metadata": {},
   "outputs": [
    {
     "output_type": "execute_result",
     "data": {
      "text/plain": [
       "array([[ 2., 13., 31., 33., 42.],\n",
       "       [40.,  8., 37., 36., 44.],\n",
       "       [ 9., 11., 19.,  3., 39.],\n",
       "       [23., 26., 15., 38.,  1.],\n",
       "       [35., 46.,  5., 34., 48.],\n",
       "       [ 4., 24., 16., 22., 12.],\n",
       "       [27., 32., 43., 20., 28.],\n",
       "       [49.,  7., 47.,  6., 14.],\n",
       "       [10., 18., 17.,  0., 25.],\n",
       "       [29., 45., 41., 30., 21.]])"
      ]
     },
     "metadata": {},
     "execution_count": 28
    }
   ],
   "source": [
    "model.memeplexes"
   ]
  },
  {
   "cell_type": "code",
   "execution_count": 26,
   "metadata": {},
   "outputs": [
    {
     "output_type": "execute_result",
     "data": {
      "text/plain": [
       "[2.5286548556713836e+18,\n",
       " Quaternion(0.7601526864981566, -0.546707780925355, -0.05720738845053106, -0.34641854770202396),\n",
       " array([-22.2555501 ,  13.34884421,  11.5181412 ])]"
      ]
     },
     "metadata": {},
     "execution_count": 26
    }
   ],
   "source": [
    "model.structinfo[21]"
   ]
  },
  {
   "cell_type": "code",
   "execution_count": 21,
   "metadata": {},
   "outputs": [
    {
     "output_type": "stream",
     "text": [
      "\u001b[0;31mSignature:\u001b[0m \u001b[0mmodel\u001b[0m\u001b[0;34m.\u001b[0m\u001b[0mlocal_search\u001b[0m\u001b[0;34m(\u001b[0m\u001b[0;34m)\u001b[0m\u001b[0;34m\u001b[0m\u001b[0;34m\u001b[0m\u001b[0m\n",
      "\u001b[0;31mDocstring:\u001b[0m <no docstring>\n",
      "\u001b[0;31mSource:\u001b[0m   \n",
      "    \u001b[0;32mdef\u001b[0m \u001b[0mlocal_search\u001b[0m\u001b[0;34m(\u001b[0m\u001b[0mself\u001b[0m\u001b[0;34m)\u001b[0m\u001b[0;34m:\u001b[0m\u001b[0;34m\u001b[0m\n",
      "\u001b[0;34m\u001b[0m        \u001b[0mself\u001b[0m\u001b[0;34m.\u001b[0m\u001b[0mFrog_gb\u001b[0m \u001b[0;34m=\u001b[0m \u001b[0mself\u001b[0m\u001b[0;34m.\u001b[0m\u001b[0mstructinfo\u001b[0m\u001b[0;34m[\u001b[0m\u001b[0mint\u001b[0m\u001b[0;34m(\u001b[0m\u001b[0mself\u001b[0m\u001b[0;34m.\u001b[0m\u001b[0mmemeplexes\u001b[0m\u001b[0;34m[\u001b[0m\u001b[0;36m0\u001b[0m\u001b[0;34m]\u001b[0m\u001b[0;34m[\u001b[0m\u001b[0;36m0\u001b[0m\u001b[0;34m]\u001b[0m\u001b[0;34m)\u001b[0m\u001b[0;34m]\u001b[0m\u001b[0;34m\u001b[0m\n",
      "\u001b[0;34m\u001b[0m        \u001b[0;34m\u001b[0m\n",
      "\u001b[0;34m\u001b[0m        \u001b[0;32mwith\u001b[0m \u001b[0mconcurrent\u001b[0m\u001b[0;34m.\u001b[0m\u001b[0mfutures\u001b[0m\u001b[0;34m.\u001b[0m\u001b[0mProcessPoolExecutor\u001b[0m\u001b[0;34m(\u001b[0m\u001b[0;34m)\u001b[0m \u001b[0;32mas\u001b[0m \u001b[0mexecutor\u001b[0m\u001b[0;34m:\u001b[0m\u001b[0;34m\u001b[0m\n",
      "\u001b[0;34m\u001b[0m            \u001b[0mdoargs\u001b[0m \u001b[0;34m=\u001b[0m \u001b[0;34m[\u001b[0m\u001b[0mim\u001b[0m \u001b[0;32mfor\u001b[0m \u001b[0mim\u001b[0m\u001b[0;34m,\u001b[0m \u001b[0m_\u001b[0m \u001b[0;32min\u001b[0m \u001b[0menumerate\u001b[0m\u001b[0;34m(\u001b[0m\u001b[0mself\u001b[0m\u001b[0;34m.\u001b[0m\u001b[0mmemeplexes\u001b[0m\u001b[0;34m)\u001b[0m\u001b[0;34m]\u001b[0m\u001b[0;34m\u001b[0m\n",
      "\u001b[0;34m\u001b[0m            \u001b[0mresults\u001b[0m \u001b[0;34m=\u001b[0m \u001b[0mexecutor\u001b[0m\u001b[0;34m.\u001b[0m\u001b[0mmap\u001b[0m\u001b[0;34m(\u001b[0m\u001b[0mself\u001b[0m\u001b[0;34m.\u001b[0m\u001b[0mlocal_search_one_memeplex\u001b[0m\u001b[0;34m,\u001b[0m \u001b[0mdoargs\u001b[0m\u001b[0;34m)\u001b[0m\u001b[0;34m\u001b[0m\u001b[0;34m\u001b[0m\u001b[0m\n",
      "\u001b[0;31mFile:\u001b[0m      ~/Documents/SFLADock/src/sfla.py\n",
      "\u001b[0;31mType:\u001b[0m      method\n"
     ],
     "name": "stdout"
    }
   ],
   "source": [
    "??model.local_search"
   ]
  },
  {
   "cell_type": "code",
   "execution_count": null,
   "metadata": {},
   "outputs": [],
   "source": []
  }
 ],
 "metadata": {
  "interpreter": {
   "hash": "893ff73af0343fa8c074fd691fa7d354239cd6af6e64ae4bc39d961f124ac4c2"
  },
  "kernelspec": {
   "name": "python3",
   "display_name": "Python 3.9.2 64-bit ('py3': conda)"
  },
  "language_info": {
   "codemirror_mode": {
    "name": "ipython",
    "version": 3
   },
   "file_extension": ".py",
   "mimetype": "text/x-python",
   "name": "python",
   "nbconvert_exporter": "python",
   "pygments_lexer": "ipython3",
   "version": "3.9.2"
  }
 },
 "nbformat": 4,
 "nbformat_minor": 4
}