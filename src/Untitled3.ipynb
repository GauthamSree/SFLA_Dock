{
 "cells": [
  {
   "cell_type": "code",
   "execution_count": 94,
   "id": "6af43f30-bd93-4b6e-b981-bf648f721b5d",
   "metadata": {},
   "outputs": [],
   "source": [
    "import os, glob, sys, math\n",
    "import concurrent.futures\n",
    "import argparse\n",
    "\n",
    "import shutil\n",
    "\n",
    "# from scipy.spatial.transform import Rotation as R\n",
    "from sklearn.neighbors import NearestNeighbors\n",
    "import numpy as np\n",
    "import pandas as pd\n",
    "from Bio.PDB import *\n",
    "from Bio.PDB.ResidueDepth import get_surface\n",
    "from Bio.PDB.PDBParser import PDBParser\n",
    "from Bio.PDB.ResidueDepth import min_dist\n",
    "from pyquaternion import Quaternion\n",
    "\n",
    "from utils import pdbtools\n",
    "from utils import pdb_resdepth\n",
    "from utils import matrice_distances\n",
    "from utils import Lennard_Jones\n",
    "from utils import electrostatic\n",
    "from utils import combine_methods as cm\n",
    "from utils import tm_score as tm\n",
    "\n",
    "# from surface import *\n",
    "p = PDBParser()\n",
    "\n",
    "recognized_residues = ['ALA', 'ARG', 'ASN', 'ASP', 'CYS', 'GLN', 'GLU', 'GLY', 'HIS', 'ILE', 'LEU', 'LYS', 'MET',\n",
    "                           'PHE', 'PRO', 'SER', 'THR', 'TRP', 'TYR', 'VAL', 'NH', 'OC']\n",
    "atom_types = [['N'], ['CA'], ['C'], ['O'], ['GLYCA'],\n",
    "                  ['ALACB', 'ARGCB', 'ASNCB', 'ASPCB', 'CYSCB', 'GLNCB', 'GLUCB', 'HISCB', 'ILECB', 'LEUCB', 'LYSCB',\n",
    "                   'METCB', 'PHECB', 'PROCB', 'PROCG', 'PROCD', 'THRCB', 'TRPCB', 'TYRCB', 'VALCB'],\n",
    "                  ['LYSCE', 'LYSNZ'], ['LYSCD'], ['ASPCG', 'ASPOD1', 'ASPOD2', 'GLUCD', 'GLUOE1', 'GLUOE2'],\n",
    "                  ['ARGCZ', 'ARGNH1', 'ARGNH2'],\n",
    "                  ['ASNCG', 'ASNOD1', 'ASNND2', 'GLNCD', 'GLNOE1', 'GLNNE2'], ['ARGCD', 'ARGNE'],\n",
    "                  ['SERCB', 'SEROG', 'THROG1', 'TYROH'],\n",
    "                  ['HISCG', 'HISND1', 'HISCD2', 'HISCE1', 'HISNE2', 'TRPNE1'], ['TYRCE1', 'TYRCE2', 'TYRCZ'],\n",
    "                  ['ARGCG', 'GLNCG', 'GLUCG', 'ILECG1', 'LEUCG', 'LYSCG', 'METCG', 'METSD', 'PHECG', 'PHECD1', 'PHECD2',\n",
    "                   'PHECE1', 'PHECE2', 'PHECZ', 'THRCG2', 'TRPCG', 'TRPCD1', 'TRPCD2', 'TRPCE2', 'TRPCE3', 'TRPCZ2',\n",
    "                   'TRPCZ3', 'TRPCH2', 'TYRCG', 'TYRCD1', 'TYRCD2'],\n",
    "                  ['ILECG2', 'ILECD1', 'ILECD', 'LEUCD1', 'LEUCD2', 'METCE', 'VALCG1', 'VALCG2'], ['CYSSG']]\n",
    "\n",
    "rng = np.random.default_rng(0)\n",
    "\n",
    "\n",
    "\n",
    "\n",
    "\n",
    "\n",
    "class SFLA:\n",
    "    def __init__(self, frogs, mplx_no, n_iter, N, q):\n",
    "        self.frogs = frogs\n",
    "        self.mplx_no = mplx_no\n",
    "        self.FrogsEach = int(self.frogs/self.mplx_no)\n",
    "        self.weights = [2*(self.FrogsEach+1-j)/(self.FrogsEach*(self.FrogsEach+1)) for j in range(1, self.FrogsEach+1)] \n",
    "        self.structinfo = {}\n",
    "        self.init = 0\n",
    "        self.mypath ='poses/'\n",
    "        self.n_iter = n_iter\n",
    "        self.N = N\n",
    "        self.q = q\n",
    "        self.atom_mass = {}\n",
    "    \n",
    "    def chaindef(self, file, rec_chain):\n",
    "        structure = p.get_structure('1bth', file)\n",
    "        #self.COM[file] = structure.center_of_mass()\n",
    "        coordinatesr = np.empty((0,3))\n",
    "        tobi_residuesr = []\n",
    "        residue_id = []\n",
    "        boundary_residue_coord = np.empty((0,3))\n",
    "        atom_coord=np.empty((0,3))\n",
    "        atom_mass = []\n",
    "        boundary_residue_id=[]\n",
    "        boundary_residue_name=[]\n",
    "        for model in structure:\n",
    "            surface = get_surface(model)\n",
    "            for chain in model:\n",
    "                if chain.id in rec_chain:\n",
    "                    for residue in chain:\n",
    "                        cx = 0.0\n",
    "                        cy = 0.0\n",
    "                        cz = 0.0\n",
    "                        count = 0\n",
    "                        residue_index=recognized_residues.index(residue.get_resname())\n",
    "                        atom_set=np.empty((0,3))\n",
    "                        for atom in residue:\n",
    "                            if  not atom.name=='H':\n",
    "                                #print(atom.mass)\n",
    "                                ax=atom.get_coord()[0]\n",
    "                                ay=atom.get_coord()[1]\n",
    "                                az=atom.get_coord()[2]\n",
    "                                atom_set=np.append(atom_set,[atom.get_coord()], axis=0)\n",
    "                                atom_coord=np.append(atom_coord,[atom.get_coord()], axis=0)\n",
    "                                atom_mass.append(atom.mass)\n",
    "                                cur_atom=residue.get_resname()+atom.name\n",
    "                                for typ in atom_types:\n",
    "                                    if  cur_atom in typ or atom.name in ['N','CA','C','O']:\t#typ:#atom.name now added\n",
    "                                        cx += ax\n",
    "                                        cy += ay\n",
    "                                        cz += az\n",
    "                                        count += 1\n",
    "                                    else:\n",
    "                                        pass\n",
    "                        cx/= float(count)\n",
    "                        cy/= float(count)\n",
    "                        cz/= float(count)\n",
    "                        coordinatesr=np.append(coordinatesr,[[cx, cy, cz]], axis=0)\n",
    "                        #rcc+=1\n",
    "                        tobi_residuesr.append(residue_index)\n",
    "                        residue_id.append(str(residue.get_id()[1])+residue.get_id()[2])\n",
    "                        fji=0     #check whether any of of the atoms in the resdue are at a distance 3 A from surface\n",
    "                        for ji in range(len(atom_set)):\n",
    "                            if min_dist(atom_set[ji], surface) < 2:\n",
    "                                fji=1\n",
    "                                break\n",
    "                        if fji==1:\n",
    "                            boundary_residue_coord=np.append(boundary_residue_coord,[[cx, cy, cz]],axis=0)\n",
    "                            #boundary_atom_name.append(atom.name)\n",
    "                            boundary_residue_id.append(str(residue.get_id()[1])+residue.get_id()[2])\n",
    "                            boundary_residue_name.append(residue.get_resname())\n",
    "        self.atom_mass[file] = np.array(atom_mass)\n",
    "        return boundary_residue_coord,boundary_residue_name, boundary_residue_id, atom_coord\n",
    "    \n",
    "    def findPointNormals(self, points, numNeighbours, viewPoint, residue_id, residue_name, f):\n",
    "        nbrs = NearestNeighbors(n_neighbors=numNeighbours+1, algorithm='kd_tree').fit(points)\n",
    "        distances, indices = nbrs.kneighbors(points)\n",
    "        n = []\n",
    "        [n.append(indices[i][1:].tolist()) for i in range(0,len(indices))]\n",
    "\n",
    "        # find difference in position from neighbouring points\n",
    "        n=np.asarray(n).flatten('F')    \n",
    "        p = np.tile(points,(numNeighbours,1)) - points[n]\n",
    "        x=np.zeros((3,len(points),numNeighbours))\n",
    "        for i in range(0,3):\n",
    "            for j in range(0,len(points)):\n",
    "                for k in range(0,numNeighbours):\n",
    "                    x[i,j,k]=p[k*len(points)+j,i]\n",
    "        p = x\n",
    "        C = np.zeros((len(points),6))\n",
    "        C[:,0]= np.sum(np.multiply(p[0],p[0]),axis=1)\n",
    "        C[:,1]= np.sum(np.multiply(p[0],p[1]),axis=1)\n",
    "        C[:,2]= np.sum(np.multiply(p[0],p[2]),axis=1)\n",
    "        C[:,3]= np.sum(np.multiply(p[1],p[1]),axis=1)\n",
    "        C[:,4]= np.sum(np.multiply(p[1],p[2]),axis=1)\n",
    "        C[:,5]= np.sum(np.multiply(p[2],p[2]),axis=1)\n",
    "        C = np.divide(C, numNeighbours)\n",
    "        normals = np.zeros((len(points),3))\n",
    "        curvature = np.zeros((len(points),1))\n",
    "        for i in range(0,len(points)):\n",
    "            Cmat = [[C[i,0], C[i,1] ,C[i,2]], [C[i,1], C[i,3], C[i,4]], [C[i,2], C[i,4], C[i,5]]]\n",
    "            [value,vector] = np.linalg.eigh(Cmat)\n",
    "            [lam,k] = min(value), value.tolist().index(min(value))\n",
    "            normals[i,:] = vector[:,k] #np.transpose(vector[:,k])\n",
    "            curvature[i]= lam / sum(value)\n",
    "\n",
    "        return normals, curvature\n",
    "\n",
    "    def find_score(self, args):\n",
    "        output_file='out' + str(args[1]) + '.pdb'\n",
    "        pH = 7\n",
    "        dist = 8.6\n",
    "        depth = \"msms\"\n",
    "        with open(os.path.join(self.mypath, output_file),'w') as out:\n",
    "            in1 = open(self.rec_filename, \"r\")\n",
    "            in2 = open(self.lig_filename, \"r\")\n",
    "            for line in in1:\n",
    "                if \"ATOM\" in line:\n",
    "                    out.write(line)\n",
    "            indexing = 0\n",
    "            new_co = args[0]\n",
    "            for line in in2:\n",
    "                if \"ATOM\" in line:\n",
    "                    # print(line)\n",
    "                    l = line.split()\n",
    "                    l[0] = l[0].ljust(5)\n",
    "                    l[1] = l[1].rjust(5)\n",
    "                    l[2] = l[2].ljust(3)\n",
    "                    l[3] = l[3].ljust(3)\n",
    "                    l[4] = line[21]\n",
    "                    l[5] = (\"%4d\" % (int(line[22:26]))).rjust(4)\n",
    "                    l[6] = (\"%8.3f\" % (float(new_co[indexing][0]))).rjust(8)\n",
    "                    l[7] = (\"%8.3f\" % (float(new_co[indexing][1]))).rjust(8)\n",
    "                    l[8] = (\"%8.3f\" % (float(new_co[indexing][2]))).rjust(8)\n",
    "                    out.write(\n",
    "                        \"{0} {1}  {2} {3} {4}{5}    {6}{7}{8}\".format(\n",
    "                            l[0], l[1], l[2], l[3], l[4], l[5], l[6], l[7], l[8]\n",
    "                        )\n",
    "                    )\n",
    "                    out.write(\"\\n\")\n",
    "                    indexing += 1\n",
    "\n",
    "        pdbfile = os.path.join(self.mypath, output_file)\n",
    "        my_struct = pdbtools.read_pdb(pdbfile)\n",
    "        try:\n",
    "            depth_dict = pdb_resdepth.calculate_resdepth(structure=my_struct, pdb_filename=pdbfile, method=depth)\n",
    "        except:\n",
    "            return\n",
    "        distmat = matrice_distances.calc_distance_matrix(\n",
    "            structure=my_struct,\n",
    "            depth=depth_dict,\n",
    "            chain_R=self.rec_chain,\n",
    "            chain_L=self.lig_chain,\n",
    "            dist_max=dist,\n",
    "            method=depth,\n",
    "        )\n",
    "\n",
    "        vdw = Lennard_Jones.lennard_jones(dist_matrix=distmat)\n",
    "        electro = electrostatic.electrostatic(inter_resid_dict=distmat, pH=pH)\n",
    "        score = vdw + electro\n",
    "\n",
    "        return score, args[1], args[2], args[3]\n",
    "\n",
    "    def pdbpre(self, file1):\n",
    "        with open(os.path.join(self.path, file1), \"r\") as pdb_in:   # TODO: Args.pdb correct info\n",
    "            with open(file1 + \"1.pdb\", \"w\") as out: \n",
    "                atmno = 1\n",
    "                resno = 0\n",
    "                res = \"\"\n",
    "                fr = \"\"\n",
    "                l = [\"\"] * 11\n",
    "                for line in pdb_in:\n",
    "                    if \"ATOM\" in line[0:4]:\n",
    "                        li = line.split()\n",
    "                        l[0] = li[0].ljust(6)\n",
    "                        l[1] = str(atmno).rjust(4)\n",
    "                        l[2] = li[2].ljust(3)\n",
    "                        l[3] = li[3].ljust(3)\n",
    "                        l[4] = line[21]\n",
    "                        if fr != line[21]:\n",
    "                            atmno = 1\n",
    "                            resno = 0\n",
    "                            res = \"\"\n",
    "                            fr = line[21]\n",
    "                        if line[22:26] == res:\n",
    "                            l[5] = (\"%4d\" % (int(resno))).rjust(4)\n",
    "                        else:\n",
    "                            resno += 1\n",
    "                            res = line[22:26]\n",
    "                            l[5] = (\"%4d\" % (int(resno))).rjust(4)\n",
    "                        # if len(l[6])>10:\n",
    "                        l[6] = (\"%8.3f\" % (float(line[29:38]))).rjust(8)\n",
    "                        l[7] = (\"%8.3f\" % (float(line[38:46]))).rjust(8)\n",
    "                        l[8] = (\"%8.3f\" % (float(line[46:54]))).rjust(8)\n",
    "                        l[9] = (\"%6.2f\" % (float(line[55:60]))).rjust(6)\n",
    "                        l[10] = (\"%6.2f\" % (float(line[60:66]))).ljust(6)\n",
    "                        out.write(\n",
    "                            \"{0} {1}  {2} {3} {4}{5}    {6}{7}{8}{9}{10}\".format(\n",
    "                                l[0], l[1], l[2], l[3], l[4], l[5], l[6], l[7], l[8], l[9], l[10]\n",
    "                            )\n",
    "                        )\n",
    "                        out.write(\"\\n\")\n",
    "                        atmno += 1\n",
    "        return file1 + \"1.pdb\"\n",
    "\n",
    "    def generate_one_frog(self, uid):\n",
    "        Quater = [0, 0, 0, 0]\n",
    "        recRandIdx = rng.integers(0, self.rec_coord.shape[0] - 1)\n",
    "        ligRandIdx = rng.integers(0, self.lig_coord.shape[0] - 1)\n",
    "        axis = self.rec_coord[recRandIdx]\n",
    "        a = self.rec_normal[recRandIdx]\n",
    "        b = self.lig_normal[ligRandIdx]\n",
    "\n",
    "        dotProduct = np.dot(a, b)\n",
    "        theta = np.arccos(dotProduct) * 2 - np.pi\n",
    "\n",
    "        Quater = Quaternion(axis=a, angle=theta)\n",
    "\n",
    "        final = np.array([Quater.rotate(i) for i in self.lig_atom])\n",
    "        args = [[final, uid, Quater, -1]]\n",
    "        return args\n",
    "    \n",
    "    def generate_one_frog2(self, uid):\n",
    "        Quater = [0, 0, 0, 0]\n",
    "        recRandIdx = rng.integers(0, self.rec_coord.shape[0] - 1)\n",
    "        ligRandIdx = rng.integers(0, self.lig_coord.shape[0] - 1)\n",
    "        axis = self.rec_coord[recRandIdx]\n",
    "        a = self.rec_normal[recRandIdx]\n",
    "        b = self.lig_normal[ligRandIdx]\n",
    "        tran = a - b\n",
    "        dotProduct = np.dot(a, b)\n",
    "        theta = np.arccos(dotProduct) * 2 - np.pi\n",
    "\n",
    "        Quater = Quaternion(axis=a, angle=theta)\n",
    "\n",
    "        final = np.array([Quater.rotate(i + tran) for i in self.lig_atom])\n",
    "        args = [[final, uid, Quater, -1]]\n",
    "        return args\n",
    "    \n",
    "    def generate_one_frog1(self, uid):\n",
    "        Quater = [0, 0, 0, 0]\n",
    "        recRandIdx = rng.integers(0, self.rec_coord.shape[0] - 1)\n",
    "        ligRandIdx = rng.integers(0, self.lig_coord.shape[0] - 1)\n",
    "        a = self.rec_coord[recRandIdx]\n",
    "        b = self.lig_coord[ligRandIdx]\n",
    "        tran = b - a\n",
    "        dotProduct = np.dot(a, b)\n",
    "        theta = np.arccos(dotProduct) * 2 - np.pi\n",
    "\n",
    "        Quater = Quaternion(axis=a, angle=theta)\n",
    "        #lig_trans = [i + tran for i in self.lig_atom]\n",
    "        final = np.array([Quater.rotate(i + tran) for i in self.lig_atom])\n",
    "        args = [[final, uid, Quater, -1]]\n",
    "        return args\n",
    "    \n",
    "    def normalize_vector(self, v):\n",
    "        \"\"\"Normalizes a given vector\"\"\"\n",
    "        norm = np.linalg.norm(v)\n",
    "        if norm < 0.00001:\n",
    "            return v\n",
    "        return v / norm\n",
    "\n",
    "\n",
    "    def quaternion_from_vectors(self, a, b):\n",
    "        \"\"\"Calculate quaternion between two vectors a and b.\n",
    "        Code source: http://lolengine.net/blog/2014/02/24/quaternion-from-two-vectors-final\n",
    "        \"\"\"\n",
    "        u = self.normalize_vector(a)\n",
    "        v = self.normalize_vector(b)\n",
    "        norm_u_norm_v = np.sqrt( np.dot(u, u) * np.dot(v, v))\n",
    "        real_part = norm_u_norm_v + np.dot(u, v)\n",
    "\n",
    "        if real_part < 1.e-6 * norm_u_norm_v:\n",
    "            # If u and v are exactly opposite, rotate 180 degrees\n",
    "            # around an arbitrary orthogonal axis. Axis normalisation\n",
    "            # can happen later, when we normalise the quaternion.\n",
    "            real_part = 0.0\n",
    "            if abs(u[0]) > abs(u[2]):\n",
    "                w = [-u[1], u[0], 0.]\n",
    "            else:\n",
    "                w = [0., -u[2], u[1]]\n",
    "        else:\n",
    "            # Otherwise, build quaternion the standard way\n",
    "            w = np.cross(u, v)\n",
    "\n",
    "        #return np.quaternion(real_part, w[0], w[1], w[2]).normalized()\n",
    "        return Quaternion(real_part, w[0], w[1], w[2]).normalised\n",
    "    \n",
    "    def quaternion_from_vectors2(self, a, b):\n",
    "        \"\"\"Calculate quaternion between two vectors a and b.\n",
    "        Code source: http://lolengine.net/blog/2014/02/24/quaternion-from-two-vectors-final\n",
    "        \"\"\"\n",
    "        u = self.normalize_vector(a)\n",
    "        v = self.normalize_vector(b)\n",
    "        w = np.cross(u, v)\n",
    "        q = Quaternion(np.dot(u, v), w[0], w[1], w[2])\n",
    "        q[0] += q.magnitude\n",
    "        \n",
    "        return q.normalised\n",
    "\n",
    "    def translation(self, trans_coord):\n",
    "        return np.vstack([i + trans_coord for i in self.lig_atom])\n",
    "    \n",
    "    def rotation(self, q, lig_atom):\n",
    "        final = []\n",
    "        for i in lig_atom:\n",
    "            v = np.quaternion(0., i[0], i[1], i[2])\n",
    "            m = np.dot(np.dot(q, v), q.inverse())\n",
    "            final.append([m.x, m.y, m.z])\n",
    "        \n",
    "        return np.array(final)\n",
    "    \n",
    "    def tranformation(self, q, trans_coord):\n",
    "        #lig_new = self.translation(trans_coord)\n",
    "        #final = self.rotation(q, self.lig_atom)\n",
    "        final = np.array([q.rotate(i) for i in self.lig_atom])\n",
    "        return final\n",
    "    \n",
    "    def generate_one_frog3(self, uid):\n",
    "        #Quater = [0, 0, 0, 0]\n",
    "        recRandIdx = rng.integers(0, self.rec_coord.shape[0] - 1)\n",
    "        ligRandIdx = rng.integers(0, self.lig_coord.shape[0] - 1)\n",
    "        a = self.rec_coord[recRandIdx]\n",
    "        b = self.lig_coord[ligRandIdx]\n",
    "        quater = self.quaternion_from_vectors(a, b)\n",
    "        #lig_trans = a - b\n",
    "        lig_trans = self.normalize_vector(a) - self.normalize_vector(b)\n",
    "        #u = self.normalize_vector(a)\n",
    "        #v = self.normalize_vector(b)\n",
    "        final = self.tranformation(quater, lig_trans)\n",
    "        args = [[final, uid, quater, lig_trans, -1]]\n",
    "        return args \n",
    "    \n",
    "    def generate_init_population1(self):\n",
    "        with concurrent.futures.ProcessPoolExecutor() as executor:\n",
    "            Doargs = []\n",
    "            for _ in range(self.frogs):\n",
    "                Doargs += self.generate_one_frog1(self.init)\n",
    "                self.init += 1\n",
    "            \n",
    "            results = executor.map(self.find_score, Doargs)\n",
    "            for r in results:\n",
    "                if r:\n",
    "                    self.structinfo[r[1]] = [r[0], r[2], r[3]]      \n",
    "    \n",
    "    def generate_init_population(self):\n",
    "        with concurrent.futures.ProcessPoolExecutor() as executor:\n",
    "            Doargs = []\n",
    "            for _ in range(self.frogs):\n",
    "                Doargs += self.generate_one_frog2(self.init)\n",
    "                self.init += 1\n",
    "            \n",
    "            results = executor.map(self.find_score, Doargs)\n",
    "            for r in results:\n",
    "                if r:\n",
    "                    self.structinfo[r[1]] = [r[0], r[2]]   \n",
    "\n",
    "    def sort_frog(self):\n",
    "        sorted_fitness = np.array(sorted(self.structinfo, key = lambda x: self.structinfo[x][0]))\n",
    "\n",
    "        memeplexes = np.zeros((self.mplx_no, self.FrogsEach))\n",
    "\n",
    "        for j in range(self.FrogsEach):\n",
    "            for i in range(self.mplx_no):\n",
    "                memeplexes[i, j] = sorted_fitness[i + (self.mplx_no*j)] \n",
    "        return memeplexes\n",
    "\n",
    "\n",
    "    \n",
    "    def local_search_one_memeplex(self, im):\n",
    "        \"\"\"\n",
    "            q: The number of frogs in submemeplex\n",
    "            N: No of mutations\n",
    "        \"\"\"\n",
    "\n",
    "        for iN in range(self.N):\n",
    "            uId = self.init + im + 1\n",
    "            rValue = rng.random(self.FrogsEach) * self.weights                      # random value with probability weights\n",
    "            subindex = np.sort(np.argsort(rValue)[::-1][0:self.q])                  # index of selected frogs in memeplex\n",
    "            submemeplex = self.memeplexes[im][subindex] \n",
    "\n",
    "            #--- Improve the worst frog's position ---#\n",
    "            # Learn from local best Pb #\n",
    "            Pb = self.structinfo[int(submemeplex[0])]                               # mark the best frog in submemeplex\n",
    "            Pw = self.structinfo[int(submemeplex[self.q - 1])]                      # mark the worst frog in submemeplex\n",
    "\n",
    "            S = rng.random() * (Pb[1] - Pw[1]) \n",
    "            Uq = Pw[1] + S\n",
    "\n",
    "            globStep = False\n",
    "            censorship = False\n",
    "            \n",
    "            # Check feasible space and the performance #\n",
    "            if self.omega[0] <= min(Uq) and max(Uq) <= self.omega[1]:\n",
    "                final = np.array([Uq.rotate(i) for i in self.lig_atom])  \n",
    "                results = self.find_score([final, uId, Uq, im])\n",
    "\n",
    "                if results[0] > Pw[0]:\n",
    "                    globStep = True\n",
    "            else: \n",
    "                globStep = True\n",
    "\n",
    "            if globStep:\n",
    "                S = rng.random() * (self.Frog_gb[1] - Pw[1])\n",
    "                for i in range(4):\n",
    "                    if S[i] > 0:\n",
    "                        S[i] = min(S[i], self.max_step)\n",
    "                    else:\n",
    "                        S[i] = max(S[i], -self.max_step)\n",
    "                Uq = Pw[1] + S\n",
    "\n",
    "                if self.omega[0] <= min(Uq) and max(Uq) <= self.omega[1]:\n",
    "                    final = np.array([Uq.rotate(i) for i in self.lig_atom])  \n",
    "                    results = self.find_score([final, uId, Uq, im])\n",
    "                    if results[0] > Pw[0]:\n",
    "                        censorship = True\n",
    "                else:\n",
    "                    censorship = True\n",
    "\n",
    "            if censorship:\n",
    "                params = self.generate_one_frog(uId)\n",
    "                results = self.find_score(params)            \n",
    "\n",
    "\n",
    "            #StructInfo[im] = [results[0], results[2]]\n",
    "            shutil.move(os.path.join('poses/', 'out'+str(uId)+'.pdb'), os.path.join('poses/', 'out'+ str(submemeplex[self.q-1]) + '.pdb'))\n",
    "            self.structinfo[int(submemeplex[self.q-1])] = [results[0], results[2]]\n",
    "            self.memeplexes[im] = self.memeplexes[im][np.argsort(self.memeplexes[im])]\n",
    "            \n",
    "    def local_search(self):\n",
    "        self.Frog_gb = self.structinfo[int(self.memeplexes[0][0])]\n",
    "    \n",
    "        with concurrent.futures.ProcessPoolExecutor() as executor:\n",
    "            doargs = [[im] for im in range(len(self.memeplexes))]\n",
    "            results = executor.map(self.local_search_one_memeplex, doargs)\n",
    "    \n",
    "    def shuffle_memeplexes(self):\n",
    "        \"\"\"Shuffles the memeplexes and sorting them.\n",
    "        \"\"\"\n",
    "        temp = self.memeplexes.flatten()\n",
    "        temp = np.array(sorted(temp, key = lambda x: self.structinfo[x][0]))\n",
    "        for j in range(self.FrogsEach):\n",
    "            for i in range(self.mplx_no):\n",
    "                self.memeplexes[i, j] = temp[i + (self.mplx_no * j)]    \n",
    "            \n",
    "    def run_sfla(self, data_path, protein_name, rec_name, lig_name):\n",
    "        self.path = data_path\n",
    "        self.rec_name = rec_name\n",
    "        self.lig_name = lig_name\n",
    "        \n",
    "        rpdb = rec_name + '_model_st.pdb'\n",
    "        lpdb = lig_name + '_model_st.pdb'\n",
    "        \n",
    "        self.rec_chain = [i for i in rec_name]\n",
    "        self.lig_chain = [i for i in lig_name]\n",
    "         \n",
    "        self.rec_filename = self.pdbpre(rpdb) # INP2\n",
    "        self.lig_filename = self.pdbpre(lpdb) # INP1\n",
    "        \n",
    "        self.rec_coord, rec_res, rec_res_id, self.rec_atom = self.chaindef(self.rec_filename, self.rec_chain)   \n",
    "        self.lig_coord, lig_res, lig_res_id, self.lig_atom = self.chaindef(self.lig_filename, self.lig_chain)\n",
    "        \n",
    "        self.rec_normal, rec_curve = self.findPointNormals(self.rec_coord, 20,[0,0,0], rec_res_id, rec_res, 'r')\n",
    "        self.lig_normal, lig_curve = self.findPointNormals(self.lig_coord, 20,[0,0,0], lig_res_id, lig_res, 'r')\n",
    "        \n",
    "        self.generate_init_population()\n",
    "        self.memeplexes = self.sort_frog(self.mplx_no)\n",
    "        \n",
    "        self.omega = [np.amin(self.rec_normal), np.amax(self.rec_normal)]\n",
    "        self.max_step = (self.omega[1] - self.omega[0])/2\n",
    "        \n",
    "        for _ in range(self.n_iter):\n",
    "            self.local_search()\n",
    "            self.shuffle_memeplexes()\n",
    "        \n",
    "        directory = \"native_\" + protein_name\n",
    "        final_path = os.path.join(\"./\", directory)\n",
    "        os.mkdir(final_path)\n",
    "        # move best global frog to native folder\n",
    "        shutil.move(os.path.join(\"poses/\", \"out\" + str(self.memeplexes[0][0]) + \".pdb\"), directory)\n",
    "    \n",
    "    def run_sfla1(self, data_path, protein_name, rec_name, lig_name):\n",
    "        \n",
    "        self.path = data_path\n",
    "        self.rec_name = rec_name\n",
    "        self.lig_name = lig_name\n",
    "        \n",
    "        rpdb = rec_name + '_model_st.pdb'\n",
    "        lpdb = lig_name + '_model_st.pdb'\n",
    "        \n",
    "        self.rec_chain = [i for i in rec_name]\n",
    "        self.lig_chain = [i for i in lig_name]\n",
    "         \n",
    "        self.rec_filename = self.pdbpre(rpdb) # INP2\n",
    "        self.lig_filename = self.pdbpre(lpdb) # INP1\n",
    "        \n",
    "        self.rec_coord, rec_res, rec_res_id, self.rec_atom = self.chaindef(self.rec_filename, self.rec_chain)   \n",
    "        self.lig_coord, lig_res, lig_res_id, self.lig_atom = self.chaindef(self.lig_filename, self.lig_chain)\n",
    "        \n",
    "        self.rec_normal, rec_curve = self.findPointNormals(self.rec_coord, 20,[0,0,0], rec_res_id, rec_res, 'r')\n",
    "        self.lig_normal, lig_curve = self.findPointNormals(self.lig_coord, 20,[0,0,0], lig_res_id, lig_res, 'r')\n",
    "        \n",
    "        self.generate_init_population()"
   ]
  },
  {
   "cell_type": "code",
   "execution_count": 9,
   "id": "495fe6b5-b3ba-470f-ba93-88e8d808950a",
   "metadata": {},
   "outputs": [
    {
     "name": "stdout",
     "output_type": "stream",
     "text": [
      "MSMS running for poses/out0.pdb\n",
      "MSMS running forposes/out4.pdbMSMS running for  poses/out3.pdb\n",
      "\n",
      "MSMS running forMSMS running for  poses/out5.pdbposes/out1.pdb\n",
      "\n",
      "MSMS running for poses/out7.pdbMSMS running for\n",
      " poses/out6.pdb\n",
      "MSMS running forMSMS running for  poses/out9.pdbposes/out2.pdb\n",
      "\n",
      "MSMS running for poses/out8.pdbMSMS running for\n",
      " poses/out10.pdb\n",
      "MSMS running for poses/out11.pdb\n",
      "MSMS running for poses/out13.pdb\n",
      "MSMS running forposes/out14.pdb \n",
      "MSMS running forposes/out15.pdb \n",
      "MSMS running for\n",
      " poses/out16.pdbMSMS running for poses/out12.pdb\n",
      "MSMS running for poses/out18.pdb\n",
      "MSMS running for poses/out17.pdb\n",
      "MSMS running for poses/out20.pdbMSMS running for\n",
      " MSMS running forMSMS running forposes/out19.pdb  poses/out22.pdb\n",
      "\n",
      "MSMS running forposes/out21.pdb \n",
      "poses/out23.pdb\n",
      "MSMS running forMSMS running for MSMS running forposes/out25.pdb \n",
      "MSMS running forposes/out24.pdb \n",
      "MSMS running for poses/out29.pdb\n",
      " poses/out27.pdb\n",
      "MSMS running for poses/out26.pdb\n",
      "MSMS running for poses/out28.pdbposes/out31.pdbMSMS running for\n",
      " \n",
      "MSMS running for poses/out32.pdb\n",
      "poses/out30.pdbMSMS running for poses/out33.pdb\n",
      "MSMS running for\n",
      " MSMS running for poses/out37.pdb\n",
      "poses/out35.pdbMSMS running forMSMS running for\n",
      "MSMS running for  poses/out38.pdb\n",
      " poses/out39.pdb\n",
      "poses/out34.pdbMSMS running for\n",
      " poses/out36.pdb\n",
      "MSMS finished with poses/out5.pdb\n",
      "MSMS running forMSMS finished with  poses/out13.pdbposes/out40.pdb\n",
      "\n",
      "MSMS running for poses/out41.pdb\n",
      "MSMS finished withMSMS finished with poses/out21.pdb poses/out27.pdb\n",
      "MSMS finished with poses/out25.pdb\n",
      "\n",
      "MSMS finished with poses/out24.pdb\n",
      "MSMS finished with poses/out37.pdbMSMS finished with\n",
      "MSMS finished with poses/out29.pdb MSMS running for\n",
      " poses/out32.pdbMSMS running forMSMS running for poses/out43.pdb\n",
      "poses/out44.pdb\n",
      " MSMS finished with\n",
      "poses/out42.pdb\n",
      "MSMS finished with  poses/out34.pdbposes/out31.pdb\n",
      "\n",
      "MSMS running for poses/out45.pdb\n",
      "MSMS running for MSMS running forposes/out46.pdb\n",
      " poses/out47.pdb\n",
      "MSMS running for poses/out48.pdb\n",
      "MSMS running for poses/out49.pdb\n",
      "MSMS finished with poses/out43.pdb\n",
      "MSMS finished with poses/out19.pdb\n",
      "MSMS finished with poses/out28.pdb\n",
      "MSMS finished with poses/out33.pdb\n",
      "MSMS finished with poses/out14.pdb\n",
      "MSMS finished with poses/out0.pdb\n",
      "MSMS finished with poses/out6.pdb\n",
      "MSMS finished with poses/out3.pdb\n",
      "MSMS finished with poses/out9.pdb\n",
      "MSMS finished with poses/out26.pdb\n",
      "MSMS finished with poses/out10.pdb\n",
      "MSMS finished with poses/out7.pdb\n",
      "MSMS finished with poses/out30.pdb\n",
      "MSMS finished with poses/out36.pdb\n",
      "MSMS finished with poses/out17.pdb\n",
      "MSMS finished with poses/out8.pdb\n",
      "MSMS finished with poses/out23.pdb\n",
      "MSMS finished with poses/out39.pdb\n",
      "MSMS finished with poses/out35.pdb\n",
      "MSMS finished with poses/out16.pdb\n",
      "MSMS finished with poses/out42.pdb\n",
      "MSMS finished with poses/out15.pdb\n",
      "MSMS finished with poses/out11.pdb\n",
      "MSMS finished with poses/out2.pdb\n",
      "MSMS finished with poses/out22.pdb\n",
      "MSMS finished with poses/out38.pdb\n",
      "MSMS finished with poses/out4.pdb\n",
      "MSMS finished with poses/out1.pdb\n",
      "MSMS finished with poses/out12.pdb\n",
      "MSMS finished with poses/out20.pdb\n",
      "MSMS finished with poses/out44.pdb\n",
      "MSMS finished with poses/out18.pdb\n",
      "MSMS finished with poses/out41.pdb\n",
      "MSMS finished with poses/out47.pdb\n",
      "MSMS finished with poses/out48.pdb\n",
      "MSMS finished with poses/out46.pdb\n",
      "MSMS finished with poses/out40.pdb\n",
      "MSMS finished with poses/out49.pdb\n",
      "MSMS finished with poses/out45.pdb\n"
     ]
    }
   ],
   "source": [
    "slfa = SFLA(50, 10, 6, 10, 4)\n",
    "slfa.run_sfla1(\"Data/4dn4_LH:M/\", \"4dn4\", \"LH\", \"M\")"
   ]
  },
  {
   "cell_type": "code",
   "execution_count": 14,
   "id": "7089157a-33e0-4dbd-bb51-fe89828778d8",
   "metadata": {},
   "outputs": [],
   "source": [
    "quat = slfa.structinfo[1][1]"
   ]
  },
  {
   "cell_type": "code",
   "execution_count": 17,
   "id": "43ce3820-042c-4048-8084-e9f37a2d3b05",
   "metadata": {},
   "outputs": [
    {
     "data": {
      "text/plain": [
       "1.0"
      ]
     },
     "execution_count": 17,
     "metadata": {},
     "output_type": "execute_result"
    }
   ],
   "source": [
    "quat.magnitude"
   ]
  },
  {
   "cell_type": "code",
   "execution_count": 18,
   "id": "c71bab58-91bd-4860-867a-28df6f7dbc34",
   "metadata": {},
   "outputs": [],
   "source": [
    "quat1 = slfa.structinfo[2][1]"
   ]
  },
  {
   "cell_type": "code",
   "execution_count": 19,
   "id": "31614530-c15c-484f-a03b-91e93b7213e4",
   "metadata": {},
   "outputs": [
    {
     "data": {
      "text/plain": [
       "1.0"
      ]
     },
     "execution_count": 19,
     "metadata": {},
     "output_type": "execute_result"
    }
   ],
   "source": [
    "quat1.magnitude"
   ]
  },
  {
   "cell_type": "code",
   "execution_count": 20,
   "id": "1ffb7e22-448c-4262-86b1-054065150cba",
   "metadata": {},
   "outputs": [
    {
     "data": {
      "text/plain": [
       "0.05876807940738127"
      ]
     },
     "execution_count": 20,
     "metadata": {},
     "output_type": "execute_result"
    }
   ],
   "source": [
    "quat1.angle"
   ]
  },
  {
   "cell_type": "code",
   "execution_count": 21,
   "id": "7d619b42-6d84-4d45-8ccf-fa11d77c76bf",
   "metadata": {},
   "outputs": [],
   "source": [
    "lig_atom = slfa.lig_atom\n",
    "rec_coord = slfa.rec_coord\n",
    "lig_coord = slfa.lig_coord\n",
    "lig_normal = slfa.lig_normal\n",
    "rec_normal = slfa.rec_normal"
   ]
  },
  {
   "cell_type": "code",
   "execution_count": 22,
   "id": "88b3ddb9-d560-46d0-9cff-89aebc856cd1",
   "metadata": {},
   "outputs": [
    {
     "data": {
      "text/plain": [
       "array([-34.67484472,  41.98275331,  -2.3416753 ])"
      ]
     },
     "execution_count": 22,
     "metadata": {},
     "output_type": "execute_result"
    }
   ],
   "source": [
    "rec_coord[0]"
   ]
  },
  {
   "cell_type": "code",
   "execution_count": 23,
   "id": "9aa02a22-e582-42c5-a9e4-6e5b7c69bef6",
   "metadata": {},
   "outputs": [
    {
     "data": {
      "text/plain": [
       "array([-72.93397422,  70.44146086,   9.80980285])"
      ]
     },
     "execution_count": 23,
     "metadata": {},
     "output_type": "execute_result"
    }
   ],
   "source": [
    "lig_coord[0]"
   ]
  },
  {
   "cell_type": "code",
   "execution_count": 37,
   "id": "101adf9c-c331-491a-bea9-4abe05041ddb",
   "metadata": {},
   "outputs": [],
   "source": [
    "quat3 = sfla.quaternion_from_vectors(rec_coord[0], lig_coord[5])"
   ]
  },
  {
   "cell_type": "code",
   "execution_count": 30,
   "id": "7a4007bd-9e87-4169-9167-81c3332cdbdf",
   "metadata": {},
   "outputs": [],
   "source": [
    "quat4 = sfla.quaternion_from_vectors2(rec_coord[0], lig_coord[0])"
   ]
  },
  {
   "cell_type": "code",
   "execution_count": 41,
   "id": "558037bb-fe3a-42e8-b169-d3eadb2d6d89",
   "metadata": {},
   "outputs": [
    {
     "data": {
      "text/plain": [
       "0.1790243137780756"
      ]
     },
     "execution_count": 41,
     "metadata": {},
     "output_type": "execute_result"
    }
   ],
   "source": [
    "quat4.angle"
   ]
  },
  {
   "cell_type": "code",
   "execution_count": 31,
   "id": "6184a11a-ae7c-431a-96c1-e8677d912f6d",
   "metadata": {},
   "outputs": [
    {
     "data": {
      "text/plain": [
       "array([0.5834133 , 0.51680504, 0.62653131])"
      ]
     },
     "execution_count": 31,
     "metadata": {},
     "output_type": "execute_result"
    }
   ],
   "source": [
    "quat3.axis"
   ]
  },
  {
   "cell_type": "code",
   "execution_count": 34,
   "id": "80823c39-34f5-42de-b969-1150d8cde9b3",
   "metadata": {},
   "outputs": [
    {
     "data": {
      "text/plain": [
       "array([-0.0628678 , -0.11303486,  0.9916001 ])"
      ]
     },
     "execution_count": 34,
     "metadata": {},
     "output_type": "execute_result"
    }
   ],
   "source": [
    "quat1.axis"
   ]
  },
  {
   "cell_type": "code",
   "execution_count": 35,
   "id": "fe673e76-f1ae-426d-8099-125d7c66a84b",
   "metadata": {},
   "outputs": [
    {
     "data": {
      "text/plain": [
       "array([ 0.22902477,  0.06642679, -0.97115145])"
      ]
     },
     "execution_count": 35,
     "metadata": {},
     "output_type": "execute_result"
    }
   ],
   "source": [
    "quat.axis"
   ]
  },
  {
   "cell_type": "code",
   "execution_count": 39,
   "id": "20ceca5e-10cf-43a9-87d8-30cf7c793ac4",
   "metadata": {},
   "outputs": [
    {
     "data": {
      "text/plain": [
       "0.06383115626955949"
      ]
     },
     "execution_count": 39,
     "metadata": {},
     "output_type": "execute_result"
    }
   ],
   "source": [
    "quat3.angle"
   ]
  },
  {
   "cell_type": "code",
   "execution_count": 38,
   "id": "204a3bca-ad68-4039-abaf-ebb1071363b1",
   "metadata": {},
   "outputs": [
    {
     "data": {
      "text/plain": [
       "Quaternion(0.9994907411661257, 0.01965713098685071, 0.017254976312409492, 0.018278985666959766)"
      ]
     },
     "execution_count": 38,
     "metadata": {},
     "output_type": "execute_result"
    }
   ],
   "source": [
    "quat3"
   ]
  },
  {
   "cell_type": "code",
   "execution_count": 25,
   "id": "d81376ad-e05d-4ad9-8d7d-52f0497d097f",
   "metadata": {},
   "outputs": [
    {
     "name": "stdout",
     "output_type": "stream",
     "text": [
      "MSMS running for poses/out0.pdb\n",
      "MSMS running forMSMS running forMSMS running for   MSMS running forposes/out7.pdbMSMS running forposes/out6.pdbMSMS running forposes/out4.pdb \n",
      "\n",
      "  \n",
      "poses/out1.pdbposes/out5.pdbposes/out2.pdb\n",
      "MSMS running for\n",
      "\n",
      " poses/out3.pdb\n",
      "MSMS running for poses/out10.pdb\n",
      "MSMS running for poses/out9.pdb\n",
      "MSMS running for poses/out11.pdb\n",
      "MSMS running for poses/out8.pdb\n",
      "MSMS running forMSMS running for  poses/out14.pdbposes/out13.pdb\n",
      "\n",
      "MSMS running for  poses/out15.pdbMSMS running for\n",
      "poses/out12.pdb\n",
      "MSMS running for poses/out16.pdb\n",
      "MSMS running for poses/out17.pdb\n",
      "MSMS running for poses/out18.pdb\n",
      "MSMS running forMSMS running for  poses/out20.pdbposes/out19.pdb\n",
      "\n",
      "MSMS running for poses/out22.pdb\n",
      "MSMS running for MSMS running for poses/out21.pdbposes/out23.pdb\n",
      "MSMS running for\n",
      " poses/out25.pdb\n",
      "MSMS running for poses/out24.pdb\n",
      "MSMS running forMSMS running for MSMS running for MSMS running for  poses/out28.pdbposes/out26.pdb\n",
      "poses/out27.pdb\n",
      "\n",
      "\n",
      "MSMS running forposes/out29.pdb poses/out30.pdb\n",
      "MSMS running for poses/out31.pdb\n",
      "MSMS running forMSMS running for MSMS running for MSMS running forposes/out37.pdb poses/out35.pdb\n",
      "\n",
      "poses/out39.pdb \n",
      "poses/out38.pdb\n",
      "MSMS running for MSMS running forMSMS running for MSMS running forposes/out33.pdbposes/out36.pdb \n",
      "\n",
      "poses/out34.pdb\n",
      " poses/out32.pdb\n",
      "MSMS finished with poses/out13.pdbMSMS finished with poses/out5.pdb\n",
      "\n",
      "MSMS running forMSMS running for poses/out41.pdb poses/out40.pdb\n",
      "\n",
      "MSMS finished with poses/out27.pdb\n",
      "MSMS finished with MSMS finished withposes/out21.pdb\n",
      " poses/out24.pdb\n",
      "MSMS running forMSMS finished with  poses/out31.pdb\n",
      "poses/out42.pdb\n",
      "MSMS running for MSMS finished withposes/out43.pdb poses/out29.pdb\n",
      "\n",
      "MSMS running for MSMS running for poses/out45.pdbposes/out44.pdbMSMS running for\n",
      "\n",
      "MSMS finished with poses/out37.pdb\n",
      " poses/out46.pdb\n",
      "MSMS running for poses/out47.pdb\n",
      "MSMS finished with MSMS finished withposes/out32.pdb \n",
      "MSMS finished withposes/out25.pdb poses/out34.pdb\n",
      "\n",
      "MSMS running forMSMS running for  poses/out49.pdb\n",
      "poses/out48.pdb\n",
      "MSMS finished with poses/out43.pdb\n",
      "MSMS finished with poses/out1.pdb\n",
      "MSMS finished with poses/out38.pdb\n",
      "MSMS finished with poses/out30.pdb\n",
      "MSMS finished with poses/out3.pdb\n",
      "MSMS finished with poses/out17.pdb\n",
      "MSMS finished with poses/out14.pdb\n",
      "MSMS finished with poses/out0.pdb\n",
      "MSMS finished with poses/out6.pdb\n",
      "MSMS finished with poses/out7.pdb\n",
      "MSMS finished with poses/out19.pdb\n",
      "MSMS finished with poses/out10.pdb\n",
      "MSMS finished with poses/out26.pdb\n",
      "MSMS finished with poses/out9.pdb\n",
      "MSMS finished with poses/out33.pdb\n",
      "MSMS finished with poses/out39.pdb\n",
      "MSMS finished with poses/out36.pdb\n",
      "MSMS finished with poses/out35.pdb\n",
      "MSMS finished with poses/out28.pdb\n",
      "MSMS finished with poses/out4.pdb\n",
      "MSMS finished with poses/out16.pdb\n",
      "MSMS finished with poses/out23.pdb\n",
      "MSMS finished with poses/out11.pdb\n",
      "MSMS finished with poses/out8.pdb\n",
      "MSMS finished with poses/out20.pdb\n",
      "MSMS finished with poses/out15.pdb\n",
      "MSMS finished with poses/out12.pdb\n",
      "MSMS finished with poses/out2.pdb\n",
      "MSMS finished with poses/out18.pdb\n",
      "MSMS finished with poses/out22.pdb\n",
      "MSMS finished with poses/out44.pdb\n",
      "MSMS finished with poses/out41.pdb\n",
      "MSMS finished with poses/out42.pdb\n",
      "MSMS finished with poses/out48.pdb\n",
      "MSMS finished with poses/out40.pdb\n",
      "MSMS finished with poses/out45.pdb\n",
      "MSMS finished with poses/out49.pdb\n",
      "MSMS finished with poses/out46.pdb\n",
      "MSMS finished with poses/out47.pdb\n"
     ]
    }
   ],
   "source": [
    "sfla = SFLA(50, 10, 6, 10, 4)\n",
    "sfla.run_sfla1(\"Data/4dn4_LH:M/\", \"4dn4\", \"LH\", \"M\")"
   ]
  },
  {
   "cell_type": "code",
   "execution_count": 45,
   "id": "b8f8fe99-ba20-427b-802c-02b6620a744a",
   "metadata": {},
   "outputs": [],
   "source": [
    "def center_of_coordinates(atoms):\n",
    "    \"\"\"Calculates the center of coordinates\"\"\"\n",
    "    dimension = len(atoms)\n",
    "    total_x = 0.\n",
    "    total_y = 0.\n",
    "    total_z = 0.\n",
    "    if dimension:\n",
    "        for atom in atoms:\n",
    "            total_x += atom[0]\n",
    "            total_y += atom[1]\n",
    "            total_z += atom[2]\n",
    "        return [total_x/dimension, total_y/dimension, total_z/dimension]\n",
    "    else:\n",
    "        return [0., 0., 0.]"
   ]
  },
  {
   "cell_type": "code",
   "execution_count": 93,
   "id": "7ee865f8-2c84-43b1-8cfd-82afca6ae76f",
   "metadata": {},
   "outputs": [
    {
     "data": {
      "text/plain": [
       "array([-74.54000092,  71.06300354,   9.52200031])"
      ]
     },
     "execution_count": 93,
     "metadata": {},
     "output_type": "execute_result"
    }
   ],
   "source": []
  },
  {
   "cell_type": "code",
   "execution_count": 46,
   "id": "7c00a795-e29d-4b2a-af33-fddb421ac46c",
   "metadata": {},
   "outputs": [],
   "source": [
    "cen = center_of_coordinates(lig_atom)"
   ]
  },
  {
   "cell_type": "code",
   "execution_count": 66,
   "id": "93f6939b-d746-44c3-a1f6-baa517bfc267",
   "metadata": {},
   "outputs": [],
   "source": [
    "cen2 = center_of_coordinates(sfla.rec_atom)"
   ]
  },
  {
   "cell_type": "code",
   "execution_count": 67,
   "id": "d0518763-706e-405e-8107-9ea4ccf3dfb0",
   "metadata": {},
   "outputs": [
    {
     "data": {
      "text/plain": [
       "[-21.52373253220308, 42.7133796800699, -28.35688401056579]"
      ]
     },
     "execution_count": 67,
     "metadata": {},
     "output_type": "execute_result"
    }
   ],
   "source": [
    "cen2"
   ]
  },
  {
   "cell_type": "code",
   "execution_count": 47,
   "id": "6fb3f5d4-ccc7-46d2-bb14-b9fab609bc86",
   "metadata": {},
   "outputs": [
    {
     "data": {
      "text/plain": [
       "[-58.62122713008397, 56.94977990674301, -3.68469717798748]"
      ]
     },
     "execution_count": 47,
     "metadata": {},
     "output_type": "execute_result"
    }
   ],
   "source": [
    "cen"
   ]
  },
  {
   "cell_type": "code",
   "execution_count": 51,
   "id": "d43d61fc-ebad-41cb-9d3a-bc5e8c772054",
   "metadata": {},
   "outputs": [],
   "source": [
    "def move_to_origin(atoms, center):\n",
    "    \"\"\"Moves the structure to the origin of coordinates\"\"\"\n",
    "    translation = [-1*c for c in center]\n",
    "    change = [atom + translation for atom in atoms]\n",
    "    return np.vstack(change)"
   ]
  },
  {
   "cell_type": "code",
   "execution_count": 73,
   "id": "a7fe300f-dbe5-4d04-b36f-946bd28c00b7",
   "metadata": {},
   "outputs": [],
   "source": [
    "def move_back(atoms, center):\n",
    "    \"\"\"Moves the structure to the origin of coordinates\"\"\"\n",
    "    change = [atom + center for atom in atoms]\n",
    "    return np.vstack(change)"
   ]
  },
  {
   "cell_type": "code",
   "execution_count": 52,
   "id": "24fb7b45-c071-4959-9127-43e161c65a14",
   "metadata": {},
   "outputs": [],
   "source": [
    "chan = move_to_origin(lig_atom, cen)"
   ]
  },
  {
   "cell_type": "code",
   "execution_count": 77,
   "id": "b3744293-6d1c-481f-8f0d-917813a58824",
   "metadata": {},
   "outputs": [],
   "source": [
    "chan3 = move_back(final, cen)"
   ]
  },
  {
   "cell_type": "code",
   "execution_count": 75,
   "id": "273dce1c-8618-478c-ae39-f230bb529f95",
   "metadata": {},
   "outputs": [
    {
     "data": {
      "text/plain": [
       "array([[-74.54000092,  71.06300354,   9.52200031],\n",
       "       [-73.55699921,  69.94200134,   9.6260004 ],\n",
       "       [-72.14900208,  70.53199768,   9.7130003 ],\n",
       "       ...,\n",
       "       [-55.79600143,  41.76200104,   4.64099979],\n",
       "       [-56.02799988,  42.14599991,   3.4920001 ],\n",
       "       [-54.8370018 ,  40.88199997,   4.921     ]])"
      ]
     },
     "execution_count": 75,
     "metadata": {},
     "output_type": "execute_result"
    }
   ],
   "source": [
    "lig_atom"
   ]
  },
  {
   "cell_type": "code",
   "execution_count": 78,
   "id": "4626f3f5-9aa4-48a7-89f9-ae1fa740b4a4",
   "metadata": {},
   "outputs": [
    {
     "data": {
      "text/plain": [
       "array([[-74.58620277,  67.74130726,  12.30498039],\n",
       "       [-73.48372167,  66.73757631,  12.2009905 ],\n",
       "       [-72.14503396,  67.47594335,  12.23014383],\n",
       "       ...,\n",
       "       [-53.38970134,  41.44686001,   2.6602512 ],\n",
       "       [-53.77269647,  41.91278127,   1.5842815 ],\n",
       "       [-52.31947054,  40.6611402 ,   2.75890569]])"
      ]
     },
     "execution_count": 78,
     "metadata": {},
     "output_type": "execute_result"
    }
   ],
   "source": [
    "chan3"
   ]
  },
  {
   "cell_type": "code",
   "execution_count": 68,
   "id": "771f2e12-3130-4550-aac9-9c86c71dc00f",
   "metadata": {},
   "outputs": [],
   "source": [
    "chan2 = move_to_origin(sfla.rec_atom, cen2)"
   ]
  },
  {
   "cell_type": "code",
   "execution_count": 57,
   "id": "8d5446cc-8813-4c8a-8e55-29cc77ab0ae7",
   "metadata": {},
   "outputs": [],
   "source": [
    "final = np.array([quat4.rotate(i) for i in chan])"
   ]
  },
  {
   "cell_type": "code",
   "execution_count": 59,
   "id": "b707ae9d-729f-4be1-b82f-b862d2a32ba5",
   "metadata": {},
   "outputs": [
    {
     "name": "stdout",
     "output_type": "stream",
     "text": [
      "MSMS running for poses/out100.pdb\n",
      "MSMS finished with poses/out100.pdb\n"
     ]
    },
    {
     "data": {
      "text/plain": [
       "(0,\n",
       " 100,\n",
       " Quaternion(0.9959964611274629, 0.05215287226792545, 0.046198582047412874, 0.05600730624288485),\n",
       " -1)"
      ]
     },
     "execution_count": 59,
     "metadata": {},
     "output_type": "execute_result"
    }
   ],
   "source": [
    "sfla.find_score([final, 100, quat4, -1])"
   ]
  },
  {
   "cell_type": "code",
   "execution_count": 60,
   "id": "210181c5-c79d-4295-8b05-13c9637b506a",
   "metadata": {},
   "outputs": [
    {
     "name": "stdout",
     "output_type": "stream",
     "text": [
      "MSMS running for poses/out101.pdb\n",
      "MSMS finished with poses/out101.pdb\n"
     ]
    },
    {
     "data": {
      "text/plain": [
       "(0,\n",
       " 101,\n",
       " Quaternion(0.9959964611274629, 0.05215287226792545, 0.046198582047412874, 0.05600730624288485),\n",
       " -1)"
      ]
     },
     "execution_count": 60,
     "metadata": {},
     "output_type": "execute_result"
    }
   ],
   "source": [
    "sfla.find_score([chan, 101, quat4, -1])"
   ]
  },
  {
   "cell_type": "code",
   "execution_count": 63,
   "id": "f16d68a6-22ff-4592-8f0b-35ce20599b14",
   "metadata": {},
   "outputs": [
    {
     "data": {
      "text/plain": [
       "Quaternion(0.9995683201668347, -0.0018470439618483033, -0.003320942868596332, 0.0291330239748412)"
      ]
     },
     "execution_count": 63,
     "metadata": {},
     "output_type": "execute_result"
    }
   ],
   "source": [
    "quat1"
   ]
  },
  {
   "cell_type": "code",
   "execution_count": 64,
   "id": "77513a32-7789-4000-b826-42e57b53ed85",
   "metadata": {},
   "outputs": [
    {
     "data": {
      "text/plain": [
       "Quaternion(0.9994907411661257, 0.01965713098685071, 0.017254976312409492, 0.018278985666959766)"
      ]
     },
     "execution_count": 64,
     "metadata": {},
     "output_type": "execute_result"
    }
   ],
   "source": [
    "quat3"
   ]
  },
  {
   "cell_type": "code",
   "execution_count": 83,
   "id": "c1936c32-d465-4534-8190-9fa1c915eab3",
   "metadata": {},
   "outputs": [
    {
     "data": {
      "text/plain": [
       "0.06383115626955949"
      ]
     },
     "execution_count": 83,
     "metadata": {},
     "output_type": "execute_result"
    }
   ],
   "source": [
    "quat3.angle"
   ]
  },
  {
   "cell_type": "code",
   "execution_count": 84,
   "id": "2c81cb89-070f-44eb-9b55-4bcdc0b4b77d",
   "metadata": {},
   "outputs": [
    {
     "data": {
      "text/plain": [
       "array([0.6160148 , 0.54073612, 0.57282651])"
      ]
     },
     "execution_count": 84,
     "metadata": {},
     "output_type": "execute_result"
    }
   ],
   "source": [
    "quat3.axis"
   ]
  },
  {
   "cell_type": "code",
   "execution_count": 82,
   "id": "2db27895-dc24-4417-b979-f7a0edd32e9d",
   "metadata": {},
   "outputs": [
    {
     "name": "stdout",
     "output_type": "stream",
     "text": [
      "MSMS running for poses/out102.pdb\n",
      "MSMS finished with poses/out102.pdb\n"
     ]
    },
    {
     "data": {
      "text/plain": [
       "(602.0637148316767,\n",
       " 102,\n",
       " Quaternion(0.9959964611274629, 0.05215287226792545, 0.046198582047412874, 0.05600730624288485),\n",
       " -1)"
      ]
     },
     "execution_count": 82,
     "metadata": {},
     "output_type": "execute_result"
    }
   ],
   "source": [
    "sfla.find_score([chan3, 102, quat4, -1])"
   ]
  },
  {
   "cell_type": "code",
   "execution_count": 80,
   "id": "c49acdcc-8db5-44bb-9abe-bc7ebbf6e6fd",
   "metadata": {},
   "outputs": [],
   "source": [
    "final1 = np.array([quat4.rotate(i) for i in lig_atom])"
   ]
  },
  {
   "cell_type": "code",
   "execution_count": 85,
   "id": "fec8fdd7-1a1c-4c08-90a9-131e35f5e18c",
   "metadata": {},
   "outputs": [
    {
     "name": "stdout",
     "output_type": "stream",
     "text": [
      "MSMS running for poses/out103.pdb\n",
      "MSMS finished with poses/out103.pdb\n"
     ]
    },
    {
     "data": {
      "text/plain": [
       "(0,\n",
       " 103,\n",
       " Quaternion(0.9959964611274629, 0.05215287226792545, 0.046198582047412874, 0.05600730624288485),\n",
       " -1)"
      ]
     },
     "execution_count": 85,
     "metadata": {},
     "output_type": "execute_result"
    }
   ],
   "source": [
    "sfla.find_score([final1, 103, quat4, -1])"
   ]
  },
  {
   "cell_type": "code",
   "execution_count": null,
   "id": "3b21c7c9-96e7-40df-b61d-2b6e4dca4c9f",
   "metadata": {},
   "outputs": [],
   "source": [
    "sfla1 = SFLA(50, 10, 6, 10, 4)\n",
    "sfla1.run_sfla1(\"Data/4dn4_LH:M/\", \"4dn4\", \"LH\", \"M\")"
   ]
  },
  {
   "cell_type": "code",
   "execution_count": 104,
   "id": "f0f39a66-f62e-49c2-9ddb-b90bd80dc459",
   "metadata": {},
   "outputs": [
    {
     "data": {
      "text/plain": [
       "array([0., 0., 0.])"
      ]
     },
     "execution_count": 104,
     "metadata": {},
     "output_type": "execute_result"
    }
   ],
   "source": [
    "np.zeros(3)"
   ]
  },
  {
   "cell_type": "code",
   "execution_count": 110,
   "id": "371a690b-8542-414b-a3e1-a055132b10fe",
   "metadata": {},
   "outputs": [],
   "source": [
    "def find_center_of_mass(file): \n",
    "    c = np.zeros(3)\n",
    "    total_mass = np.sum(sfla1.atom_mass['M_model_st.pdb1.pdb'])\n",
    "    for idx, i in enumerate(sfla1.lig_atom):\n",
    "        c += i * sfla1.atom_mass['M_model_st.pdb1.pdb'][idx]\n",
    "    com = c/total_mass\n",
    "    return com"
   ]
  },
  {
   "cell_type": "code",
   "execution_count": 111,
   "id": "d8ddc0ee-3ee6-45b5-b5be-11d0597407c9",
   "metadata": {},
   "outputs": [
    {
     "data": {
      "text/plain": [
       "array([-58.71657658,  57.0304519 ,  -3.67327578])"
      ]
     },
     "execution_count": 111,
     "metadata": {},
     "output_type": "execute_result"
    }
   ],
   "source": [
    "c/total_mass"
   ]
  },
  {
   "cell_type": "code",
   "execution_count": null,
   "id": "574f1639-fbe5-45fa-b78f-30e7975d8850",
   "metadata": {},
   "outputs": [],
   "source": [
    "sfla1.atom_mass['M_model_st.pdb1.pdb']"
   ]
  },
  {
   "cell_type": "code",
   "execution_count": 114,
   "id": "12503a14-3594-4a76-8210-df9bc579891c",
   "metadata": {},
   "outputs": [
    {
     "data": {
      "text/plain": [
       "7560.8202"
      ]
     },
     "execution_count": 114,
     "metadata": {},
     "output_type": "execute_result"
    }
   ],
   "source": [
    "np.sum(sfla1.atom_mass['M_model_st.pdb1.pdb'])"
   ]
  },
  {
   "cell_type": "code",
   "execution_count": 115,
   "id": "6f89ae6d-5bad-4303-a7e8-b7070b82d141",
   "metadata": {},
   "outputs": [
    {
     "data": {
      "text/plain": [
       "7560.820199999934"
      ]
     },
     "execution_count": 115,
     "metadata": {},
     "output_type": "execute_result"
    }
   ],
   "source": [
    "total_mass"
   ]
  },
  {
   "cell_type": "code",
   "execution_count": 117,
   "id": "b9a1b491-201c-488a-b7c7-eb9bd3f67c7a",
   "metadata": {},
   "outputs": [
    {
     "data": {
      "text/plain": [
       "(568,)"
      ]
     },
     "execution_count": 117,
     "metadata": {},
     "output_type": "execute_result"
    }
   ],
   "source": [
    "sfla1.atom_mass['M_model_st.pdb1.pdb'].shape"
   ]
  },
  {
   "cell_type": "code",
   "execution_count": 133,
   "id": "7cda3b17-8251-4986-a89a-f8e5e494d174",
   "metadata": {},
   "outputs": [
    {
     "data": {
      "text/plain": [
       "array([-58.71657658,  57.0304519 ,  -3.67327578])"
      ]
     },
     "execution_count": 133,
     "metadata": {},
     "output_type": "execute_result"
    }
   ],
   "source": [
    "np.divide(np.sum((sfla1.lig_atom.T * sfla1.atom_mass['M_model_st.pdb1.pdb']).T, axis=0), total_mass)"
   ]
  },
  {
   "cell_type": "code",
   "execution_count": 128,
   "id": "162731d2-1dfc-44e4-aebc-38073be5fc0b",
   "metadata": {},
   "outputs": [
    {
     "data": {
      "text/plain": [
       "array([-443945.47827709,  431196.99270862,  -27772.97772868])"
      ]
     },
     "execution_count": 128,
     "metadata": {},
     "output_type": "execute_result"
    }
   ],
   "source": [
    "c"
   ]
  },
  {
   "cell_type": "code",
   "execution_count": null,
   "id": "f7c436f1-0ba5-45b4-b4a6-3748e6e2677b",
   "metadata": {},
   "outputs": [],
   "source": [
    "(sfla1.lig_atom.T * sfla1.atom_mass['M_model_st.pdb1.pdb']).T"
   ]
  },
  {
   "cell_type": "code",
   "execution_count": null,
   "id": "ec46cf96-de71-4e4e-a0d5-d7dd20b3f94b",
   "metadata": {},
   "outputs": [],
   "source": [
    "def find_center_of_mass(file):\n",
    "    c = (sfla1.lig_atom.T * sfla1.atom_mass['M_model_st.pdb1.pdb']).T\n",
    "    total_mass = np.sum(sfla1.atom_mass['M_model_st.pdb1.pdb'])\n",
    "    com = np.divide(np.sum(c, axis=0), total_mass)\n",
    "    return com"
   ]
  },
  {
   "cell_type": "code",
   "execution_count": null,
   "id": "7d7e36c0-3727-4e2c-b426-817169a14181",
   "metadata": {},
   "outputs": [],
   "source": [
    "def translation(self, atom, trans_coord):\n",
    "    return np.vstack([i + trans_coord for i in atom])\n",
    "\n",
    "def rotation(self,atom, q):\n",
    "    atm_org = move_to_origin(atom, com)\n",
    "    atm_rot = np.array([q.rotate(i) for i in atm_org])\n",
    "    final = move_back(atm_rot, com)\n",
    "    return final\n",
    "\n",
    "def tranformation(self, q, trans_coord):\n",
    "    lig_new = self.rotation(q, self.lig_atom)\n",
    "    final = self.translation(lig_new, trans_coord)\n",
    "    return final"
   ]
  },
  {
   "cell_type": "code",
   "execution_count": null,
   "id": "d3d624a4-6189-4a4e-9da8-87a88afa2c5b",
   "metadata": {},
   "outputs": [],
   "source": []
  },
  {
   "cell_type": "code",
   "execution_count": 134,
   "id": "ae7741b0-1cc9-48ff-8865-535b30399703",
   "metadata": {},
   "outputs": [],
   "source": [
    "def translation(lig_atom, trans_coord):\n",
    "    return np.vstack([i + trans_coord for i in lig_atom])\n",
    "\n",
    "def rotation(q, lig_atom):\n",
    "    atm_org = move_to_origin(lig_atom, com)\n",
    "    atm_rot = np.array([q.rotate(i) for i in atm_org])\n",
    "    final = move_back(atm_rot, com)\n",
    "    return final\n",
    "\n",
    "def tranformation(self, q, trans_coord):\n",
    "    lig_new = self.rotation(q, lig_atom)\n",
    "    final = self.translation(lig_new, trans_coord)\n",
    "    return final"
   ]
  },
  {
   "cell_type": "code",
   "execution_count": 179,
   "id": "9f63ca43-40fc-491c-9af1-2a2a19241c7d",
   "metadata": {},
   "outputs": [
    {
     "data": {
      "text/plain": [
       "array([ 38.2591295 , -28.45870755, -12.15147815])"
      ]
     },
     "execution_count": 179,
     "metadata": {},
     "output_type": "execute_result"
    }
   ],
   "source": [
    "rec_coord[0] - lig_coord[0]"
   ]
  },
  {
   "cell_type": "code",
   "execution_count": 221,
   "id": "a94aea9d-93a7-4129-b087-8db4e27afd83",
   "metadata": {},
   "outputs": [],
   "source": [
    "trans_cor = rng.random(3)"
   ]
  },
  {
   "cell_type": "code",
   "execution_count": 223,
   "id": "018f195d-f6d4-4189-843d-4e4b11e9507f",
   "metadata": {},
   "outputs": [],
   "source": [
    "trans_cor = rng.uniform(-20, 20, 3)"
   ]
  },
  {
   "cell_type": "code",
   "execution_count": 224,
   "id": "8b355f81-6d9e-4d24-9767-c817964ff4d1",
   "metadata": {},
   "outputs": [
    {
     "data": {
      "text/plain": [
       "array([ -5.39559327, -15.78018882,   5.16432606])"
      ]
     },
     "execution_count": 224,
     "metadata": {},
     "output_type": "execute_result"
    }
   ],
   "source": [
    "trans_cor"
   ]
  },
  {
   "cell_type": "code",
   "execution_count": 171,
   "id": "46680b20-c4b3-447d-a241-a9d25c7f2040",
   "metadata": {},
   "outputs": [],
   "source": [
    "tran_cor = np.clip(rec_coord[0] - lig_coord[0], -20, 20)"
   ]
  },
  {
   "cell_type": "code",
   "execution_count": 160,
   "id": "b4fff39a-b931-4bcb-9a00-02b31421f944",
   "metadata": {},
   "outputs": [
    {
     "data": {
      "text/plain": [
       "array([-34.67484472,  41.98275331,  -2.3416753 ])"
      ]
     },
     "execution_count": 160,
     "metadata": {},
     "output_type": "execute_result"
    }
   ],
   "source": [
    "rec_coord[0]"
   ]
  },
  {
   "cell_type": "code",
   "execution_count": 151,
   "id": "2030d4f7-129b-41c5-a2d3-ced99a147a90",
   "metadata": {},
   "outputs": [
    {
     "data": {
      "text/plain": [
       "array([11.60560268, 72.50960726, -1.67627271])"
      ]
     },
     "execution_count": 151,
     "metadata": {},
     "output_type": "execute_result"
    }
   ],
   "source": [
    "np.max(rec_coord, axis=0)"
   ]
  },
  {
   "cell_type": "code",
   "execution_count": 152,
   "id": "4fd6dc3d-af93-4b07-99af-e08d7c2d4dc5",
   "metadata": {},
   "outputs": [
    {
     "data": {
      "text/plain": [
       "array([-50.32043392,  15.21637826, -60.5767498 ])"
      ]
     },
     "execution_count": 152,
     "metadata": {},
     "output_type": "execute_result"
    }
   ],
   "source": [
    "np.min(rec_coord, axis=0)"
   ]
  },
  {
   "cell_type": "code",
   "execution_count": 150,
   "id": "23f5c99d-1925-4fee-9990-b74faec2e916",
   "metadata": {},
   "outputs": [
    {
     "data": {
      "text/plain": [
       "array([-72.93397422,  43.72577875, -15.1023423 ])"
      ]
     },
     "execution_count": 150,
     "metadata": {},
     "output_type": "execute_result"
    }
   ],
   "source": [
    "np.min(lig_coord, axis=0)"
   ]
  },
  {
   "cell_type": "code",
   "execution_count": null,
   "id": "07b7a513-ed80-47e7-ba63-bc51dd7c9141",
   "metadata": {},
   "outputs": [],
   "source": [
    "np.max()"
   ]
  },
  {
   "cell_type": "code",
   "execution_count": 215,
   "id": "7e12d946-ea17-41a2-98ad-a73baef62663",
   "metadata": {},
   "outputs": [
    {
     "data": {
      "text/plain": [
       "array([-54.8370018 ,  40.88199997,   4.921     ])"
      ]
     },
     "execution_count": 215,
     "metadata": {},
     "output_type": "execute_result"
    }
   ],
   "source": [
    "i"
   ]
  },
  {
   "cell_type": "code",
   "execution_count": 214,
   "id": "174d34be-3efe-4c6e-b282-9cf3b2b23796",
   "metadata": {},
   "outputs": [
    {
     "data": {
      "text/plain": [
       "array([-72.93397422,  70.44146086,   9.80980285])"
      ]
     },
     "execution_count": 214,
     "metadata": {},
     "output_type": "execute_result"
    }
   ],
   "source": [
    "lig_coord[0]"
   ]
  },
  {
   "cell_type": "code",
   "execution_count": 226,
   "id": "ff9c673c-48d1-4069-9403-452aa41ab5a7",
   "metadata": {},
   "outputs": [
    {
     "data": {
      "text/plain": [
       "array([ -5.39559327, -15.78018882,   5.16432606])"
      ]
     },
     "execution_count": 226,
     "metadata": {},
     "output_type": "execute_result"
    }
   ],
   "source": [
    "trans_cor"
   ]
  },
  {
   "cell_type": "code",
   "execution_count": 225,
   "id": "cb84a276-d886-48db-b65f-186fb5f64fcf",
   "metadata": {},
   "outputs": [
    {
     "data": {
      "text/plain": [
       "array([-78.32956749,  54.66127204,  14.97412891])"
      ]
     },
     "execution_count": 225,
     "metadata": {},
     "output_type": "execute_result"
    }
   ],
   "source": [
    "lig_coord[0] + trans_cor"
   ]
  },
  {
   "cell_type": "code",
   "execution_count": 217,
   "id": "d4e1fcdf-e1b0-4425-b7f7-1e8fe7c61357",
   "metadata": {},
   "outputs": [],
   "source": [
    "k = lig_coord[0] "
   ]
  },
  {
   "cell_type": "code",
   "execution_count": 220,
   "id": "daf43d7e-a0c8-48dc-ae4e-033915850e5f",
   "metadata": {},
   "outputs": [
    {
     "data": {
      "text/plain": [
       "array([[0.05856803, 0.33611706, 0.15027947]])"
      ]
     },
     "execution_count": 220,
     "metadata": {},
     "output_type": "execute_result"
    }
   ],
   "source": [
    "tran_cor"
   ]
  },
  {
   "cell_type": "code",
   "execution_count": 219,
   "id": "10f023f0-6262-4414-9944-9bb65c17b606",
   "metadata": {},
   "outputs": [
    {
     "data": {
      "text/plain": [
       "array([[-54.77843377,  41.21811703,   5.07127947]])"
      ]
     },
     "execution_count": 219,
     "metadata": {},
     "output_type": "execute_result"
    }
   ],
   "source": [
    "np.add(i, tran_cor)"
   ]
  },
  {
   "cell_type": "code",
   "execution_count": 145,
   "id": "88bc24de-61d9-4feb-976b-dd7d8572724d",
   "metadata": {},
   "outputs": [
    {
     "data": {
      "text/plain": [
       "array([-58.71657658,  57.0304519 ,  -3.67327578])"
      ]
     },
     "execution_count": 145,
     "metadata": {},
     "output_type": "execute_result"
    }
   ],
   "source": [
    "com"
   ]
  },
  {
   "cell_type": "code",
   "execution_count": 136,
   "id": "b98b1d01-a766-4568-b1be-12f6ef3dae04",
   "metadata": {},
   "outputs": [
    {
     "data": {
      "text/plain": [
       "Quaternion(0.9994907411661257, 0.01965713098685071, 0.017254976312409492, 0.018278985666959766)"
      ]
     },
     "execution_count": 136,
     "metadata": {},
     "output_type": "execute_result"
    }
   ],
   "source": [
    "quat3"
   ]
  },
  {
   "cell_type": "code",
   "execution_count": 137,
   "id": "dc0eea9f-bae2-4b4b-82ce-28b80c937ee9",
   "metadata": {},
   "outputs": [
    {
     "data": {
      "text/plain": [
       "Quaternion(0.9959964611274629, 0.05215287226792545, 0.046198582047412874, 0.05600730624288485)"
      ]
     },
     "execution_count": 137,
     "metadata": {},
     "output_type": "execute_result"
    }
   ],
   "source": [
    "quat4"
   ]
  },
  {
   "cell_type": "code",
   "execution_count": 227,
   "id": "60e4deab-cf68-4778-85da-05d7afa10c7e",
   "metadata": {},
   "outputs": [],
   "source": [
    "final2 = translation(lig_atom, trans_cor)"
   ]
  },
  {
   "cell_type": "code",
   "execution_count": 228,
   "id": "5a515bc2-3774-4ca0-813e-38a123e66c27",
   "metadata": {},
   "outputs": [
    {
     "data": {
      "text/plain": [
       "array([[-79.93559419,  55.28281472,  14.68632637],\n",
       "       [-78.95259248,  54.16181253,  14.79032647],\n",
       "       [-77.54459535,  54.75180886,  14.87732636],\n",
       "       ...,\n",
       "       [-61.1915947 ,  25.98181222,   9.80532586],\n",
       "       [-61.42359315,  26.36581109,   8.65632616],\n",
       "       [-60.23259507,  25.10181115,  10.08532607]])"
      ]
     },
     "execution_count": 228,
     "metadata": {},
     "output_type": "execute_result"
    }
   ],
   "source": [
    "final2"
   ]
  },
  {
   "cell_type": "code",
   "execution_count": 232,
   "id": "39bfca29-2b89-4fe5-9109-d2a86f73df53",
   "metadata": {},
   "outputs": [],
   "source": [
    "org_atom = move_to_origin(lig_atom, com)"
   ]
  },
  {
   "cell_type": "code",
   "execution_count": 235,
   "id": "27c71352-01d3-4024-9f55-42bef5fcc530",
   "metadata": {},
   "outputs": [],
   "source": [
    "com1 = np.array([com[0], -com[1], com[2]])"
   ]
  },
  {
   "cell_type": "code",
   "execution_count": 236,
   "id": "48d49fc6-83e2-4d3e-9d2c-2993b71bb905",
   "metadata": {},
   "outputs": [
    {
     "data": {
      "text/plain": [
       "array([-58.71657658, -57.0304519 ,  -3.67327578])"
      ]
     },
     "execution_count": 236,
     "metadata": {},
     "output_type": "execute_result"
    }
   ],
   "source": [
    "com1 "
   ]
  },
  {
   "cell_type": "code",
   "execution_count": 239,
   "id": "b23c6772-4e68-48f3-a7ae-1c5a21269e79",
   "metadata": {},
   "outputs": [],
   "source": [
    "final2 = move_back(org_atom, com1)"
   ]
  },
  {
   "cell_type": "code",
   "execution_count": null,
   "id": "578e12ad-a749-4641-b502-dc7aa0f2972f",
   "metadata": {},
   "outputs": [],
   "source": [
    "org_atom"
   ]
  },
  {
   "cell_type": "code",
   "execution_count": 240,
   "id": "505dcc4c-d87d-478e-8cc8-320cd2de7bd4",
   "metadata": {},
   "outputs": [
    {
     "name": "stdout",
     "output_type": "stream",
     "text": [
      "MSMS running for poses/out104.pdb\n",
      "MSMS finished with poses/out104.pdb\n"
     ]
    },
    {
     "data": {
      "text/plain": [
       "(0,\n",
       " 104,\n",
       " Quaternion(0.9959964611274629, 0.05215287226792545, 0.046198582047412874, 0.05600730624288485),\n",
       " -1)"
      ]
     },
     "execution_count": 240,
     "metadata": {},
     "output_type": "execute_result"
    }
   ],
   "source": [
    "sfla.find_score([final2, 104, quat4, -1])"
   ]
  },
  {
   "cell_type": "code",
   "execution_count": 247,
   "id": "e72a3ef3-db9b-444a-85a8-74d1e7023085",
   "metadata": {},
   "outputs": [],
   "source": [
    "def find_center_of_mass1(file):\n",
    "    c = (sfla1.rec_atom.T * sfla1.atom_mass['LH_model_st.pdb1.pdb']).T\n",
    "    total_mass = np.sum(sfla1.atom_mass['LH_model_st.pdb1.pdb'])\n",
    "    com = np.divide(np.sum(c, axis=0), total_mass)\n",
    "    return com"
   ]
  },
  {
   "cell_type": "code",
   "execution_count": null,
   "id": "e9668554-a49c-45ee-8d8f-7fef52e91f52",
   "metadata": {},
   "outputs": [],
   "source": [
    "sfla1.atom_mass['LH_model_st.pdb1.pdb']"
   ]
  },
  {
   "cell_type": "code",
   "execution_count": 251,
   "id": "1f9f8d3c-ce25-4ea3-9c4d-bd689efbecf9",
   "metadata": {},
   "outputs": [],
   "source": [
    "org_rec = find_center_of_mass1(\"\")"
   ]
  },
  {
   "cell_type": "code",
   "execution_count": 252,
   "id": "6a55aedc-e67e-4f81-ada1-8dfbb04e6a6c",
   "metadata": {},
   "outputs": [],
   "source": [
    "org_rec = move_to_origin(sfla1.rec_atom, com1)"
   ]
  },
  {
   "cell_type": "code",
   "execution_count": 253,
   "id": "f359130c-dab9-4508-9974-ce11636f53c8",
   "metadata": {},
   "outputs": [
    {
     "data": {
      "text/plain": [
       "array([[-11.88381361,   0.47861556,  25.4897044 ],\n",
       "       [-12.91181349,  -0.19038316,  26.34970429],\n",
       "       [-13.66281294,  -1.29938432,  25.61570432],\n",
       "       ...,\n",
       "       [ 15.42218805,  -1.26138231, -26.9132962 ],\n",
       "       [ 14.43318773,  -0.34738466, -27.61229751],\n",
       "       [ 14.60818792,   1.05561522, -27.08629653]])"
      ]
     },
     "execution_count": 253,
     "metadata": {},
     "output_type": "execute_result"
    }
   ],
   "source": [
    "org_rec"
   ]
  },
  {
   "cell_type": "code",
   "execution_count": 254,
   "id": "5842056a-4d55-4d13-a6f1-8e5f14455a56",
   "metadata": {},
   "outputs": [],
   "source": [
    "def get_minmax_crd(rec_coord, fname_times = 2, fname_buff = 0.0):\n",
    "    ''' \n",
    "    Obtain the min max coordinates from a receptors conformational space to generate sensible structures for ensembles in JabberDock.\n",
    "    We move the ligand around this space to represent the size the receptor occupies, but we do want it to be slightly bigger.\n",
    "    :param fname_rec: PDB file name of receptor\n",
    "    :param fname_times: Number greater than 1 to represent extra space added to search space (default is 2, so twice as big as the receptor)\n",
    "    :param fname_buff: Buffer region at the edges to include (default is 0.0 ang.)\n",
    "    :returns: numpy array size 3, containing the x, y and z lengths that provide the sample space about which the ligand will move in.\n",
    "    '''\n",
    " \n",
    "    rec_minx = np.min(rec_coord[:, 0])\n",
    "    rec_miny = np.min(rec_coord[:, 1])\n",
    "    rec_minz = np.min(rec_coord[:, 2])\n",
    "\n",
    "    rec_maxx = np.max(rec_coord[:, 0])\n",
    "    rec_maxy = np.max(rec_coord[:, 1])\n",
    "    rec_maxz = np.max(rec_coord[:, 2])\n",
    "\n",
    "    rec_x = rec_maxx - rec_minx\n",
    "    rec_y = rec_maxy - rec_miny\n",
    "    rec_z = rec_maxz - rec_minz\n",
    "\n",
    "    rec_x *= fname_times\n",
    "    rec_y *= fname_times\n",
    "    rec_z *= fname_times\n",
    "\n",
    "    rec_x += fname_buff\n",
    "    rec_y += fname_buff\n",
    "    rec_z += fname_buff\n",
    "\n",
    "    return np.array((rec_x, rec_y, rec_z))"
   ]
  },
  {
   "cell_type": "code",
   "execution_count": null,
   "id": "0662c75f-1082-4773-b795-6a96d2e26f80",
   "metadata": {},
   "outputs": [],
   "source": [
    "def get_minmax_crd(times = 2):\n",
    "    ''' \n",
    "    Obtain the min max coordinates from a receptors conformational space to generate sensible structures for ensembles.\n",
    "    We move the ligand around this space to represent the size the receptor occupies, but we do want it to be slightly bigger.\n",
    "    :param fname_times: Number greater than 1 to represent extra space added to search space (default is 2, so twice as big as the receptor)\n",
    "    :returns: numpy array size 3, containing the x, y and z lengths that provide the sample space about which the ligand will move in.\n",
    "    '''\n",
    "\n",
    "    coord = (np.max(self.receptor.coord, axis=0) - np.min(self.receptor.coord, axis=0)) * times \n",
    "    return coord"
   ]
  },
  {
   "cell_type": "code",
   "execution_count": 255,
   "id": "6453120f-dcf3-4661-899a-27934d9f78a6",
   "metadata": {},
   "outputs": [
    {
     "data": {
      "text/plain": [
       "array([138.83999825, 120.01399612, 128.63599682])"
      ]
     },
     "execution_count": 255,
     "metadata": {},
     "output_type": "execute_result"
    }
   ],
   "source": [
    "get_minmax_crd(org_rec)"
   ]
  },
  {
   "cell_type": "code",
   "execution_count": null,
   "id": "67b3ed8a-05ea-478a-933e-ee0b598f90f5",
   "metadata": {},
   "outputs": [],
   "source": [
    "org_rec"
   ]
  },
  {
   "cell_type": "code",
   "execution_count": 246,
   "id": "2e63e5b4-953b-4686-a6ea-50d41ba94a02",
   "metadata": {},
   "outputs": [
    {
     "data": {
      "text/plain": [
       "array([123.8520732 , 114.586458  , 117.80095419])"
      ]
     },
     "execution_count": 246,
     "metadata": {},
     "output_type": "execute_result"
    }
   ],
   "source": []
  },
  {
   "cell_type": "code",
   "execution_count": null,
   "id": "32f560d5-cae7-4871-91b5-3dd45fed4d2d",
   "metadata": {},
   "outputs": [],
   "source": [
    "def new_step(q1, t1, q2, t2):\n",
    "    q_new = Quaternion.slerp(q1, q2, rng.random())\n",
    "    coord_new = (t2 - t1)* rng.random()\n",
    "    return q_new, coord_new"
   ]
  }
 ],
 "metadata": {
  "kernelspec": {
   "display_name": "Python 3",
   "language": "python",
   "name": "python3"
  },
  "language_info": {
   "codemirror_mode": {
    "name": "ipython",
    "version": 3
   },
   "file_extension": ".py",
   "mimetype": "text/x-python",
   "name": "python",
   "nbconvert_exporter": "python",
   "pygments_lexer": "ipython3",
   "version": "3.9.2"
  }
 },
 "nbformat": 4,
 "nbformat_minor": 5
}
